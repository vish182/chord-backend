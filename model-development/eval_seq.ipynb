{
 "cells": [
  {
   "cell_type": "code",
   "execution_count": 1,
   "metadata": {},
   "outputs": [
    {
     "data": {
      "text/plain": [
       "719"
      ]
     },
     "execution_count": 1,
     "metadata": {},
     "output_type": "execute_result"
    }
   ],
   "source": [
    "import pandas as pd\n",
    "base_dir = 'data/McGill-Billboard'\n",
    "data_index = 'billboard-2.0-manychords.csv'\n",
    "\n",
    "df_songs = pd.read_csv(f'{base_dir}/{data_index}')\n",
    "#df_songs = pd.read_csv(f'{data_index}') # colab\n",
    "df_songs.set_index('id', inplace=True)\n",
    "len(df_songs)"
   ]
  },
  {
   "cell_type": "code",
   "execution_count": 2,
   "metadata": {},
   "outputs": [
    {
     "data": {
      "text/html": [
       "<div>\n",
       "<style scoped>\n",
       "    .dataframe tbody tr th:only-of-type {\n",
       "        vertical-align: middle;\n",
       "    }\n",
       "\n",
       "    .dataframe tbody tr th {\n",
       "        vertical-align: top;\n",
       "    }\n",
       "\n",
       "    .dataframe thead th {\n",
       "        text-align: right;\n",
       "    }\n",
       "</style>\n",
       "<table border=\"1\" class=\"dataframe\">\n",
       "  <thead>\n",
       "    <tr style=\"text-align: right;\">\n",
       "      <th></th>\n",
       "      <th>title</th>\n",
       "      <th>artist</th>\n",
       "      <th>no_chord_percent</th>\n",
       "    </tr>\n",
       "    <tr>\n",
       "      <th>id</th>\n",
       "      <th></th>\n",
       "      <th></th>\n",
       "      <th></th>\n",
       "    </tr>\n",
       "  </thead>\n",
       "  <tbody>\n",
       "    <tr>\n",
       "      <th>3</th>\n",
       "      <td>I Don't Mind</td>\n",
       "      <td>James Brown</td>\n",
       "      <td>0.049747</td>\n",
       "    </tr>\n",
       "    <tr>\n",
       "      <th>4</th>\n",
       "      <td>You've Got A Friend</td>\n",
       "      <td>Roberta Flack,Donny Hathaway</td>\n",
       "      <td>0.050770</td>\n",
       "    </tr>\n",
       "    <tr>\n",
       "      <th>6</th>\n",
       "      <td>The Rose</td>\n",
       "      <td>Bette Midler</td>\n",
       "      <td>0.117244</td>\n",
       "    </tr>\n",
       "  </tbody>\n",
       "</table>\n",
       "</div>"
      ],
      "text/plain": [
       "                  title                        artist  no_chord_percent\n",
       "id                                                                     \n",
       "3          I Don't Mind                   James Brown          0.049747\n",
       "4   You've Got A Friend  Roberta Flack,Donny Hathaway          0.050770\n",
       "6              The Rose                  Bette Midler          0.117244"
      ]
     },
     "execution_count": 2,
     "metadata": {},
     "output_type": "execute_result"
    }
   ],
   "source": [
    "df_songs.head(n=3)"
   ]
  },
  {
   "cell_type": "code",
   "execution_count": 3,
   "metadata": {},
   "outputs": [
    {
     "data": {
      "text/plain": [
       "714"
      ]
     },
     "execution_count": 3,
     "metadata": {},
     "output_type": "execute_result"
    }
   ],
   "source": [
    "test_ids = [1289, 736, 637, 270, 18] # songs to exclude for testing\n",
    "df_dataset = df_songs.drop(index=test_ids)\n",
    "len(df_dataset)"
   ]
  },
  {
   "cell_type": "markdown",
   "metadata": {},
   "source": [
    "#### Splitting"
   ]
  },
  {
   "cell_type": "code",
   "execution_count": 4,
   "metadata": {},
   "outputs": [
    {
     "data": {
      "text/plain": [
       "array([1167,    6,  986,  227,  743,  568,  107,  181,   27,  793])"
      ]
     },
     "execution_count": 4,
     "metadata": {},
     "output_type": "execute_result"
    }
   ],
   "source": [
    "import numpy as np\n",
    "_SEED = 0\n",
    "\n",
    "df_idxs = np.array(df_dataset.index.values)\n",
    "rng = np.random.default_rng(_SEED)\n",
    "rng.shuffle(df_idxs)\n",
    "\n",
    "df_idxs[:10]"
   ]
  },
  {
   "cell_type": "code",
   "execution_count": 5,
   "metadata": {},
   "outputs": [
    {
     "name": "stdout",
     "output_type": "stream",
     "text": [
      "Loaded sequence data.\n"
     ]
    }
   ],
   "source": [
    "from dataloader import ChromaSequenceDataset\n",
    "# import dataloader\n",
    "# from importlib import reload\n",
    "# reload(dataloader)\n",
    "\n",
    "_LABEL_TYPE = 'majmin'\n",
    "_SEQ_LEN = 128\n",
    "\n",
    "pre_computed_seq = f'data/chordseq/{_LABEL_TYPE}_{_SEQ_LEN}.pkl'\n",
    "#pre_computed_seq = f'{_LABEL_TYPE}_{_SEQ_LEN}.pkl' # colab\n",
    "ds = ChromaSequenceDataset(pre_computed_sequence=pre_computed_seq)"
   ]
  },
  {
   "cell_type": "code",
   "execution_count": 6,
   "metadata": {
    "scrolled": true
   },
   "outputs": [
    {
     "name": "stdout",
     "output_type": "stream",
     "text": [
      "((21936, 128, 24), (21936, 128)) ((3470, 128, 24), (3470, 128))\n",
      "((21952, 128, 24), (21952, 128)) ((3454, 128, 24), (3454, 128))\n",
      "((21892, 128, 24), (21892, 128)) ((3514, 128, 24), (3514, 128))\n",
      "((21911, 128, 24), (21911, 128)) ((3495, 128, 24), (3495, 128))\n",
      "((21588, 128, 24), (21588, 128)) ((3818, 128, 24), (3818, 128))\n"
     ]
    }
   ],
   "source": [
    "for train_split, val_split in ds.get_next_cv_split(df_idxs):\n",
    "    print(train_split.shape, val_split.shape)"
   ]
  },
  {
   "cell_type": "markdown",
   "metadata": {},
   "source": [
    "### Evaluation"
   ]
  },
  {
   "cell_type": "code",
   "execution_count": 8,
   "metadata": {},
   "outputs": [],
   "source": [
    "import os\n",
    "os.environ[\"CUDA_VISIBLE_DEVICES\"] = \"\"\n",
    "\n",
    "from tensorflow import keras\n",
    "\n",
    "_CKPT_PATH = 'models/chroma-seq-bilstm-crf-0'\n",
    "model = keras.models.load_model(_CKPT_PATH)"
   ]
  },
  {
   "cell_type": "code",
   "execution_count": 9,
   "metadata": {},
   "outputs": [
    {
     "data": {
      "text/plain": [
       "keras.saving.saved_model.load.ModelWithCRFLoss"
      ]
     },
     "execution_count": 9,
     "metadata": {},
     "output_type": "execute_result"
    }
   ],
   "source": [
    "type(model)"
   ]
  },
  {
   "cell_type": "markdown",
   "metadata": {},
   "source": [
    "#### Model Analysis"
   ]
  },
  {
   "cell_type": "code",
   "execution_count": 10,
   "metadata": {},
   "outputs": [],
   "source": [
    "from sklearn.metrics import accuracy_score\n",
    "_BATCH_SIZE = 128\n",
    "\n",
    "for train_split, val_split, train_idxs, val_idxs in ds.get_next_cv_split(df_idxs, return_index=True):\n",
    "    preds, _, _, _ = model.predict(val_split.feats, batch_size=_BATCH_SIZE)\n",
    "    acc = accuracy_score(val_split.labels.flatten(), preds.flatten())    \n",
    "    break"
   ]
  },
  {
   "cell_type": "code",
   "execution_count": 11,
   "metadata": {},
   "outputs": [
    {
     "name": "stdout",
     "output_type": "stream",
     "text": [
      "0.6733339337175792\n"
     ]
    }
   ],
   "source": [
    "print(acc) # as expected"
   ]
  },
  {
   "cell_type": "code",
   "execution_count": 32,
   "metadata": {},
   "outputs": [
    {
     "data": {
      "text/plain": [
       "0.700295547817108"
      ]
     },
     "execution_count": 32,
     "metadata": {},
     "output_type": "execute_result"
    }
   ],
   "source": [
    "from sklearn.metrics import recall_score\n",
    "\n",
    "# non-zero acc\n",
    "t = val_split.labels.flatten()\n",
    "p = preds.flatten()\n",
    "recall_score(t[t!=0], p[t!=0], average='micro')    "
   ]
  },
  {
   "cell_type": "code",
   "execution_count": 11,
   "metadata": {},
   "outputs": [
    {
     "name": "stdout",
     "output_type": "stream",
     "text": [
      "0.8125477240609045\n"
     ]
    }
   ],
   "source": [
    "trn_preds, _, _, _ = model.predict(train_split.feats, batch_size=_BATCH_SIZE)\n",
    "trn_acc = accuracy_score(train_split.labels.flatten(), trn_preds.flatten())\n",
    "print(trn_acc)"
   ]
  },
  {
   "cell_type": "code",
   "execution_count": 12,
   "metadata": {},
   "outputs": [
    {
     "data": {
      "text/plain": [
       "<sklearn.metrics._plot.confusion_matrix.ConfusionMatrixDisplay at 0x7f28bd1bca90>"
      ]
     },
     "execution_count": 12,
     "metadata": {},
     "output_type": "execute_result"
    },
    {
     "data": {
      "image/png": "[encoded data removed]",
      "text/plain": [
       "<Figure size 1080x1080 with 2 Axes>"
      ]
     },
     "metadata": {
      "needs_background": "light"
     },
     "output_type": "display_data"
    }
   ],
   "source": [
    "from sklearn.metrics import confusion_matrix, ConfusionMatrixDisplay\n",
    "import matplotlib.pyplot as plt\n",
    "%matplotlib inline\n",
    "\n",
    "cm = confusion_matrix(val_split.labels.astype(int).flatten(), preds.flatten(), normalize='true')\n",
    "\n",
    "disp = ConfusionMatrixDisplay(confusion_matrix=cm)\n",
    "fig, ax = plt.subplots(figsize=(15,15))\n",
    "disp.plot(ax=ax)"
   ]
  },
  {
   "cell_type": "code",
   "execution_count": 13,
   "metadata": {},
   "outputs": [
    {
     "data": {
      "text/plain": [
       "(17, 'E:min', 0.07862190812720848)"
      ]
     },
     "execution_count": 13,
     "metadata": {},
     "output_type": "execute_result"
    }
   ],
   "source": [
    "import dataloader\n",
    "\n",
    "def get_max_ambiguous_class(cm, c_ix): # lazycats??\n",
    "    pool = np.append(cm[c_ix][:c_ix], cm[c_ix][c_ix+1:])\n",
    "    score = np.max(pool)\n",
    "    a_ix = np.argmax(pool)\n",
    "    if a_ix >= c_ix:\n",
    "        a_ix += 1\n",
    "    \n",
    "    return a_ix, dataloader._MAJMIN_CLASSES[a_ix], score\n",
    "    \n",
    "get_max_ambiguous_class(cm, 5)"
   ]
  },
  {
   "cell_type": "code",
   "execution_count": 14,
   "metadata": {},
   "outputs": [
    {
     "data": {
      "text/plain": [
       "[64526, 37292, 11977, 33985, 21381]"
      ]
     },
     "execution_count": 14,
     "metadata": {},
     "output_type": "execute_result"
    }
   ],
   "source": [
    "from collections import Counter\n",
    "def get_ds_counts(ds_labels):\n",
    "    count_tuples = sorted(Counter(ds_labels.astype(int).flatten()).items(), key=lambda kv: kv[0])\n",
    "    return [count_tuple[1] for count_tuple in count_tuples]\n",
    "\n",
    "get_ds_counts(val_split.labels)[:5]"
   ]
  },
  {
   "cell_type": "code",
   "execution_count": 15,
   "metadata": {},
   "outputs": [],
   "source": [
    "trn_cm = confusion_matrix(train_split.labels.astype(int).flatten(), trn_preds.flatten(), normalize='true')"
   ]
  },
  {
   "cell_type": "code",
   "execution_count": 16,
   "metadata": {},
   "outputs": [],
   "source": [
    "import pandas as pd\n",
    "\n",
    "classes = np.unique(val_split.labels).astype(int)\n",
    "summary_df = pd.DataFrame(columns=['acc', 'amb_ix', 'amb_name', 'amb_pct', 'trn_acc'])\n",
    "\n",
    "for c_ix in classes:\n",
    "    acc = cm[c_ix][c_ix]\n",
    "    a_ix, a_name, a_pct = get_max_ambiguous_class(cm, c_ix)\n",
    "    trn_acc = trn_cm[c_ix][c_ix]\n",
    "    \n",
    "    summary_df.loc[len(summary_df)] = [acc, a_ix, a_name, a_pct, trn_acc]"
   ]
  },
  {
   "cell_type": "code",
   "execution_count": 17,
   "metadata": {},
   "outputs": [],
   "source": [
    "summary_df['val_cnt'] = get_ds_counts(val_split.labels)\n",
    "summary_df['val_pct'] = summary_df['val_cnt'] / summary_df['val_cnt'].sum()\n",
    "summary_df['trn_cnt'] = get_ds_counts(train_split.labels)\n",
    "summary_df['trn_pct'] = summary_df['trn_cnt'] / summary_df['trn_cnt'].sum()\n",
    "summary_df['name'] = dataloader._MAJMIN_CLASSES"
   ]
  },
  {
   "cell_type": "code",
   "execution_count": 19,
   "metadata": {},
   "outputs": [
    {
     "data": {
      "text/html": [
       "<div>\n",
       "<style scoped>\n",
       "    .dataframe tbody tr th:only-of-type {\n",
       "        vertical-align: middle;\n",
       "    }\n",
       "\n",
       "    .dataframe tbody tr th {\n",
       "        vertical-align: top;\n",
       "    }\n",
       "\n",
       "    .dataframe thead th {\n",
       "        text-align: right;\n",
       "    }\n",
       "</style>\n",
       "<table border=\"1\" class=\"dataframe\">\n",
       "  <thead>\n",
       "    <tr style=\"text-align: right;\">\n",
       "      <th></th>\n",
       "      <th>name</th>\n",
       "      <th>acc</th>\n",
       "      <th>amb_ix</th>\n",
       "      <th>amb_name</th>\n",
       "      <th>amb_pct</th>\n",
       "      <th>trn_cnt</th>\n",
       "      <th>trn_pct</th>\n",
       "      <th>val_cnt</th>\n",
       "      <th>val_pct</th>\n",
       "      <th>trn_acc</th>\n",
       "    </tr>\n",
       "  </thead>\n",
       "  <tbody>\n",
       "    <tr>\n",
       "      <th>3</th>\n",
       "      <td>D:maj</td>\n",
       "      <td>0.761248</td>\n",
       "      <td>0</td>\n",
       "      <td>N</td>\n",
       "      <td>0.074857</td>\n",
       "      <td>241035</td>\n",
       "      <td>0.085845</td>\n",
       "      <td>33985</td>\n",
       "      <td>0.076515</td>\n",
       "      <td>0.864414</td>\n",
       "    </tr>\n",
       "    <tr>\n",
       "      <th>5</th>\n",
       "      <td>E:maj</td>\n",
       "      <td>0.810134</td>\n",
       "      <td>17</td>\n",
       "      <td>E:min</td>\n",
       "      <td>0.078622</td>\n",
       "      <td>198252</td>\n",
       "      <td>0.070607</td>\n",
       "      <td>15848</td>\n",
       "      <td>0.035681</td>\n",
       "      <td>0.868450</td>\n",
       "    </tr>\n",
       "    <tr>\n",
       "      <th>8</th>\n",
       "      <td>G:maj</td>\n",
       "      <td>0.795321</td>\n",
       "      <td>3</td>\n",
       "      <td>D:maj</td>\n",
       "      <td>0.048889</td>\n",
       "      <td>242984</td>\n",
       "      <td>0.086539</td>\n",
       "      <td>40561</td>\n",
       "      <td>0.091321</td>\n",
       "      <td>0.861300</td>\n",
       "    </tr>\n",
       "    <tr>\n",
       "      <th>14</th>\n",
       "      <td>Db:min</td>\n",
       "      <td>0.824578</td>\n",
       "      <td>5</td>\n",
       "      <td>E:maj</td>\n",
       "      <td>0.041843</td>\n",
       "      <td>37794</td>\n",
       "      <td>0.013460</td>\n",
       "      <td>7576</td>\n",
       "      <td>0.017057</td>\n",
       "      <td>0.745727</td>\n",
       "    </tr>\n",
       "    <tr>\n",
       "      <th>24</th>\n",
       "      <td>B:min</td>\n",
       "      <td>0.759750</td>\n",
       "      <td>0</td>\n",
       "      <td>N</td>\n",
       "      <td>0.097496</td>\n",
       "      <td>72237</td>\n",
       "      <td>0.025727</td>\n",
       "      <td>9744</td>\n",
       "      <td>0.021938</td>\n",
       "      <td>0.787491</td>\n",
       "    </tr>\n",
       "  </tbody>\n",
       "</table>\n",
       "</div>"
      ],
      "text/plain": [
       "      name       acc amb_ix amb_name   amb_pct  trn_cnt   trn_pct  val_cnt  \\\n",
       "3    D:maj  0.761248      0        N  0.074857   241035  0.085845    33985   \n",
       "5    E:maj  0.810134     17    E:min  0.078622   198252  0.070607    15848   \n",
       "8    G:maj  0.795321      3    D:maj  0.048889   242984  0.086539    40561   \n",
       "14  Db:min  0.824578      5    E:maj  0.041843    37794  0.013460     7576   \n",
       "24   B:min  0.759750      0        N  0.097496    72237  0.025727     9744   \n",
       "\n",
       "     val_pct   trn_acc  \n",
       "3   0.076515  0.864414  \n",
       "5   0.035681  0.868450  \n",
       "8   0.091321  0.861300  \n",
       "14  0.017057  0.745727  \n",
       "24  0.021938  0.787491  "
      ]
     },
     "execution_count": 19,
     "metadata": {},
     "output_type": "execute_result"
    }
   ],
   "source": [
    "# val acc, max ambiguity+pct,trn acc, val count+pct, trn count+pct\n",
    "summary_df = summary_df[['name','acc','amb_ix','amb_name','amb_pct',\n",
    "                         'trn_cnt','trn_pct','val_cnt','val_pct','trn_acc']]\n",
    "\n",
    "summary_df[summary_df['acc'] > 0.75]"
   ]
  },
  {
   "cell_type": "code",
   "execution_count": 20,
   "metadata": {},
   "outputs": [
    {
     "name": "stdout",
     "output_type": "stream",
     "text": [
      "0.039999999999999994 0.04 0.09718352350508903\n"
     ]
    }
   ],
   "source": [
    "print(summary_df['trn_pct'].mean(), summary_df['val_pct'].mean(), summary_df['amb_pct'].mean())"
   ]
  },
  {
   "cell_type": "code",
   "execution_count": 21,
   "metadata": {},
   "outputs": [
    {
     "data": {
      "text/html": [
       "<div>\n",
       "<style scoped>\n",
       "    .dataframe tbody tr th:only-of-type {\n",
       "        vertical-align: middle;\n",
       "    }\n",
       "\n",
       "    .dataframe tbody tr th {\n",
       "        vertical-align: top;\n",
       "    }\n",
       "\n",
       "    .dataframe thead th {\n",
       "        text-align: right;\n",
       "    }\n",
       "</style>\n",
       "<table border=\"1\" class=\"dataframe\">\n",
       "  <thead>\n",
       "    <tr style=\"text-align: right;\">\n",
       "      <th></th>\n",
       "      <th>name</th>\n",
       "      <th>acc</th>\n",
       "      <th>amb_name</th>\n",
       "      <th>amb_pct</th>\n",
       "      <th>trn_pct</th>\n",
       "      <th>val_pct</th>\n",
       "    </tr>\n",
       "  </thead>\n",
       "  <tbody>\n",
       "    <tr>\n",
       "      <th>23</th>\n",
       "      <td>Bb:min</td>\n",
       "      <td>0.452471</td>\n",
       "      <td>N</td>\n",
       "      <td>0.172485</td>\n",
       "      <td>0.006403</td>\n",
       "      <td>0.013027</td>\n",
       "    </tr>\n",
       "    <tr>\n",
       "      <th>15</th>\n",
       "      <td>D:min</td>\n",
       "      <td>0.510367</td>\n",
       "      <td>D:maj</td>\n",
       "      <td>0.215672</td>\n",
       "      <td>0.030977</td>\n",
       "      <td>0.030514</td>\n",
       "    </tr>\n",
       "    <tr>\n",
       "      <th>0</th>\n",
       "      <td>N</td>\n",
       "      <td>0.514707</td>\n",
       "      <td>D:maj</td>\n",
       "      <td>0.059449</td>\n",
       "      <td>0.105492</td>\n",
       "      <td>0.145276</td>\n",
       "    </tr>\n",
       "    <tr>\n",
       "      <th>17</th>\n",
       "      <td>E:min</td>\n",
       "      <td>0.531438</td>\n",
       "      <td>E:maj</td>\n",
       "      <td>0.119922</td>\n",
       "      <td>0.030691</td>\n",
       "      <td>0.025495</td>\n",
       "    </tr>\n",
       "    <tr>\n",
       "      <th>13</th>\n",
       "      <td>C:min</td>\n",
       "      <td>0.573345</td>\n",
       "      <td>C:maj</td>\n",
       "      <td>0.162232</td>\n",
       "      <td>0.012639</td>\n",
       "      <td>0.030712</td>\n",
       "    </tr>\n",
       "    <tr>\n",
       "      <th>18</th>\n",
       "      <td>F:min</td>\n",
       "      <td>0.602081</td>\n",
       "      <td>N</td>\n",
       "      <td>0.090788</td>\n",
       "      <td>0.013082</td>\n",
       "      <td>0.010168</td>\n",
       "    </tr>\n",
       "    <tr>\n",
       "      <th>22</th>\n",
       "      <td>A:min</td>\n",
       "      <td>0.613420</td>\n",
       "      <td>C:maj</td>\n",
       "      <td>0.067283</td>\n",
       "      <td>0.033613</td>\n",
       "      <td>0.024595</td>\n",
       "    </tr>\n",
       "    <tr>\n",
       "      <th>2</th>\n",
       "      <td>Db:maj</td>\n",
       "      <td>0.643149</td>\n",
       "      <td>Gb:maj</td>\n",
       "      <td>0.071387</td>\n",
       "      <td>0.029932</td>\n",
       "      <td>0.026966</td>\n",
       "    </tr>\n",
       "    <tr>\n",
       "      <th>16</th>\n",
       "      <td>Eb:min</td>\n",
       "      <td>0.651773</td>\n",
       "      <td>Gb:maj</td>\n",
       "      <td>0.143571</td>\n",
       "      <td>0.012941</td>\n",
       "      <td>0.014411</td>\n",
       "    </tr>\n",
       "    <tr>\n",
       "      <th>9</th>\n",
       "      <td>Ab:maj</td>\n",
       "      <td>0.654712</td>\n",
       "      <td>N</td>\n",
       "      <td>0.157277</td>\n",
       "      <td>0.036248</td>\n",
       "      <td>0.053109</td>\n",
       "    </tr>\n",
       "    <tr>\n",
       "      <th>19</th>\n",
       "      <td>Gb:min</td>\n",
       "      <td>0.669421</td>\n",
       "      <td>Gb:maj</td>\n",
       "      <td>0.123967</td>\n",
       "      <td>0.013584</td>\n",
       "      <td>0.013621</td>\n",
       "    </tr>\n",
       "    <tr>\n",
       "      <th>11</th>\n",
       "      <td>Bb:maj</td>\n",
       "      <td>0.672733</td>\n",
       "      <td>N</td>\n",
       "      <td>0.112690</td>\n",
       "      <td>0.045921</td>\n",
       "      <td>0.050227</td>\n",
       "    </tr>\n",
       "    <tr>\n",
       "      <th>21</th>\n",
       "      <td>Ab:min</td>\n",
       "      <td>0.678325</td>\n",
       "      <td>G:min</td>\n",
       "      <td>0.065356</td>\n",
       "      <td>0.006029</td>\n",
       "      <td>0.008819</td>\n",
       "    </tr>\n",
       "    <tr>\n",
       "      <th>20</th>\n",
       "      <td>G:min</td>\n",
       "      <td>0.678330</td>\n",
       "      <td>G:maj</td>\n",
       "      <td>0.139088</td>\n",
       "      <td>0.018308</td>\n",
       "      <td>0.023293</td>\n",
       "    </tr>\n",
       "    <tr>\n",
       "      <th>12</th>\n",
       "      <td>B:maj</td>\n",
       "      <td>0.679891</td>\n",
       "      <td>E:maj</td>\n",
       "      <td>0.054686</td>\n",
       "      <td>0.030746</td>\n",
       "      <td>0.031495</td>\n",
       "    </tr>\n",
       "    <tr>\n",
       "      <th>1</th>\n",
       "      <td>C:maj</td>\n",
       "      <td>0.713290</td>\n",
       "      <td>N</td>\n",
       "      <td>0.068084</td>\n",
       "      <td>0.084918</td>\n",
       "      <td>0.083961</td>\n",
       "    </tr>\n",
       "    <tr>\n",
       "      <th>7</th>\n",
       "      <td>Gb:maj</td>\n",
       "      <td>0.717785</td>\n",
       "      <td>N</td>\n",
       "      <td>0.074413</td>\n",
       "      <td>0.026808</td>\n",
       "      <td>0.021875</td>\n",
       "    </tr>\n",
       "    <tr>\n",
       "      <th>4</th>\n",
       "      <td>Eb:maj</td>\n",
       "      <td>0.738459</td>\n",
       "      <td>Eb:min</td>\n",
       "      <td>0.053318</td>\n",
       "      <td>0.035798</td>\n",
       "      <td>0.048138</td>\n",
       "    </tr>\n",
       "    <tr>\n",
       "      <th>6</th>\n",
       "      <td>F:maj</td>\n",
       "      <td>0.741287</td>\n",
       "      <td>N</td>\n",
       "      <td>0.068979</td>\n",
       "      <td>0.062107</td>\n",
       "      <td>0.056009</td>\n",
       "    </tr>\n",
       "    <tr>\n",
       "      <th>10</th>\n",
       "      <td>A:maj</td>\n",
       "      <td>0.741491</td>\n",
       "      <td>B:min</td>\n",
       "      <td>0.067234</td>\n",
       "      <td>0.081586</td>\n",
       "      <td>0.045776</td>\n",
       "    </tr>\n",
       "  </tbody>\n",
       "</table>\n",
       "</div>"
      ],
      "text/plain": [
       "      name       acc amb_name   amb_pct   trn_pct   val_pct\n",
       "23  Bb:min  0.452471        N  0.172485  0.006403  0.013027\n",
       "15   D:min  0.510367    D:maj  0.215672  0.030977  0.030514\n",
       "0        N  0.514707    D:maj  0.059449  0.105492  0.145276\n",
       "17   E:min  0.531438    E:maj  0.119922  0.030691  0.025495\n",
       "13   C:min  0.573345    C:maj  0.162232  0.012639  0.030712\n",
       "18   F:min  0.602081        N  0.090788  0.013082  0.010168\n",
       "22   A:min  0.613420    C:maj  0.067283  0.033613  0.024595\n",
       "2   Db:maj  0.643149   Gb:maj  0.071387  0.029932  0.026966\n",
       "16  Eb:min  0.651773   Gb:maj  0.143571  0.012941  0.014411\n",
       "9   Ab:maj  0.654712        N  0.157277  0.036248  0.053109\n",
       "19  Gb:min  0.669421   Gb:maj  0.123967  0.013584  0.013621\n",
       "11  Bb:maj  0.672733        N  0.112690  0.045921  0.050227\n",
       "21  Ab:min  0.678325    G:min  0.065356  0.006029  0.008819\n",
       "20   G:min  0.678330    G:maj  0.139088  0.018308  0.023293\n",
       "12   B:maj  0.679891    E:maj  0.054686  0.030746  0.031495\n",
       "1    C:maj  0.713290        N  0.068084  0.084918  0.083961\n",
       "7   Gb:maj  0.717785        N  0.074413  0.026808  0.021875\n",
       "4   Eb:maj  0.738459   Eb:min  0.053318  0.035798  0.048138\n",
       "6    F:maj  0.741287        N  0.068979  0.062107  0.056009\n",
       "10   A:maj  0.741491    B:min  0.067234  0.081586  0.045776"
      ]
     },
     "execution_count": 21,
     "metadata": {},
     "output_type": "execute_result"
    }
   ],
   "source": [
    "summary_df[summary_df['acc'] < 0.75][['name','acc','amb_name','amb_pct','trn_pct','val_pct']].sort_values(by='acc')"
   ]
  },
  {
   "cell_type": "code",
   "execution_count": 28,
   "metadata": {},
   "outputs": [
    {
     "name": "stderr",
     "output_type": "stream",
     "text": [
      "/home/cjbayron/virtualenvs/pytorch/lib/python3.6/site-packages/ipykernel_launcher.py:1: UserWarning: Boolean Series key will be reindexed to match DataFrame index.\n",
      "  \"\"\"Entry point for launching an IPython kernel.\n"
     ]
    },
    {
     "data": {
      "text/html": [
       "<div>\n",
       "<style scoped>\n",
       "    .dataframe tbody tr th:only-of-type {\n",
       "        vertical-align: middle;\n",
       "    }\n",
       "\n",
       "    .dataframe tbody tr th {\n",
       "        vertical-align: top;\n",
       "    }\n",
       "\n",
       "    .dataframe thead th {\n",
       "        text-align: right;\n",
       "    }\n",
       "</style>\n",
       "<table border=\"1\" class=\"dataframe\">\n",
       "  <thead>\n",
       "    <tr style=\"text-align: right;\">\n",
       "      <th></th>\n",
       "      <th>name</th>\n",
       "      <th>acc</th>\n",
       "      <th>amb_name</th>\n",
       "      <th>amb_pct</th>\n",
       "      <th>trn_pct</th>\n",
       "      <th>val_pct</th>\n",
       "    </tr>\n",
       "  </thead>\n",
       "  <tbody>\n",
       "    <tr>\n",
       "      <th>23</th>\n",
       "      <td>Bb:min</td>\n",
       "      <td>0.452471</td>\n",
       "      <td>N</td>\n",
       "      <td>0.172485</td>\n",
       "      <td>0.006403</td>\n",
       "      <td>0.013027</td>\n",
       "    </tr>\n",
       "    <tr>\n",
       "      <th>15</th>\n",
       "      <td>D:min</td>\n",
       "      <td>0.510367</td>\n",
       "      <td>D:maj</td>\n",
       "      <td>0.215672</td>\n",
       "      <td>0.030977</td>\n",
       "      <td>0.030514</td>\n",
       "    </tr>\n",
       "    <tr>\n",
       "      <th>17</th>\n",
       "      <td>E:min</td>\n",
       "      <td>0.531438</td>\n",
       "      <td>E:maj</td>\n",
       "      <td>0.119922</td>\n",
       "      <td>0.030691</td>\n",
       "      <td>0.025495</td>\n",
       "    </tr>\n",
       "    <tr>\n",
       "      <th>13</th>\n",
       "      <td>C:min</td>\n",
       "      <td>0.573345</td>\n",
       "      <td>C:maj</td>\n",
       "      <td>0.162232</td>\n",
       "      <td>0.012639</td>\n",
       "      <td>0.030712</td>\n",
       "    </tr>\n",
       "    <tr>\n",
       "      <th>18</th>\n",
       "      <td>F:min</td>\n",
       "      <td>0.602081</td>\n",
       "      <td>N</td>\n",
       "      <td>0.090788</td>\n",
       "      <td>0.013082</td>\n",
       "      <td>0.010168</td>\n",
       "    </tr>\n",
       "    <tr>\n",
       "      <th>22</th>\n",
       "      <td>A:min</td>\n",
       "      <td>0.613420</td>\n",
       "      <td>C:maj</td>\n",
       "      <td>0.067283</td>\n",
       "      <td>0.033613</td>\n",
       "      <td>0.024595</td>\n",
       "    </tr>\n",
       "    <tr>\n",
       "      <th>2</th>\n",
       "      <td>Db:maj</td>\n",
       "      <td>0.643149</td>\n",
       "      <td>Gb:maj</td>\n",
       "      <td>0.071387</td>\n",
       "      <td>0.029932</td>\n",
       "      <td>0.026966</td>\n",
       "    </tr>\n",
       "    <tr>\n",
       "      <th>16</th>\n",
       "      <td>Eb:min</td>\n",
       "      <td>0.651773</td>\n",
       "      <td>Gb:maj</td>\n",
       "      <td>0.143571</td>\n",
       "      <td>0.012941</td>\n",
       "      <td>0.014411</td>\n",
       "    </tr>\n",
       "    <tr>\n",
       "      <th>9</th>\n",
       "      <td>Ab:maj</td>\n",
       "      <td>0.654712</td>\n",
       "      <td>N</td>\n",
       "      <td>0.157277</td>\n",
       "      <td>0.036248</td>\n",
       "      <td>0.053109</td>\n",
       "    </tr>\n",
       "    <tr>\n",
       "      <th>19</th>\n",
       "      <td>Gb:min</td>\n",
       "      <td>0.669421</td>\n",
       "      <td>Gb:maj</td>\n",
       "      <td>0.123967</td>\n",
       "      <td>0.013584</td>\n",
       "      <td>0.013621</td>\n",
       "    </tr>\n",
       "    <tr>\n",
       "      <th>11</th>\n",
       "      <td>Bb:maj</td>\n",
       "      <td>0.672733</td>\n",
       "      <td>N</td>\n",
       "      <td>0.112690</td>\n",
       "      <td>0.045921</td>\n",
       "      <td>0.050227</td>\n",
       "    </tr>\n",
       "    <tr>\n",
       "      <th>21</th>\n",
       "      <td>Ab:min</td>\n",
       "      <td>0.678325</td>\n",
       "      <td>G:min</td>\n",
       "      <td>0.065356</td>\n",
       "      <td>0.006029</td>\n",
       "      <td>0.008819</td>\n",
       "    </tr>\n",
       "    <tr>\n",
       "      <th>20</th>\n",
       "      <td>G:min</td>\n",
       "      <td>0.678330</td>\n",
       "      <td>G:maj</td>\n",
       "      <td>0.139088</td>\n",
       "      <td>0.018308</td>\n",
       "      <td>0.023293</td>\n",
       "    </tr>\n",
       "    <tr>\n",
       "      <th>12</th>\n",
       "      <td>B:maj</td>\n",
       "      <td>0.679891</td>\n",
       "      <td>E:maj</td>\n",
       "      <td>0.054686</td>\n",
       "      <td>0.030746</td>\n",
       "      <td>0.031495</td>\n",
       "    </tr>\n",
       "  </tbody>\n",
       "</table>\n",
       "</div>"
      ],
      "text/plain": [
       "      name       acc amb_name   amb_pct   trn_pct   val_pct\n",
       "23  Bb:min  0.452471        N  0.172485  0.006403  0.013027\n",
       "15   D:min  0.510367    D:maj  0.215672  0.030977  0.030514\n",
       "17   E:min  0.531438    E:maj  0.119922  0.030691  0.025495\n",
       "13   C:min  0.573345    C:maj  0.162232  0.012639  0.030712\n",
       "18   F:min  0.602081        N  0.090788  0.013082  0.010168\n",
       "22   A:min  0.613420    C:maj  0.067283  0.033613  0.024595\n",
       "2   Db:maj  0.643149   Gb:maj  0.071387  0.029932  0.026966\n",
       "16  Eb:min  0.651773   Gb:maj  0.143571  0.012941  0.014411\n",
       "9   Ab:maj  0.654712        N  0.157277  0.036248  0.053109\n",
       "19  Gb:min  0.669421   Gb:maj  0.123967  0.013584  0.013621\n",
       "11  Bb:maj  0.672733        N  0.112690  0.045921  0.050227\n",
       "21  Ab:min  0.678325    G:min  0.065356  0.006029  0.008819\n",
       "20   G:min  0.678330    G:maj  0.139088  0.018308  0.023293\n",
       "12   B:maj  0.679891    E:maj  0.054686  0.030746  0.031495"
      ]
     },
     "execution_count": 28,
     "metadata": {},
     "output_type": "execute_result"
    }
   ],
   "source": [
    "summary_df[summary_df['acc'] < 0.70][non_zero_filt]\\\n",
    "    [['name','acc','amb_name','amb_pct','trn_pct','val_pct']].sort_values(by='acc')"
   ]
  },
  {
   "cell_type": "markdown",
   "metadata": {},
   "source": [
    "##### Thoughts\n",
    "\n",
    "- The least accurate chord (Bbm) has the least training data. We might gain a lot on data augmentation.\n",
    "    - we shall limit augmentation on valid chords i.e. exclude no-chord (N)\n",
    "    - we can pre-augment (larger training data) or augment on-the-fly (transformations)\n",
    "    - consider weighted augmenting\n",
    "    - we should try to AVOID augmenting bad data (how?)\n",
    "- QUICK: try weighted training\n",
    "- lots of X:min <-> X:maj ambiguity\n",
    "- major chords generally more accurate"
   ]
  },
  {
   "cell_type": "markdown",
   "metadata": {},
   "source": [
    "#### Per-song analysis"
   ]
  },
  {
   "cell_type": "code",
   "execution_count": 12,
   "metadata": {},
   "outputs": [
    {
     "name": "stdout",
     "output_type": "stream",
     "text": [
      "1289: 0.7667238421955404\n",
      "736: 0.49593976081500074\n",
      "637: 0.6563327032136106\n",
      "270: 0.8167701863354038\n",
      "18: 0.6729610285255122\n"
     ]
    }
   ],
   "source": [
    "from sklearn.metrics import accuracy_score\n",
    "import lazycats.np as catnp\n",
    "import dataloader\n",
    "\n",
    "_BATCH_SIZE = 128\n",
    "_LABEL_TYPE = 'majmin'\n",
    "_CHROMA_NUM_FEATS = 24\n",
    "\n",
    "def predict_from_chroma(model, chroma_vectors):\n",
    "    chordseq_vectors = catnp.divide_to_subsequences(chroma_vectors, sub_len=_SEQ_LEN)\n",
    "    pred_labels, _, _, _ = model.predict(chordseq_vectors, batch_size=32)\n",
    "    pred_labels = pred_labels.flatten()\n",
    "    if len(chroma_vectors) < len(pred_labels): # remove pad\n",
    "        pad_st = len(pred_labels)-_SEQ_LEN\n",
    "        pad_ed = pad_st+len(pred_labels)-len(chroma_vectors)\n",
    "        pred_labels = np.append(pred_labels[:pad_st], pred_labels[pad_ed:])\n",
    "\n",
    "    assert(len(pred_labels)==len(chroma_vectors))\n",
    "    return pred_labels\n",
    "\n",
    "def get_predictions_and_labels(model, song_id):\n",
    "    chroma_vectors, chord_labels = dataloader.get_chord_features_and_labels(song_id, label_type=_LABEL_TYPE,\n",
    "                                                                            remove_ambiguous=False)\n",
    "    assert(chroma_vectors.shape[-1] == _CHROMA_NUM_FEATS)\n",
    "    pred_labels = predict_from_chroma(model, chroma_vectors)\n",
    "    assert(len(pred_labels)==len(chord_labels))\n",
    "    return pred_labels, chord_labels\n",
    "\n",
    "for _id in test_ids:\n",
    "    pred_labels, chord_labels = get_predictions_and_labels(model, _id)\n",
    "    acc = accuracy_score(chord_labels, pred_labels)\n",
    "    print(f'{_id}: {acc}')\n",
    "    #break"
   ]
  },
  {
   "cell_type": "code",
   "execution_count": 14,
   "metadata": {},
   "outputs": [
    {
     "data": {
      "text/html": [
       "<div>\n",
       "<style scoped>\n",
       "    .dataframe tbody tr th:only-of-type {\n",
       "        vertical-align: middle;\n",
       "    }\n",
       "\n",
       "    .dataframe tbody tr th {\n",
       "        vertical-align: top;\n",
       "    }\n",
       "\n",
       "    .dataframe thead th {\n",
       "        text-align: right;\n",
       "    }\n",
       "</style>\n",
       "<table border=\"1\" class=\"dataframe\">\n",
       "  <thead>\n",
       "    <tr style=\"text-align: right;\">\n",
       "      <th></th>\n",
       "      <th>title</th>\n",
       "      <th>artist</th>\n",
       "      <th>no_chord_percent</th>\n",
       "    </tr>\n",
       "    <tr>\n",
       "      <th>id</th>\n",
       "      <th></th>\n",
       "      <th></th>\n",
       "      <th></th>\n",
       "    </tr>\n",
       "  </thead>\n",
       "  <tbody>\n",
       "    <tr>\n",
       "      <th>1289</th>\n",
       "      <td>There She Goes</td>\n",
       "      <td>The La's</td>\n",
       "      <td>0.034247</td>\n",
       "    </tr>\n",
       "    <tr>\n",
       "      <th>736</th>\n",
       "      <td>Do I Do</td>\n",
       "      <td>Stevie Wonder</td>\n",
       "      <td>0.451669</td>\n",
       "    </tr>\n",
       "    <tr>\n",
       "      <th>637</th>\n",
       "      <td>Human Nature</td>\n",
       "      <td>Michael Jackson</td>\n",
       "      <td>0.025762</td>\n",
       "    </tr>\n",
       "    <tr>\n",
       "      <th>270</th>\n",
       "      <td>In My Room</td>\n",
       "      <td>The Beach Boys</td>\n",
       "      <td>0.051888</td>\n",
       "    </tr>\n",
       "    <tr>\n",
       "      <th>18</th>\n",
       "      <td>Kiss On My List</td>\n",
       "      <td>Daryl Hall &amp; John Oates</td>\n",
       "      <td>0.043451</td>\n",
       "    </tr>\n",
       "  </tbody>\n",
       "</table>\n",
       "</div>"
      ],
      "text/plain": [
       "                title                   artist  no_chord_percent\n",
       "id                                                              \n",
       "1289   There She Goes                 The La's          0.034247\n",
       "736           Do I Do            Stevie Wonder          0.451669\n",
       "637      Human Nature          Michael Jackson          0.025762\n",
       "270        In My Room           The Beach Boys          0.051888\n",
       "18    Kiss On My List  Daryl Hall & John Oates          0.043451"
      ]
     },
     "execution_count": 14,
     "metadata": {},
     "output_type": "execute_result"
    }
   ],
   "source": [
    "df_songs.loc[test_ids]"
   ]
  },
  {
   "cell_type": "code",
   "execution_count": 74,
   "metadata": {},
   "outputs": [
    {
     "data": {
      "text/plain": [
       "<sklearn.metrics._plot.confusion_matrix.ConfusionMatrixDisplay at 0x7fe3bbfc3dd8>"
      ]
     },
     "execution_count": 74,
     "metadata": {},
     "output_type": "execute_result"
    },
    {
     "data": {
      "image/png": "[encoded data removed]",
      "text/plain": [
       "<Figure size 432x432 with 2 Axes>"
      ]
     },
     "metadata": {
      "needs_background": "light"
     },
     "output_type": "display_data"
    }
   ],
   "source": [
    "from sklearn.metrics import confusion_matrix, ConfusionMatrixDisplay\n",
    "import matplotlib.pyplot as plt\n",
    "%matplotlib inline\n",
    "\n",
    "cm = confusion_matrix(chord_labels, pred_labels, normalize='true')\n",
    "chord_classes_index = np.unique([pred_labels, chord_labels])\n",
    "chord_classes = [dataloader._MAJMIN_CLASSES[ix] for ix in chord_classes_index]\n",
    "\n",
    "disp = ConfusionMatrixDisplay(confusion_matrix=cm, display_labels=chord_classes)\n",
    "fig, ax = plt.subplots(figsize=(6,6))\n",
    "disp.plot(ax=ax)"
   ]
  },
  {
   "cell_type": "code",
   "execution_count": 79,
   "metadata": {},
   "outputs": [],
   "source": [
    "import pandas as pd\n",
    "\n",
    "summary_df = pd.DataFrame(columns=['acc', 'amb_ix', 'amb_name', 'amb_pct'])\n",
    "\n",
    "for c_ix in range(len(cm)):\n",
    "    acc = cm[c_ix][c_ix]\n",
    "    ac_ix, _, a_pct = get_max_ambiguous_class(cm, c_ix)\n",
    "    a_ix = chord_classes_index[ac_ix]\n",
    "    a_name = chord_classes[ac_ix]\n",
    "    \n",
    "    summary_df.loc[len(summary_df)] = [acc, a_ix, a_name, a_pct]"
   ]
  },
  {
   "cell_type": "code",
   "execution_count": 84,
   "metadata": {},
   "outputs": [
    {
     "data": {
      "text/html": [
       "<div>\n",
       "<style scoped>\n",
       "    .dataframe tbody tr th:only-of-type {\n",
       "        vertical-align: middle;\n",
       "    }\n",
       "\n",
       "    .dataframe tbody tr th {\n",
       "        vertical-align: top;\n",
       "    }\n",
       "\n",
       "    .dataframe thead th {\n",
       "        text-align: right;\n",
       "    }\n",
       "</style>\n",
       "<table border=\"1\" class=\"dataframe\">\n",
       "  <thead>\n",
       "    <tr style=\"text-align: right;\">\n",
       "      <th></th>\n",
       "      <th>name</th>\n",
       "      <th>acc</th>\n",
       "      <th>amb_name</th>\n",
       "      <th>amb_pct</th>\n",
       "      <th>song_pct</th>\n",
       "    </tr>\n",
       "  </thead>\n",
       "  <tbody>\n",
       "    <tr>\n",
       "      <th>0</th>\n",
       "      <td>N</td>\n",
       "      <td>0.321739</td>\n",
       "      <td>G:maj</td>\n",
       "      <td>0.678261</td>\n",
       "      <td>0.034247</td>\n",
       "    </tr>\n",
       "    <tr>\n",
       "      <th>1</th>\n",
       "      <td>C:maj</td>\n",
       "      <td>0.892575</td>\n",
       "      <td>D:maj</td>\n",
       "      <td>0.093997</td>\n",
       "      <td>0.377010</td>\n",
       "    </tr>\n",
       "    <tr>\n",
       "      <th>2</th>\n",
       "      <td>D:maj</td>\n",
       "      <td>0.762419</td>\n",
       "      <td>C:maj</td>\n",
       "      <td>0.173866</td>\n",
       "      <td>0.275759</td>\n",
       "    </tr>\n",
       "    <tr>\n",
       "      <th>3</th>\n",
       "      <td>G:maj</td>\n",
       "      <td>0.671388</td>\n",
       "      <td>D:maj</td>\n",
       "      <td>0.281870</td>\n",
       "      <td>0.210244</td>\n",
       "    </tr>\n",
       "    <tr>\n",
       "      <th>4</th>\n",
       "      <td>E:min</td>\n",
       "      <td>0.861789</td>\n",
       "      <td>D:maj</td>\n",
       "      <td>0.081301</td>\n",
       "      <td>0.036629</td>\n",
       "    </tr>\n",
       "    <tr>\n",
       "      <th>5</th>\n",
       "      <td>A:min</td>\n",
       "      <td>0.810811</td>\n",
       "      <td>C:maj</td>\n",
       "      <td>0.130631</td>\n",
       "      <td>0.066111</td>\n",
       "    </tr>\n",
       "  </tbody>\n",
       "</table>\n",
       "</div>"
      ],
      "text/plain": [
       "    name       acc amb_name   amb_pct  song_pct\n",
       "0      N  0.321739    G:maj  0.678261  0.034247\n",
       "1  C:maj  0.892575    D:maj  0.093997  0.377010\n",
       "2  D:maj  0.762419    C:maj  0.173866  0.275759\n",
       "3  G:maj  0.671388    D:maj  0.281870  0.210244\n",
       "4  E:min  0.861789    D:maj  0.081301  0.036629\n",
       "5  A:min  0.810811    C:maj  0.130631  0.066111"
      ]
     },
     "execution_count": 84,
     "metadata": {},
     "output_type": "execute_result"
    }
   ],
   "source": [
    "summary_df['song_cnt'] = get_ds_counts(chord_labels)\n",
    "summary_df['song_pct'] = summary_df['song_cnt'] / summary_df['song_cnt'].sum()\n",
    "summary_df['name'] = chord_classes\n",
    "summary_df[['name','acc','amb_name','amb_pct','song_pct']]"
   ]
  },
  {
   "cell_type": "markdown",
   "metadata": {},
   "source": [
    "#### For visual evaluation"
   ]
  },
  {
   "cell_type": "code",
   "execution_count": 117,
   "metadata": {},
   "outputs": [],
   "source": [
    "# visually compare\n",
    "\n",
    "def dump_chord_array(labels, fn):\n",
    "    arr_str = np.array(list(map(lambda ix: dataloader._MAJMIN_CLASSES[ix], labels)))\n",
    "    arr_str_subseq = catnp.divide_to_subsequences(arr_str, sub_len=_SEQ_LEN, pad='X', pre_pad=False)\n",
    "    np.savetxt(fn, arr_str_subseq, fmt='%s', newline='\\n\\n')\n",
    "    \n",
    "dump_chord_array(chord_labels, f'data/eval/{_id}_true_labels.txt')\n",
    "dump_chord_array(pred_labels, f'data/eval/{_id}_pred_labels.txt')"
   ]
  },
  {
   "cell_type": "markdown",
   "metadata": {},
   "source": [
    "##### Dump LAB with from pre-generated chroma as input"
   ]
  },
  {
   "cell_type": "code",
   "execution_count": 11,
   "metadata": {},
   "outputs": [
    {
     "data": {
      "text/plain": [
       "[1289, 736, 637, 270, 18]"
      ]
     },
     "execution_count": 11,
     "metadata": {},
     "output_type": "execute_result"
    }
   ],
   "source": []
  },
  {
   "cell_type": "code",
   "execution_count": 13,
   "metadata": {},
   "outputs": [
    {
     "name": "stderr",
     "output_type": "stream",
     "text": [
      "100%|██████████| 5/5 [00:00<00:00,  5.93it/s]\n"
     ]
    },
    {
     "data": {
      "text/plain": [
       "['0.0\\t0.92879818\\tG:maj',\n",
       " '0.92879818\\t3.71519272\\tC:maj',\n",
       " '3.71519272\\t4.876190445\\tG:maj',\n",
       " '4.876190445\\t8.730702892\\tC:min',\n",
       " '8.730702892\\t12.956734611\\tF:maj']"
      ]
     },
     "execution_count": 13,
     "metadata": {},
     "output_type": "execute_result"
    }
   ],
   "source": [
    "import numpy as np\n",
    "import dataloader\n",
    "import lazycats.np as catnp\n",
    "from tqdm import tqdm\n",
    "\n",
    "# dump LAB files\n",
    "def generate_mirex_chords(model, chroma_vectors, step_size, filename):\n",
    "    pred_labels = predict_from_chroma(model, chroma_vectors)\n",
    "\n",
    "    chord_labels = catnp.squash_consecutive_duplicates(pred_labels)\n",
    "    chord_lengths = [0] + list(catnp.contiguous_lengths(pred_labels))\n",
    "    chord_timestamps = np.cumsum(chord_lengths)\n",
    "\n",
    "    chord_labels = [dataloader._MAJMIN_CLASSES[label] for label in chord_labels]\n",
    "    out_labels = [f'{step_size*st}\\t{step_size*ed}\\t{chord_name}'\n",
    "                  for st, ed, chord_name in zip(chord_timestamps[:-1], chord_timestamps[1:], chord_labels)]\n",
    "\n",
    "    assert(filename[-4:] == '.lab')\n",
    "    with open(filename, 'w') as f:\n",
    "        for line in out_labels:\n",
    "            f.write(\"%s\\n\" % line)\n",
    "    \n",
    "    return out_labels\n",
    "\n",
    "for song_id in tqdm(test_ids):\n",
    "    step_size, chroma_vectors = dataloader.get_chroma_matrix(song_id, return_step_size=True)\n",
    "    out_labels = generate_mirex_chords(model, chroma_vectors, step_size,\n",
    "                                       f'data/eval/{song_id:04d}/chordino_pred.lab')\n",
    "out_labels[:5]"
   ]
  },
  {
   "cell_type": "code",
   "execution_count": 8,
   "metadata": {},
   "outputs": [],
   "source": [
    "# dump lab file for ALL chords\n",
    "import dataloader\n",
    "#from importlib import reload\n",
    "#reload(dataloader)\n",
    "dataloader._MAJMIN7_CLASSES.sort()\n",
    "#dataloader._MAJMIN7_CLASSES\n",
    "out_labels = [f'{i*0.5}\\t{(i+1)*0.5}\\t{name}'\n",
    "              for i, name in enumerate(dataloader._MAJMIN7_CLASSES)]\n",
    "\n",
    "with open('data/eval/all_chords.lab', 'w') as f:\n",
    "    for line in out_labels:\n",
    "        f.write(\"%s\\n\" % line)"
   ]
  },
  {
   "cell_type": "markdown",
   "metadata": {},
   "source": [
    "##### Dump LAB file with WAV as input"
   ]
  },
  {
   "cell_type": "code",
   "execution_count": 23,
   "metadata": {},
   "outputs": [],
   "source": [
    "# dump LAB\n",
    "import numpy as np\n",
    "from scipy.signal import resample\n",
    "import librosa\n",
    "import vamp\n",
    "from tqdm import tqdm\n",
    "\n",
    "_SAMPLE_RATE = 44100\n",
    "_STEP_SIZE = 2048/_SAMPLE_RATE\n",
    "\n",
    "def generate_chroma_from_wav(audio_fn, params={'rollon': 1.0}):\n",
    "    \"\"\" Generate chroma from raw audio \"\"\"\n",
    "    \n",
    "    X, fs = librosa.load(audio_fn, sr=None, mono=True)\n",
    "    if fs != _SAMPLE_RATE:\n",
    "        X = resample(X, num=int(len(X)*_SAMPLE_RATE/fs))\n",
    "        \n",
    "    out = vamp.collect(X, _SAMPLE_RATE, 'nnls-chroma:nnls-chroma',\n",
    "                       output='bothchroma', parameters=params)\n",
    "    \n",
    "    chroma = out['matrix'][1]\n",
    "    return chroma\n",
    "\n",
    "for song_id in tqdm(test_ids):\n",
    "    chroma_vectors = generate_chroma_from_wav(f'data/eval/{song_id:04d}/audio.wav')\n",
    "    out_labels = generate_mirex_chords(model, chroma_vectors, _STEP_SIZE, f'data/eval/{song_id:04d}/wav_pred.lab')\n",
    "\n",
    "out_labels[:5]"
   ]
  },
  {
   "cell_type": "markdown",
   "metadata": {},
   "source": [
    "#### Packaging tests"
   ]
  },
  {
   "cell_type": "code",
   "execution_count": 1,
   "metadata": {},
   "outputs": [
    {
     "name": "stdout",
     "output_type": "stream",
     "text": [
      "WARNING: NNLS-Chroma VAMP plugin not setup properly. Try copying ../src/res/nnls-chroma.so in any of following directories: ['/home/cjbayron/vamp', '/home/cjbayron/.vamp', '/usr/local/lib/vamp', '/usr/lib/vamp']\n"
     ]
    },
    {
     "data": {
      "text/plain": [
       "False"
      ]
     },
     "execution_count": 1,
     "metadata": {},
     "output_type": "execute_result"
    }
   ],
   "source": [
    "from shutil import copy\n",
    "import vamp\n",
    "\n",
    "_CHROMA_VAMP_LIB = '../src/res/nnls-chroma.so'\n",
    "_CHROMA_VAMP_KEY = 'nnls-chroma:nnls-chroma'\n",
    "\n",
    "def setup_chroma_vamp():\n",
    "    vamp_paths = vamp.vampyhost.get_plugin_path()\n",
    "    for path in vamp_paths:\n",
    "        try: \n",
    "            if not os.path.exists(os.path.join(path, _CHROMA_VAMP_LIB)):\n",
    "                os.makedirs(path, exist_ok=True)\n",
    "                copy(_CHROMA_VAMP_LIB, path)\n",
    "            vamp.vampyhost.load_plugin(_CHROMA_VAMP_KEY, 44100, vamp.vampyhost.ADAPT_NONE)\n",
    "            print(f'Using NNLS-Chroma VAMP plugin in {path}')\n",
    "        except Exception as e:\n",
    "            continue\n",
    "    \n",
    "    print(f'WARNING: NNLS-Chroma VAMP plugin not setup properly. '\n",
    "          f'Try copying `{_CHROMA_VAMP_LIB}` in any of following directories: {vamp_paths}')\n",
    "\n",
    "setup_chroma_vamp()"
   ]
  },
  {
   "cell_type": "code",
   "execution_count": 3,
   "metadata": {},
   "outputs": [
    {
     "data": {
      "text/plain": [
       "<vampyhost.Plugin at 0x7fcf2a87a0e0>"
      ]
     },
     "execution_count": 3,
     "metadata": {},
     "output_type": "execute_result"
    }
   ],
   "source": [
    "vamp.vampyhost.load_plugin(_CHROMA_VAMP_KEY, 44100, vamp.vampyhost.ADAPT_NONE)"
   ]
  },
  {
   "cell_type": "code",
   "execution_count": 3,
   "metadata": {},
   "outputs": [
    {
     "name": "stdout",
     "output_type": "stream",
     "text": [
      "['/home/cjbayron/vamp', '/home/cjbayron/.vamp', '/usr/local/lib/vamp', '/usr/lib/vamp']\n"
     ]
    }
   ],
   "source": [
    "vamp_paths = vamp.vampyhost.get_plugin_path()\n",
    "print(vamp_paths)"
   ]
  },
  {
   "cell_type": "code",
   "execution_count": 4,
   "metadata": {},
   "outputs": [
    {
     "name": "stdout",
     "output_type": "stream",
     "text": [
      "/home/cjbayron/vamp: []\n",
      "/home/cjbayron/.vamp: ['nnls-chroma.so']\n",
      "/usr/local/lib/vamp: []\n"
     ]
    }
   ],
   "source": [
    "for path in vamp_paths:\n",
    "    if os.path.exists(path):\n",
    "        print(f'{path}: {os.listdir(path)}')"
   ]
  },
  {
   "cell_type": "code",
   "execution_count": null,
   "metadata": {},
   "outputs": [],
   "source": [
    "# import os\n",
    "# _VAMP_PATH = '../src/res'\n",
    "# _CHROMA_VAMP_KEY = 'nnls-chroma:nnls-chroma'\n",
    "\n",
    "# def setup_chroma_vamp():\n",
    "#     os.environ[\"VAMP_PATH\"] = _VAMP_PATH\n",
    "#     try: \n",
    "#         vamp.vampyhost.load_plugin(_CHROMA_VAMP_KEY, 44100, vamp.vampyhost.ADAPT_NONE)\n",
    "#         print(f'Using NNLS-Chroma VAMP plugin in {_VAMP_PATH}')\n",
    "#         return True\n",
    "#     except Exception as e:\n",
    "#         print('WARNING: NNLS-Chroma VAMP plugin not setup properly')\n",
    "\n",
    "# setup_chroma_vamp()"
   ]
  },
  {
   "cell_type": "code",
   "execution_count": null,
   "metadata": {},
   "outputs": [],
   "source": []
  },
  {
   "cell_type": "code",
   "execution_count": 21,
   "metadata": {},
   "outputs": [
    {
     "name": "stderr",
     "output_type": "stream",
     "text": [
      "Downloading...\n",
      "From: https://drive.google.com/uc?id=1XBn7FyYjF8Ff6EuC7PjwwPzFBLRXGP7n\n",
      "To: /home/cjbayron/.autochord/model.zip\n",
      "2.26MB [00:00, 7.55MB/s]\n"
     ]
    },
    {
     "name": "stdout",
     "output_type": "stream",
     "text": [
      "Chord model downloaded in /home/cjbayron/.autochord/chroma-seq-bilstm-crf-v1/\n",
      "Loaded model from /home/cjbayron/.autochord/chroma-seq-bilstm-crf-v1/\n"
     ]
    }
   ],
   "source": [
    "import os\n",
    "import gdown\n",
    "from tensorflow import keras\n",
    "\n",
    "_CHORD_MODEL_URL = 'https://drive.google.com/uc?id=1XBn7FyYjF8Ff6EuC7PjwwPzFBLRXGP7n'\n",
    "_EXT_RES_DIR = os.path.join(os.path.expanduser('~'), '.autochord')\n",
    "_CHORD_MODEL_DIR = os.path.join(_EXT_RES_DIR, 'chroma-seq-bilstm-crf-v1')\n",
    "_CHORD_MODEL = None\n",
    "\n",
    "def download_model():\n",
    "    os.makedirs(_EXT_RES_DIR, exist_ok=True)\n",
    "    model_zip = os.path.join(_EXT_RES_DIR, 'model.zip')\n",
    "    gdown.download(_CHORD_MODEL_URL, model_zip, quiet=False)\n",
    "\n",
    "    model_files = gdown.extractall(model_zip)\n",
    "    model_files.sort()\n",
    "    os.remove(model_zip)\n",
    "    print(f'Chord model downloaded in {model_files[0]}')\n",
    "    \n",
    "    return model_files[0]\n",
    "\n",
    "try:\n",
    "    if not os.path.exists(_CHORD_MODEL_DIR):\n",
    "        _CHORD_MODEL_DIR = download_model()\n",
    "\n",
    "    _CHORD_MODEL = keras.models.load_model(_CHORD_MODEL_DIR)\n",
    "    print(f'Loaded model from {_CHORD_MODEL_DIR}')\n",
    "except Exception as e:\n",
    "    raise Exception(f'Error in loading model: {e}')"
   ]
  },
  {
   "cell_type": "code",
   "execution_count": 7,
   "metadata": {},
   "outputs": [],
   "source": [
    "# from google_drive_downloader import GoogleDriveDownloader as gdd\n",
    "\n",
    "# gdd.download_file_from_google_drive(file_id='1XBn7FyYjF8Ff6EuC7PjwwPzFBLRXGP7n',\n",
    "#                                     dest_path='./test.zip',\n",
    "#                                     unzip=True)"
   ]
  },
  {
   "cell_type": "markdown",
   "metadata": {},
   "source": [
    "#### MIREX eval"
   ]
  },
  {
   "cell_type": "code",
   "execution_count": 15,
   "metadata": {},
   "outputs": [
    {
     "data": {
      "text/plain": [
       "100"
      ]
     },
     "execution_count": 15,
     "metadata": {},
     "output_type": "execute_result"
    }
   ],
   "source": [
    "len(val_idxs)"
   ]
  },
  {
   "cell_type": "code",
   "execution_count": 17,
   "metadata": {},
   "outputs": [
    {
     "name": "stdout",
     "output_type": "stream",
     "text": [
      "Help on function makedirs in module os:\n",
      "\n",
      "makedirs(name, mode=511, exist_ok=False)\n",
      "    makedirs(name [, mode=0o777][, exist_ok=False])\n",
      "    \n",
      "    Super-mkdir; create a leaf directory and all intermediate ones.  Works like\n",
      "    mkdir, except that any intermediate path segment (not just the rightmost)\n",
      "    will be created if it does not exist. If the target directory already\n",
      "    exists, raise an OSError if exist_ok is False. Otherwise no exception is\n",
      "    raised.  This is recursive.\n",
      "\n"
     ]
    }
   ],
   "source": [
    "help(os.makedirs)"
   ]
  },
  {
   "cell_type": "code",
   "execution_count": 49,
   "metadata": {},
   "outputs": [
    {
     "name": "stderr",
     "output_type": "stream",
     "text": [
      "100%|██████████| 5/5 [00:00<00:00,  6.58it/s]\n"
     ]
    }
   ],
   "source": [
    "# generate labels and dump\n",
    "from tqdm import tqdm\n",
    "for song_id in tqdm(val_idxs):\n",
    "    step_size, chroma_vectors = dataloader.get_chroma_matrix(song_id, return_step_size=True)\n",
    "    lab_fn = f'data/eval/{song_id:04d}/majmin_pred.lab'\n",
    "    os.makedirs(os.path.dirname(lab_fn), exist_ok=True)\n",
    "    out_labels = generate_mirex_chords(model, chroma_vectors, step_size, lab_fn)\n",
    "    #break"
   ]
  },
  {
   "cell_type": "code",
   "execution_count": 50,
   "metadata": {},
   "outputs": [
    {
     "name": "stderr",
     "output_type": "stream",
     "text": [
      "100it [00:00, 170.49it/s]"
     ]
    },
    {
     "name": "stdout",
     "output_type": "stream",
     "text": [
      "0.7477238911820636 0.706245610553597\n"
     ]
    },
    {
     "name": "stderr",
     "output_type": "stream",
     "text": [
      "\n"
     ]
    }
   ],
   "source": [
    "import mir_eval\n",
    "import numpy as np\n",
    "\n",
    "def get_song_accuracy(_id):\n",
    "    ref_lab = f'data/McGill-Billboard/{_id:04d}/majmin.lab'\n",
    "    est_lab = f'data/eval/{_id:04d}/majmin_pred.lab'\n",
    "    \n",
    "    ref_intervals, ref_labels = mir_eval.io.load_labeled_intervals(ref_lab, comment='\\n')\n",
    "    est_intervals, est_labels = mir_eval.io.load_labeled_intervals(est_lab, comment='\\n')\n",
    "    est_intervals, est_labels = mir_eval.util.adjust_intervals(\n",
    "        est_intervals, est_labels, ref_intervals.min(),\n",
    "        ref_intervals.max(), mir_eval.chord.NO_CHORD,\n",
    "        mir_eval.chord.NO_CHORD)\n",
    "    intervals, ref_labels, est_labels = mir_eval.util.merge_labeled_intervals(\n",
    "        ref_intervals, ref_labels, est_intervals, est_labels)\n",
    "    durations = mir_eval.util.intervals_to_durations(intervals)\n",
    "    \n",
    "    root_comparisons = mir_eval.chord.root(ref_labels, est_labels)\n",
    "    root_score = mir_eval.chord.weighted_accuracy(root_comparisons, durations)\n",
    "    \n",
    "    majmin_comparisons = mir_eval.chord.majmin(ref_labels, est_labels)\n",
    "    majmin_score = mir_eval.chord.weighted_accuracy(majmin_comparisons, durations)\n",
    "    \n",
    "    return root_score, majmin_score\n",
    "\n",
    "root_scores, majmin_scores = [], []\n",
    "for i, _id in tqdm(enumerate(val_idxs)):\n",
    "    #print(get_song_accuracy(_id))\n",
    "    #if i == 10:\n",
    "    #    break\n",
    "    root_score, majmin_score = get_song_accuracy(_id)\n",
    "    root_scores.append(root_score)\n",
    "    majmin_scores.append(majmin_score)\n",
    "    \n",
    "print(np.mean(root_scores), np.mean(majmin_scores))"
   ]
  },
  {
   "cell_type": "markdown",
   "metadata": {},
   "source": [
    "#### Full recognition time"
   ]
  },
  {
   "cell_type": "code",
   "execution_count": 20,
   "metadata": {},
   "outputs": [
    {
     "name": "stderr",
     "output_type": "stream",
     "text": [
      "100%|██████████| 5/5 [00:43<00:00,  8.67s/it]\n"
     ]
    }
   ],
   "source": [
    "import autochord\n",
    "import librosa\n",
    "from tqdm import tqdm\n",
    "import time\n",
    "\n",
    "durs = []\n",
    "inf_durs = []\n",
    "for _id in tqdm(test_ids):\n",
    "    audio_fn = f'data/audio/{_id:04d}/audio.wav'\n",
    "    durs.append(librosa.get_duration(filename=audio_fn))\n",
    "    \n",
    "    st = time.time()\n",
    "    autochord.recognize(audio_fn)\n",
    "    ed = time.time()\n",
    "    \n",
    "    inf_durs.append(ed-st)"
   ]
  },
  {
   "cell_type": "code",
   "execution_count": 21,
   "metadata": {},
   "outputs": [
    {
     "name": "stdout",
     "output_type": "stream",
     "text": [
      "0.030599389579666184\n",
      "0.03181957054019855\n",
      "0.02938385362660789\n",
      "0.029459688288922297\n",
      "0.030897207307190783\n",
      "Avg. Inf: 0.030431941868517144 inf-s/audio-s, for a 4-min. song: 7.303666048444114 s\n"
     ]
    }
   ],
   "source": [
    "rates = []\n",
    "for dur, inf_dur in zip(durs, inf_durs):\n",
    "    inf_rate = inf_dur/dur\n",
    "    \n",
    "    print(inf_rate)\n",
    "    rates.append(inf_rate)\n",
    "    \n",
    "avg_inf_rate = sum(rates)/len(rates)\n",
    "print(f'Avg. Inf: {avg_inf_rate} inf-s/audio-s, for a 4-min. song: {avg_inf_rate*4*60} s')"
   ]
  },
  {
   "cell_type": "code",
   "execution_count": 19,
   "metadata": {},
   "outputs": [
    {
     "name": "stderr",
     "output_type": "stream",
     "text": [
      "5it [00:40,  8.17s/it]"
     ]
    },
    {
     "name": "stdout",
     "output_type": "stream",
     "text": [
      "Avg. Feat. extraction (4-min):  6.732581949222247\n",
      "Avg. Pred. (4-min):  0.1058613091303086\n"
     ]
    },
    {
     "name": "stderr",
     "output_type": "stream",
     "text": [
      "\n"
     ]
    }
   ],
   "source": [
    "feat_dur = []\n",
    "pred_dur = []\n",
    "for _id, dur in tqdm(zip(test_ids, durs)):\n",
    "    audio_fn = f'data/audio/{_id:04d}/audio.wav'\n",
    "    \n",
    "    st = time.time()\n",
    "    chroma_vectors = autochord.generate_chroma(audio_fn)\n",
    "    ed = time.time()\n",
    "    feat_dur.append((ed-st)/dur)\n",
    "    \n",
    "    st = time.time()\n",
    "    pred_labels = autochord.predict_chord_labels(chroma_vectors)\n",
    "    ed = time.time()\n",
    "    pred_dur.append((ed-st)/dur)\n",
    "    \n",
    "print('Avg. Feat. extraction (4-min): ', (sum(feat_dur)/len(feat_dur))*4*60 )\n",
    "print('Avg. Pred. (4-min): ', (sum(pred_dur)/len(pred_dur))*4*60 )"
   ]
  },
  {
   "cell_type": "code",
   "execution_count": null,
   "metadata": {},
   "outputs": [],
   "source": []
  },
  {
   "cell_type": "code",
   "execution_count": null,
   "metadata": {},
   "outputs": [],
   "source": []
  }
 ],
 "metadata": {
  "kernelspec": {
   "display_name": "Python 3",
   "language": "python",
   "name": "python3"
  },
  "language_info": {
   "codemirror_mode": {
    "name": "ipython",
    "version": 3
   },
   "file_extension": ".py",
   "mimetype": "text/x-python",
   "name": "python",
   "nbconvert_exporter": "python",
   "pygments_lexer": "ipython3",
   "version": "3.6.6"
  }
 },
 "nbformat": 4,
 "nbformat_minor": 2
}
