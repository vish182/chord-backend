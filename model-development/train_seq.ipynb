{
 "cells": [
  {
   "cell_type": "markdown",
   "metadata": {},
   "source": [
    "#### Colab prep"
   ]
  },
  {
   "cell_type": "code",
   "execution_count": null,
   "metadata": {},
   "outputs": [],
   "source": [
    "!pip install tensorflow-addons\n",
    "!pip install mir_eval\n",
    "!pip install hyperopt\n",
    "!pip install guildai # restart after install"
   ]
  },
  {
   "cell_type": "code",
   "execution_count": null,
   "metadata": {},
   "outputs": [],
   "source": [
    "# colab prep\n",
    "from google.colab import drive\n",
    "drive.mount('/content/drive')"
   ]
  },
  {
   "cell_type": "code",
   "execution_count": null,
   "metadata": {},
   "outputs": [],
   "source": [
    "!cp /content/drive/MyDrive/colab-handover/autochord/chordseq/* ./\n",
    "!cp /content/drive/MyDrive/colab-handover/autochord/*.py ./\n",
    "!cp /content/drive/MyDrive/colab-handover/autochord/*.csv ./\n",
    "!ls"
   ]
  },
  {
   "cell_type": "markdown",
   "metadata": {},
   "source": [
    "<hr style=\"border:1px solid gray\">"
   ]
  },
  {
   "cell_type": "code",
   "execution_count": 1,
   "metadata": {},
   "outputs": [
    {
     "data": {
      "text/plain": [
       "719"
      ]
     },
     "execution_count": 1,
     "metadata": {},
     "output_type": "execute_result"
    }
   ],
   "source": [
    "import pandas as pd\n",
    "base_dir = 'data/McGill-Billboard'\n",
    "data_index = 'billboard-2.0-manychords.csv'\n",
    "\n",
    "df_songs = pd.read_csv(f'{base_dir}/{data_index}')\n",
    "#df_songs = pd.read_csv(f'{data_index}') # colab\n",
    "df_songs.set_index('id', inplace=True)\n",
    "len(df_songs)"
   ]
  },
  {
   "cell_type": "code",
   "execution_count": 2,
   "metadata": {},
   "outputs": [
    {
     "data": {
      "text/html": [
       "<div>\n",
       "<style scoped>\n",
       "    .dataframe tbody tr th:only-of-type {\n",
       "        vertical-align: middle;\n",
       "    }\n",
       "\n",
       "    .dataframe tbody tr th {\n",
       "        vertical-align: top;\n",
       "    }\n",
       "\n",
       "    .dataframe thead th {\n",
       "        text-align: right;\n",
       "    }\n",
       "</style>\n",
       "<table border=\"1\" class=\"dataframe\">\n",
       "  <thead>\n",
       "    <tr style=\"text-align: right;\">\n",
       "      <th></th>\n",
       "      <th>title</th>\n",
       "      <th>artist</th>\n",
       "      <th>no_chord_percent</th>\n",
       "    </tr>\n",
       "    <tr>\n",
       "      <th>id</th>\n",
       "      <th></th>\n",
       "      <th></th>\n",
       "      <th></th>\n",
       "    </tr>\n",
       "  </thead>\n",
       "  <tbody>\n",
       "    <tr>\n",
       "      <th>3</th>\n",
       "      <td>I Don't Mind</td>\n",
       "      <td>James Brown</td>\n",
       "      <td>0.049747</td>\n",
       "    </tr>\n",
       "    <tr>\n",
       "      <th>4</th>\n",
       "      <td>You've Got A Friend</td>\n",
       "      <td>Roberta Flack,Donny Hathaway</td>\n",
       "      <td>0.050770</td>\n",
       "    </tr>\n",
       "    <tr>\n",
       "      <th>6</th>\n",
       "      <td>The Rose</td>\n",
       "      <td>Bette Midler</td>\n",
       "      <td>0.117244</td>\n",
       "    </tr>\n",
       "  </tbody>\n",
       "</table>\n",
       "</div>"
      ],
      "text/plain": [
       "                  title                        artist  no_chord_percent\n",
       "id                                                                     \n",
       "3          I Don't Mind                   James Brown          0.049747\n",
       "4   You've Got A Friend  Roberta Flack,Donny Hathaway          0.050770\n",
       "6              The Rose                  Bette Midler          0.117244"
      ]
     },
     "execution_count": 2,
     "metadata": {},
     "output_type": "execute_result"
    }
   ],
   "source": [
    "df_songs.head(n=3)"
   ]
  },
  {
   "cell_type": "code",
   "execution_count": 3,
   "metadata": {},
   "outputs": [
    {
     "data": {
      "text/plain": [
       "714"
      ]
     },
     "execution_count": 3,
     "metadata": {},
     "output_type": "execute_result"
    }
   ],
   "source": [
    "test_ids = [1289, 736, 637, 270, 18] # songs to exclude for testing\n",
    "df_dataset = df_songs.drop(index=test_ids)\n",
    "len(df_dataset)"
   ]
  },
  {
   "cell_type": "markdown",
   "metadata": {},
   "source": [
    "#### Splitting"
   ]
  },
  {
   "cell_type": "code",
   "execution_count": 5,
   "metadata": {},
   "outputs": [
    {
     "data": {
      "text/plain": [
       "array([1167,    6,  986,  227,  743,  568,  107,  181,   27,  793])"
      ]
     },
     "execution_count": 5,
     "metadata": {},
     "output_type": "execute_result"
    }
   ],
   "source": [
    "import numpy as np\n",
    "_SEED = 0\n",
    "\n",
    "df_idxs = np.array(df_dataset.index.values)\n",
    "rng = np.random.default_rng(_SEED)\n",
    "rng.shuffle(df_idxs)\n",
    "\n",
    "df_idxs[:10]"
   ]
  },
  {
   "cell_type": "code",
   "execution_count": 6,
   "metadata": {},
   "outputs": [
    {
     "name": "stdout",
     "output_type": "stream",
     "text": [
      "Loaded sequence data.\n"
     ]
    }
   ],
   "source": [
    "from dataloader import ChromaSequenceDataset\n",
    "# import dataloader\n",
    "# from importlib import reload\n",
    "# reload(dataloader)\n",
    "\n",
    "_LABEL_TYPE = 'majmin'\n",
    "_SEQ_LEN = 128\n",
    "\n",
    "pre_computed_seq = f'data/chordseq/{_LABEL_TYPE}_{_SEQ_LEN}.pkl'\n",
    "#pre_computed_seq = f'{_LABEL_TYPE}_{_SEQ_LEN}.pkl' # colab\n",
    "ds = ChromaSequenceDataset(pre_computed_sequence=pre_computed_seq)"
   ]
  },
  {
   "cell_type": "code",
   "execution_count": 7,
   "metadata": {
    "scrolled": true
   },
   "outputs": [
    {
     "name": "stdout",
     "output_type": "stream",
     "text": [
      "((21936, 128, 24), (21936, 128)) ((3470, 128, 24), (3470, 128))\n",
      "((21952, 128, 24), (21952, 128)) ((3454, 128, 24), (3454, 128))\n",
      "((21892, 128, 24), (21892, 128)) ((3514, 128, 24), (3514, 128))\n",
      "((21911, 128, 24), (21911, 128)) ((3495, 128, 24), (3495, 128))\n",
      "((21588, 128, 24), (21588, 128)) ((3818, 128, 24), (3818, 128))\n"
     ]
    }
   ],
   "source": [
    "for train_split, val_split in ds.get_next_cv_split(df_idxs):\n",
    "    print(train_split.shape, val_split.shape)"
   ]
  },
  {
   "cell_type": "markdown",
   "metadata": {},
   "source": [
    "### Training loop"
   ]
  },
  {
   "cell_type": "code",
   "execution_count": 4,
   "metadata": {},
   "outputs": [
    {
     "name": "stderr",
     "output_type": "stream",
     "text": [
      "/home/cjbayron/virtualenvs/pytorch/lib/python3.6/site-packages/tensorflow_addons/utils/ensure_tf_install.py:67: UserWarning: Tensorflow Addons supports using Python ops for all Tensorflow versions above or equal to 2.3.0 and strictly below 2.6.0 (nightly versions are not supported). \n",
      " The versions of TensorFlow you are currently using is 2.6.0 and is not supported. \n",
      "Some things might work, some things might not.\n",
      "If you were to encounter a bug, do not file an issue.\n",
      "If you want to make sure you're using a tested and supported configuration, either change the TensorFlow version or the TensorFlow Addons's version. \n",
      "You can find the compatibility matrix in TensorFlow Addon's readme:\n",
      "https://github.com/tensorflow/addons\n",
      "  UserWarning,\n"
     ]
    }
   ],
   "source": [
    "import os\n",
    "os.environ[\"CUDA_VISIBLE_DEVICES\"] = \"\"\n",
    "\n",
    "import numpy as np\n",
    "import matplotlib.pyplot as plt\n",
    "%matplotlib inline\n",
    "from sklearn.metrics import accuracy_score, f1_score, recall_score\n",
    "import tensorflow as tf\n",
    "from tensorflow.keras import layers\n",
    "import tensorflow_addons as tfa\n",
    "\n",
    "def K_plot_loss(history):\n",
    "    plt.plot(history.history['crf_loss'])\n",
    "    plt.plot(history.history['val_crf_loss'])\n",
    "    plt.title('model loss')\n",
    "    plt.ylabel('loss')\n",
    "    plt.xlabel('epoch')\n",
    "    plt.legend(['train', 'val'], loc='upper left')\n",
    "    plt.show()"
   ]
  },
  {
   "cell_type": "code",
   "execution_count": null,
   "metadata": {},
   "outputs": [],
   "source": [
    "# optional class weights function\n",
    "from sklearn.utils import class_weight\n",
    "\n",
    "def get_chord_class_weights(labels, minimize_no_chord=True):\n",
    "    # make sure the labels are flattened\n",
    "    class_weights = class_weight.compute_class_weight('balanced', np.unique(labels), labels)\n",
    "    if minimize_no_chord: # modify weight for no-chord\n",
    "        class_weights[0] = min(class_weights[1:]) / 10.0 # set to 10% of least weight\n",
    "    \n",
    "    return dict(enumerate(class_weights))\n",
    "\n",
    "get_chord_class_weights(train_split.labels.flatten())"
   ]
  },
  {
   "cell_type": "code",
   "execution_count": 5,
   "metadata": {},
   "outputs": [
    {
     "name": "stderr",
     "output_type": "stream",
     "text": [
      "/home/cjbayron/virtualenvs/pytorch/lib/python3.6/site-packages/tensorflow/python/autograph/impl/api.py:376: UserWarning: CRF decoding models have serialization issues in TF >=2.5 . Please see isse #2476\n",
      "  return py_builtins.overload_of(f)(*args)\n"
     ]
    }
   ],
   "source": [
    "from dataloader import _CHROMA_FEAT_NAMES, _MAJMIN_CLASSES\n",
    "# import model\n",
    "# from importlib import reload\n",
    "# reload(model)\n",
    "from model import ModelWithCRFLoss\n",
    "from tensorflow.keras.models import Model\n",
    "\n",
    "_SEQ_LEN = 128\n",
    "\n",
    "def init_bilstm_crf_model(base_linear_units=128, dropout=0.1, opt='adam', lr=1e-3):\n",
    "    input_ph = tf.keras.Input(shape=(_SEQ_LEN, len(_CHROMA_FEAT_NAMES),))\n",
    "    lstm_out = layers.Bidirectional(\n",
    "        layers.LSTM(units=base_linear_units, dropout=dropout,\n",
    "                    return_sequences=True, stateful=False),\n",
    "        merge_mode='concat')(input_ph)\n",
    "    crf_out = tfa.layers.CRF(units=len(_MAJMIN_CLASSES))(lstm_out)\n",
    "    model = Model(input_ph, crf_out)\n",
    "    model = ModelWithCRFLoss(model, dtype='float64')\n",
    "    \n",
    "    opt = tf.keras.optimizers.Adam(learning_rate=lr)\n",
    "    model.compile(optimizer=opt, metrics=['accuracy'])\n",
    "    \n",
    "    return model\n",
    "\n",
    "model = init_bilstm_crf_model()"
   ]
  },
  {
   "cell_type": "code",
   "execution_count": 6,
   "metadata": {},
   "outputs": [
    {
     "name": "stdout",
     "output_type": "stream",
     "text": [
      "Model: \"model\"\n",
      "_________________________________________________________________\n",
      "Layer (type)                 Output Shape              Param #   \n",
      "=================================================================\n",
      "input_1 (InputLayer)         [(None, 128, 24)]         0         \n",
      "_________________________________________________________________\n",
      "bidirectional (Bidirectional (None, 128, 256)          156672    \n",
      "_________________________________________________________________\n",
      "crf (CRF)                    [(None, 128), (None, 128, 7100      \n",
      "=================================================================\n",
      "Total params: 163,772\n",
      "Trainable params: 163,772\n",
      "Non-trainable params: 0\n",
      "_________________________________________________________________\n"
     ]
    },
    {
     "data": {
      "text/plain": [
       "[(None, 128), (None, 128, 25), (None,), (25, 25)]"
      ]
     },
     "execution_count": 6,
     "metadata": {},
     "output_type": "execute_result"
    }
   ],
   "source": [
    "model.base_model.summary()\n",
    "model.base_model.output_shape"
   ]
  },
  {
   "cell_type": "code",
   "execution_count": 29,
   "metadata": {},
   "outputs": [
    {
     "data": {
      "text/plain": [
       "[(None, 128), (None, 128, 25), (None,), (25, 25)]"
      ]
     },
     "execution_count": 29,
     "metadata": {},
     "output_type": "execute_result"
    }
   ],
   "source": [
    "model.base_model.layers[2].output_shape"
   ]
  },
  {
   "cell_type": "code",
   "execution_count": 10,
   "metadata": {},
   "outputs": [],
   "source": [
    "_SEED = 0\n",
    "_EPOCHS = 2 #10\n",
    "_BATCH_SIZE = 2 #512\n",
    "_CKPT_PATH = 'models/chroma-seq-bilstm-crf-{cv}'\n",
    "\n",
    "def sample_train_loop(ds, ref_idxs):\n",
    "    # cross validation loop\n",
    "    tf.random.set_seed(_SEED)\n",
    "    for cv_ix, (train, val) in enumerate(ds.get_next_cv_split(ref_idxs)):\n",
    "        print(f'----------- CV{cv_ix+1} -----------')\n",
    "        train_dataset = tf.data.Dataset.from_tensor_slices((train.feats, train.labels)) \\\n",
    "                                       .take(100) \\\n",
    "                                       .shuffle(buffer_size=len(train), seed=_SEED, reshuffle_each_iteration=True) \\\n",
    "                                       .batch(_BATCH_SIZE)\n",
    "        val_dataset = tf.data.Dataset.from_tensor_slices((val.feats, val.labels)) \\\n",
    "                                     .take(100) \\\n",
    "                                     .shuffle(buffer_size=len(val), seed=_SEED, reshuffle_each_iteration=True) \\\n",
    "                                     .batch(_BATCH_SIZE)\n",
    "\n",
    "        print(f'Num train: {len(train)}, Num val: {len(val)}')\n",
    "        assert(train.feats.shape[1:] == val.feats.shape[1:])\n",
    "        print(f'Input features: {train.feats.shape[1:]}, Num classes: {len(_MAJMIN_CLASSES)}')\n",
    "\n",
    "        model = init_bilstm_crf_model()\n",
    "        history = model.fit(train_dataset, validation_data=val_dataset, epochs=_EPOCHS)\n",
    "        # !!! class_weights NOT WORKING for some reason\n",
    "        # class_weights = get_chord_class_weights(train.labels.flatten())\n",
    "        # history = model.fit(train_dataset, validation_data=val_dataset, epochs=_EPOCHS,\n",
    "                            class_weight=class_weights)\n",
    "\n",
    "        # get acc\n",
    "        preds, _, _, _ = model.predict(val.feats, batch_size=_BATCH_SIZE)\n",
    "        true = val.labels.flatten()\n",
    "        preds = preds.flatten()\n",
    "        acc = accuracy_score(true, preds)\n",
    "        non_zero_acc = recall_score(true[true != 0], preds[true != 0], average='micro')\n",
    "        print(f'Acc: {acc}, Non-zero: {non_zero_acc}')\n",
    "        \n",
    "        K_plot_loss(history)\n",
    "        #model.save(_CKPT_PATH.format(cv=cv_ix))\n",
    "        break\n",
    "\n",
    "sample_train_loop(ds, df_idxs)"
   ]
  },
  {
   "cell_type": "markdown",
   "metadata": {},
   "source": [
    "#### Inference speed check"
   ]
  },
  {
   "cell_type": "code",
   "execution_count": 15,
   "metadata": {},
   "outputs": [
    {
     "name": "stderr",
     "output_type": "stream",
     "text": [
      "100%|██████████| 5/5 [00:01<00:00,  3.11it/s]"
     ]
    },
    {
     "name": "stdout",
     "output_type": "stream",
     "text": [
      "[0.8955433368682861, 0.2515449523925781, 0.11009716987609863, 0.0739896297454834, 0.11784219741821289]\n",
      "0.28980345726013185\n"
     ]
    },
    {
     "name": "stderr",
     "output_type": "stream",
     "text": [
      "\n"
     ]
    }
   ],
   "source": [
    "import dataloader\n",
    "import lazycats.np as catnp\n",
    "import time\n",
    "import numpy as np\n",
    "from tqdm import tqdm\n",
    "\n",
    "_LABEL_TYPE = 'majmin'\n",
    "_CHROMA_NUM_FEATS = 24\n",
    "\n",
    "inf_model = init_bilstm_crf_model(base_linear_units=128)\n",
    "inf_times = []\n",
    "\n",
    "for _id in tqdm(test_ids):\n",
    "#for _id in test_ids:\n",
    "    chroma_vectors, chord_labels = dataloader.get_chord_features_and_labels(_id, label_type=_LABEL_TYPE)\n",
    "    assert(chroma_vectors.shape[-1] == _CHROMA_NUM_FEATS)\n",
    "    chordseq_vectors = catnp.divide_to_subsequences(chroma_vectors, sub_len=_SEQ_LEN)\n",
    "    \n",
    "    #print(chordseq_vectors.shape)\n",
    "    st = time.time()\n",
    "    pred_labels, _, _, _ = inf_model.predict(chordseq_vectors, batch_size=32)\n",
    "    inf_times.append(time.time() - st)\n",
    "    #print(pred_labels.shape)\n",
    "    \n",
    "print(inf_times)\n",
    "print(np.mean(inf_times))"
   ]
  },
  {
   "cell_type": "markdown",
   "metadata": {},
   "source": [
    "| LSTM size | Avg. Inference Time (full song) | Max |\n",
    "|--|--|--|\n",
    "| 32 | 0.23s | 0.86s |\n",
    "| 128 | 0.29s | 0.90s |\n",
    "| 256 | 0.43s | 0.96s |\n",
    "| 512 | 0.95s | 1.73s |\n",
    "| 1024 | 1.86 | 3.71s |\n",
    "| 2048 | 6.04s | 12.85s |\n",
    "\n",
    "* results are regardless of input lengths, since no. of params stay the same"
   ]
  },
  {
   "cell_type": "markdown",
   "metadata": {},
   "source": [
    "#### Model saving"
   ]
  },
  {
   "cell_type": "code",
   "execution_count": 13,
   "metadata": {},
   "outputs": [
    {
     "name": "stderr",
     "output_type": "stream",
     "text": [
      "/home/cjbayron/virtualenvs/pytorch/lib/python3.6/site-packages/tensorflow_addons/text/crf.py:546: UserWarning: CRF decoding models have serialization issues in TF >=2.5 . Please see isse #2476\n",
      "  \"CRF decoding models have serialization issues in TF >=2.5 . Please see isse #2476\"\n",
      "/home/cjbayron/virtualenvs/pytorch/lib/python3.6/site-packages/tensorflow/python/autograph/impl/api.py:376: UserWarning: CRF decoding models have serialization issues in TF >=2.5 . Please see isse #2476\n",
      "  return py_builtins.overload_of(f)(*args)\n",
      "/home/cjbayron/virtualenvs/pytorch/lib/python3.6/site-packages/tensorflow/python/autograph/impl/api.py:376: UserWarning: CRF decoding models have serialization issues in TF >=2.5 . Please see isse #2476\n",
      "  return py_builtins.overload_of(f)(*args)\n",
      "/home/cjbayron/virtualenvs/pytorch/lib/python3.6/site-packages/tensorflow_addons/text/crf.py:546: UserWarning: CRF decoding models have serialization issues in TF >=2.5 . Please see isse #2476\n",
      "  \"CRF decoding models have serialization issues in TF >=2.5 . Please see isse #2476\"\n",
      "WARNING:absl:Found untraced functions such as dense_6_layer_call_and_return_conditional_losses, dense_6_layer_call_fn, lstm_cell_19_layer_call_and_return_conditional_losses, lstm_cell_19_layer_call_fn, lstm_cell_20_layer_call_and_return_conditional_losses while saving (showing 5 of 15). These functions will not be directly callable after loading.\n"
     ]
    },
    {
     "name": "stdout",
     "output_type": "stream",
     "text": [
      "INFO:tensorflow:Assets written to: models/chroma-seq-bilstm-crf-test/assets\n"
     ]
    },
    {
     "name": "stderr",
     "output_type": "stream",
     "text": [
      "INFO:tensorflow:Assets written to: models/chroma-seq-bilstm-crf-test/assets\n"
     ]
    }
   ],
   "source": [
    "_CKPT_PATH = 'models/chroma-seq-bilstm-crf-test'\n",
    "save_model = init_bilstm_crf_model(base_linear_units=512)\n",
    "save_preds, _, _, _ = save_model.predict(chordseq_vectors, batch_size=32) # to get shape for serialization\n",
    "save_model.save(_CKPT_PATH)"
   ]
  },
  {
   "cell_type": "code",
   "execution_count": 14,
   "metadata": {},
   "outputs": [
    {
     "name": "stdout",
     "output_type": "stream",
     "text": [
      "assets\tkeras_metadata.pb  saved_model.pb  variables\r\n"
     ]
    }
   ],
   "source": [
    "!ls {_CKPT_PATH}"
   ]
  },
  {
   "cell_type": "code",
   "execution_count": 15,
   "metadata": {},
   "outputs": [
    {
     "name": "stdout",
     "output_type": "stream",
     "text": [
      "Model: \"model_with_crf_loss_6\"\n",
      "_________________________________________________________________\n",
      "Layer (type)                 Output Shape              Param #   \n",
      "=================================================================\n",
      "model_6 (Functional)         [(None, 128), (None, 128, 2225852   \n",
      "=================================================================\n",
      "Total params: 2,225,852\n",
      "Trainable params: 2,225,852\n",
      "Non-trainable params: 0\n",
      "_________________________________________________________________\n"
     ]
    }
   ],
   "source": [
    "save_model.summary()"
   ]
  },
  {
   "cell_type": "code",
   "execution_count": null,
   "metadata": {},
   "outputs": [],
   "source": [
    "from tensorflow import keras\n",
    "load_model = keras.models.load_model('models/chroma-seq-bilstm-crf-test')"
   ]
  },
  {
   "cell_type": "code",
   "execution_count": 17,
   "metadata": {},
   "outputs": [
    {
     "name": "stdout",
     "output_type": "stream",
     "text": [
      "Model: \"model_with_crf_loss_6\"\n",
      "_________________________________________________________________\n",
      "Layer (type)                 Output Shape              Param #   \n",
      "=================================================================\n",
      "model_6 (Functional)         [(None, 128), (None, 128, 2225852   \n",
      "=================================================================\n",
      "Total params: 2,225,852\n",
      "Trainable params: 2,225,852\n",
      "Non-trainable params: 0\n",
      "_________________________________________________________________\n"
     ]
    }
   ],
   "source": [
    "load_model.summary()"
   ]
  },
  {
   "cell_type": "code",
   "execution_count": 46,
   "metadata": {},
   "outputs": [
    {
     "name": "stdout",
     "output_type": "stream",
     "text": [
      "WARNING:tensorflow:5 out of the last 16 calls to <function Model.make_predict_function.<locals>.predict_function at 0x7fae31cedea0> triggered tf.function retracing. Tracing is expensive and the excessive number of tracings could be due to (1) creating @tf.function repeatedly in a loop, (2) passing tensors with different shapes, (3) passing Python objects instead of tensors. For (1), please define your @tf.function outside of the loop. For (2), @tf.function has experimental_relax_shapes=True option that relaxes argument shapes that can avoid unnecessary retracing. For (3), please refer to https://www.tensorflow.org/guide/function#controlling_retracing and https://www.tensorflow.org/api_docs/python/tf/function for  more details.\n"
     ]
    },
    {
     "name": "stderr",
     "output_type": "stream",
     "text": [
      "WARNING:tensorflow:5 out of the last 16 calls to <function Model.make_predict_function.<locals>.predict_function at 0x7fae31cedea0> triggered tf.function retracing. Tracing is expensive and the excessive number of tracings could be due to (1) creating @tf.function repeatedly in a loop, (2) passing tensors with different shapes, (3) passing Python objects instead of tensors. For (1), please define your @tf.function outside of the loop. For (2), @tf.function has experimental_relax_shapes=True option that relaxes argument shapes that can avoid unnecessary retracing. For (3), please refer to https://www.tensorflow.org/guide/function#controlling_retracing and https://www.tensorflow.org/api_docs/python/tf/function for  more details.\n"
     ]
    }
   ],
   "source": [
    "load_preds, _, _, _ = load_model.predict(chordseq_vectors, batch_size=32)"
   ]
  },
  {
   "cell_type": "code",
   "execution_count": 47,
   "metadata": {},
   "outputs": [],
   "source": [
    "assert(np.all(save_preds == load_preds))"
   ]
  },
  {
   "cell_type": "code",
   "execution_count": null,
   "metadata": {},
   "outputs": [],
   "source": []
  },
  {
   "cell_type": "code",
   "execution_count": null,
   "metadata": {},
   "outputs": [],
   "source": []
  },
  {
   "cell_type": "markdown",
   "metadata": {},
   "source": [
    "#### Automated tuning & tracking"
   ]
  },
  {
   "cell_type": "code",
   "execution_count": null,
   "metadata": {},
   "outputs": [],
   "source": [
    "# colab\n",
    "!cp -R /content/drive/MyDrive/colab-handover/autochord/guild-env-colab ./"
   ]
  },
  {
   "cell_type": "code",
   "execution_count": 11,
   "metadata": {},
   "outputs": [
    {
     "data": {
      "text/html": [
       "<div>\n",
       "<style scoped>\n",
       "    .dataframe tbody tr th:only-of-type {\n",
       "        vertical-align: middle;\n",
       "    }\n",
       "\n",
       "    .dataframe tbody tr th {\n",
       "        vertical-align: top;\n",
       "    }\n",
       "\n",
       "    .dataframe thead th {\n",
       "        text-align: right;\n",
       "    }\n",
       "</style>\n",
       "<table border=\"1\" class=\"dataframe\">\n",
       "  <thead>\n",
       "    <tr style=\"text-align: right;\">\n",
       "      <th></th>\n",
       "      <th>run</th>\n",
       "      <th>operation</th>\n",
       "      <th>started</th>\n",
       "      <th>status</th>\n",
       "      <th>label</th>\n",
       "    </tr>\n",
       "  </thead>\n",
       "  <tbody>\n",
       "  </tbody>\n",
       "</table>\n",
       "</div>"
      ],
      "text/plain": [
       "Empty RunsDataFrame\n",
       "Columns: [run, operation, started, status, label]\n",
       "Index: []"
      ]
     },
     "metadata": {},
     "output_type": "display_data"
    }
   ],
   "source": [
    "from IPython.display import display\n",
    "\n",
    "GUILD_HOME = 'guild-env/chroma-seq-bilstm-crf' # \"guild-env-colab/chroma-seq-bilstm-crf\"\n",
    "DELETE_RUNS_ON_INIT = False\n",
    "import guild.ipy as guild\n",
    "guild.set_guild_home(GUILD_HOME)\n",
    "\n",
    "if DELETE_RUNS_ON_INIT:\n",
    "    deleted = guild.runs().delete(permanent=True)\n",
    "    print(\"Deleted %i run(s)\" % len(deleted))\n",
    "else:\n",
    "    display(guild.runs().head())"
   ]
  },
  {
   "cell_type": "code",
   "execution_count": 14,
   "metadata": {},
   "outputs": [],
   "source": [
    "_EPOCHS = 5\n",
    "_BATCH_SIZE = 64\n",
    "_TRAIN = None\n",
    "_VAL = None\n",
    "\n",
    "# function for guild tracking\n",
    "def hpset_trainloop(hd=256, dp=0.6, opt='adam', lr=0.001, bs=512, si=0):\n",
    "    '''\n",
    "    Train loop with a specific set of hyperparams\n",
    "    \n",
    "    hd: hidden dim base size\n",
    "    dp: dropout rate\n",
    "    opt: optimizer, lr: learning rate\n",
    "    bs: batch size\n",
    "    si: CV split index\n",
    "    '''\n",
    "    tf.random.set_seed(_SEED)\n",
    "    train = _TRAIN\n",
    "    val = _VAL\n",
    "    if (not train) or (not val):\n",
    "        raise Exception(\"Missing data!\")\n",
    "    \n",
    "    train_dataset = tf.data.Dataset.from_tensor_slices((train.feats, train.labels)) \\\n",
    "                                   .take(100) \\\n",
    "                                   .shuffle(buffer_size=len(train), seed=_SEED, reshuffle_each_iteration=True) \\\n",
    "                                   .batch(bs)\n",
    "    val_dataset = tf.data.Dataset.from_tensor_slices((val.feats, val.labels)) \\\n",
    "                                 .take(100) \\\n",
    "                                 .shuffle(buffer_size=len(val), seed=_SEED, reshuffle_each_iteration=True) \\\n",
    "                                 .batch(bs)\n",
    "\n",
    "    assert(train.feats.shape[-1] == val.feats.shape[-1])\n",
    "\n",
    "    model = init_bilstm_crf_model(base_linear_units=hd, dropout=dp, opt=opt, lr=lr)\n",
    "    history = model.fit(train_dataset, validation_data=val_dataset, epochs=_EPOCHS, verbose=0)\n",
    "    \n",
    "    # get acc\n",
    "    preds, _, _, _ = model.predict(val.feats, batch_size=_BATCH_SIZE)\n",
    "    acc = accuracy_score(val.labels.flatten(), preds.flatten())\n",
    "    \n",
    "    best_epoch = np.argmin(history.history['val_crf_loss'])\n",
    "    best_loss = history.history['val_crf_loss'][best_epoch]\n",
    "    train_loss = history.history['crf_loss'][best_epoch]\n",
    "    \n",
    "    # output metrics\n",
    "    print(f\"BE: {best_epoch+1}\")\n",
    "    print(f\"BL: {best_loss}\")\n",
    "    print(f\"TL: {train_loss}\")\n",
    "    print(f\"VA: {acc}\")\n",
    "    \n",
    "    return acc"
   ]
  },
  {
   "cell_type": "code",
   "execution_count": null,
   "metadata": {},
   "outputs": [],
   "source": [
    "# tuning loop\n",
    "from hyperopt import hp, tpe, fmin\n",
    "\n",
    "_REF_IDXS = df_idxs\n",
    "\n",
    "def tuning_loop(hparams):\n",
    "    global _TRAIN\n",
    "    global _VAL\n",
    "    global _REF_IDXS\n",
    "    \n",
    "    print(hparams)\n",
    "\n",
    "    avg_acc = 0.0\n",
    "    num_runs = 0\n",
    "    for cv_ix, (train, val) in enumerate(ds.get_next_cv_split(_REF_IDXS)):\n",
    "        _TRAIN = train\n",
    "        _VAL = val\n",
    "        run, acc = guild.run(hpset_trainloop,\n",
    "                             hd=int(hparams['base_hidden_dim']),\n",
    "                             dp=hparams['drop_rate'],\n",
    "                             opt=hparams['opt'],\n",
    "                             lr=hparams['lr'], \n",
    "                             bs=int(hparams['batch_size']),\n",
    "                             si=cv_ix)\n",
    "        \n",
    "        num_runs += 1\n",
    "        # if hyperparams fail miserably on one split,\n",
    "        # no need to check other splits\n",
    "        if acc < 0.5:\n",
    "            return 1.0\n",
    "            \n",
    "        avg_acc += acc\n",
    "    \n",
    "        if cv_ix == 0: # limit to try multiple config\n",
    "            break\n",
    "    \n",
    "    avg_acc /= num_runs\n",
    "    return (1-avg_acc) # since we're using fmin\n",
    "\n",
    "hparams = {\n",
    "    'base_hidden_dim': hp.choice('base_hidden_dim', [256, 512]),\n",
    "    'drop_rate': hp.choice('drop_rate', [0.5, 0.3, 0.1]),\n",
    "    'opt': hp.choice('opt', ['adam']),\n",
    "    'lr': hp.choice('lr', [1e-3, 3e-4, 1e-4]),\n",
    "    'batch_size': hp.choice('batch_size', [64]),\n",
    "}\n",
    "\n",
    "best = fmin(tuning_loop, hparams, algo=tpe.suggest, max_evals=6)\n",
    "print(best)"
   ]
  },
  {
   "cell_type": "code",
   "execution_count": null,
   "metadata": {},
   "outputs": [],
   "source": [
    "# colab\n",
    "!cp -R guild-env-colab /content/drive/MyDrive/colab-handover/autochord/"
   ]
  },
  {
   "cell_type": "code",
   "execution_count": 18,
   "metadata": {},
   "outputs": [
    {
     "data": {
      "text/html": [
       "<div>\n",
       "<style scoped>\n",
       "    .dataframe tbody tr th:only-of-type {\n",
       "        vertical-align: middle;\n",
       "    }\n",
       "\n",
       "    .dataframe tbody tr th {\n",
       "        vertical-align: top;\n",
       "    }\n",
       "\n",
       "    .dataframe thead th {\n",
       "        text-align: right;\n",
       "    }\n",
       "</style>\n",
       "<table border=\"1\" class=\"dataframe\">\n",
       "  <thead>\n",
       "    <tr style=\"text-align: right;\">\n",
       "      <th></th>\n",
       "      <th>bs</th>\n",
       "      <th>dp</th>\n",
       "      <th>hd</th>\n",
       "      <th>lr</th>\n",
       "      <th>opt</th>\n",
       "      <th>si</th>\n",
       "      <th>BE</th>\n",
       "      <th>VA</th>\n",
       "    </tr>\n",
       "  </thead>\n",
       "  <tbody>\n",
       "    <tr>\n",
       "      <th>9</th>\n",
       "      <td>256</td>\n",
       "      <td>0.6</td>\n",
       "      <td>256</td>\n",
       "      <td>0.0003</td>\n",
       "      <td>adam</td>\n",
       "      <td>0</td>\n",
       "      <td>2.0</td>\n",
       "      <td>0.52030</td>\n",
       "    </tr>\n",
       "    <tr>\n",
       "      <th>12</th>\n",
       "      <td>512</td>\n",
       "      <td>0.3</td>\n",
       "      <td>256</td>\n",
       "      <td>0.0003</td>\n",
       "      <td>adam</td>\n",
       "      <td>2</td>\n",
       "      <td>2.0</td>\n",
       "      <td>0.52078</td>\n",
       "    </tr>\n",
       "    <tr>\n",
       "      <th>17</th>\n",
       "      <td>512</td>\n",
       "      <td>0.3</td>\n",
       "      <td>512</td>\n",
       "      <td>0.0003</td>\n",
       "      <td>adam</td>\n",
       "      <td>2</td>\n",
       "      <td>1.0</td>\n",
       "      <td>0.52138</td>\n",
       "    </tr>\n",
       "    <tr>\n",
       "      <th>36</th>\n",
       "      <td>256</td>\n",
       "      <td>0.5</td>\n",
       "      <td>256</td>\n",
       "      <td>0.0001</td>\n",
       "      <td>adam</td>\n",
       "      <td>3</td>\n",
       "      <td>2.0</td>\n",
       "      <td>0.52239</td>\n",
       "    </tr>\n",
       "    <tr>\n",
       "      <th>37</th>\n",
       "      <td>256</td>\n",
       "      <td>0.5</td>\n",
       "      <td>256</td>\n",
       "      <td>0.0001</td>\n",
       "      <td>adam</td>\n",
       "      <td>2</td>\n",
       "      <td>1.0</td>\n",
       "      <td>0.52428</td>\n",
       "    </tr>\n",
       "    <tr>\n",
       "      <th>39</th>\n",
       "      <td>256</td>\n",
       "      <td>0.5</td>\n",
       "      <td>256</td>\n",
       "      <td>0.0001</td>\n",
       "      <td>adam</td>\n",
       "      <td>0</td>\n",
       "      <td>2.0</td>\n",
       "      <td>0.52686</td>\n",
       "    </tr>\n",
       "    <tr>\n",
       "      <th>51</th>\n",
       "      <td>256</td>\n",
       "      <td>0.5</td>\n",
       "      <td>256</td>\n",
       "      <td>0.0003</td>\n",
       "      <td>adam</td>\n",
       "      <td>0</td>\n",
       "      <td>1.0</td>\n",
       "      <td>0.52050</td>\n",
       "    </tr>\n",
       "    <tr>\n",
       "      <th>53</th>\n",
       "      <td>256</td>\n",
       "      <td>0.5</td>\n",
       "      <td>256</td>\n",
       "      <td>0.0001</td>\n",
       "      <td>adam</td>\n",
       "      <td>0</td>\n",
       "      <td>2.0</td>\n",
       "      <td>0.52666</td>\n",
       "    </tr>\n",
       "  </tbody>\n",
       "</table>\n",
       "</div>"
      ],
      "text/plain": [
       "     bs   dp   hd      lr   opt  si   BE       VA\n",
       "9   256  0.6  256  0.0003  adam   0  2.0  0.52030\n",
       "12  512  0.3  256  0.0003  adam   2  2.0  0.52078\n",
       "17  512  0.3  512  0.0003  adam   2  1.0  0.52138\n",
       "36  256  0.5  256  0.0001  adam   3  2.0  0.52239\n",
       "37  256  0.5  256  0.0001  adam   2  1.0  0.52428\n",
       "39  256  0.5  256  0.0001  adam   0  2.0  0.52686\n",
       "51  256  0.5  256  0.0003  adam   0  1.0  0.52050\n",
       "53  256  0.5  256  0.0001  adam   0  2.0  0.52666"
      ]
     },
     "execution_count": 18,
     "metadata": {},
     "output_type": "execute_result"
    }
   ],
   "source": [
    "runs = guild.runs()\n",
    "df_exps = runs.compare()\n",
    "\n",
    "_COMPARE_COLS = ['bs','dp','hd','lr','opt','si','BE','TL','BL','VA']\n",
    "comps = df_exps[_COMPARE_COLS]\n",
    "#comps[comps.VA > 0.7]\n",
    "comps[:15]"
   ]
  },
  {
   "cell_type": "markdown",
   "metadata": {},
   "source": [
    "#### Saved model - Inference test"
   ]
  },
  {
   "cell_type": "code",
   "execution_count": 11,
   "metadata": {},
   "outputs": [],
   "source": [
    "from tensorflow import keras\n",
    "\n",
    "#_CKPT_PATH = 'models/chroma-seq-bilstm-crf-0-base'\n",
    "_CKPT_PATH = 'models/chroma-seq-bilstm-crf-0'\n",
    "load_model = keras.models.load_model(_CKPT_PATH)"
   ]
  },
  {
   "cell_type": "code",
   "execution_count": 16,
   "metadata": {},
   "outputs": [
    {
     "name": "stdout",
     "output_type": "stream",
     "text": [
      "Model: \"model_with_crf_loss_11\"\n",
      "_________________________________________________________________\n",
      "Layer (type)                 Output Shape              Param #   \n",
      "=================================================================\n",
      "model_11 (Functional)        [(None, 64), (None, 64, 2 2225852   \n",
      "=================================================================\n",
      "Total params: 2,225,852\n",
      "Trainable params: 2,225,852\n",
      "Non-trainable params: 0\n",
      "_________________________________________________________________\n"
     ]
    }
   ],
   "source": [
    "load_model.summary()"
   ]
  },
  {
   "cell_type": "code",
   "execution_count": 14,
   "metadata": {},
   "outputs": [],
   "source": [
    "load_preds, _, _, _ = load_model.predict(chordseq_vectors, batch_size=32) # to get shape for serialization"
   ]
  },
  {
   "cell_type": "code",
   "execution_count": 15,
   "metadata": {},
   "outputs": [
    {
     "data": {
      "text/plain": [
       "array([[ 0,  0,  0, ...,  1,  1,  1],\n",
       "       [ 8,  8,  8, ..., 13, 13, 13],\n",
       "       [13, 13, 13, ..., 13, 13, 13],\n",
       "       ...,\n",
       "       [ 1,  1,  1, ...,  1,  1,  1],\n",
       "       [ 0,  0,  0, ...,  0,  0,  0],\n",
       "       [ 0,  0,  0, ...,  0,  0,  0]], dtype=int32)"
      ]
     },
     "execution_count": 15,
     "metadata": {},
     "output_type": "execute_result"
    }
   ],
   "source": [
    "load_preds"
   ]
  },
  {
   "cell_type": "markdown",
   "metadata": {},
   "source": [
    "#### Save base model only"
   ]
  },
  {
   "cell_type": "code",
   "execution_count": 14,
   "metadata": {},
   "outputs": [
    {
     "name": "stdout",
     "output_type": "stream",
     "text": [
      "Model: \"model_11\"\n",
      "_________________________________________________________________\n",
      "Layer (type)                 Output Shape              Param #   \n",
      "=================================================================\n",
      "input_12 (InputLayer)        [(None, 64, 24)]          0         \n",
      "_________________________________________________________________\n",
      "bidirectional_11 (Bidirectio (None, 64, 1024)          2199552   \n",
      "_________________________________________________________________\n",
      "crf_11 (Addons>CRF)          [(None, 64), (None, 64, 2 26300     \n",
      "=================================================================\n",
      "Total params: 2,225,852\n",
      "Trainable params: 2,225,852\n",
      "Non-trainable params: 0\n",
      "_________________________________________________________________\n"
     ]
    }
   ],
   "source": [
    "load_model.base_model.summary()"
   ]
  },
  {
   "cell_type": "code",
   "execution_count": null,
   "metadata": {},
   "outputs": [],
   "source": [
    "load_model.base_model.save('models/chroma-seq-bilstm-crf-0-base')"
   ]
  },
  {
   "cell_type": "markdown",
   "metadata": {},
   "source": [
    "#### Save graph"
   ]
  },
  {
   "cell_type": "code",
   "execution_count": 25,
   "metadata": {},
   "outputs": [
    {
     "name": "stdout",
     "output_type": "stream",
     "text": [
      "WARNING:tensorflow:No training configuration found in save file, so the model was *not* compiled. Compile it manually.\n"
     ]
    }
   ],
   "source": [
    "from tensorflow import keras\n",
    "\n",
    "_CKPT_PATH = 'models/chroma-seq-bilstm-crf-0-base'\n",
    "model = keras.models.load_model(_CKPT_PATH)"
   ]
  },
  {
   "cell_type": "code",
   "execution_count": 27,
   "metadata": {},
   "outputs": [],
   "source": [
    "model.compile()"
   ]
  },
  {
   "cell_type": "code",
   "execution_count": 29,
   "metadata": {},
   "outputs": [],
   "source": [
    "# from https://ksingh7.medium.com/part-iii-convert-keras-model-to-tensorflow-frozen-graph-model-a6aa6b1aaeee\n",
    "import tensorflow as tf\n",
    "from tensorflow.python.framework.convert_to_constants import convert_variables_to_constants_v2\n",
    "\n",
    "# Convert Keras model to ConcreteFunction\n",
    "full_model = tf.function(lambda x: model(x))\n",
    "full_model = full_model.get_concrete_function(\n",
    "    x=tf.TensorSpec(model.inputs[0].shape, model.inputs[0].dtype))\n",
    "\n",
    "# Get frozen ConcreteFunction\n",
    "frozen_func = convert_variables_to_constants_v2(full_model)\n",
    "frozen_func.graph.as_graph_def()\n",
    "\n",
    "# inspect the layers operations inside your frozen graph definition\n",
    "# and see the name of its input and output tensors\n",
    "layers = [op.name for op in frozen_func.graph.get_operations()]"
   ]
  },
  {
   "cell_type": "code",
   "execution_count": 30,
   "metadata": {},
   "outputs": [
    {
     "data": {
      "text/plain": [
       "['x',\n",
       " 'model_11/crf_11/rnn/while/body/_23/model_11/crf_11/rnn/while/Tile/multiples',\n",
       " 'unused_control_flow_input',\n",
       " 'model_11/crf_11/rnn/while/body/_23/model_11/crf_11/rnn/while/Tile',\n",
       " 'model_11/crf_11/rnn/while/body/_23/model_11/crf_11/rnn/while/crf_decode_forward_rnn_cell/ArgMax/dimension',\n",
       " 'unused_control_flow_input_1',\n",
       " 'model_11/crf_11/rnn/while/body/_23/model_11/crf_11/rnn/while/crf_decode_forward_rnn_cell/ArgMax',\n",
       " 'model_11/crf_11/rnn/while/body/_23/model_11/crf_11/rnn/while/crf_decode_forward_rnn_cell/Cast',\n",
       " 'model_11/crf_11/rnn/crf_decode_forward_rnn_cell/ExpandDims/dim',\n",
       " 'unused_control_flow_input_2',\n",
       " 'model_11/crf_11/rnn/crf_decode_forward_rnn_cell/ExpandDims',\n",
       " 'unused_control_flow_input_3',\n",
       " 'model_11/crf_11/rnn/crf_decode_forward_rnn_cell/add',\n",
       " 'model_11/crf_11/rnn/crf_decode_forward_rnn_cell/ArgMax/dimension',\n",
       " 'model_11/crf_11/rnn/crf_decode_forward_rnn_cell/ArgMax',\n",
       " 'model_11/crf_11/rnn/crf_decode_forward_rnn_cell/Cast',\n",
       " 'model_11/crf_11/rnn/zeros_like',\n",
       " 'model_11/crf_11/rnn/while/enter/_28',\n",
       " 'unused_control_flow_input_4',\n",
       " 'model_11/crf_11/rnn/while/body/_23/model_11/crf_11/rnn/while/Identity_4',\n",
       " 'Func/model_11/crf_11/rnn/while/body/_23/output/_259',\n",
       " 'model_11/crf_11/rnn/while/next_iteration/_71',\n",
       " 'model_11/crf_11/rnn/while/merge/_38',\n",
       " 'unused_control_flow_input_5',\n",
       " 'model_11/crf_11/rnn/while/model_11/crf_11/rnn/zeros_like_switch/_49',\n",
       " 'Func/model_11/crf_11/rnn/while/body/_23/input/_249',\n",
       " 'model_11/crf_11/rnn/while/body/_23/model_11/crf_11/rnn/while/SelectV2',\n",
       " 'model_11/crf_11/rnn/TensorArrayV2_1/element_shape',\n",
       " 'unused_control_flow_input_6',\n",
       " 'model_11/crf_11/rnn/TensorArrayV2_1',\n",
       " 'model_11/crf_11/rnn/while/enter/_27',\n",
       " 'unused_control_flow_input_7',\n",
       " 'Func/model_11/crf_11/rnn/while/body/_23/input/_248',\n",
       " 'unused_control_flow_input_8',\n",
       " 'model_11/crf_11/rnn/while/body/_23/model_11/crf_11/rnn/while/TensorArrayV2Write/TensorListSetItem',\n",
       " 'model_11/crf_11/rnn/while/body/_23/model_11/crf_11/rnn/while/Identity_3',\n",
       " 'Func/model_11/crf_11/rnn/while/body/_23/output/_258',\n",
       " 'model_11/crf_11/rnn/while/next_iteration/_70',\n",
       " 'model_11/crf_11/rnn/while/merge/_37',\n",
       " 'unused_control_flow_input_9',\n",
       " 'model_11/crf_11/rnn/while/model_11/crf_11/rnn/TensorArrayV2_1_switch/_48',\n",
       " 'model_11/crf_11/rnn/while/exit/_59',\n",
       " 'model_11/crf_11/rnn/TensorArrayV2Stack/TensorListStack/element_shape',\n",
       " 'model_11/crf_11/rnn/TensorArrayV2Stack/TensorListStack',\n",
       " 'model_11/crf_11/rnn/transpose_2/perm',\n",
       " 'model_11/crf_11/rnn/transpose_2',\n",
       " 'unused_control_flow_input_10',\n",
       " 'model_11/crf_11/ReverseSequence',\n",
       " 'model_11/crf_11/transpose/perm',\n",
       " 'model_11/crf_11/transpose',\n",
       " 'model_11/crf_11/scan/TensorArrayUnstack/TensorListFromTensor/element_shape',\n",
       " 'model_11/crf_11/scan/TensorArrayUnstack/TensorListFromTensor',\n",
       " 'model_11/crf_11/scan/while/enter/_84',\n",
       " 'unused_control_flow_input_11',\n",
       " 'Func/model_11/crf_11/scan/while/body/_78/output/_286',\n",
       " 'model_11/crf_11/scan/while/next_iteration/_111',\n",
       " 'model_11/crf_11/scan/while/merge/_90',\n",
       " 'unused_control_flow_input_12',\n",
       " 'model_11/crf_11/scan/while/model_11/crf_11/scan/TensorArrayUnstack/TensorListFromTensor_switch/_97',\n",
       " 'Func/model_11/crf_11/scan/while/body/_78/input/_280',\n",
       " 'model_11/crf_11/scan/while/body/_78/model_11/crf_11/scan/while/range/start',\n",
       " 'model_11/crf_11/scan/while/body/_78/model_11/crf_11/scan/while/TensorArrayV2Read/TensorListGetItem/element_shape',\n",
       " 'unused_control_flow_input_13',\n",
       " 'model_11/crf_11/scan/while/body/_78/model_11/crf_11/scan/while/TensorArrayV2Read/TensorListGetItem',\n",
       " 'model_11/crf_11/scan/while/body/_78/model_11/crf_11/scan/while/Shape',\n",
       " 'model_11/crf_11/scan/while/body/_78/model_11/crf_11/scan/while/strided_slice/stack',\n",
       " 'model_11/crf_11/scan/while/body/_78/model_11/crf_11/scan/while/strided_slice/stack_1',\n",
       " 'model_11/crf_11/scan/while/body/_78/model_11/crf_11/scan/while/strided_slice/stack_2',\n",
       " 'model_11/crf_11/scan/while/body/_78/model_11/crf_11/scan/while/strided_slice',\n",
       " 'model_11/crf_11/scan/while/body/_78/model_11/crf_11/scan/while/range/delta',\n",
       " 'model_11/crf_11/scan/while/body/_78/model_11/crf_11/scan/while/range',\n",
       " 'unused_control_flow_input_14',\n",
       " 'model_11/crf_11/scan/while/enter/_82',\n",
       " 'unused_control_flow_input_15',\n",
       " 'model_11/crf_11/scan/while/body/_78/model_11/crf_11/scan/while/Identity_3',\n",
       " 'Func/model_11/crf_11/scan/while/body/_78/output/_284',\n",
       " 'model_11/crf_11/scan/while/next_iteration/_109',\n",
       " 'model_11/crf_11/scan/while/merge/_88',\n",
       " 'unused_control_flow_input_16',\n",
       " 'model_11/crf_11/scan/while/model_11/crf_11/ExpandDims_1_switch/_95',\n",
       " 'Func/model_11/crf_11/scan/while/body/_78/input/_278',\n",
       " 'model_11/crf_11/scan/while/body/_78/model_11/crf_11/scan/while/Squeeze',\n",
       " 'model_11/crf_11/scan/while/body/_78/model_11/crf_11/scan/while/stack',\n",
       " 'model_11/crf_11/scan/while/body/_78/model_11/crf_11/scan/while/GatherNd',\n",
       " 'model_11/crf_11/scan/while/body/_78/model_11/crf_11/scan/while/ExpandDims/dim',\n",
       " 'model_11/crf_11/scan/while/body/_78/model_11/crf_11/scan/while/ExpandDims',\n",
       " 'model_11/crf_11/rnn/TensorArrayUnstack/TensorListFromTensor/element_shape',\n",
       " 'unused_control_flow_input_17',\n",
       " 'model_11/crf_11/rnn/TensorArrayUnstack/TensorListFromTensor',\n",
       " 'model_11/crf_11/rnn/while/enter/_31',\n",
       " 'unused_control_flow_input_18',\n",
       " 'Func/model_11/crf_11/rnn/while/body/_23/output/_262',\n",
       " 'model_11/crf_11/rnn/while/next_iteration/_74',\n",
       " 'model_11/crf_11/rnn/while/merge/_41',\n",
       " 'unused_control_flow_input_19',\n",
       " 'model_11/crf_11/rnn/while/model_11/crf_11/rnn/TensorArrayUnstack/TensorListFromTensor_switch/_52',\n",
       " 'Func/model_11/crf_11/rnn/while/body/_23/input/_252',\n",
       " 'model_11/crf_11/Const',\n",
       " 'model_11/crf_11/sub/y',\n",
       " 'unused_control_flow_input_20',\n",
       " 'model_11/crf_11/sub',\n",
       " 'model_11/crf_11/Maximum',\n",
       " 'model_11/crf_11/SequenceMask/Const',\n",
       " 'unused_control_flow_input_21',\n",
       " 'model_11/crf_11/Shape_1',\n",
       " 'model_11/crf_11/strided_slice_4/stack',\n",
       " 'model_11/crf_11/strided_slice_4/stack_1',\n",
       " 'model_11/crf_11/strided_slice_4/stack_2',\n",
       " 'model_11/crf_11/strided_slice_4',\n",
       " 'model_11/crf_11/SequenceMask/Const_1',\n",
       " 'model_11/crf_11/SequenceMask/Range',\n",
       " 'model_11/crf_11/SequenceMask/ExpandDims/dim',\n",
       " 'model_11/crf_11/SequenceMask/ExpandDims',\n",
       " 'model_11/crf_11/SequenceMask/Cast',\n",
       " 'model_11/crf_11/SequenceMask/Less',\n",
       " 'model_11/crf_11/rnn/ExpandDims/dim',\n",
       " 'model_11/crf_11/rnn/ExpandDims',\n",
       " 'model_11/crf_11/rnn/transpose_1/perm',\n",
       " 'model_11/crf_11/rnn/transpose_1',\n",
       " 'model_11/crf_11/rnn/TensorArrayUnstack_1/TensorListFromTensor/element_shape',\n",
       " 'model_11/crf_11/rnn/TensorArrayUnstack_1/TensorListFromTensor',\n",
       " 'model_11/crf_11/rnn/while/enter/_32',\n",
       " 'unused_control_flow_input_22',\n",
       " 'Func/model_11/crf_11/rnn/while/body/_23/output/_263',\n",
       " 'model_11/crf_11/rnn/while/next_iteration/_75',\n",
       " 'model_11/crf_11/rnn/while/merge/_42',\n",
       " 'unused_control_flow_input_23',\n",
       " 'model_11/crf_11/rnn/while/model_11/crf_11/rnn/TensorArrayUnstack_1/TensorListFromTensor_switch/_53',\n",
       " 'Func/model_11/crf_11/rnn/while/body/_23/input/_253',\n",
       " 'model_11/crf_11/rnn/while/body/_23/model_11/crf_11/rnn/while/TensorArrayV2Read_1/TensorListGetItem/element_shape',\n",
       " 'unused_control_flow_input_24',\n",
       " 'model_11/crf_11/rnn/while/body/_23/model_11/crf_11/rnn/while/TensorArrayV2Read_1/TensorListGetItem',\n",
       " 'model_11/crf_11/scan/while/loop_counter',\n",
       " 'model_11/crf_11/scan/while/enter/_79',\n",
       " 'unused_control_flow_input_25',\n",
       " 'Func/model_11/crf_11/scan/while/body/_78/input/_275',\n",
       " 'model_11/crf_11/scan/while/body/_78/model_11/crf_11/scan/while/add_1/y',\n",
       " 'model_11/crf_11/scan/while/body/_78/model_11/crf_11/scan/while/add_1',\n",
       " 'model_11/crf_11/scan/while/body/_78/model_11/crf_11/scan/while/Identity',\n",
       " 'Func/model_11/crf_11/scan/while/body/_78/output/_281',\n",
       " 'model_11/crf_11/scan/while/next_iteration/_106',\n",
       " 'model_11/crf_11/scan/while/merge/_85',\n",
       " 'unused_control_flow_input_26',\n",
       " 'model_11/crf_11/scan/while/model_11/crf_11/scan/while/loop_counter_switch/_92',\n",
       " 'model_11/crf_11/scan/while/loop_body_control/_98',\n",
       " 'Func/model_11/crf_11/scan/while/body/_78/input_control_node/_274',\n",
       " 'model_11/bidirectional_11/forward_lstm_11/Read_1/ReadVariableOp/resource',\n",
       " 'model_11/bidirectional_11/forward_lstm_11/Read_1/ReadVariableOp',\n",
       " 'model_11/bidirectional_11/forward_lstm_11/Identity_1',\n",
       " 'Func/model_11/bidirectional_11/forward_lstm_11/PartitionedCall/input/_4',\n",
       " 'model_11/bidirectional_11/forward_lstm_11/PartitionedCall/while/enter/_123',\n",
       " 'unused_control_flow_input_27',\n",
       " 'Func/model_11/bidirectional_11/forward_lstm_11/PartitionedCall/while/body/_113/output/_322',\n",
       " 'model_11/bidirectional_11/forward_lstm_11/PartitionedCall/while/next_iteration/_170',\n",
       " 'model_11/bidirectional_11/forward_lstm_11/PartitionedCall/while/merge/_134',\n",
       " 'unused_control_flow_input_28',\n",
       " 'model_11/bidirectional_11/forward_lstm_11/PartitionedCall/while/Func/model_11/bidirectional_11/forward_lstm_11/PartitionedCall/input/_4_switch/_146',\n",
       " 'Func/model_11/bidirectional_11/forward_lstm_11/PartitionedCall/while/body/_113/input/_311',\n",
       " 'model_11/crf_11/Slice_2/begin',\n",
       " 'model_11/crf_11/Slice_2/size',\n",
       " 'unused_control_flow_input_29',\n",
       " 'model_11/crf_11/Slice_2',\n",
       " 'model_11/crf_11/rnn/transpose/perm',\n",
       " 'model_11/crf_11/rnn/transpose',\n",
       " 'unused_control_flow_input_30',\n",
       " 'model_11/bidirectional_11/backward_lstm_11/Identity_2',\n",
       " 'Func/model_11/bidirectional_11/backward_lstm_11/PartitionedCall/input/_16',\n",
       " 'model_11/bidirectional_11/backward_lstm_11/PartitionedCall/while/enter/_184',\n",
       " 'unused_control_flow_input_31',\n",
       " 'Func/model_11/bidirectional_11/backward_lstm_11/PartitionedCall/while/body/_173/output/_360',\n",
       " 'Func/model_11/bidirectional_11/backward_lstm_11/PartitionedCall/while/body/_173/output_control_node/_361',\n",
       " 'model_11/bidirectional_11/backward_lstm_11/PartitionedCall/while/next_iteration/_231',\n",
       " 'model_11/bidirectional_11/backward_lstm_11/PartitionedCall/while/merge/_195',\n",
       " 'unused_control_flow_input_32',\n",
       " 'model_11/bidirectional_11/backward_lstm_11/PartitionedCall/while/Func/model_11/bidirectional_11/backward_lstm_11/PartitionedCall/input/_16_switch/_207',\n",
       " 'Func/model_11/bidirectional_11/backward_lstm_11/PartitionedCall/while/body/_173/input/_349',\n",
       " 'model_11/crf_11/rnn/Shape',\n",
       " 'model_11/crf_11/rnn/strided_slice/stack',\n",
       " 'model_11/crf_11/rnn/strided_slice/stack_1',\n",
       " 'model_11/crf_11/rnn/strided_slice/stack_2',\n",
       " 'model_11/crf_11/rnn/strided_slice',\n",
       " 'model_11/crf_11/scan/while/maximum_iterations',\n",
       " 'model_11/crf_11/scan/while/enter/_80',\n",
       " 'unused_control_flow_input_33',\n",
       " 'unused_control_flow_input_34',\n",
       " 'model_11/crf_11/scan/while/model_11/crf_11/scan/while/maximum_iterations_switch/_93',\n",
       " 'Func/model_11/crf_11/scan/while/body/_78/input/_276',\n",
       " 'model_11/crf_11/scan/while/body/_78/model_11/crf_11/scan/while/Identity_1',\n",
       " 'Func/model_11/crf_11/scan/while/body/_78/output/_282',\n",
       " 'model_11/crf_11/scan/while/next_iteration/_107',\n",
       " 'model_11/crf_11/scan/while/merge/_86',\n",
       " 'model_11/bidirectional_11/forward_lstm_11/PartitionedCall/time',\n",
       " 'model_11/bidirectional_11/forward_lstm_11/PartitionedCall/while/enter/_116',\n",
       " 'unused_control_flow_input_35',\n",
       " 'unused_control_flow_input_36',\n",
       " 'model_11/bidirectional_11/forward_lstm_11/PartitionedCall/while/model_11/bidirectional_11/forward_lstm_11/PartitionedCall/time_switch/_139',\n",
       " 'Func/model_11/bidirectional_11/forward_lstm_11/PartitionedCall/while/body/_113/input/_304',\n",
       " 'model_11/bidirectional_11/forward_lstm_11/PartitionedCall/while/body/_113/while/add_2/y',\n",
       " 'model_11/bidirectional_11/forward_lstm_11/PartitionedCall/while/body/_113/while/add_2',\n",
       " 'model_11/bidirectional_11/forward_lstm_11/PartitionedCall/while/body/_113/while/Identity_2',\n",
       " 'Func/model_11/bidirectional_11/forward_lstm_11/PartitionedCall/while/body/_113/output/_315',\n",
       " 'model_11/bidirectional_11/forward_lstm_11/PartitionedCall/while/next_iteration/_163',\n",
       " 'model_11/bidirectional_11/forward_lstm_11/PartitionedCall/while/merge/_127',\n",
       " 'unused_control_flow_input_37',\n",
       " 'model_11/bidirectional_11/forward_lstm_11/PartitionedCall/while/enter/_120',\n",
       " 'unused_control_flow_input_38',\n",
       " 'unused_control_flow_input_39',\n",
       " 'model_11/bidirectional_11/forward_lstm_11/PartitionedCall/while/model_11/bidirectional_11/forward_lstm_11/PartitionedCall/strided_slice_switch/_143',\n",
       " 'Func/model_11/bidirectional_11/forward_lstm_11/PartitionedCall/while/body/_113/input/_308',\n",
       " 'Func/model_11/bidirectional_11/forward_lstm_11/PartitionedCall/while/body/_113/output/_319',\n",
       " 'model_11/bidirectional_11/forward_lstm_11/PartitionedCall/while/next_iteration/_167',\n",
       " 'model_11/bidirectional_11/forward_lstm_11/PartitionedCall/while/merge/_131',\n",
       " 'model_11/bidirectional_11/forward_lstm_11/PartitionedCall/while/loop_counter',\n",
       " 'model_11/bidirectional_11/forward_lstm_11/PartitionedCall/while/enter/_114',\n",
       " 'unused_control_flow_input_40',\n",
       " 'unused_control_flow_input_41',\n",
       " 'model_11/bidirectional_11/forward_lstm_11/PartitionedCall/while/model_11/bidirectional_11/forward_lstm_11/PartitionedCall/while/loop_counter_switch/_137',\n",
       " 'Func/model_11/bidirectional_11/forward_lstm_11/PartitionedCall/while/body/_113/input/_302',\n",
       " 'model_11/bidirectional_11/forward_lstm_11/PartitionedCall/while/body/_113/while/add_3/y',\n",
       " 'model_11/bidirectional_11/forward_lstm_11/PartitionedCall/while/body/_113/while/add_3',\n",
       " 'model_11/bidirectional_11/forward_lstm_11/PartitionedCall/while/body/_113/while/Identity',\n",
       " 'Func/model_11/bidirectional_11/forward_lstm_11/PartitionedCall/while/body/_113/output/_313',\n",
       " 'model_11/bidirectional_11/forward_lstm_11/PartitionedCall/while/next_iteration/_161',\n",
       " 'model_11/bidirectional_11/forward_lstm_11/PartitionedCall/while/merge/_125',\n",
       " 'Func/model_11/bidirectional_11/forward_lstm_11/PartitionedCall/while/cond/_112/input_control_node/_288',\n",
       " 'Func/model_11/bidirectional_11/forward_lstm_11/PartitionedCall/while/cond/_112/input/_291',\n",
       " 'Func/model_11/bidirectional_11/forward_lstm_11/PartitionedCall/while/cond/_112/input/_295',\n",
       " 'model_11/bidirectional_11/forward_lstm_11/PartitionedCall/while/cond/_112/while/Less',\n",
       " 'model_11/bidirectional_11/forward_lstm_11/PartitionedCall/while/cond/_112/while/Identity',\n",
       " 'Func/model_11/bidirectional_11/forward_lstm_11/PartitionedCall/while/cond/_112/output/_300',\n",
       " 'model_11/bidirectional_11/forward_lstm_11/PartitionedCall/while/LoopCond/_136',\n",
       " 'unused_control_flow_input_42',\n",
       " 'model_11/bidirectional_11/backward_lstm_11/PartitionedCall/while/enter/_180',\n",
       " 'unused_control_flow_input_43',\n",
       " 'unused_control_flow_input_44',\n",
       " 'model_11/bidirectional_11/backward_lstm_11/PartitionedCall/while/model_11/bidirectional_11/backward_lstm_11/PartitionedCall/strided_slice_switch/_203',\n",
       " 'Func/model_11/bidirectional_11/backward_lstm_11/PartitionedCall/while/body/_173/input/_345',\n",
       " 'Func/model_11/bidirectional_11/backward_lstm_11/PartitionedCall/while/body/_173/output/_356',\n",
       " 'model_11/bidirectional_11/backward_lstm_11/PartitionedCall/while/next_iteration/_227',\n",
       " 'model_11/bidirectional_11/backward_lstm_11/PartitionedCall/while/merge/_191',\n",
       " 'unused_control_flow_input_45',\n",
       " 'model_11/bidirectional_11/backward_lstm_11/Identity_1',\n",
       " 'Func/model_11/bidirectional_11/backward_lstm_11/PartitionedCall/input/_15',\n",
       " 'model_11/bidirectional_11/backward_lstm_11/PartitionedCall/while/enter/_183',\n",
       " 'unused_control_flow_input_46',\n",
       " 'Func/model_11/bidirectional_11/backward_lstm_11/PartitionedCall/while/body/_173/output/_359',\n",
       " 'model_11/bidirectional_11/backward_lstm_11/PartitionedCall/while/next_iteration/_230',\n",
       " 'model_11/bidirectional_11/backward_lstm_11/PartitionedCall/while/merge/_194',\n",
       " 'unused_control_flow_input_47',\n",
       " 'model_11/bidirectional_11/backward_lstm_11/PartitionedCall/while/Func/model_11/bidirectional_11/backward_lstm_11/PartitionedCall/input/_15_switch/_206',\n",
       " 'Func/model_11/bidirectional_11/backward_lstm_11/PartitionedCall/while/body/_173/input/_348',\n",
       " 'unused_control_flow_input_48',\n",
       " 'model_11/bidirectional_11/backward_lstm_11/Identity',\n",
       " 'Func/model_11/bidirectional_11/backward_lstm_11/PartitionedCall/input/_14',\n",
       " 'model_11/bidirectional_11/backward_lstm_11/PartitionedCall/while/enter/_182',\n",
       " 'unused_control_flow_input_49',\n",
       " 'Func/model_11/bidirectional_11/backward_lstm_11/PartitionedCall/while/body/_173/output/_358',\n",
       " 'model_11/bidirectional_11/backward_lstm_11/PartitionedCall/while/next_iteration/_229',\n",
       " 'model_11/bidirectional_11/backward_lstm_11/PartitionedCall/while/merge/_193',\n",
       " 'unused_control_flow_input_50',\n",
       " 'model_11/bidirectional_11/backward_lstm_11/PartitionedCall/while/Func/model_11/bidirectional_11/backward_lstm_11/PartitionedCall/input/_14_switch/_205',\n",
       " 'Func/model_11/bidirectional_11/backward_lstm_11/PartitionedCall/while/body/_173/input/_347',\n",
       " 'model_11/bidirectional_11/backward_lstm_11/PartitionedCall/ReverseV2/axis',\n",
       " 'unused_control_flow_input_51',\n",
       " 'model_11/bidirectional_11/backward_lstm_11/PartitionedCall/ReverseV2',\n",
       " 'model_11/bidirectional_11/backward_lstm_11/PartitionedCall/TensorArrayUnstack/TensorListFromTensor/element_shape',\n",
       " 'model_11/bidirectional_11/backward_lstm_11/PartitionedCall/TensorArrayUnstack/TensorListFromTensor',\n",
       " 'model_11/bidirectional_11/backward_lstm_11/PartitionedCall/while/enter/_181',\n",
       " 'unused_control_flow_input_52',\n",
       " 'Func/model_11/bidirectional_11/backward_lstm_11/PartitionedCall/while/body/_173/output/_357',\n",
       " 'model_11/bidirectional_11/backward_lstm_11/PartitionedCall/while/next_iteration/_228',\n",
       " 'model_11/bidirectional_11/backward_lstm_11/PartitionedCall/while/merge/_192',\n",
       " 'unused_control_flow_input_53',\n",
       " 'model_11/bidirectional_11/backward_lstm_11/PartitionedCall/while/model_11/bidirectional_11/backward_lstm_11/PartitionedCall/TensorArrayUnstack/TensorListFromTensor_switch/_204',\n",
       " 'Func/model_11/bidirectional_11/backward_lstm_11/PartitionedCall/while/body/_173/input/_346',\n",
       " 'model_11/bidirectional_11/backward_lstm_11/PartitionedCall/while/body/_173/while/split/split_dim',\n",
       " 'model_11/bidirectional_11/backward_lstm_11/PartitionedCall/while/body/_173/while/TensorArrayV2Read/TensorListGetItem/element_shape',\n",
       " 'unused_control_flow_input_54',\n",
       " 'model_11/bidirectional_11/backward_lstm_11/PartitionedCall/while/body/_173/while/TensorArrayV2Read/TensorListGetItem',\n",
       " 'model_11/bidirectional_11/backward_lstm_11/PartitionedCall/while/body/_173/while/MatMul',\n",
       " 'model_11/bidirectional_11/backward_lstm_11/Shape',\n",
       " 'model_11/bidirectional_11/backward_lstm_11/strided_slice/stack',\n",
       " 'model_11/bidirectional_11/backward_lstm_11/strided_slice/stack_1',\n",
       " 'model_11/bidirectional_11/backward_lstm_11/strided_slice/stack_2',\n",
       " 'model_11/bidirectional_11/backward_lstm_11/strided_slice',\n",
       " 'model_11/bidirectional_11/backward_lstm_11/zeros/packed/1',\n",
       " 'model_11/bidirectional_11/backward_lstm_11/zeros/packed',\n",
       " 'model_11/bidirectional_11/backward_lstm_11/zeros/Const',\n",
       " 'model_11/bidirectional_11/backward_lstm_11/zeros',\n",
       " 'Func/model_11/bidirectional_11/backward_lstm_11/PartitionedCall/input/_12',\n",
       " 'model_11/bidirectional_11/backward_lstm_11/PartitionedCall/while/enter/_178',\n",
       " 'unused_control_flow_input_55',\n",
       " 'model_11/bidirectional_11/backward_lstm_11/PartitionedCall/while/body/_173/while/Identity_4',\n",
       " 'Func/model_11/bidirectional_11/backward_lstm_11/PartitionedCall/while/body/_173/output/_354',\n",
       " 'model_11/bidirectional_11/backward_lstm_11/PartitionedCall/while/next_iteration/_225',\n",
       " 'model_11/bidirectional_11/backward_lstm_11/PartitionedCall/while/merge/_189',\n",
       " 'unused_control_flow_input_56',\n",
       " 'model_11/bidirectional_11/backward_lstm_11/PartitionedCall/while/Func/model_11/bidirectional_11/backward_lstm_11/PartitionedCall/input/_12_switch/_201',\n",
       " 'Func/model_11/bidirectional_11/backward_lstm_11/PartitionedCall/while/body/_173/input/_343',\n",
       " 'model_11/bidirectional_11/backward_lstm_11/PartitionedCall/while/body/_173/while/MatMul_1',\n",
       " 'model_11/bidirectional_11/backward_lstm_11/PartitionedCall/while/body/_173/while/add',\n",
       " 'model_11/bidirectional_11/backward_lstm_11/PartitionedCall/while/body/_173/while/BiasAdd',\n",
       " 'model_11/bidirectional_11/backward_lstm_11/PartitionedCall/while/body/_173/while/split',\n",
       " 'model_11/bidirectional_11/backward_lstm_11/PartitionedCall/while/body/_173/while/Sigmoid_1',\n",
       " 'model_11/bidirectional_11/backward_lstm_11/zeros_1/packed/1',\n",
       " 'model_11/bidirectional_11/backward_lstm_11/zeros_1/packed',\n",
       " 'model_11/bidirectional_11/backward_lstm_11/zeros_1/Const',\n",
       " 'model_11/bidirectional_11/backward_lstm_11/zeros_1',\n",
       " 'Func/model_11/bidirectional_11/backward_lstm_11/PartitionedCall/input/_13',\n",
       " 'model_11/bidirectional_11/backward_lstm_11/PartitionedCall/while/enter/_179',\n",
       " 'unused_control_flow_input_57',\n",
       " 'model_11/bidirectional_11/backward_lstm_11/PartitionedCall/while/body/_173/while/Identity_5',\n",
       " 'Func/model_11/bidirectional_11/backward_lstm_11/PartitionedCall/while/body/_173/output/_355',\n",
       " 'model_11/bidirectional_11/backward_lstm_11/PartitionedCall/while/next_iteration/_226',\n",
       " 'model_11/bidirectional_11/backward_lstm_11/PartitionedCall/while/merge/_190',\n",
       " 'unused_control_flow_input_58',\n",
       " 'model_11/bidirectional_11/backward_lstm_11/PartitionedCall/while/Func/model_11/bidirectional_11/backward_lstm_11/PartitionedCall/input/_13_switch/_202',\n",
       " 'Func/model_11/bidirectional_11/backward_lstm_11/PartitionedCall/while/body/_173/input/_344',\n",
       " 'model_11/bidirectional_11/backward_lstm_11/PartitionedCall/while/body/_173/while/mul',\n",
       " 'model_11/bidirectional_11/backward_lstm_11/PartitionedCall/while/body/_173/while/Sigmoid',\n",
       " 'model_11/bidirectional_11/backward_lstm_11/PartitionedCall/while/body/_173/while/Tanh',\n",
       " 'model_11/bidirectional_11/backward_lstm_11/PartitionedCall/while/body/_173/while/mul_1',\n",
       " 'model_11/bidirectional_11/backward_lstm_11/PartitionedCall/while/body/_173/while/add_1',\n",
       " 'model_11/bidirectional_11/backward_lstm_11/PartitionedCall/while/body/_173/while/Sigmoid_2',\n",
       " 'model_11/bidirectional_11/backward_lstm_11/PartitionedCall/while/body/_173/while/Tanh_1',\n",
       " 'model_11/bidirectional_11/backward_lstm_11/PartitionedCall/while/body/_173/while/mul_2',\n",
       " 'model_11/bidirectional_11/backward_lstm_11/PartitionedCall/time',\n",
       " 'model_11/bidirectional_11/backward_lstm_11/PartitionedCall/while/enter/_176',\n",
       " 'model_11/bidirectional_11/backward_lstm_11/PartitionedCall/while/body/_173/while/add_2/y',\n",
       " 'unused_control_flow_input_59',\n",
       " 'model_11/bidirectional_11/backward_lstm_11/PartitionedCall/while/body/_173/while/add_2',\n",
       " 'model_11/bidirectional_11/backward_lstm_11/PartitionedCall/while/body/_173/while/Identity_2',\n",
       " 'Func/model_11/bidirectional_11/backward_lstm_11/PartitionedCall/while/body/_173/output/_352',\n",
       " 'model_11/bidirectional_11/backward_lstm_11/PartitionedCall/while/next_iteration/_223',\n",
       " 'model_11/bidirectional_11/backward_lstm_11/PartitionedCall/while/merge/_187',\n",
       " 'unused_control_flow_input_60',\n",
       " 'model_11/bidirectional_11/backward_lstm_11/PartitionedCall/while/model_11/bidirectional_11/backward_lstm_11/PartitionedCall/time_switch/_199',\n",
       " 'Func/model_11/bidirectional_11/backward_lstm_11/PartitionedCall/while/body/_173/input/_341',\n",
       " 'model_11/bidirectional_11/backward_lstm_11/ones_like/Shape',\n",
       " 'model_11/bidirectional_11/backward_lstm_11/ones_like/Const',\n",
       " 'model_11/bidirectional_11/backward_lstm_11/ones_like',\n",
       " 'model_11/bidirectional_11/backward_lstm_11/mul',\n",
       " 'Func/model_11/bidirectional_11/backward_lstm_11/PartitionedCall/input/_11',\n",
       " 'model_11/bidirectional_11/backward_lstm_11/PartitionedCall/transpose/perm',\n",
       " 'model_11/bidirectional_11/backward_lstm_11/PartitionedCall/transpose',\n",
       " 'model_11/bidirectional_11/backward_lstm_11/PartitionedCall/Shape',\n",
       " 'model_11/bidirectional_11/backward_lstm_11/PartitionedCall/strided_slice/stack',\n",
       " 'model_11/bidirectional_11/backward_lstm_11/PartitionedCall/strided_slice/stack_1',\n",
       " 'model_11/bidirectional_11/backward_lstm_11/PartitionedCall/strided_slice/stack_2',\n",
       " 'model_11/bidirectional_11/backward_lstm_11/PartitionedCall/strided_slice',\n",
       " 'model_11/bidirectional_11/backward_lstm_11/PartitionedCall/while/loop_counter',\n",
       " 'model_11/bidirectional_11/backward_lstm_11/PartitionedCall/while/enter/_174',\n",
       " 'unused_control_flow_input_61',\n",
       " 'Func/model_11/bidirectional_11/backward_lstm_11/PartitionedCall/while/body/_173/input/_339',\n",
       " 'model_11/bidirectional_11/backward_lstm_11/PartitionedCall/while/body/_173/while/add_3/y',\n",
       " 'model_11/bidirectional_11/backward_lstm_11/PartitionedCall/while/body/_173/while/add_3',\n",
       " 'model_11/bidirectional_11/backward_lstm_11/PartitionedCall/while/body/_173/while/Identity',\n",
       " 'Func/model_11/bidirectional_11/backward_lstm_11/PartitionedCall/while/body/_173/output/_350',\n",
       " 'model_11/bidirectional_11/backward_lstm_11/PartitionedCall/while/next_iteration/_221',\n",
       " 'model_11/bidirectional_11/backward_lstm_11/PartitionedCall/while/merge/_185',\n",
       " 'unused_control_flow_input_62',\n",
       " 'model_11/bidirectional_11/backward_lstm_11/PartitionedCall/while/model_11/bidirectional_11/backward_lstm_11/PartitionedCall/while/loop_counter_switch/_197',\n",
       " 'model_11/bidirectional_11/backward_lstm_11/PartitionedCall/while/loop_body_control/_208',\n",
       " 'Func/model_11/bidirectional_11/backward_lstm_11/PartitionedCall/while/body/_173/input_control_node/_338',\n",
       " 'Func/model_11/bidirectional_11/backward_lstm_11/PartitionedCall/while/cond/_172/input_control_node/_325',\n",
       " 'Func/model_11/bidirectional_11/backward_lstm_11/PartitionedCall/while/cond/_172/input/_328',\n",
       " 'Func/model_11/bidirectional_11/backward_lstm_11/PartitionedCall/while/cond/_172/input/_332',\n",
       " 'model_11/bidirectional_11/backward_lstm_11/PartitionedCall/while/cond/_172/while/Less',\n",
       " 'model_11/bidirectional_11/backward_lstm_11/PartitionedCall/while/cond/_172/while/Identity',\n",
       " 'Func/model_11/bidirectional_11/backward_lstm_11/PartitionedCall/while/cond/_172/output/_337',\n",
       " 'model_11/bidirectional_11/backward_lstm_11/PartitionedCall/while/LoopCond/_196',\n",
       " 'model_11/bidirectional_11/backward_lstm_11/PartitionedCall/TensorArrayV2_1/element_shape',\n",
       " 'model_11/bidirectional_11/backward_lstm_11/PartitionedCall/TensorArrayV2_1',\n",
       " 'model_11/bidirectional_11/backward_lstm_11/PartitionedCall/while/enter/_177',\n",
       " 'unused_control_flow_input_63',\n",
       " 'Func/model_11/bidirectional_11/backward_lstm_11/PartitionedCall/while/body/_173/input/_342',\n",
       " 'model_11/bidirectional_11/backward_lstm_11/PartitionedCall/while/body/_173/while/TensorArrayV2Write/TensorListSetItem',\n",
       " 'model_11/bidirectional_11/backward_lstm_11/PartitionedCall/while/body/_173/while/Identity_3',\n",
       " 'Func/model_11/bidirectional_11/backward_lstm_11/PartitionedCall/while/body/_173/output/_353',\n",
       " 'model_11/bidirectional_11/backward_lstm_11/PartitionedCall/while/next_iteration/_224',\n",
       " 'model_11/bidirectional_11/backward_lstm_11/PartitionedCall/while/merge/_188',\n",
       " 'model_11/bidirectional_11/backward_lstm_11/PartitionedCall/while/model_11/bidirectional_11/backward_lstm_11/PartitionedCall/TensorArrayV2_1_switch/_200',\n",
       " 'model_11/bidirectional_11/forward_lstm_11/Read/ReadVariableOp/resource',\n",
       " 'model_11/bidirectional_11/forward_lstm_11/Read/ReadVariableOp',\n",
       " 'model_11/bidirectional_11/forward_lstm_11/Identity',\n",
       " 'Func/model_11/bidirectional_11/forward_lstm_11/PartitionedCall/input/_3',\n",
       " 'model_11/bidirectional_11/forward_lstm_11/PartitionedCall/while/enter/_122',\n",
       " 'unused_control_flow_input_64',\n",
       " 'Func/model_11/bidirectional_11/forward_lstm_11/PartitionedCall/while/body/_113/output/_321',\n",
       " 'model_11/bidirectional_11/forward_lstm_11/PartitionedCall/while/next_iteration/_169',\n",
       " 'model_11/bidirectional_11/forward_lstm_11/PartitionedCall/while/merge/_133',\n",
       " 'model_11/bidirectional_11/forward_lstm_11/PartitionedCall/while/Func/model_11/bidirectional_11/forward_lstm_11/PartitionedCall/input/_3_switch/_145',\n",
       " 'Func/model_11/bidirectional_11/forward_lstm_11/PartitionedCall/while/body/_113/input/_310',\n",
       " 'model_11/bidirectional_11/forward_lstm_11/PartitionedCall/while/loop_body_control/_148',\n",
       " 'Func/model_11/bidirectional_11/forward_lstm_11/PartitionedCall/while/body/_113/input_control_node/_301',\n",
       " 'model_11/bidirectional_11/forward_lstm_11/PartitionedCall/TensorArrayUnstack/TensorListFromTensor/element_shape',\n",
       " 'unused_control_flow_input_65',\n",
       " 'model_11/bidirectional_11/forward_lstm_11/PartitionedCall/TensorArrayUnstack/TensorListFromTensor',\n",
       " 'model_11/bidirectional_11/forward_lstm_11/PartitionedCall/while/enter/_121',\n",
       " 'unused_control_flow_input_66',\n",
       " 'Func/model_11/bidirectional_11/forward_lstm_11/PartitionedCall/while/body/_113/output/_320',\n",
       " 'model_11/bidirectional_11/forward_lstm_11/PartitionedCall/while/next_iteration/_168',\n",
       " 'model_11/bidirectional_11/forward_lstm_11/PartitionedCall/while/merge/_132',\n",
       " 'model_11/bidirectional_11/forward_lstm_11/PartitionedCall/while/model_11/bidirectional_11/forward_lstm_11/PartitionedCall/TensorArrayUnstack/TensorListFromTensor_switch/_144',\n",
       " 'Func/model_11/bidirectional_11/forward_lstm_11/PartitionedCall/while/body/_113/input/_309',\n",
       " 'unused_control_flow_input_67',\n",
       " 'model_11/bidirectional_11/forward_lstm_11/Identity_2',\n",
       " 'Func/model_11/bidirectional_11/forward_lstm_11/PartitionedCall/input/_5',\n",
       " 'model_11/bidirectional_11/forward_lstm_11/PartitionedCall/while/enter/_124',\n",
       " 'unused_control_flow_input_68',\n",
       " 'Func/model_11/bidirectional_11/forward_lstm_11/PartitionedCall/while/body/_113/output/_323',\n",
       " 'model_11/bidirectional_11/forward_lstm_11/PartitionedCall/while/next_iteration/_171',\n",
       " 'model_11/bidirectional_11/forward_lstm_11/PartitionedCall/while/merge/_135',\n",
       " 'model_11/bidirectional_11/forward_lstm_11/PartitionedCall/while/Func/model_11/bidirectional_11/forward_lstm_11/PartitionedCall/input/_5_switch/_147',\n",
       " 'Func/model_11/bidirectional_11/forward_lstm_11/PartitionedCall/while/body/_113/input/_312',\n",
       " 'model_11/crf_11/rnn/while/loop_counter',\n",
       " 'model_11/crf_11/rnn/while/enter/_24',\n",
       " 'unused_control_flow_input_69',\n",
       " 'unused_control_flow_input_70',\n",
       " 'model_11/crf_11/rnn/while/model_11/crf_11/rnn/while/loop_counter_switch/_45',\n",
       " 'Func/model_11/crf_11/rnn/while/body/_23/input/_245',\n",
       " 'model_11/crf_11/rnn/while/body/_23/model_11/crf_11/rnn/while/add_1/y',\n",
       " 'model_11/crf_11/rnn/while/body/_23/model_11/crf_11/rnn/while/add_1',\n",
       " 'model_11/crf_11/rnn/while/body/_23/model_11/crf_11/rnn/while/Identity',\n",
       " 'Func/model_11/crf_11/rnn/while/body/_23/output/_255',\n",
       " 'model_11/crf_11/rnn/while/next_iteration/_67',\n",
       " 'model_11/crf_11/rnn/while/merge/_34',\n",
       " 'model_11/crf_11/rnn/while/enter/_30',\n",
       " 'unused_control_flow_input_71',\n",
       " 'unused_control_flow_input_72',\n",
       " 'model_11/crf_11/rnn/while/model_11/crf_11/rnn/strided_slice_switch/_51',\n",
       " 'Func/model_11/crf_11/rnn/while/body/_23/input/_251',\n",
       " 'Func/model_11/crf_11/rnn/while/body/_23/output/_261',\n",
       " 'model_11/crf_11/rnn/while/next_iteration/_73',\n",
       " 'model_11/crf_11/rnn/while/merge/_40',\n",
       " 'model_11/crf_11/rnn/time',\n",
       " 'model_11/crf_11/rnn/while/enter/_26',\n",
       " 'model_11/crf_11/rnn/while/body/_23/model_11/crf_11/rnn/while/add/y',\n",
       " 'unused_control_flow_input_73',\n",
       " 'model_11/crf_11/rnn/while/body/_23/model_11/crf_11/rnn/while/add',\n",
       " 'model_11/crf_11/rnn/while/body/_23/model_11/crf_11/rnn/while/Identity_2',\n",
       " 'Func/model_11/crf_11/rnn/while/body/_23/output/_257',\n",
       " 'model_11/crf_11/rnn/while/next_iteration/_69',\n",
       " 'model_11/crf_11/rnn/while/merge/_36',\n",
       " 'Func/model_11/crf_11/rnn/while/cond/_22/input_control_node/_232',\n",
       " 'Func/model_11/crf_11/rnn/while/cond/_22/input/_235',\n",
       " 'Func/model_11/crf_11/rnn/while/cond/_22/input/_239',\n",
       " 'model_11/crf_11/rnn/while/cond/_22/model_11/crf_11/rnn/while/Less',\n",
       " 'model_11/crf_11/rnn/while/cond/_22/model_11/crf_11/rnn/while/Identity',\n",
       " 'Func/model_11/crf_11/rnn/while/cond/_22/output/_243',\n",
       " 'model_11/crf_11/rnn/while/LoopCond/_44',\n",
       " 'model_11/crf_11/ExpandDims/dim',\n",
       " 'unused_control_flow_input_74',\n",
       " 'model_11/crf_11/ExpandDims',\n",
       " 'model_11/bidirectional_11/forward_lstm_11/ones_like/Shape',\n",
       " 'model_11/bidirectional_11/forward_lstm_11/ones_like/Const',\n",
       " 'model_11/bidirectional_11/forward_lstm_11/ones_like',\n",
       " 'model_11/bidirectional_11/forward_lstm_11/mul',\n",
       " 'Func/model_11/bidirectional_11/forward_lstm_11/PartitionedCall/input/_0',\n",
       " 'model_11/bidirectional_11/forward_lstm_11/PartitionedCall/transpose/perm',\n",
       " 'model_11/bidirectional_11/forward_lstm_11/PartitionedCall/transpose',\n",
       " 'model_11/bidirectional_11/forward_lstm_11/PartitionedCall/Shape',\n",
       " 'model_11/bidirectional_11/forward_lstm_11/PartitionedCall/strided_slice/stack',\n",
       " 'model_11/bidirectional_11/forward_lstm_11/PartitionedCall/strided_slice/stack_1',\n",
       " 'model_11/bidirectional_11/forward_lstm_11/PartitionedCall/strided_slice/stack_2',\n",
       " 'model_11/bidirectional_11/forward_lstm_11/PartitionedCall/strided_slice',\n",
       " 'model_11/bidirectional_11/forward_lstm_11/PartitionedCall/while/body/_113/while/split/split_dim',\n",
       " 'model_11/bidirectional_11/forward_lstm_11/PartitionedCall/while/body/_113/while/TensorArrayV2Read/TensorListGetItem/element_shape',\n",
       " 'model_11/bidirectional_11/forward_lstm_11/PartitionedCall/while/body/_113/while/TensorArrayV2Read/TensorListGetItem',\n",
       " 'model_11/bidirectional_11/forward_lstm_11/PartitionedCall/while/body/_113/while/MatMul',\n",
       " 'model_11/bidirectional_11/forward_lstm_11/Shape',\n",
       " 'model_11/bidirectional_11/forward_lstm_11/strided_slice/stack',\n",
       " 'model_11/bidirectional_11/forward_lstm_11/strided_slice/stack_1',\n",
       " 'model_11/bidirectional_11/forward_lstm_11/strided_slice/stack_2',\n",
       " 'model_11/bidirectional_11/forward_lstm_11/strided_slice',\n",
       " 'model_11/bidirectional_11/forward_lstm_11/zeros/packed/1',\n",
       " 'model_11/bidirectional_11/forward_lstm_11/zeros/packed',\n",
       " 'model_11/bidirectional_11/forward_lstm_11/zeros/Const',\n",
       " 'model_11/bidirectional_11/forward_lstm_11/zeros',\n",
       " 'Func/model_11/bidirectional_11/forward_lstm_11/PartitionedCall/input/_1',\n",
       " 'model_11/bidirectional_11/forward_lstm_11/PartitionedCall/while/enter/_118',\n",
       " 'unused_control_flow_input_75',\n",
       " 'model_11/bidirectional_11/forward_lstm_11/PartitionedCall/while/body/_113/while/Identity_4',\n",
       " 'Func/model_11/bidirectional_11/forward_lstm_11/PartitionedCall/while/body/_113/output/_317',\n",
       " 'model_11/bidirectional_11/forward_lstm_11/PartitionedCall/while/next_iteration/_165',\n",
       " 'model_11/bidirectional_11/forward_lstm_11/PartitionedCall/while/merge/_129',\n",
       " 'model_11/bidirectional_11/forward_lstm_11/PartitionedCall/while/Func/model_11/bidirectional_11/forward_lstm_11/PartitionedCall/input/_1_switch/_141',\n",
       " 'Func/model_11/bidirectional_11/forward_lstm_11/PartitionedCall/while/body/_113/input/_306',\n",
       " 'model_11/bidirectional_11/forward_lstm_11/PartitionedCall/while/body/_113/while/MatMul_1',\n",
       " 'model_11/bidirectional_11/forward_lstm_11/PartitionedCall/while/body/_113/while/add',\n",
       " 'model_11/bidirectional_11/forward_lstm_11/PartitionedCall/while/body/_113/while/BiasAdd',\n",
       " 'model_11/bidirectional_11/forward_lstm_11/PartitionedCall/while/body/_113/while/split',\n",
       " 'model_11/bidirectional_11/forward_lstm_11/PartitionedCall/while/body/_113/while/Sigmoid_1',\n",
       " 'model_11/bidirectional_11/forward_lstm_11/zeros_1/packed/1',\n",
       " 'model_11/bidirectional_11/forward_lstm_11/zeros_1/packed',\n",
       " 'model_11/bidirectional_11/forward_lstm_11/zeros_1/Const',\n",
       " 'model_11/bidirectional_11/forward_lstm_11/zeros_1',\n",
       " 'Func/model_11/bidirectional_11/forward_lstm_11/PartitionedCall/input/_2',\n",
       " 'model_11/bidirectional_11/forward_lstm_11/PartitionedCall/while/enter/_119',\n",
       " 'unused_control_flow_input_76',\n",
       " 'model_11/bidirectional_11/forward_lstm_11/PartitionedCall/while/body/_113/while/Identity_5',\n",
       " 'Func/model_11/bidirectional_11/forward_lstm_11/PartitionedCall/while/body/_113/output/_318',\n",
       " 'model_11/bidirectional_11/forward_lstm_11/PartitionedCall/while/next_iteration/_166',\n",
       " 'model_11/bidirectional_11/forward_lstm_11/PartitionedCall/while/merge/_130',\n",
       " 'model_11/bidirectional_11/forward_lstm_11/PartitionedCall/while/Func/model_11/bidirectional_11/forward_lstm_11/PartitionedCall/input/_2_switch/_142',\n",
       " 'Func/model_11/bidirectional_11/forward_lstm_11/PartitionedCall/while/body/_113/input/_307',\n",
       " 'model_11/bidirectional_11/forward_lstm_11/PartitionedCall/while/body/_113/while/mul',\n",
       " 'model_11/bidirectional_11/forward_lstm_11/PartitionedCall/while/body/_113/while/Sigmoid',\n",
       " 'model_11/bidirectional_11/forward_lstm_11/PartitionedCall/while/body/_113/while/Tanh',\n",
       " 'model_11/bidirectional_11/forward_lstm_11/PartitionedCall/while/body/_113/while/mul_1',\n",
       " 'model_11/bidirectional_11/forward_lstm_11/PartitionedCall/while/body/_113/while/add_1',\n",
       " 'model_11/bidirectional_11/forward_lstm_11/PartitionedCall/while/body/_113/while/Sigmoid_2',\n",
       " 'model_11/bidirectional_11/forward_lstm_11/PartitionedCall/while/body/_113/while/Tanh_1',\n",
       " 'model_11/bidirectional_11/forward_lstm_11/PartitionedCall/while/body/_113/while/mul_2',\n",
       " 'Func/model_11/bidirectional_11/forward_lstm_11/PartitionedCall/while/body/_113/output_control_node/_324',\n",
       " 'model_11/bidirectional_11/forward_lstm_11/PartitionedCall/TensorArrayV2_1/element_shape',\n",
       " 'model_11/bidirectional_11/forward_lstm_11/PartitionedCall/TensorArrayV2_1',\n",
       " 'model_11/bidirectional_11/forward_lstm_11/PartitionedCall/while/enter/_117',\n",
       " 'unused_control_flow_input_77',\n",
       " 'Func/model_11/bidirectional_11/forward_lstm_11/PartitionedCall/while/body/_113/input/_305',\n",
       " 'model_11/bidirectional_11/forward_lstm_11/PartitionedCall/while/body/_113/while/TensorArrayV2Write/TensorListSetItem',\n",
       " 'model_11/bidirectional_11/forward_lstm_11/PartitionedCall/while/body/_113/while/Identity_3',\n",
       " 'Func/model_11/bidirectional_11/forward_lstm_11/PartitionedCall/while/body/_113/output/_316',\n",
       " 'model_11/bidirectional_11/forward_lstm_11/PartitionedCall/while/next_iteration/_164',\n",
       " 'model_11/bidirectional_11/forward_lstm_11/PartitionedCall/while/merge/_128',\n",
       " 'model_11/bidirectional_11/forward_lstm_11/PartitionedCall/while/model_11/bidirectional_11/forward_lstm_11/PartitionedCall/TensorArrayV2_1_switch/_140',\n",
       " 'Func/model_11/crf_11/rnn/while/body/_23/output_control_node/_265',\n",
       " 'model_11/crf_11/rnn/while/enter/_33',\n",
       " 'unused_control_flow_input_78',\n",
       " 'Func/model_11/crf_11/rnn/while/body/_23/output/_264',\n",
       " 'model_11/crf_11/rnn/while/next_iteration/_76',\n",
       " 'model_11/crf_11/rnn/while/merge/_43',\n",
       " 'model_11/crf_11/rnn/while/model_11/crf_11/ExpandDims_switch/_54',\n",
       " 'Func/model_11/crf_11/rnn/while/body/_23/input/_254',\n",
       " 'model_11/crf_11/rnn/while/model_11/crf_11/rnn/time_switch/_47',\n",
       " 'Func/model_11/crf_11/rnn/while/body/_23/input/_247',\n",
       " 'unused_control_flow_input_79',\n",
       " 'model_11/crf_11/ExpandDims/ReadVariableOp',\n",
       " 'Func/model_11/crf_11/scan/while/cond/_77/input_control_node/_266',\n",
       " 'Func/model_11/crf_11/scan/while/cond/_77/input/_267',\n",
       " 'Func/model_11/crf_11/scan/while/cond/_77/input/_268',\n",
       " 'model_11/crf_11/scan/while/cond/_77/model_11/crf_11/scan/while/Less_1',\n",
       " 'unused_control_flow_input_80',\n",
       " 'Func/model_11/crf_11/scan/while/cond/_77/input/_269',\n",
       " 'model_11/crf_11/scan/while/cond/_77/model_11/crf_11/scan/while/Less/y',\n",
       " 'model_11/crf_11/scan/while/cond/_77/model_11/crf_11/scan/while/Less',\n",
       " 'model_11/crf_11/scan/while/cond/_77/model_11/crf_11/scan/while/LogicalAnd',\n",
       " 'model_11/crf_11/scan/while/cond/_77/model_11/crf_11/scan/while/Identity',\n",
       " 'Func/model_11/crf_11/scan/while/cond/_77/output/_273',\n",
       " 'model_11/crf_11/scan/while/LoopCond/_91',\n",
       " 'model_11/crf_11/rnn/while/loop_body_control/_55',\n",
       " 'Func/model_11/crf_11/rnn/while/body/_23/input_control_node/_244',\n",
       " 'unused_control_flow_input_81',\n",
       " 'Func/model_11/crf_11/rnn/while/body/_23/input/_250',\n",
       " 'model_11/crf_11/rnn/while/body/_23/model_11/crf_11/rnn/while/crf_decode_forward_rnn_cell/ExpandDims/dim',\n",
       " 'model_11/crf_11/rnn/while/body/_23/model_11/crf_11/rnn/while/crf_decode_forward_rnn_cell/ExpandDims',\n",
       " 'model_11/crf_11/rnn/while/body/_23/model_11/crf_11/rnn/while/crf_decode_forward_rnn_cell/add',\n",
       " 'model_11/crf_11/Slice_1/begin',\n",
       " 'model_11/crf_11/Slice_1/size',\n",
       " 'unused_control_flow_input_82',\n",
       " 'model_11/crf_11/Slice_1',\n",
       " 'model_11/crf_11/Squeeze',\n",
       " 'model_11/crf_11/rnn/while/enter/_29',\n",
       " 'model_11/crf_11/rnn/while/body/_23/model_11/crf_11/rnn/while/Tile_1/multiples',\n",
       " 'model_11/crf_11/rnn/while/body/_23/model_11/crf_11/rnn/while/Tile_1',\n",
       " 'model_11/crf_11/rnn/while/body/_23/model_11/crf_11/rnn/while/TensorArrayV2Read/TensorListGetItem/element_shape',\n",
       " 'model_11/crf_11/rnn/while/body/_23/model_11/crf_11/rnn/while/TensorArrayV2Read/TensorListGetItem',\n",
       " 'model_11/crf_11/rnn/while/body/_23/model_11/crf_11/rnn/while/crf_decode_forward_rnn_cell/Max/reduction_indices',\n",
       " 'model_11/crf_11/rnn/while/body/_23/model_11/crf_11/rnn/while/crf_decode_forward_rnn_cell/Max',\n",
       " 'model_11/crf_11/rnn/while/body/_23/model_11/crf_11/rnn/while/crf_decode_forward_rnn_cell/add_1',\n",
       " 'model_11/crf_11/rnn/while/body/_23/model_11/crf_11/rnn/while/SelectV2_1',\n",
       " 'model_11/crf_11/rnn/while/body/_23/model_11/crf_11/rnn/while/Identity_5',\n",
       " 'Func/model_11/crf_11/rnn/while/body/_23/output/_260',\n",
       " 'model_11/crf_11/rnn/while/next_iteration/_72',\n",
       " 'model_11/crf_11/rnn/while/merge/_39',\n",
       " 'model_11/crf_11/rnn/while/model_11/crf_11/Squeeze_switch/_50',\n",
       " 'model_11/bidirectional_11/backward_lstm_11/Read_2/ReadVariableOp/resource',\n",
       " 'model_11/bidirectional_11/backward_lstm_11/Read_2/ReadVariableOp',\n",
       " 'model_11/crf_11/ExpandDims/ReadVariableOp/resource',\n",
       " 'model_11/crf_11/scan/Const',\n",
       " 'model_11/crf_11/scan/while/enter/_81',\n",
       " 'model_11/crf_11/scan/while/body/_78/model_11/crf_11/scan/while/add/y',\n",
       " 'unused_control_flow_input_83',\n",
       " 'model_11/crf_11/scan/while/body/_78/model_11/crf_11/scan/while/add',\n",
       " 'model_11/crf_11/scan/while/body/_78/model_11/crf_11/scan/while/Identity_2',\n",
       " 'Func/model_11/crf_11/scan/while/body/_78/output/_283',\n",
       " 'model_11/crf_11/scan/while/next_iteration/_108',\n",
       " 'model_11/crf_11/scan/while/merge/_87',\n",
       " 'Func/model_11/crf_11/scan/while/body/_78/output_control_node/_287',\n",
       " 'model_11/crf_11/rnn/while/exit/_61',\n",
       " 'model_11/crf_11/ArgMax/dimension',\n",
       " 'model_11/crf_11/ArgMax',\n",
       " 'model_11/crf_11/Cast_2',\n",
       " 'model_11/crf_11/ExpandDims_1/dim',\n",
       " 'model_11/crf_11/ExpandDims_1',\n",
       " 'model_11/crf_11/scan/while/model_11/crf_11/scan/Const_switch/_94',\n",
       " 'Func/model_11/crf_11/scan/while/body/_78/input/_277',\n",
       " 'model_11/crf_11/scan/TensorArrayV2_1/element_shape',\n",
       " 'model_11/crf_11/scan/TensorArrayV2_1/num_elements',\n",
       " 'model_11/crf_11/scan/TensorArrayV2_1',\n",
       " 'model_11/crf_11/scan/while/enter/_83',\n",
       " 'unused_control_flow_input_84',\n",
       " 'Func/model_11/crf_11/scan/while/body/_78/input/_279',\n",
       " 'model_11/crf_11/scan/while/body/_78/model_11/crf_11/scan/while/TensorArrayV2Write/TensorListSetItem',\n",
       " 'model_11/crf_11/scan/while/body/_78/model_11/crf_11/scan/while/Identity_4',\n",
       " 'Func/model_11/crf_11/scan/while/body/_78/output/_285',\n",
       " 'model_11/crf_11/scan/while/next_iteration/_110',\n",
       " 'model_11/crf_11/scan/while/merge/_89',\n",
       " 'model_11/crf_11/scan/while/model_11/crf_11/scan/TensorArrayV2_1_switch/_96',\n",
       " 'model_11/bidirectional_11/backward_lstm_11/Read_1/ReadVariableOp/resource',\n",
       " 'model_11/bidirectional_11/backward_lstm_11/Read_1/ReadVariableOp',\n",
       " 'model_11/bidirectional_11/backward_lstm_11/Read/ReadVariableOp/resource',\n",
       " 'model_11/bidirectional_11/backward_lstm_11/Read/ReadVariableOp',\n",
       " 'model_11/crf_11/dense_3/Tensordot/free',\n",
       " 'model_11/crf_11/dense_3/Tensordot/axes',\n",
       " 'model_11/crf_11/dense_3/Tensordot/concat/axis',\n",
       " 'model_11/crf_11/dense_3/Tensordot/concat',\n",
       " 'unused_control_flow_input_85',\n",
       " 'model_11/crf_11/dense_3/Tensordot/transpose',\n",
       " 'unused_control_flow_input_86',\n",
       " 'model_11/crf_11/dense_3/Tensordot/Shape',\n",
       " 'model_11/crf_11/dense_3/Tensordot/GatherV2/axis',\n",
       " 'model_11/crf_11/dense_3/Tensordot/GatherV2',\n",
       " 'model_11/crf_11/dense_3/Tensordot/Const',\n",
       " 'model_11/crf_11/dense_3/Tensordot/Prod',\n",
       " 'model_11/crf_11/dense_3/Tensordot/GatherV2_1/axis',\n",
       " 'model_11/crf_11/dense_3/Tensordot/GatherV2_1',\n",
       " 'model_11/crf_11/dense_3/Tensordot/Const_1',\n",
       " 'model_11/crf_11/dense_3/Tensordot/Prod_1',\n",
       " 'model_11/crf_11/dense_3/Tensordot/stack',\n",
       " 'model_11/crf_11/dense_3/Tensordot/Reshape',\n",
       " 'model_11/crf_11/dense_3/Tensordot/ReadVariableOp/resource',\n",
       " 'model_11/crf_11/dense_3/Tensordot/ReadVariableOp',\n",
       " 'model_11/crf_11/dense_3/Tensordot/MatMul',\n",
       " 'model_11/crf_11/dense_3/Tensordot/Const_2',\n",
       " 'model_11/crf_11/dense_3/Tensordot/concat_1/axis',\n",
       " 'model_11/crf_11/dense_3/Tensordot/concat_1',\n",
       " 'model_11/crf_11/dense_3/Tensordot',\n",
       " 'model_11/crf_11/dense_3/BiasAdd/ReadVariableOp/resource',\n",
       " 'model_11/crf_11/dense_3/BiasAdd/ReadVariableOp',\n",
       " 'model_11/crf_11/dense_3/BiasAdd',\n",
       " 'model_11/crf_11/strided_slice/stack',\n",
       " 'model_11/crf_11/strided_slice/stack_1',\n",
       " 'model_11/crf_11/strided_slice/stack_2',\n",
       " 'model_11/crf_11/strided_slice',\n",
       " 'model_11/crf_11/Reshape/shape',\n",
       " 'unused_control_flow_input_87',\n",
       " 'model_11/crf_11/Reshape',\n",
       " 'model_11/crf_11/add',\n",
       " 'model_11/crf_11/strided_slice_1/stack',\n",
       " 'model_11/crf_11/strided_slice_1/stack_1',\n",
       " 'model_11/crf_11/strided_slice_1/stack_2',\n",
       " 'model_11/crf_11/strided_slice_1',\n",
       " 'model_11/crf_11/concat/axis',\n",
       " 'model_11/crf_11/concat',\n",
       " 'model_11/crf_11/strided_slice_2/stack',\n",
       " 'model_11/crf_11/strided_slice_2/stack_1',\n",
       " 'model_11/crf_11/strided_slice_2/stack_2',\n",
       " 'model_11/crf_11/strided_slice_2',\n",
       " 'model_11/crf_11/strided_slice_3/stack',\n",
       " 'model_11/crf_11/strided_slice_3/stack_1',\n",
       " 'model_11/crf_11/strided_slice_3/stack_2',\n",
       " 'model_11/crf_11/strided_slice_3',\n",
       " 'model_11/crf_11/Reshape_1/ReadVariableOp/resource',\n",
       " 'model_11/crf_11/Reshape_1/ReadVariableOp',\n",
       " 'model_11/crf_11/Reshape_1/shape',\n",
       " 'model_11/crf_11/Reshape_1',\n",
       " 'model_11/crf_11/add_1',\n",
       " 'model_11/crf_11/concat_1/axis',\n",
       " 'model_11/crf_11/concat_1',\n",
       " 'model_11/bidirectional_11/forward_lstm_11/PartitionedCall/while/exit/_152',\n",
       " 'model_11/bidirectional_11/forward_lstm_11/PartitionedCall/TensorArrayV2Stack/TensorListStack/element_shape',\n",
       " 'model_11/bidirectional_11/forward_lstm_11/PartitionedCall/TensorArrayV2Stack/TensorListStack',\n",
       " 'model_11/bidirectional_11/forward_lstm_11/PartitionedCall/transpose_1/perm',\n",
       " 'model_11/bidirectional_11/forward_lstm_11/PartitionedCall/transpose_1',\n",
       " 'model_11/bidirectional_11/forward_lstm_11/PartitionedCall/Identity_1',\n",
       " 'Func/model_11/bidirectional_11/forward_lstm_11/PartitionedCall/output/_7',\n",
       " 'model_11/bidirectional_11/backward_lstm_11/PartitionedCall/while/exit/_212',\n",
       " 'model_11/bidirectional_11/backward_lstm_11/PartitionedCall/TensorArrayV2Stack/TensorListStack/element_shape',\n",
       " 'model_11/bidirectional_11/backward_lstm_11/PartitionedCall/TensorArrayV2Stack/TensorListStack',\n",
       " 'model_11/bidirectional_11/backward_lstm_11/PartitionedCall/transpose_1/perm',\n",
       " 'model_11/bidirectional_11/backward_lstm_11/PartitionedCall/transpose_1',\n",
       " 'model_11/bidirectional_11/backward_lstm_11/PartitionedCall/Identity_1',\n",
       " 'Func/model_11/bidirectional_11/backward_lstm_11/PartitionedCall/output/_18',\n",
       " 'model_11/bidirectional_11/ReverseV2/axis',\n",
       " 'model_11/bidirectional_11/ReverseV2',\n",
       " 'model_11/bidirectional_11/concat/axis',\n",
       " 'model_11/bidirectional_11/concat',\n",
       " 'model_11/crf_11/Shape',\n",
       " 'model_11/crf_11/Slice/begin',\n",
       " 'model_11/crf_11/Slice/size',\n",
       " 'model_11/crf_11/Slice',\n",
       " 'model_11/crf_11/ones/Const',\n",
       " 'model_11/crf_11/ones',\n",
       " 'model_11/crf_11/Cast',\n",
       " 'model_11/crf_11/Sum/reduction_indices',\n",
       " 'model_11/crf_11/Sum',\n",
       " 'model_11/crf_11/Cast_1',\n",
       " 'model_11/bidirectional_11/forward_lstm_11/Read_2/ReadVariableOp/resource',\n",
       " 'model_11/bidirectional_11/forward_lstm_11/Read_2/ReadVariableOp',\n",
       " 'model_11/crf_11/Reshape/ReadVariableOp/resource',\n",
       " 'model_11/crf_11/Reshape/ReadVariableOp',\n",
       " 'model_11/crf_11/scan/while/exit/_103',\n",
       " 'model_11/crf_11/scan/TensorArrayV2Stack/TensorListStack/element_shape',\n",
       " 'model_11/crf_11/scan/TensorArrayV2Stack/TensorListStack',\n",
       " 'model_11/crf_11/transpose_1/perm',\n",
       " 'model_11/crf_11/transpose_1',\n",
       " 'model_11/crf_11/Squeeze_1',\n",
       " 'model_11/crf_11/concat_2/axis',\n",
       " 'model_11/crf_11/concat_2',\n",
       " 'model_11/crf_11/ReverseSequence_1',\n",
       " 'ReadVariableOp',\n",
       " 'Identity',\n",
       " 'Identity_1',\n",
       " 'Identity_2',\n",
       " 'Identity_3']"
      ]
     },
     "execution_count": 30,
     "metadata": {},
     "output_type": "execute_result"
    }
   ],
   "source": [
    "layers"
   ]
  },
  {
   "cell_type": "code",
   "execution_count": 33,
   "metadata": {},
   "outputs": [
    {
     "name": "stdout",
     "output_type": "stream",
     "text": [
      "Model: \"model_11\"\n",
      "_________________________________________________________________\n",
      "Layer (type)                 Output Shape              Param #   \n",
      "=================================================================\n",
      "input_12 (InputLayer)        [(None, 64, 24)]          0         \n",
      "_________________________________________________________________\n",
      "bidirectional_11 (Bidirectio (None, 64, 1024)          2199552   \n",
      "_________________________________________________________________\n",
      "crf_11 (CRF)                 [(None, 64), (None, 64, 2 26300     \n",
      "=================================================================\n",
      "Total params: 2,225,852\n",
      "Trainable params: 2,225,852\n",
      "Non-trainable params: 0\n",
      "_________________________________________________________________\n"
     ]
    }
   ],
   "source": [
    "# Save frozen graph from frozen ConcreteFunction to hard drive\n",
    "# serialize the frozen graph and its text representation to disk.\n",
    "tf.io.write_graph(graph_or_graph_def=frozen_func.graph,\n",
    "                  logdir=\"models/graph/\",\n",
    "                  name=\"chroma-seq-bilstm-crf-0-base.pb\",\n",
    "                  as_text=False)\n",
    "\n",
    "#Optional\n",
    "tf.io.write_graph(graph_or_graph_def=frozen_func.graph,\n",
    "                  logdir=\"models/graph/\",\n",
    "                  name=\"chroma-seq-bilstm-crf-0-base.pbtxt\",\n",
    "                  as_text=True)\n",
    "\n",
    "model.summary()"
   ]
  },
  {
   "cell_type": "code",
   "execution_count": null,
   "metadata": {},
   "outputs": [],
   "source": []
  },
  {
   "cell_type": "code",
   "execution_count": null,
   "metadata": {},
   "outputs": [],
   "source": []
  },
  {
   "cell_type": "markdown",
   "metadata": {},
   "source": [
    "#### Scratch"
   ]
  },
  {
   "cell_type": "code",
   "execution_count": null,
   "metadata": {},
   "outputs": [],
   "source": []
  }
 ],
 "metadata": {
  "kernelspec": {
   "display_name": "Python 3",
   "language": "python",
   "name": "python3"
  },
  "language_info": {
   "codemirror_mode": {
    "name": "ipython",
    "version": 3
   },
   "file_extension": ".py",
   "mimetype": "text/x-python",
   "name": "python",
   "nbconvert_exporter": "python",
   "pygments_lexer": "ipython3",
   "version": "3.6.6"
  }
 },
 "nbformat": 4,
 "nbformat_minor": 2
}
