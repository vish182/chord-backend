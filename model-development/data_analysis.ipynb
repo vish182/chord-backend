{
 "cells": [
  {
   "cell_type": "code",
   "execution_count": 1,
   "metadata": {},
   "outputs": [
    {
     "name": "stdout",
     "output_type": "stream",
     "text": [
      "data/McGill-Billboard/billboard-2.0-index.csv\r\n",
      "data/McGill-Billboard/billboard-2.0-manychords-chorddurations.csv\r\n",
      "data/McGill-Billboard/billboard-2.0-manychords.csv\r\n",
      "data/McGill-Billboard/billboard-2.0-unique.csv\r\n"
     ]
    }
   ],
   "source": [
    "!ls data/*/*.csv"
   ]
  },
  {
   "cell_type": "code",
   "execution_count": 2,
   "metadata": {},
   "outputs": [
    {
     "data": {
      "text/html": [
       "<div>\n",
       "<style scoped>\n",
       "    .dataframe tbody tr th:only-of-type {\n",
       "        vertical-align: middle;\n",
       "    }\n",
       "\n",
       "    .dataframe tbody tr th {\n",
       "        vertical-align: top;\n",
       "    }\n",
       "\n",
       "    .dataframe thead th {\n",
       "        text-align: right;\n",
       "    }\n",
       "</style>\n",
       "<table border=\"1\" class=\"dataframe\">\n",
       "  <thead>\n",
       "    <tr style=\"text-align: right;\">\n",
       "      <th></th>\n",
       "      <th>id</th>\n",
       "      <th>chart_date</th>\n",
       "      <th>target_rank</th>\n",
       "      <th>actual_rank</th>\n",
       "      <th>title</th>\n",
       "      <th>artist</th>\n",
       "      <th>peak_rank</th>\n",
       "      <th>weeks_on_chart</th>\n",
       "    </tr>\n",
       "  </thead>\n",
       "  <tbody>\n",
       "    <tr>\n",
       "      <th>0</th>\n",
       "      <td>1</td>\n",
       "      <td>1987-07-11</td>\n",
       "      <td>82</td>\n",
       "      <td>NaN</td>\n",
       "      <td>NaN</td>\n",
       "      <td>NaN</td>\n",
       "      <td>NaN</td>\n",
       "      <td>NaN</td>\n",
       "    </tr>\n",
       "    <tr>\n",
       "      <th>1</th>\n",
       "      <td>2</td>\n",
       "      <td>1973-08-04</td>\n",
       "      <td>14</td>\n",
       "      <td>NaN</td>\n",
       "      <td>NaN</td>\n",
       "      <td>NaN</td>\n",
       "      <td>NaN</td>\n",
       "      <td>NaN</td>\n",
       "    </tr>\n",
       "    <tr>\n",
       "      <th>2</th>\n",
       "      <td>3</td>\n",
       "      <td>1961-07-03</td>\n",
       "      <td>56</td>\n",
       "      <td>57.0</td>\n",
       "      <td>I Don't Mind</td>\n",
       "      <td>James Brown</td>\n",
       "      <td>47.0</td>\n",
       "      <td>8.0</td>\n",
       "    </tr>\n",
       "    <tr>\n",
       "      <th>3</th>\n",
       "      <td>4</td>\n",
       "      <td>1971-08-07</td>\n",
       "      <td>32</td>\n",
       "      <td>31.0</td>\n",
       "      <td>You've Got A Friend</td>\n",
       "      <td>Roberta Flack,Donny Hathaway</td>\n",
       "      <td>29.0</td>\n",
       "      <td>12.0</td>\n",
       "    </tr>\n",
       "    <tr>\n",
       "      <th>4</th>\n",
       "      <td>5</td>\n",
       "      <td>1976-07-10</td>\n",
       "      <td>51</td>\n",
       "      <td>NaN</td>\n",
       "      <td>NaN</td>\n",
       "      <td>NaN</td>\n",
       "      <td>NaN</td>\n",
       "      <td>NaN</td>\n",
       "    </tr>\n",
       "  </tbody>\n",
       "</table>\n",
       "</div>"
      ],
      "text/plain": [
       "   id  chart_date  target_rank  actual_rank                title  \\\n",
       "0   1  1987-07-11           82          NaN                  NaN   \n",
       "1   2  1973-08-04           14          NaN                  NaN   \n",
       "2   3  1961-07-03           56         57.0         I Don't Mind   \n",
       "3   4  1971-08-07           32         31.0  You've Got A Friend   \n",
       "4   5  1976-07-10           51          NaN                  NaN   \n",
       "\n",
       "                         artist  peak_rank  weeks_on_chart  \n",
       "0                           NaN        NaN             NaN  \n",
       "1                           NaN        NaN             NaN  \n",
       "2                   James Brown       47.0             8.0  \n",
       "3  Roberta Flack,Donny Hathaway       29.0            12.0  \n",
       "4                           NaN        NaN             NaN  "
      ]
     },
     "execution_count": 2,
     "metadata": {},
     "output_type": "execute_result"
    }
   ],
   "source": [
    "import pandas as pd\n",
    "df = pd.read_csv('data/McGill-Billboard/billboard-2.0-index.csv')\n",
    "df.head()"
   ]
  },
  {
   "cell_type": "code",
   "execution_count": 29,
   "metadata": {},
   "outputs": [
    {
     "name": "stdout",
     "output_type": "stream",
     "text": [
      "1958-1991\n"
     ]
    }
   ],
   "source": [
    "# check date range of songs\n",
    "years = pd.DatetimeIndex(df.chart_date).year\n",
    "print(f'{years.min()}-{years.max()}')"
   ]
  },
  {
   "cell_type": "code",
   "execution_count": 3,
   "metadata": {},
   "outputs": [
    {
     "data": {
      "text/html": [
       "<div>\n",
       "<style scoped>\n",
       "    .dataframe tbody tr th:only-of-type {\n",
       "        vertical-align: middle;\n",
       "    }\n",
       "\n",
       "    .dataframe tbody tr th {\n",
       "        vertical-align: top;\n",
       "    }\n",
       "\n",
       "    .dataframe thead th {\n",
       "        text-align: right;\n",
       "    }\n",
       "</style>\n",
       "<table border=\"1\" class=\"dataframe\">\n",
       "  <thead>\n",
       "    <tr style=\"text-align: right;\">\n",
       "      <th></th>\n",
       "      <th>id</th>\n",
       "      <th>title</th>\n",
       "      <th>artist</th>\n",
       "    </tr>\n",
       "  </thead>\n",
       "  <tbody>\n",
       "    <tr>\n",
       "      <th>2</th>\n",
       "      <td>3</td>\n",
       "      <td>I Don't Mind</td>\n",
       "      <td>James Brown</td>\n",
       "    </tr>\n",
       "    <tr>\n",
       "      <th>3</th>\n",
       "      <td>4</td>\n",
       "      <td>You've Got A Friend</td>\n",
       "      <td>Roberta Flack,Donny Hathaway</td>\n",
       "    </tr>\n",
       "    <tr>\n",
       "      <th>5</th>\n",
       "      <td>6</td>\n",
       "      <td>The Rose</td>\n",
       "      <td>Bette Midler</td>\n",
       "    </tr>\n",
       "    <tr>\n",
       "      <th>9</th>\n",
       "      <td>10</td>\n",
       "      <td>An Innocent Man</td>\n",
       "      <td>Billy Joel</td>\n",
       "    </tr>\n",
       "    <tr>\n",
       "      <th>11</th>\n",
       "      <td>12</td>\n",
       "      <td>Lookin' For Love</td>\n",
       "      <td>Johnny Lee</td>\n",
       "    </tr>\n",
       "  </tbody>\n",
       "</table>\n",
       "</div>"
      ],
      "text/plain": [
       "    id                title                        artist\n",
       "2    3         I Don't Mind                   James Brown\n",
       "3    4  You've Got A Friend  Roberta Flack,Donny Hathaway\n",
       "5    6             The Rose                  Bette Midler\n",
       "9   10      An Innocent Man                    Billy Joel\n",
       "11  12     Lookin' For Love                    Johnny Lee"
      ]
     },
     "execution_count": 3,
     "metadata": {},
     "output_type": "execute_result"
    }
   ],
   "source": [
    "# for our application we're only interested in ID, title, and artist\n",
    "df_songs = df[df.title.notnull() & df.artist.notnull()][['id', 'title', 'artist']]\n",
    "df_songs.head()"
   ]
  },
  {
   "cell_type": "code",
   "execution_count": 18,
   "metadata": {},
   "outputs": [
    {
     "data": {
      "text/html": [
       "<div>\n",
       "<style scoped>\n",
       "    .dataframe tbody tr th:only-of-type {\n",
       "        vertical-align: middle;\n",
       "    }\n",
       "\n",
       "    .dataframe tbody tr th {\n",
       "        vertical-align: top;\n",
       "    }\n",
       "\n",
       "    .dataframe thead th {\n",
       "        text-align: right;\n",
       "    }\n",
       "</style>\n",
       "<table border=\"1\" class=\"dataframe\">\n",
       "  <thead>\n",
       "    <tr style=\"text-align: right;\">\n",
       "      <th></th>\n",
       "      <th>id</th>\n",
       "      <th>title</th>\n",
       "      <th>artist</th>\n",
       "    </tr>\n",
       "  </thead>\n",
       "  <tbody>\n",
       "    <tr>\n",
       "      <th>3</th>\n",
       "      <td>4</td>\n",
       "      <td>You've Got A Friend</td>\n",
       "      <td>Roberta Flack,Donny Hathaway</td>\n",
       "    </tr>\n",
       "    <tr>\n",
       "      <th>5</th>\n",
       "      <td>6</td>\n",
       "      <td>The Rose</td>\n",
       "      <td>Bette Midler</td>\n",
       "    </tr>\n",
       "    <tr>\n",
       "      <th>15</th>\n",
       "      <td>16</td>\n",
       "      <td>She Bop</td>\n",
       "      <td>Cyndi Lauper</td>\n",
       "    </tr>\n",
       "    <tr>\n",
       "      <th>22</th>\n",
       "      <td>23</td>\n",
       "      <td>And She Was</td>\n",
       "      <td>Talking Heads</td>\n",
       "    </tr>\n",
       "    <tr>\n",
       "      <th>28</th>\n",
       "      <td>29</td>\n",
       "      <td>The Joker</td>\n",
       "      <td>Steve Miller Band</td>\n",
       "    </tr>\n",
       "  </tbody>\n",
       "</table>\n",
       "</div>"
      ],
      "text/plain": [
       "    id                title                        artist\n",
       "3    4  You've Got A Friend  Roberta Flack,Donny Hathaway\n",
       "5    6             The Rose                  Bette Midler\n",
       "15  16              She Bop                  Cyndi Lauper\n",
       "22  23          And She Was                 Talking Heads\n",
       "28  29            The Joker             Steve Miller Band"
      ]
     },
     "execution_count": 18,
     "metadata": {},
     "output_type": "execute_result"
    }
   ],
   "source": [
    "# check duplicates\n",
    "dups = df_songs[df_songs.duplicated(subset=['title','artist'], keep=False)]\n",
    "dups.head()"
   ]
  },
  {
   "cell_type": "markdown",
   "metadata": {},
   "source": [
    "#### Check available features"
   ]
  },
  {
   "cell_type": "code",
   "execution_count": 4,
   "metadata": {},
   "outputs": [
    {
     "name": "stdout",
     "output_type": "stream",
     "text": [
      "total 812\r\n",
      "-rw-rw-r-- 1 cjbayron cjbayron 580969 Aug  2  2013 bothchroma.csv\r\n",
      "-rw-rw-r-- 1 cjbayron cjbayron 221942 Aug  2  2013 echonest.json\r\n",
      "-rw-r--r-- 1 cjbayron cjbayron   3877 Sep  9  2013 full.lab\r\n",
      "-rw-r--r-- 1 cjbayron cjbayron   3877 Sep  9  2013 majmin7inv.lab\r\n",
      "-rw-r--r-- 1 cjbayron cjbayron   3877 Sep  9  2013 majmin7.lab\r\n",
      "-rw-r--r-- 1 cjbayron cjbayron   3877 Sep  9  2013 majmininv.lab\r\n",
      "-rw-r--r-- 1 cjbayron cjbayron   3877 Sep  9  2013 majmin.lab\r\n",
      "-rw-rw-r-- 1 cjbayron cjbayron     62 Aug  2  2013 tuning.csv\r\n"
     ]
    }
   ],
   "source": [
    "base_dir = 'data/McGill-Billboard'\n",
    "sample_dir = f'{base_dir}/0003'\n",
    "!ls {sample_dir} -l"
   ]
  },
  {
   "cell_type": "code",
   "execution_count": 11,
   "metadata": {},
   "outputs": [
    {
     "name": "stdout",
     "output_type": "stream",
     "text": [
      "\"/tmp/audio.wav\",0.000000000,151.022585034,441.452,\"441,5 Hz\"\r\n"
     ]
    }
   ],
   "source": [
    "!cat {sample_dir}/tuning.csv"
   ]
  },
  {
   "cell_type": "code",
   "execution_count": 26,
   "metadata": {},
   "outputs": [
    {
     "name": "stdout",
     "output_type": "stream",
     "text": [
      "0.0\t7.3469387e-2\tN\r\n",
      "7.3469387e-2\t1.51356009\tN\r\n",
      "1.51356009\t1.8015782305999999\tN\r\n",
      "1.8015782305999999\t3.529687074200001\tA:min\r\n",
      "3.529687074200001\t5.257795917800002\tA:min\r\n"
     ]
    }
   ],
   "source": [
    "!cat {sample_dir}/majmin7.lab | head -n 5"
   ]
  },
  {
   "cell_type": "code",
   "execution_count": 27,
   "metadata": {},
   "outputs": [
    {
     "name": "stdout",
     "output_type": "stream",
     "text": [
      "\"/tmp/audio.wav\",0.000000000,0.198482,0,0,0.635556,0.741292,1.0043,0.81444,0.0292819,0.141189,0.80793,0.91015,0.823603,1.22066,0.0969013,0.197437,0.860228,1.16515,1.13561,0.42842,0.112475,1.49297,0.556156,0.562561,0.864485\r\n",
      ",0.046439909,0.310882,0,0,0.693876,0.628553,1.08004,0.676368,0.0175979,0.140079,0.927873,0.663851,0.460197,1.16061,0.306418,0.39068,0.939165,1.05337,1.30823,0.32271,0.0675953,1.53804,0.566076,0.627636,0.904673\r\n",
      ",0.092879818,0.404969,0,0.0372381,0.68277,0.59114,1.14683,0.575229,0.0146243,0.128743,0.968012,0.461634,0.260265,1.18625,0.357235,0.392881,0.924133,0.946938,1.36967,0.23419,0.0561735,1.42935,0.532472,0.686886,0.906338\r\n",
      ",0.139319727,0.480218,0,0.00500218,0.435639,0.450297,1.21112,0.458671,0.00637153,0.102629,0.962884,0.301896,0.257244,1.08408,0.395586,0.323281,0.917475,0.679013,1.48532,0.186736,0.0244738,1.22717,0.529464,0.717978,1.05768\r\n",
      ",0.185759637,0.539064,0.146614,0.0108908,0.444361,0.196939,1.29815,0.239054,0.0233052,0.20809,0.948395,0.0258015,0.341731,0.945539,0.295767,0.537718,1.20916,0.135402,1.61202,0.0973248,0.0895178,0.648249,0.520988,0.703834,1.28743\r\n",
      "cat: write error: Broken pipe\r\n"
     ]
    }
   ],
   "source": [
    "!cat {sample_dir}/bothchroma.csv | head -n 5"
   ]
  },
  {
   "cell_type": "code",
   "execution_count": 47,
   "metadata": {},
   "outputs": [
    {
     "name": "stdout",
     "output_type": "stream",
     "text": [
      "1229 to 0004 [tuning]: True\n",
      "1229 to 0004 [chords]: True\n",
      "1229 to 0004 [chroma]: True\n",
      "\n",
      "1271 to 0006 [tuning]: True\n",
      "1271 to 0006 [chords]: True\n",
      "1271 to 0006 [chroma]: True\n",
      "\n",
      "1274 to 0016 [tuning]: True\n",
      "1274 to 0016 [chords]: True\n",
      "1274 to 0016 [chroma]: True\n",
      "\n",
      "0870 to 0023 [tuning]: True\n",
      "0870 to 0023 [chords]: True\n",
      "0870 to 0023 [chroma]: True\n",
      "\n",
      "0504 to 0029 [tuning]: True\n",
      "0504 to 0029 [chords]: True\n",
      "0504 to 0029 [chroma]: True\n",
      "\n"
     ]
    }
   ],
   "source": [
    "# check if duplicates are exact match\n",
    "NUM_CHECKS = 5\n",
    "for ix in dups.index[:NUM_CHECKS]:\n",
    "    row = dups.loc[ix]\n",
    "    ids = df_songs[(df_songs.title == row.title)\n",
    "                   & (df_songs.artist == row.artist)].id.values\n",
    "    \n",
    "    ref_id = ids[0]\n",
    "    dirname = f'{base_dir}/{ref_id:04d}'\n",
    "    with open(f'{dirname}/tuning.csv', 'r') as f:\n",
    "        ref_tuning = f.read()\n",
    "    \n",
    "    with open(f'{dirname}/majmin7.lab', 'r') as f:\n",
    "        ref_chords = f.read()\n",
    "        \n",
    "    with open(f'{dirname}/bothchroma.csv', 'r') as f:\n",
    "        ref_chroma = f.read()\n",
    "    \n",
    "    for _id in ids[1:]:\n",
    "        dirname = f'{base_dir}/{_id:04d}'\n",
    "        with open(f'{dirname}/tuning.csv', 'r') as f:\n",
    "            tuning = f.read()\n",
    "        \n",
    "        with open(f'{dirname}/majmin7.lab', 'r') as f:\n",
    "            chords = f.read()\n",
    "        \n",
    "        with open(f'{dirname}/bothchroma.csv', 'r') as f:\n",
    "            chroma = f.read()\n",
    "        \n",
    "        print(f'{_id:04d} to {ref_id:04d} [tuning]: {ref_tuning == tuning}')\n",
    "        print(f'{_id:04d} to {ref_id:04d} [chords]: {ref_chords == chords}')\n",
    "        print(f'{_id:04d} to {ref_id:04d} [chroma]: {ref_chroma == chroma}')\n",
    "        print()"
   ]
  },
  {
   "cell_type": "markdown",
   "metadata": {},
   "source": [
    "This builds the confidence that we can just remove duplicates."
   ]
  },
  {
   "cell_type": "code",
   "execution_count": 5,
   "metadata": {},
   "outputs": [
    {
     "name": "stdout",
     "output_type": "stream",
     "text": [
      "742\n"
     ]
    },
    {
     "data": {
      "text/html": [
       "<div>\n",
       "<style scoped>\n",
       "    .dataframe tbody tr th:only-of-type {\n",
       "        vertical-align: middle;\n",
       "    }\n",
       "\n",
       "    .dataframe tbody tr th {\n",
       "        vertical-align: top;\n",
       "    }\n",
       "\n",
       "    .dataframe thead th {\n",
       "        text-align: right;\n",
       "    }\n",
       "</style>\n",
       "<table border=\"1\" class=\"dataframe\">\n",
       "  <thead>\n",
       "    <tr style=\"text-align: right;\">\n",
       "      <th></th>\n",
       "      <th>id</th>\n",
       "      <th>title</th>\n",
       "      <th>artist</th>\n",
       "    </tr>\n",
       "  </thead>\n",
       "  <tbody>\n",
       "    <tr>\n",
       "      <th>2</th>\n",
       "      <td>3</td>\n",
       "      <td>I Don't Mind</td>\n",
       "      <td>James Brown</td>\n",
       "    </tr>\n",
       "    <tr>\n",
       "      <th>3</th>\n",
       "      <td>4</td>\n",
       "      <td>You've Got A Friend</td>\n",
       "      <td>Roberta Flack,Donny Hathaway</td>\n",
       "    </tr>\n",
       "    <tr>\n",
       "      <th>5</th>\n",
       "      <td>6</td>\n",
       "      <td>The Rose</td>\n",
       "      <td>Bette Midler</td>\n",
       "    </tr>\n",
       "    <tr>\n",
       "      <th>9</th>\n",
       "      <td>10</td>\n",
       "      <td>An Innocent Man</td>\n",
       "      <td>Billy Joel</td>\n",
       "    </tr>\n",
       "    <tr>\n",
       "      <th>11</th>\n",
       "      <td>12</td>\n",
       "      <td>Lookin' For Love</td>\n",
       "      <td>Johnny Lee</td>\n",
       "    </tr>\n",
       "  </tbody>\n",
       "</table>\n",
       "</div>"
      ],
      "text/plain": [
       "    id                title                        artist\n",
       "2    3         I Don't Mind                   James Brown\n",
       "3    4  You've Got A Friend  Roberta Flack,Donny Hathaway\n",
       "5    6             The Rose                  Bette Midler\n",
       "9   10      An Innocent Man                    Billy Joel\n",
       "11  12     Lookin' For Love                    Johnny Lee"
      ]
     },
     "execution_count": 5,
     "metadata": {},
     "output_type": "execute_result"
    }
   ],
   "source": [
    "# we remove duplicated songs (except first occurrence)\n",
    "unique_filter = ~df_songs.duplicated(subset=['title','artist'], keep='first')\n",
    "df_songs_unique = df_songs[unique_filter]\n",
    "print(len(df_songs_unique))\n",
    "df_songs_unique.head()"
   ]
  },
  {
   "cell_type": "code",
   "execution_count": 6,
   "metadata": {},
   "outputs": [
    {
     "data": {
      "text/plain": [
       "False"
      ]
     },
     "execution_count": 6,
     "metadata": {},
     "output_type": "execute_result"
    }
   ],
   "source": [
    "# check again\n",
    "any(df_songs_unique.duplicated(subset=['title', 'artist']))"
   ]
  },
  {
   "cell_type": "code",
   "execution_count": 8,
   "metadata": {},
   "outputs": [],
   "source": [
    "df_songs_unique.to_csv(f'{base_dir}/billboard-2.0-unique.csv', index=False)"
   ]
  },
  {
   "cell_type": "markdown",
   "metadata": {},
   "source": [
    "#### Pick songs for feature analysis"
   ]
  },
  {
   "cell_type": "code",
   "execution_count": 3,
   "metadata": {},
   "outputs": [
    {
     "data": {
      "text/html": [
       "<div>\n",
       "<style scoped>\n",
       "    .dataframe tbody tr th:only-of-type {\n",
       "        vertical-align: middle;\n",
       "    }\n",
       "\n",
       "    .dataframe tbody tr th {\n",
       "        vertical-align: top;\n",
       "    }\n",
       "\n",
       "    .dataframe thead th {\n",
       "        text-align: right;\n",
       "    }\n",
       "</style>\n",
       "<table border=\"1\" class=\"dataframe\">\n",
       "  <thead>\n",
       "    <tr style=\"text-align: right;\">\n",
       "      <th></th>\n",
       "      <th>id</th>\n",
       "      <th>title</th>\n",
       "      <th>artist</th>\n",
       "    </tr>\n",
       "  </thead>\n",
       "  <tbody>\n",
       "    <tr>\n",
       "      <th>0</th>\n",
       "      <td>3</td>\n",
       "      <td>I Don't Mind</td>\n",
       "      <td>James Brown</td>\n",
       "    </tr>\n",
       "    <tr>\n",
       "      <th>1</th>\n",
       "      <td>4</td>\n",
       "      <td>You've Got A Friend</td>\n",
       "      <td>Roberta Flack,Donny Hathaway</td>\n",
       "    </tr>\n",
       "    <tr>\n",
       "      <th>2</th>\n",
       "      <td>6</td>\n",
       "      <td>The Rose</td>\n",
       "      <td>Bette Midler</td>\n",
       "    </tr>\n",
       "    <tr>\n",
       "      <th>3</th>\n",
       "      <td>10</td>\n",
       "      <td>An Innocent Man</td>\n",
       "      <td>Billy Joel</td>\n",
       "    </tr>\n",
       "    <tr>\n",
       "      <th>4</th>\n",
       "      <td>12</td>\n",
       "      <td>Lookin' For Love</td>\n",
       "      <td>Johnny Lee</td>\n",
       "    </tr>\n",
       "  </tbody>\n",
       "</table>\n",
       "</div>"
      ],
      "text/plain": [
       "   id                title                        artist\n",
       "0   3         I Don't Mind                   James Brown\n",
       "1   4  You've Got A Friend  Roberta Flack,Donny Hathaway\n",
       "2   6             The Rose                  Bette Midler\n",
       "3  10      An Innocent Man                    Billy Joel\n",
       "4  12     Lookin' For Love                    Johnny Lee"
      ]
     },
     "execution_count": 3,
     "metadata": {},
     "output_type": "execute_result"
    }
   ],
   "source": [
    "import pandas as pd\n",
    "base_dir = 'data/McGill-Billboard'\n",
    "data_index = 'billboard-2.0-unique.csv'\n",
    "\n",
    "df_songs_unique = pd.read_csv(f'{base_dir}/{data_index}')\n",
    "df_songs_unique.head()"
   ]
  },
  {
   "cell_type": "code",
   "execution_count": 4,
   "metadata": {},
   "outputs": [
    {
     "data": {
      "text/html": [
       "<div>\n",
       "<style scoped>\n",
       "    .dataframe tbody tr th:only-of-type {\n",
       "        vertical-align: middle;\n",
       "    }\n",
       "\n",
       "    .dataframe tbody tr th {\n",
       "        vertical-align: top;\n",
       "    }\n",
       "\n",
       "    .dataframe thead th {\n",
       "        text-align: right;\n",
       "    }\n",
       "</style>\n",
       "<table border=\"1\" class=\"dataframe\">\n",
       "  <thead>\n",
       "    <tr style=\"text-align: right;\">\n",
       "      <th></th>\n",
       "      <th>id</th>\n",
       "      <th>title</th>\n",
       "      <th>artist</th>\n",
       "    </tr>\n",
       "  </thead>\n",
       "  <tbody>\n",
       "    <tr>\n",
       "      <th>737</th>\n",
       "      <td>1286</td>\n",
       "      <td>Sukiyaki</td>\n",
       "      <td>A Taste Of Honey</td>\n",
       "    </tr>\n",
       "    <tr>\n",
       "      <th>738</th>\n",
       "      <td>1287</td>\n",
       "      <td>Johnny Reb</td>\n",
       "      <td>Johnny Horton</td>\n",
       "    </tr>\n",
       "    <tr>\n",
       "      <th>739</th>\n",
       "      <td>1289</td>\n",
       "      <td>There She Goes</td>\n",
       "      <td>The La's</td>\n",
       "    </tr>\n",
       "    <tr>\n",
       "      <th>740</th>\n",
       "      <td>1290</td>\n",
       "      <td>Happy Together</td>\n",
       "      <td>The Turtles</td>\n",
       "    </tr>\n",
       "    <tr>\n",
       "      <th>741</th>\n",
       "      <td>1292</td>\n",
       "      <td>He's So Fine</td>\n",
       "      <td>The Chiffons</td>\n",
       "    </tr>\n",
       "  </tbody>\n",
       "</table>\n",
       "</div>"
      ],
      "text/plain": [
       "       id           title            artist\n",
       "737  1286        Sukiyaki  A Taste Of Honey\n",
       "738  1287      Johnny Reb     Johnny Horton\n",
       "739  1289  There She Goes          The La's\n",
       "740  1290  Happy Together       The Turtles\n",
       "741  1292    He's So Fine      The Chiffons"
      ]
     },
     "execution_count": 4,
     "metadata": {},
     "output_type": "execute_result"
    }
   ],
   "source": [
    "df_songs_unique.tail()"
   ]
  },
  {
   "cell_type": "code",
   "execution_count": 2,
   "metadata": {},
   "outputs": [
    {
     "data": {
      "text/html": [
       "<div>\n",
       "<style scoped>\n",
       "    .dataframe tbody tr th:only-of-type {\n",
       "        vertical-align: middle;\n",
       "    }\n",
       "\n",
       "    .dataframe tbody tr th {\n",
       "        vertical-align: top;\n",
       "    }\n",
       "\n",
       "    .dataframe thead th {\n",
       "        text-align: right;\n",
       "    }\n",
       "</style>\n",
       "<table border=\"1\" class=\"dataframe\">\n",
       "  <thead>\n",
       "    <tr style=\"text-align: right;\">\n",
       "      <th></th>\n",
       "      <th>id</th>\n",
       "      <th>title</th>\n",
       "      <th>artist</th>\n",
       "    </tr>\n",
       "  </thead>\n",
       "  <tbody>\n",
       "    <tr>\n",
       "      <th>7</th>\n",
       "      <td>18</td>\n",
       "      <td>Kiss On My List</td>\n",
       "      <td>Daryl Hall &amp; John Oates</td>\n",
       "    </tr>\n",
       "    <tr>\n",
       "      <th>31</th>\n",
       "      <td>54</td>\n",
       "      <td>Last Kiss</td>\n",
       "      <td>J. Frank Wilson &amp; The Cavaliers</td>\n",
       "    </tr>\n",
       "    <tr>\n",
       "      <th>171</th>\n",
       "      <td>263</td>\n",
       "      <td>Last Kiss</td>\n",
       "      <td>Wednesday</td>\n",
       "    </tr>\n",
       "    <tr>\n",
       "      <th>238</th>\n",
       "      <td>370</td>\n",
       "      <td>Kisses On The Wind</td>\n",
       "      <td>Neneh Cherry</td>\n",
       "    </tr>\n",
       "    <tr>\n",
       "      <th>302</th>\n",
       "      <td>478</td>\n",
       "      <td>One Last Kiss</td>\n",
       "      <td>The J. Geils Band</td>\n",
       "    </tr>\n",
       "    <tr>\n",
       "      <th>511</th>\n",
       "      <td>856</td>\n",
       "      <td>I Like The Way (The Kissing Game)</td>\n",
       "      <td>Hi-Five</td>\n",
       "    </tr>\n",
       "  </tbody>\n",
       "</table>\n",
       "</div>"
      ],
      "text/plain": [
       "      id                              title                           artist\n",
       "7     18                    Kiss On My List          Daryl Hall & John Oates\n",
       "31    54                          Last Kiss  J. Frank Wilson & The Cavaliers\n",
       "171  263                          Last Kiss                        Wednesday\n",
       "238  370                 Kisses On The Wind                     Neneh Cherry\n",
       "302  478                      One Last Kiss                The J. Geils Band\n",
       "511  856  I Like The Way (The Kissing Game)                          Hi-Five"
      ]
     },
     "execution_count": 2,
     "metadata": {},
     "output_type": "execute_result"
    }
   ],
   "source": [
    "df_songs_unique[df_songs_unique.title.str.contains(\"kiss\", case=False)]"
   ]
  },
  {
   "cell_type": "code",
   "execution_count": 94,
   "metadata": {},
   "outputs": [
    {
     "data": {
      "text/plain": [
       "124         The O'Jays\n",
       "436         Commodores\n",
       "605    Aretha Franklin\n",
       "621               Dion\n",
       "270    George Harrison\n",
       "4           Johnny Lee\n",
       "493       Bill Withers\n",
       "338        The Trammps\n",
       "363              Queen\n",
       "557             Boston\n",
       "Name: artist, dtype: object"
      ]
     },
     "execution_count": 94,
     "metadata": {},
     "output_type": "execute_result"
    }
   ],
   "source": [
    "df_songs_unique.artist.sample(n=10)"
   ]
  },
  {
   "cell_type": "code",
   "execution_count": 5,
   "metadata": {},
   "outputs": [],
   "source": [
    "# after going around the list, picked the following:\n",
    "\n",
    "# - 1289 - There She Goes - The La's\n",
    "# - 736 - Do I Do - Stevie Wonder\n",
    "# - 637 - Human Nature - Michael Jackson\n",
    "# - 270 - In My Room - The Beach Boys\n",
    "# - 18 - Kiss On My List - Daryl Hall & John Oates\n",
    "\n",
    "picked_ids = [1289, 736, 637, 270, 18]"
   ]
  },
  {
   "cell_type": "markdown",
   "metadata": {},
   "source": [
    "We download these songs to analyse if we can extract chroma features closely similar to those provided by dataset."
   ]
  },
  {
   "cell_type": "code",
   "execution_count": 6,
   "metadata": {},
   "outputs": [
    {
     "name": "stdout",
     "output_type": "stream",
     "text": [
      "There She Goes: 162.54s, 2:42\n",
      "Do I Do: 629.17s, 10:29\n",
      "Human Nature: 245.76s, 4:05\n",
      "In My Room: 134.68s, 2:14\n",
      "Kiss On My List: 231.27s, 3:51\n"
     ]
    }
   ],
   "source": [
    "# check duration\n",
    "for _id in picked_ids:\n",
    "    tuning = f'{base_dir}/{_id:04d}/tuning.csv'\n",
    "    title = df_songs_unique[df_songs_unique.id == _id].iloc[0].title\n",
    "    contents = pd.read_csv(tuning, header=None)\n",
    "    duration = contents[2].iloc[0]\n",
    "    print(f'{title}: {duration:.2f}s, {int(duration/60)}:{int(duration%60.0):02d}')"
   ]
  },
  {
   "cell_type": "code",
   "execution_count": 7,
   "metadata": {},
   "outputs": [
    {
     "name": "stdout",
     "output_type": "stream",
     "text": [
      "\"data/audio/1289/09 There She Goes.m4a\" data/audio/1289/audio.wav\n",
      "ffmpeg version 2.8.17-0ubuntu0.1 Copyright (c) 2000-2020 the FFmpeg developers\n",
      "  built with gcc 5.4.0 (Ubuntu 5.4.0-6ubuntu1~16.04.12) 20160609\n",
      "  configuration: --prefix=/usr --extra-version=0ubuntu0.1 --build-suffix=-ffmpeg --toolchain=hardened --libdir=/usr/lib/x86_64-linux-gnu --incdir=/usr/include/x86_64-linux-gnu --cc=cc --cxx=g++ --enable-gpl --enable-shared --disable-stripping --disable-decoder=libopenjpeg --disable-decoder=libschroedinger --enable-avresample --enable-avisynth --enable-gnutls --enable-ladspa --enable-libass --enable-libbluray --enable-libbs2b --enable-libcaca --enable-libcdio --enable-libflite --enable-libfontconfig --enable-libfreetype --enable-libfribidi --enable-libgme --enable-libgsm --enable-libmodplug --enable-libmp3lame --enable-libopenjpeg --enable-libopus --enable-libpulse --enable-librtmp --enable-libschroedinger --enable-libshine --enable-libsnappy --enable-libsoxr --enable-libspeex --enable-libssh --enable-libtheora --enable-libtwolame --enable-libvorbis --enable-libvpx --enable-libwavpack --enable-libwebp --enable-libx265 --enable-libxvid --enable-libzvbi --enable-openal --enable-opengl --enable-x11grab --enable-libdc1394 --enable-libiec61883 --enable-libzmq --enable-frei0r --enable-libx264 --enable-libopencv\n",
      "  WARNING: library configuration mismatch\n",
      "  avcodec     configuration: --prefix=/usr --extra-version=0ubuntu0.1 --build-suffix=-ffmpeg --toolchain=hardened --libdir=/usr/lib/x86_64-linux-gnu --incdir=/usr/include/x86_64-linux-gnu --cc=cc --cxx=g++ --enable-gpl --enable-shared --disable-stripping --disable-decoder=libopenjpeg --disable-decoder=libschroedinger --enable-avresample --enable-avisynth --enable-gnutls --enable-ladspa --enable-libass --enable-libbluray --enable-libbs2b --enable-libcaca --enable-libcdio --enable-libflite --enable-libfontconfig --enable-libfreetype --enable-libfribidi --enable-libgme --enable-libgsm --enable-libmodplug --enable-libmp3lame --enable-libopenjpeg --enable-libopus --enable-libpulse --enable-librtmp --enable-libschroedinger --enable-libshine --enable-libsnappy --enable-libsoxr --enable-libspeex --enable-libssh --enable-libtheora --enable-libtwolame --enable-libvorbis --enable-libvpx --enable-libwavpack --enable-libwebp --enable-libx265 --enable-libxvid --enable-libzvbi --enable-openal --enable-opengl --enable-x11grab --enable-libdc1394 --enable-libiec61883 --enable-libzmq --enable-frei0r --enable-libx264 --enable-libopencv --enable-version3 --disable-doc --disable-programs --disable-avdevice --disable-avfilter --disable-avformat --disable-avresample --disable-postproc --disable-swscale --enable-libopencore_amrnb --enable-libopencore_amrwb --enable-libvo_aacenc --enable-libvo_amrwbenc\n",
      "  libavutil      54. 31.100 / 54. 31.100\n",
      "  libavcodec     56. 60.100 / 56. 60.100\n",
      "  libavformat    56. 40.101 / 56. 40.101\n",
      "  libavdevice    56.  4.100 / 56.  4.100\n",
      "  libavfilter     5. 40.101 /  5. 40.101\n",
      "  libavresample   2.  1.  0 /  2.  1.  0\n",
      "  libswscale      3.  1.101 /  3.  1.101\n",
      "  libswresample   1.  2.101 /  1.  2.101\n",
      "  libpostproc    53.  3.100 / 53.  3.100\n",
      "\u001b[0;35m[mov,mp4,m4a,3gp,3g2,mj2 @ 0x1e4bb00] \u001b[0m\u001b[0;33mstream 0, timescale not set\n",
      "\u001b[0m\u001b[0;36m[mjpeg @ 0x1e4ea20] \u001b[0mChangeing bps to 8\n",
      "Input #0, mov,mp4,m4a,3gp,3g2,mj2, from 'data/audio/1289/09 There She Goes.m4a':\n",
      "  Metadata:\n",
      "    major_brand     : M4A \n",
      "    minor_version   : 0\n",
      "    compatible_brands: M4A mp42isom\n",
      "    creation_time   : 2018-11-17 11:03:42\n",
      "    iTunSMPB        :  00000000 00000840 00000190 00000000006DB630 00000000 00000000 00000000 00000000 00000000 00000000 00000000 00000000\n",
      "    iTunNORM        :  00001863 000014CF 000074DB 00006D47 00021981 00021981 00007F48 00007F48 00011DA0 00008527\n",
      "    title           : There She Goes\n",
      "    artist          : The La's\n",
      "    album_artist    : Various Artists\n",
      "    composer        : Lee Mavers\n",
      "    album           : 90's Pop Pre-Cleared Comp\n",
      "    genre           : Pop\n",
      "    track           : 9/16\n",
      "    disc            : 1/1\n",
      "    compilation     : 1\n",
      "    gapless_playback: 0\n",
      "    date            : 1988-10-31T12:00:00Z\n",
      "    account_id      : cjdbayron@gmail.com\n",
      "    copyright       : This Compilation ℗ 2007 Universal Music International Ltd.\n",
      "    rating          : 0\n",
      "    media_type      : 1\n",
      "    purchase_date   : 2021-10-02 08:56:05\n",
      "    sort_name       : There She Goes\n",
      "    sort_album      : 90's Pop Pre-Cleared Comp\n",
      "    sort_artist     : La's\n",
      "  Duration: 00:02:43.10, start: 0.000000, bitrate: 314 kb/s\n",
      "    Stream #0:0(eng): Audio: aac (LC) (mp4a / 0x6134706D), 44100 Hz, stereo, fltp, 285 kb/s (default)\n",
      "    Metadata:\n",
      "      creation_time   : 2018-11-17 11:03:42\n",
      "    Stream #0:1: Video: mjpeg, yuvj420p(pc, bt470bg/unknown/unknown), 1417x1417 [SAR 72:72 DAR 1:1], 90k tbr, 90k tbn, 90k tbc\n",
      "Output #0, wav, to 'data/audio/1289/audio.wav':\n",
      "  Metadata:\n",
      "    major_brand     : M4A \n",
      "    minor_version   : 0\n",
      "    compatible_brands: M4A mp42isom\n",
      "    sort_artist     : La's\n",
      "    iTunSMPB        :  00000000 00000840 00000190 00000000006DB630 00000000 00000000 00000000 00000000 00000000 00000000 00000000 00000000\n",
      "    iTunNORM        :  00001863 000014CF 000074DB 00006D47 00021981 00021981 00007F48 00007F48 00011DA0 00008527\n",
      "    INAM            : There She Goes\n",
      "    IART            : The La's\n",
      "    album_artist    : Various Artists\n",
      "    composer        : Lee Mavers\n",
      "    IPRD            : 90's Pop Pre-Cleared Comp\n",
      "    IGNR            : Pop\n",
      "    IPRT            : 9/16\n",
      "    disc            : 1/1\n",
      "    compilation     : 1\n",
      "    gapless_playback: 0\n",
      "    ICRD            : 1988-10-31T12:00:00Z\n",
      "    account_id      : cjdbayron@gmail.com\n",
      "    ICOP            : This Compilation ℗ 2007 Universal Music International Ltd.\n",
      "    rating          : 0\n",
      "    media_type      : 1\n",
      "    purchase_date   : 2021-10-02 08:56:05\n",
      "    sort_name       : There She Goes\n",
      "    sort_album      : 90's Pop Pre-Cleared Comp\n",
      "    ISFT            : Lavf56.40.101\n",
      "    Stream #0:0(eng): Audio: pcm_s16le ([1][0][0][0] / 0x0001), 44100 Hz, stereo, s16, 1411 kb/s (default)\n",
      "    Metadata:\n",
      "      creation_time   : 2018-11-17 11:03:42\n",
      "      encoder         : Lavc56.60.100 pcm_s16le\n",
      "Stream mapping:\n",
      "  Stream #0:0 -> #0:0 (aac (native) -> pcm_s16le (native))\n",
      "Press [q] to stop, [?] for help\n",
      "size=   28088kB time=00:02:43.09 bitrate=1410.8kbits/s    \n",
      "video:0kB audio:28088kB subtitle:0kB other streams:0kB global headers:0kB muxing overhead: 0.000974%\n",
      "\"data/audio/0736/2-08 Do I Do (1982 Musiquarium Versi.m4a\" data/audio/0736/audio.wav\n",
      "ffmpeg version 2.8.17-0ubuntu0.1 Copyright (c) 2000-2020 the FFmpeg developers\n",
      "  built with gcc 5.4.0 (Ubuntu 5.4.0-6ubuntu1~16.04.12) 20160609\n",
      "  configuration: --prefix=/usr --extra-version=0ubuntu0.1 --build-suffix=-ffmpeg --toolchain=hardened --libdir=/usr/lib/x86_64-linux-gnu --incdir=/usr/include/x86_64-linux-gnu --cc=cc --cxx=g++ --enable-gpl --enable-shared --disable-stripping --disable-decoder=libopenjpeg --disable-decoder=libschroedinger --enable-avresample --enable-avisynth --enable-gnutls --enable-ladspa --enable-libass --enable-libbluray --enable-libbs2b --enable-libcaca --enable-libcdio --enable-libflite --enable-libfontconfig --enable-libfreetype --enable-libfribidi --enable-libgme --enable-libgsm --enable-libmodplug --enable-libmp3lame --enable-libopenjpeg --enable-libopus --enable-libpulse --enable-librtmp --enable-libschroedinger --enable-libshine --enable-libsnappy --enable-libsoxr --enable-libspeex --enable-libssh --enable-libtheora --enable-libtwolame --enable-libvorbis --enable-libvpx --enable-libwavpack --enable-libwebp --enable-libx265 --enable-libxvid --enable-libzvbi --enable-openal --enable-opengl --enable-x11grab --enable-libdc1394 --enable-libiec61883 --enable-libzmq --enable-frei0r --enable-libx264 --enable-libopencv\n",
      "  WARNING: library configuration mismatch\n",
      "  avcodec     configuration: --prefix=/usr --extra-version=0ubuntu0.1 --build-suffix=-ffmpeg --toolchain=hardened --libdir=/usr/lib/x86_64-linux-gnu --incdir=/usr/include/x86_64-linux-gnu --cc=cc --cxx=g++ --enable-gpl --enable-shared --disable-stripping --disable-decoder=libopenjpeg --disable-decoder=libschroedinger --enable-avresample --enable-avisynth --enable-gnutls --enable-ladspa --enable-libass --enable-libbluray --enable-libbs2b --enable-libcaca --enable-libcdio --enable-libflite --enable-libfontconfig --enable-libfreetype --enable-libfribidi --enable-libgme --enable-libgsm --enable-libmodplug --enable-libmp3lame --enable-libopenjpeg --enable-libopus --enable-libpulse --enable-librtmp --enable-libschroedinger --enable-libshine --enable-libsnappy --enable-libsoxr --enable-libspeex --enable-libssh --enable-libtheora --enable-libtwolame --enable-libvorbis --enable-libvpx --enable-libwavpack --enable-libwebp --enable-libx265 --enable-libxvid --enable-libzvbi --enable-openal --enable-opengl --enable-x11grab --enable-libdc1394 --enable-libiec61883 --enable-libzmq --enable-frei0r --enable-libx264 --enable-libopencv --enable-version3 --disable-doc --disable-programs --disable-avdevice --disable-avfilter --disable-avformat --disable-avresample --disable-postproc --disable-swscale --enable-libopencore_amrnb --enable-libopencore_amrwb --enable-libvo_aacenc --enable-libvo_amrwbenc\n",
      "  libavutil      54. 31.100 / 54. 31.100\n",
      "  libavcodec     56. 60.100 / 56. 60.100\n",
      "  libavformat    56. 40.101 / 56. 40.101\n",
      "  libavdevice    56.  4.100 / 56.  4.100\n",
      "  libavfilter     5. 40.101 /  5. 40.101\n",
      "  libavresample   2.  1.  0 /  2.  1.  0\n",
      "  libswscale      3.  1.101 /  3.  1.101\n",
      "  libswresample   1.  2.101 /  1.  2.101\n",
      "  libpostproc    53.  3.100 / 53.  3.100\n",
      "\u001b[0;35m[mov,mp4,m4a,3gp,3g2,mj2 @ 0x9ebb00] \u001b[0m\u001b[0;33mstream 0, timescale not set\n",
      "\u001b[0m\u001b[0;36m[mjpeg @ 0x9eeae0] \u001b[0mChangeing bps to 8\n",
      "Input #0, mov,mp4,m4a,3gp,3g2,mj2, from 'data/audio/0736/2-08 Do I Do (1982 Musiquarium Versi.m4a':\n",
      "  Metadata:\n",
      "    major_brand     : M4A \n",
      "    minor_version   : 0\n",
      "    compatible_brands: M4A mp42isom\n",
      "    creation_time   : 2018-10-31 14:05:16\n",
      "    iTunSMPB        :  00000000 00000840 00000264 0000000001A6A55C 00000000 00000000 00000000 00000000 00000000 00000000 00000000 00000000\n",
      "    iTunNORM        :  00000588 00000515 0000324B 00002AAE 00015F05 000211FA 00008613 00007E6A 0008B67A 0004662B\n",
      "    title           : Do I Do (1982 Musiquarium Version)\n",
      "    artist          : Stevie Wonder\n",
      "    album_artist    : Stevie Wonder\n",
      "    composer        : Stevie Wonder\n",
      "    album           : Original Musiquarium\n",
      "    genre           : R&B/Soul\n",
      "    track           : 8/8\n",
      "    disc            : 2/2\n",
      "    comment         : (1982 Musiquarium Version)\n",
      "    compilation     : 1\n",
      "    gapless_playback: 0\n",
      "    date            : 1982-02-19T12:00:00Z\n",
      "    account_id      : cjdbayron@gmail.com\n",
      "    copyright       : ℗ 1982 Motown Records, a Division of UMG Recordings, Inc.\n",
      "    rating          : 0\n",
      "    media_type      : 1\n",
      "    purchase_date   : 2021-10-02 18:38:01\n",
      "    sort_name       : Do I Do (1982 Musiquarium Version)\n",
      "    sort_album      : Original Musiquarium\n",
      "    sort_artist     : Stevie Wonder\n",
      "  Duration: 00:10:28.15, start: 0.000000, bitrate: 290 kb/s\n",
      "    Stream #0:0(eng): Audio: aac (LC) (mp4a / 0x6134706D), 44100 Hz, stereo, fltp, 282 kb/s (default)\n",
      "    Metadata:\n",
      "      creation_time   : 2018-10-31 14:05:16\n",
      "    Stream #0:1: Video: mjpeg, yuvj420p(pc, bt470bg/unknown/unknown), 600x600 [SAR 72:72 DAR 1:1], 90k tbr, 90k tbn, 90k tbc\n",
      "Output #0, wav, to 'data/audio/0736/audio.wav':\n",
      "  Metadata:\n",
      "    major_brand     : M4A \n",
      "    minor_version   : 0\n",
      "    compatible_brands: M4A mp42isom\n",
      "    sort_artist     : Stevie Wonder\n",
      "    iTunSMPB        :  00000000 00000840 00000264 0000000001A6A55C 00000000 00000000 00000000 00000000 00000000 00000000 00000000 00000000\n",
      "    iTunNORM        :  00000588 00000515 0000324B 00002AAE 00015F05 000211FA 00008613 00007E6A 0008B67A 0004662B\n",
      "    INAM            : Do I Do (1982 Musiquarium Version)\n",
      "    IART            : Stevie Wonder\n",
      "    album_artist    : Stevie Wonder\n",
      "    composer        : Stevie Wonder\n",
      "    IPRD            : Original Musiquarium\n",
      "    IGNR            : R&B/Soul\n",
      "    IPRT            : 8/8\n",
      "    disc            : 2/2\n",
      "    ICMT            : (1982 Musiquarium Version)\n",
      "    compilation     : 1\n",
      "    gapless_playback: 0\n",
      "    ICRD            : 1982-02-19T12:00:00Z\n",
      "    account_id      : cjdbayron@gmail.com\n",
      "    ICOP            : ℗ 1982 Motown Records, a Division of UMG Recordings, Inc.\n",
      "    rating          : 0\n",
      "    media_type      : 1\n",
      "    purchase_date   : 2021-10-02 18:38:01\n",
      "    sort_name       : Do I Do (1982 Musiquarium Version)\n",
      "    sort_album      : Original Musiquarium\n",
      "    ISFT            : Lavf56.40.101\n",
      "    Stream #0:0(eng): Audio: pcm_s16le ([1][0][0][0] / 0x0001), 44100 Hz, stereo, s16, 1411 kb/s (default)\n",
      "    Metadata:\n",
      "      creation_time   : 2018-10-31 14:05:16\n",
      "      encoder         : Lavc56.60.100 pcm_s16le\n",
      "Stream mapping:\n",
      "  Stream #0:0 -> #0:0 (aac (native) -> pcm_s16le (native))\n",
      "Press [q] to stop, [?] for help\n"
     ]
    },
    {
     "name": "stdout",
     "output_type": "stream",
     "text": [
      "size=  108200kB time=00:10:28.14 bitrate=1411.1kbits/s    \n",
      "video:0kB audio:108200kB subtitle:0kB other streams:0kB global headers:0kB muxing overhead: 0.000305%\n",
      "\"data/audio/0637/07 Human Nature.m4a\" data/audio/0637/audio.wav\n",
      "ffmpeg version 2.8.17-0ubuntu0.1 Copyright (c) 2000-2020 the FFmpeg developers\n",
      "  built with gcc 5.4.0 (Ubuntu 5.4.0-6ubuntu1~16.04.12) 20160609\n",
      "  configuration: --prefix=/usr --extra-version=0ubuntu0.1 --build-suffix=-ffmpeg --toolchain=hardened --libdir=/usr/lib/x86_64-linux-gnu --incdir=/usr/include/x86_64-linux-gnu --cc=cc --cxx=g++ --enable-gpl --enable-shared --disable-stripping --disable-decoder=libopenjpeg --disable-decoder=libschroedinger --enable-avresample --enable-avisynth --enable-gnutls --enable-ladspa --enable-libass --enable-libbluray --enable-libbs2b --enable-libcaca --enable-libcdio --enable-libflite --enable-libfontconfig --enable-libfreetype --enable-libfribidi --enable-libgme --enable-libgsm --enable-libmodplug --enable-libmp3lame --enable-libopenjpeg --enable-libopus --enable-libpulse --enable-librtmp --enable-libschroedinger --enable-libshine --enable-libsnappy --enable-libsoxr --enable-libspeex --enable-libssh --enable-libtheora --enable-libtwolame --enable-libvorbis --enable-libvpx --enable-libwavpack --enable-libwebp --enable-libx265 --enable-libxvid --enable-libzvbi --enable-openal --enable-opengl --enable-x11grab --enable-libdc1394 --enable-libiec61883 --enable-libzmq --enable-frei0r --enable-libx264 --enable-libopencv\n",
      "  WARNING: library configuration mismatch\n",
      "  avcodec     configuration: --prefix=/usr --extra-version=0ubuntu0.1 --build-suffix=-ffmpeg --toolchain=hardened --libdir=/usr/lib/x86_64-linux-gnu --incdir=/usr/include/x86_64-linux-gnu --cc=cc --cxx=g++ --enable-gpl --enable-shared --disable-stripping --disable-decoder=libopenjpeg --disable-decoder=libschroedinger --enable-avresample --enable-avisynth --enable-gnutls --enable-ladspa --enable-libass --enable-libbluray --enable-libbs2b --enable-libcaca --enable-libcdio --enable-libflite --enable-libfontconfig --enable-libfreetype --enable-libfribidi --enable-libgme --enable-libgsm --enable-libmodplug --enable-libmp3lame --enable-libopenjpeg --enable-libopus --enable-libpulse --enable-librtmp --enable-libschroedinger --enable-libshine --enable-libsnappy --enable-libsoxr --enable-libspeex --enable-libssh --enable-libtheora --enable-libtwolame --enable-libvorbis --enable-libvpx --enable-libwavpack --enable-libwebp --enable-libx265 --enable-libxvid --enable-libzvbi --enable-openal --enable-opengl --enable-x11grab --enable-libdc1394 --enable-libiec61883 --enable-libzmq --enable-frei0r --enable-libx264 --enable-libopencv --enable-version3 --disable-doc --disable-programs --disable-avdevice --disable-avfilter --disable-avformat --disable-avresample --disable-postproc --disable-swscale --enable-libopencore_amrnb --enable-libopencore_amrwb --enable-libvo_aacenc --enable-libvo_amrwbenc\n",
      "  libavutil      54. 31.100 / 54. 31.100\n",
      "  libavcodec     56. 60.100 / 56. 60.100\n",
      "  libavformat    56. 40.101 / 56. 40.101\n",
      "  libavdevice    56.  4.100 / 56.  4.100\n",
      "  libavfilter     5. 40.101 /  5. 40.101\n",
      "  libavresample   2.  1.  0 /  2.  1.  0\n",
      "  libswscale      3.  1.101 /  3.  1.101\n",
      "  libswresample   1.  2.101 /  1.  2.101\n",
      "  libpostproc    53.  3.100 / 53.  3.100\n",
      "\u001b[0;35m[mov,mp4,m4a,3gp,3g2,mj2 @ 0x24b8b00] \u001b[0m\u001b[0;33mstream 0, timescale not set\n",
      "\u001b[0m\u001b[0;36m[mjpeg @ 0x24bb9e0] \u001b[0mChangeing bps to 8\n",
      "Input #0, mov,mp4,m4a,3gp,3g2,mj2, from 'data/audio/0637/07 Human Nature.m4a':\n",
      "  Metadata:\n",
      "    major_brand     : M4A \n",
      "    minor_version   : 0\n",
      "    compatible_brands: M4A mp42isom\n",
      "    creation_time   : 2036-04-22 18:51:57\n",
      "    iTunSMPB        :  00000000 00000840 00000162 0000000000A57A5E 00000000 00000000 00000000 00000000 00000000 00000000 00000000 00000000\n",
      "    iTunNORM        :  00000845 00000862 00003C17 00003706 00020D5A 00020D5A 000076AF 000083B0 00013978 00024480\n",
      "    title           : Human Nature\n",
      "    artist          : Michael Jackson\n",
      "    album_artist    : Michael Jackson\n",
      "    composer        : Steve Porcaro & John Bettis\n",
      "    album           : Thriller\n",
      "    genre           : Pop\n",
      "    track           : 7/9\n",
      "    disc            : 1/1\n",
      "    compilation     : 0\n",
      "    gapless_playback: 0\n",
      "    date            : 1982-11-30T08:00:00Z\n",
      "    account_id      : cjdbayron@gmail.com\n",
      "    copyright       : ℗ 1982 MJJ Productions Inc.\n",
      "    rating          : 0\n",
      "    media_type      : 1\n",
      "    purchase_date   : 2021-10-02 09:30:53\n",
      "    sort_name       : Human Nature\n",
      "    sort_album      : Thriller\n",
      "    sort_artist     : Michael Jackson\n",
      "  Duration: 00:04:05.97, start: 0.000000, bitrate: 338 kb/s\n",
      "    Stream #0:0(eng): Audio: aac (LC) (mp4a / 0x6134706D), 44100 Hz, stereo, fltp, 300 kb/s (default)\n",
      "    Metadata:\n",
      "      creation_time   : 2036-04-22 18:51:57\n",
      "    Stream #0:1: Video: mjpeg, yuvj420p(pc, bt470bg/unknown/unknown), 1500x1500 [SAR 72:72 DAR 1:1], 90k tbr, 90k tbn, 90k tbc\n",
      "Output #0, wav, to 'data/audio/0637/audio.wav':\n",
      "  Metadata:\n",
      "    major_brand     : M4A \n",
      "    minor_version   : 0\n",
      "    compatible_brands: M4A mp42isom\n",
      "    sort_artist     : Michael Jackson\n",
      "    iTunSMPB        :  00000000 00000840 00000162 0000000000A57A5E 00000000 00000000 00000000 00000000 00000000 00000000 00000000 00000000\n",
      "    iTunNORM        :  00000845 00000862 00003C17 00003706 00020D5A 00020D5A 000076AF 000083B0 00013978 00024480\n",
      "    INAM            : Human Nature\n",
      "    IART            : Michael Jackson\n",
      "    album_artist    : Michael Jackson\n",
      "    composer        : Steve Porcaro & John Bettis\n",
      "    IPRD            : Thriller\n",
      "    IGNR            : Pop\n",
      "    IPRT            : 7/9\n",
      "    disc            : 1/1\n",
      "    compilation     : 0\n",
      "    gapless_playback: 0\n",
      "    ICRD            : 1982-11-30T08:00:00Z\n",
      "    account_id      : cjdbayron@gmail.com\n",
      "    ICOP            : ℗ 1982 MJJ Productions Inc.\n",
      "    rating          : 0\n",
      "    media_type      : 1\n",
      "    purchase_date   : 2021-10-02 09:30:53\n",
      "    sort_name       : Human Nature\n",
      "    sort_album      : Thriller\n",
      "    ISFT            : Lavf56.40.101\n",
      "    Stream #0:0(eng): Audio: pcm_s16le ([1][0][0][0] / 0x0001), 44100 Hz, stereo, s16, 1411 kb/s (default)\n",
      "    Metadata:\n",
      "      creation_time   : 2036-04-22 18:51:57\n",
      "      encoder         : Lavc56.60.100 pcm_s16le\n",
      "Stream mapping:\n",
      "  Stream #0:0 -> #0:0 (aac (native) -> pcm_s16le (native))\n",
      "Press [q] to stop, [?] for help\n",
      "size=   42364kB time=00:04:05.96 bitrate=1410.9kbits/s    \n",
      "video:0kB audio:42364kB subtitle:0kB other streams:0kB global headers:0kB muxing overhead: 0.000539%\n",
      "\"data/audio/0270/13 In My Room.m4a\" data/audio/0270/audio.wav\n",
      "ffmpeg version 2.8.17-0ubuntu0.1 Copyright (c) 2000-2020 the FFmpeg developers\n",
      "  built with gcc 5.4.0 (Ubuntu 5.4.0-6ubuntu1~16.04.12) 20160609\n",
      "  configuration: --prefix=/usr --extra-version=0ubuntu0.1 --build-suffix=-ffmpeg --toolchain=hardened --libdir=/usr/lib/x86_64-linux-gnu --incdir=/usr/include/x86_64-linux-gnu --cc=cc --cxx=g++ --enable-gpl --enable-shared --disable-stripping --disable-decoder=libopenjpeg --disable-decoder=libschroedinger --enable-avresample --enable-avisynth --enable-gnutls --enable-ladspa --enable-libass --enable-libbluray --enable-libbs2b --enable-libcaca --enable-libcdio --enable-libflite --enable-libfontconfig --enable-libfreetype --enable-libfribidi --enable-libgme --enable-libgsm --enable-libmodplug --enable-libmp3lame --enable-libopenjpeg --enable-libopus --enable-libpulse --enable-librtmp --enable-libschroedinger --enable-libshine --enable-libsnappy --enable-libsoxr --enable-libspeex --enable-libssh --enable-libtheora --enable-libtwolame --enable-libvorbis --enable-libvpx --enable-libwavpack --enable-libwebp --enable-libx265 --enable-libxvid --enable-libzvbi --enable-openal --enable-opengl --enable-x11grab --enable-libdc1394 --enable-libiec61883 --enable-libzmq --enable-frei0r --enable-libx264 --enable-libopencv\n",
      "  WARNING: library configuration mismatch\n",
      "  avcodec     configuration: --prefix=/usr --extra-version=0ubuntu0.1 --build-suffix=-ffmpeg --toolchain=hardened --libdir=/usr/lib/x86_64-linux-gnu --incdir=/usr/include/x86_64-linux-gnu --cc=cc --cxx=g++ --enable-gpl --enable-shared --disable-stripping --disable-decoder=libopenjpeg --disable-decoder=libschroedinger --enable-avresample --enable-avisynth --enable-gnutls --enable-ladspa --enable-libass --enable-libbluray --enable-libbs2b --enable-libcaca --enable-libcdio --enable-libflite --enable-libfontconfig --enable-libfreetype --enable-libfribidi --enable-libgme --enable-libgsm --enable-libmodplug --enable-libmp3lame --enable-libopenjpeg --enable-libopus --enable-libpulse --enable-librtmp --enable-libschroedinger --enable-libshine --enable-libsnappy --enable-libsoxr --enable-libspeex --enable-libssh --enable-libtheora --enable-libtwolame --enable-libvorbis --enable-libvpx --enable-libwavpack --enable-libwebp --enable-libx265 --enable-libxvid --enable-libzvbi --enable-openal --enable-opengl --enable-x11grab --enable-libdc1394 --enable-libiec61883 --enable-libzmq --enable-frei0r --enable-libx264 --enable-libopencv --enable-version3 --disable-doc --disable-programs --disable-avdevice --disable-avfilter --disable-avformat --disable-avresample --disable-postproc --disable-swscale --enable-libopencore_amrnb --enable-libopencore_amrwb --enable-libvo_aacenc --enable-libvo_amrwbenc\n",
      "  libavutil      54. 31.100 / 54. 31.100\n",
      "  libavcodec     56. 60.100 / 56. 60.100\n",
      "  libavformat    56. 40.101 / 56. 40.101\n",
      "  libavdevice    56.  4.100 / 56.  4.100\n",
      "  libavfilter     5. 40.101 /  5. 40.101\n",
      "  libavresample   2.  1.  0 /  2.  1.  0\n",
      "  libswscale      3.  1.101 /  3.  1.101\n",
      "  libswresample   1.  2.101 /  1.  2.101\n",
      "  libpostproc    53.  3.100 / 53.  3.100\n",
      "\u001b[0;35m[mov,mp4,m4a,3gp,3g2,mj2 @ 0x10f8b00] \u001b[0m\u001b[0;33mstream 0, timescale not set\n",
      "\u001b[0m\u001b[0;36m[mjpeg @ 0x10fb7c0] \u001b[0mChangeing bps to 8\n",
      "Input #0, mov,mp4,m4a,3gp,3g2,mj2, from 'data/audio/0270/13 In My Room.m4a':\n",
      "  Metadata:\n",
      "    major_brand     : M4A \n",
      "    minor_version   : 0\n",
      "    compatible_brands: M4A mp42isom\n",
      "    creation_time   : 2034-06-09 16:48:14\n",
      "    iTunSMPB        :  00000000 00000840 0000030C 00000000005A24B4 00000000 00000000 00000000 00000000 00000000 00000000 00000000 00000000\n",
      "    iTunNORM        :  000009C2 00000EA8 00002BEB 00005659 0001D066 0001709E 00007A40 00007A41 00014AE2 0001D066\n",
      "    title           : In My Room\n",
      "    artist          : The Beach Boys\n",
      "    album_artist    : The Beach Boys\n",
      "    album           : Sounds of Summer: The Very Best of the Beach Boys\n",
      "    genre           : Rock\n",
      "    track           : 13/30\n",
      "    disc            : 1/1\n",
      "    compilation     : 1\n",
      "    gapless_playback: 0\n",
      "    date            : 1963-09-23T12:00:00Z\n",
      "    account_id      : cjdbayron@gmail.com\n",
      "    copyright       : This Compilation ℗ 2003 Capitol Catalog\n",
      "    rating          : 0\n",
      "    media_type      : 1\n",
      "    purchase_date   : 2021-10-02 09:32:34\n",
      "    sort_name       : In My Room\n",
      "    sort_album      : Sounds of Summer: The Very Best of the Beach Boys\n",
      "    sort_artist     : Beach Boys\n",
      "  Duration: 00:02:14.03, start: 0.000000, bitrate: 321 kb/s\n",
      "    Stream #0:0(eng): Audio: aac (LC) (mp4a / 0x6134706D), 44100 Hz, stereo, fltp, 286 kb/s (default)\n",
      "    Metadata:\n",
      "      creation_time   : 2034-06-09 16:48:14\n",
      "    Stream #0:1: Video: mjpeg, yuvj420p(pc, bt470bg/unknown/unknown), 1500x1500 [SAR 72:72 DAR 1:1], 90k tbr, 90k tbn, 90k tbc\n",
      "Output #0, wav, to 'data/audio/0270/audio.wav':\n",
      "  Metadata:\n",
      "    major_brand     : M4A \n",
      "    minor_version   : 0\n",
      "    compatible_brands: M4A mp42isom\n",
      "    sort_artist     : Beach Boys\n",
      "    iTunSMPB        :  00000000 00000840 0000030C 00000000005A24B4 00000000 00000000 00000000 00000000 00000000 00000000 00000000 00000000\n",
      "    iTunNORM        :  000009C2 00000EA8 00002BEB 00005659 0001D066 0001709E 00007A40 00007A41 00014AE2 0001D066\n",
      "    INAM            : In My Room\n",
      "    IART            : The Beach Boys\n",
      "    album_artist    : The Beach Boys\n",
      "    IPRD            : Sounds of Summer: The Very Best of the Beach Boys\n",
      "    IGNR            : Rock\n",
      "    IPRT            : 13/30\n",
      "    disc            : 1/1\n",
      "    compilation     : 1\n",
      "    gapless_playback: 0\n",
      "    ICRD            : 1963-09-23T12:00:00Z\n",
      "    account_id      : cjdbayron@gmail.com\n",
      "    ICOP            : This Compilation ℗ 2003 Capitol Catalog\n",
      "    rating          : 0\n",
      "    media_type      : 1\n",
      "    purchase_date   : 2021-10-02 09:32:34\n",
      "    sort_name       : In My Room\n",
      "    sort_album      : Sounds of Summer: The Very Best of the Beach Boys\n",
      "    ISFT            : Lavf56.40.101\n",
      "    Stream #0:0(eng): Audio: pcm_s16le ([1][0][0][0] / 0x0001), 44100 Hz, stereo, s16, 1411 kb/s (default)\n",
      "    Metadata:\n",
      "      creation_time   : 2034-06-09 16:48:14\n",
      "      encoder         : Lavc56.60.100 pcm_s16le\n",
      "Stream mapping:\n",
      "  Stream #0:0 -> #0:0 (aac (native) -> pcm_s16le (native))\n",
      "Press [q] to stop, [?] for help\n"
     ]
    },
    {
     "name": "stdout",
     "output_type": "stream",
     "text": [
      "size=   23080kB time=00:02:14.02 bitrate=1410.7kbits/s    \n",
      "video:0kB audio:23080kB subtitle:0kB other streams:0kB global headers:0kB muxing overhead: 0.001219%\n",
      "\"data/audio/0018/06 Kiss On My List.m4a\" data/audio/0018/audio.wav\n",
      "ffmpeg version 2.8.17-0ubuntu0.1 Copyright (c) 2000-2020 the FFmpeg developers\n",
      "  built with gcc 5.4.0 (Ubuntu 5.4.0-6ubuntu1~16.04.12) 20160609\n",
      "  configuration: --prefix=/usr --extra-version=0ubuntu0.1 --build-suffix=-ffmpeg --toolchain=hardened --libdir=/usr/lib/x86_64-linux-gnu --incdir=/usr/include/x86_64-linux-gnu --cc=cc --cxx=g++ --enable-gpl --enable-shared --disable-stripping --disable-decoder=libopenjpeg --disable-decoder=libschroedinger --enable-avresample --enable-avisynth --enable-gnutls --enable-ladspa --enable-libass --enable-libbluray --enable-libbs2b --enable-libcaca --enable-libcdio --enable-libflite --enable-libfontconfig --enable-libfreetype --enable-libfribidi --enable-libgme --enable-libgsm --enable-libmodplug --enable-libmp3lame --enable-libopenjpeg --enable-libopus --enable-libpulse --enable-librtmp --enable-libschroedinger --enable-libshine --enable-libsnappy --enable-libsoxr --enable-libspeex --enable-libssh --enable-libtheora --enable-libtwolame --enable-libvorbis --enable-libvpx --enable-libwavpack --enable-libwebp --enable-libx265 --enable-libxvid --enable-libzvbi --enable-openal --enable-opengl --enable-x11grab --enable-libdc1394 --enable-libiec61883 --enable-libzmq --enable-frei0r --enable-libx264 --enable-libopencv\n",
      "  WARNING: library configuration mismatch\n",
      "  avcodec     configuration: --prefix=/usr --extra-version=0ubuntu0.1 --build-suffix=-ffmpeg --toolchain=hardened --libdir=/usr/lib/x86_64-linux-gnu --incdir=/usr/include/x86_64-linux-gnu --cc=cc --cxx=g++ --enable-gpl --enable-shared --disable-stripping --disable-decoder=libopenjpeg --disable-decoder=libschroedinger --enable-avresample --enable-avisynth --enable-gnutls --enable-ladspa --enable-libass --enable-libbluray --enable-libbs2b --enable-libcaca --enable-libcdio --enable-libflite --enable-libfontconfig --enable-libfreetype --enable-libfribidi --enable-libgme --enable-libgsm --enable-libmodplug --enable-libmp3lame --enable-libopenjpeg --enable-libopus --enable-libpulse --enable-librtmp --enable-libschroedinger --enable-libshine --enable-libsnappy --enable-libsoxr --enable-libspeex --enable-libssh --enable-libtheora --enable-libtwolame --enable-libvorbis --enable-libvpx --enable-libwavpack --enable-libwebp --enable-libx265 --enable-libxvid --enable-libzvbi --enable-openal --enable-opengl --enable-x11grab --enable-libdc1394 --enable-libiec61883 --enable-libzmq --enable-frei0r --enable-libx264 --enable-libopencv --enable-version3 --disable-doc --disable-programs --disable-avdevice --disable-avfilter --disable-avformat --disable-avresample --disable-postproc --disable-swscale --enable-libopencore_amrnb --enable-libopencore_amrwb --enable-libvo_aacenc --enable-libvo_amrwbenc\n",
      "  libavutil      54. 31.100 / 54. 31.100\n",
      "  libavcodec     56. 60.100 / 56. 60.100\n",
      "  libavformat    56. 40.101 / 56. 40.101\n",
      "  libavdevice    56.  4.100 / 56.  4.100\n",
      "  libavfilter     5. 40.101 /  5. 40.101\n",
      "  libavresample   2.  1.  0 /  2.  1.  0\n",
      "  libswscale      3.  1.101 /  3.  1.101\n",
      "  libswresample   1.  2.101 /  1.  2.101\n",
      "  libpostproc    53.  3.100 / 53.  3.100\n",
      "\u001b[0;35m[mov,mp4,m4a,3gp,3g2,mj2 @ 0x1a71b00] \u001b[0m\u001b[0;33mstream 0, timescale not set\n",
      "\u001b[0m\u001b[0;36m[mjpeg @ 0x1a74aa0] \u001b[0mChangeing bps to 8\n",
      "Input #0, mov,mp4,m4a,3gp,3g2,mj2, from 'data/audio/0018/06 Kiss On My List.m4a':\n",
      "  Metadata:\n",
      "    major_brand     : M4A \n",
      "    minor_version   : 0\n",
      "    compatible_brands: M4A mp42isom\n",
      "    creation_time   : 2021-06-16 07:37:45\n",
      "    iTunSMPB        :  00000000 00000840 00000030 00000000009C4B90 00000000 00000000 00000000 00000000 00000000 00000000 00000000 00000000\n",
      "    iTunNORM        :  0000080D 000007B1 00005241 000051AA 00030EC4 00030EC4 00007C8C 00007C90 00008D96 0002068C\n",
      "    title           : Kiss On My List\n",
      "    artist          : Daryl Hall & John Oates\n",
      "    album_artist    : Daryl Hall & John Oates\n",
      "    composer        : Janna Allen & Daryl Hall\n",
      "    album           : The Best of Daryl Hall & John Oates - Looking Back\n",
      "    genre           : Pop\n",
      "    track           : 6/18\n",
      "    disc            : 1/1\n",
      "    compilation     : 1\n",
      "    gapless_playback: 0\n",
      "    date            : 1980-07-29T12:00:00Z\n",
      "    account_id      : cjdbayron@gmail.com\n",
      "    copyright       : ℗ This compilation 1991 BMG Entertainment International UK & Ireland Ltd.\n",
      "    rating          : 0\n",
      "    media_type      : 1\n",
      "    purchase_date   : 2021-10-02 09:34:32\n",
      "    sort_name       : Kiss On My List\n",
      "    sort_album      : Best of Daryl Hall & John Oates - Looking Back\n",
      "    sort_artist     : Daryl Hall & John Oates\n",
      "  Duration: 00:03:52.32, start: 0.000000, bitrate: 284 kb/s\n",
      "    Stream #0:0(eng): Audio: aac (LC) (mp4a / 0x6134706D), 44100 Hz, stereo, fltp, 264 kb/s (default)\n",
      "    Metadata:\n",
      "      creation_time   : 2021-06-16 07:37:45\n",
      "    Stream #0:1: Video: mjpeg, yuvj420p(pc, bt470bg/unknown/unknown), 600x600 [SAR 72:72 DAR 1:1], 90k tbr, 90k tbn, 90k tbc\n",
      "Output #0, wav, to 'data/audio/0018/audio.wav':\n",
      "  Metadata:\n",
      "    major_brand     : M4A \n",
      "    minor_version   : 0\n",
      "    compatible_brands: M4A mp42isom\n",
      "    sort_artist     : Daryl Hall & John Oates\n",
      "    iTunSMPB        :  00000000 00000840 00000030 00000000009C4B90 00000000 00000000 00000000 00000000 00000000 00000000 00000000 00000000\n",
      "    iTunNORM        :  0000080D 000007B1 00005241 000051AA 00030EC4 00030EC4 00007C8C 00007C90 00008D96 0002068C\n",
      "    INAM            : Kiss On My List\n",
      "    IART            : Daryl Hall & John Oates\n",
      "    album_artist    : Daryl Hall & John Oates\n",
      "    composer        : Janna Allen & Daryl Hall\n",
      "    IPRD            : The Best of Daryl Hall & John Oates - Looking Back\n",
      "    IGNR            : Pop\n",
      "    IPRT            : 6/18\n",
      "    disc            : 1/1\n",
      "    compilation     : 1\n",
      "    gapless_playback: 0\n",
      "    ICRD            : 1980-07-29T12:00:00Z\n",
      "    account_id      : cjdbayron@gmail.com\n",
      "    ICOP            : ℗ This compilation 1991 BMG Entertainment International UK & Ireland Ltd.\n",
      "    rating          : 0\n",
      "    media_type      : 1\n",
      "    purchase_date   : 2021-10-02 09:34:32\n",
      "    sort_name       : Kiss On My List\n",
      "    sort_album      : Best of Daryl Hall & John Oates - Looking Back\n",
      "    ISFT            : Lavf56.40.101\n",
      "    Stream #0:0(eng): Audio: pcm_s16le ([1][0][0][0] / 0x0001), 44100 Hz, stereo, s16, 1411 kb/s (default)\n",
      "    Metadata:\n",
      "      creation_time   : 2021-06-16 07:37:45\n",
      "      encoder         : Lavc56.60.100 pcm_s16le\n",
      "Stream mapping:\n",
      "  Stream #0:0 -> #0:0 (aac (native) -> pcm_s16le (native))\n",
      "Press [q] to stop, [?] for help\n",
      "size=   40012kB time=00:03:52.31 bitrate=1410.9kbits/s    \n",
      "video:0kB audio:40012kB subtitle:0kB other streams:0kB global headers:0kB muxing overhead: 0.000815%\n"
     ]
    }
   ],
   "source": [
    "# convert to wav\n",
    "from glob import glob\n",
    "import codecs\n",
    "\n",
    "for _id in picked_ids:\n",
    "    mp3_pattern = f'data/audio/{_id:04d}/*.mp3'\n",
    "    mp3_list = glob(mp3_pattern) + glob(mp3_pattern.replace('mp3','m4a'))\n",
    "    if len(mp3_list) == 0:\n",
    "        print(f'{_id}: Missing MP3')\n",
    "        continue\n",
    "\n",
    "    mp3_fn = f'\"{mp3_list[0]}\"'\n",
    "    audio_fn = f'data/audio/{_id:04d}/audio.wav'\n",
    "    print(mp3_fn, audio_fn)\n",
    "    \n",
    "    !ffmpeg -y -i {mp3_fn} {audio_fn}"
   ]
  },
  {
   "cell_type": "markdown",
   "metadata": {},
   "source": [
    "#### Chroma feature analysis"
   ]
  },
  {
   "cell_type": "code",
   "execution_count": 8,
   "metadata": {},
   "outputs": [],
   "source": [
    "def load_billboard_chroma(_id):\n",
    "    \"\"\" Load bothchroma(bass-treble) vectors from Billboard dataset \"\"\"\n",
    "    \n",
    "    fn = f'{base_dir}/{_id:04d}/bothchroma.csv'\n",
    "    contents = pd.read_csv(fn, header=None)\n",
    "    \n",
    "    # we only get 3rd column onwards\n",
    "    # (first column empty, 2nd column time tick)\n",
    "    bothchroma = contents[contents.columns[2:]].values\n",
    "    return bothchroma\n",
    "    \n",
    "# chroma_samp = load_billboard_chroma(1289)\n",
    "# chroma_samp.shape"
   ]
  },
  {
   "cell_type": "code",
   "execution_count": 9,
   "metadata": {},
   "outputs": [
    {
     "name": "stderr",
     "output_type": "stream",
     "text": [
      "################################################################################\n",
      "### WARNING, path does not exist: KALDI_ROOT=/mnt/matylda5/iveselyk/Tools/kaldi-trunk\n",
      "###          (please add 'export KALDI_ROOT=<your_path>' in your $HOME/.profile)\n",
      "###          (or run as: KALDI_ROOT=<your_path> python <your_script>.py)\n",
      "################################################################################\n",
      "\n"
     ]
    }
   ],
   "source": [
    "from scipy.signal import resample\n",
    "import librosa\n",
    "import vamp\n",
    "import torch\n",
    "from torchaudio.transforms import Resample"
   ]
  },
  {
   "cell_type": "code",
   "execution_count": 10,
   "metadata": {},
   "outputs": [],
   "source": [
    "_SAMPLE_RATE = 44100\n",
    "def generate_chroma(_id, resampler='scipy', params={}):\n",
    "    \"\"\" Generate chroma from raw audio \"\"\"\n",
    "    \n",
    "    audio_fn = f'data/audio/{_id:04d}/audio.wav'\n",
    "    X, fs = librosa.load(audio_fn, sr=None, mono=True)\n",
    "    if fs != _SAMPLE_RATE:\n",
    "        if resampler == 'scipy':\n",
    "            X = resample(X, num=int(len(X)*_SAMPLE_RATE/fs))\n",
    "        elif resampler == 'torch':\n",
    "            resampling_transform = Resample(orig_freq=fs,\n",
    "                                            new_freq=_SAMPLE_RATE)\n",
    "            X = resampling_transform(torch.Tensor([X])).squeeze().numpy()\n",
    "        else:\n",
    "            raise Exception('unsupported resampler')\n",
    "    \n",
    "    out = vamp.collect(X, _SAMPLE_RATE, 'nnls-chroma:nnls-chroma',\n",
    "                       output='bothchroma', parameters=params)\n",
    "    chroma = out['matrix'][1]\n",
    "    return chroma\n",
    "\n",
    "# chroma_gen = generate_chroma(1289)\n",
    "# chroma_gen.shape\n",
    "\n",
    "# chroma_gen = generate_chroma(1289, resampler='torch')\n",
    "# chroma_gen.shape"
   ]
  },
  {
   "cell_type": "code",
   "execution_count": 12,
   "metadata": {},
   "outputs": [
    {
     "data": {
      "text/plain": [
       "[18, 270, 637, 736, 1289]"
      ]
     },
     "execution_count": 12,
     "metadata": {},
     "output_type": "execute_result"
    }
   ],
   "source": [
    "picked_ids.sort()\n",
    "picked_ids"
   ]
  },
  {
   "cell_type": "code",
   "execution_count": 63,
   "metadata": {},
   "outputs": [],
   "source": [
    "def normalize_chroma(chroma):\n",
    "    return (chroma / (chroma.sum(axis=1)[:, np.newaxis] + np.finfo(float).eps))"
   ]
  },
  {
   "cell_type": "code",
   "execution_count": 69,
   "metadata": {
    "scrolled": true
   },
   "outputs": [],
   "source": [
    "from librosa.sequence import dtw\n",
    "\n",
    "def compare_chroma(picked_ids, normalize=True):\n",
    "    print('**Feature comparison scores: (lower, better)**')\n",
    "    print(picked_ids)\n",
    "    for ix, _id in enumerate(picked_ids):\n",
    "        #_, fs = librosa.load(audio_fn, sr=None, mono=True)\n",
    "        #print(f'{df_songs_unique[df_songs_unique.id == _id].iloc[0].title} ({fs} Hz)')\n",
    "        chroma_samp = load_billboard_chroma(_id)\n",
    "        if normalize:\n",
    "            chroma_samp = normalize_chroma(chroma_samp)\n",
    "\n",
    "    #     if ix == 0:\n",
    "    #         ref_id = picked_ids[-1]\n",
    "    #     else:\n",
    "    #         ref_id = picked_ids[ix-1]\n",
    "\n",
    "        print(f'{_id} : ', end='')\n",
    "        for ref_id in picked_ids:\n",
    "            chroma_gen = generate_chroma(ref_id, params={'rollon': 1.0})\n",
    "            if normalize:\n",
    "                chroma_gen = normalize_chroma(chroma_gen)\n",
    "\n",
    "            D, wp = dtw(chroma_samp.T, chroma_gen.T, subseq=True)\n",
    "            #print(f'- baseline {_id} vs. {ref_id}: {D[-1,-1]}, ({(D[-1,-1]/len(wp)):.4f})')\n",
    "            #print(f'{D[-1,-1]:.2f}/{len(wp)} ({(D[-1,-1]/len(wp)):.4f}) | ', end='')\n",
    "            print(f'{(D[-1,-1]/len(wp)):.4f} | ', end='')\n",
    "\n",
    "    #     chroma_gen = generate_chroma(_id)\n",
    "    #     D, wp = dtw(chroma_samp.T, chroma_gen.T, subseq=True)\n",
    "    #     print(f'- default params: {D[-1,-1]}, ({(D[-1,-1]/len(wp)):.4f})')\n",
    "\n",
    "    #     chroma_gen = generate_chroma(_id, params={'rollon': 1.0})\n",
    "    #     D, wp = dtw(chroma_samp.T, chroma_samp.T, subseq=True)\n",
    "    #     print(f'- rollon=1.0: {D[-1,-1]}, ({(D[-1,-1]/len(wp)):.4f})')\n",
    "\n",
    "    #     chroma_gen = generate_chroma(_id, resampler='torch')\n",
    "    #     D, wp = dtw(chroma_samp.T, chroma_gen.T, subseq=True)\n",
    "    #     print(f'- (torch) default params: {D[-1,-1]}, ({(D[-1,-1]/len(wp)):.4f})')\n",
    "\n",
    "    #     chroma_gen = generate_chroma(_id, resampler='torch', params={'rollon': 1.0})\n",
    "    #     D, wp = dtw(chroma_samp.T, chroma_gen.T, subseq=True)\n",
    "    #     print(f'- (torch) rollon=1.0: {D[-1,-1]}, ({(D[-1,-1]/len(wp)):.4f})')\n",
    "        print('')"
   ]
  },
  {
   "cell_type": "code",
   "execution_count": 70,
   "metadata": {},
   "outputs": [
    {
     "name": "stdout",
     "output_type": "stream",
     "text": [
      "------------\n",
      "**Feature comparison scores: (lower, better)**\n",
      "[18, 270, 637, 736, 1289]\n",
      "18 : 0.0803 | 0.3684 | 0.2799 | 0.2650 | 0.2639 | \n",
      "270 : 0.3656 | 0.0418 | 0.3344 | 0.2832 | 0.3422 | \n",
      "637 : 0.2802 | 0.3381 | 0.0312 | 0.3003 | 0.2782 | \n",
      "736 : 0.2674 | 0.2804 | 0.2997 | 0.0478 | 0.2810 | \n",
      "1289 : 0.2599 | 0.3445 | 0.2741 | 0.2904 | 0.0385 | \n",
      "------------\n",
      "**Feature comparison scores: (lower, better)**\n",
      "[18, 270, 637, 736, 1289]\n",
      "18 : 1.0653 | 4.4305 | 3.8831 | 3.5445 | 3.5348 | \n",
      "270 : 4.4804 | 0.5193 | 3.9131 | 3.3354 | 4.4072 | \n",
      "637 : 3.8986 | 4.0635 | 0.3681 | 3.5872 | 3.6627 | \n",
      "736 : 3.4894 | 3.2144 | 3.6010 | 0.5766 | 3.7130 | \n",
      "1289 : 3.4910 | 4.2692 | 3.6262 | 3.8185 | 0.5162 | \n"
     ]
    }
   ],
   "source": [
    "print('------------')\n",
    "compare_chroma(picked_ids, normalize=True)\n",
    "print('------------')\n",
    "compare_chroma(picked_ids, normalize=False)"
   ]
  },
  {
   "cell_type": "markdown",
   "metadata": {},
   "source": [
    "#### Prep for loading the data"
   ]
  },
  {
   "cell_type": "code",
   "execution_count": 1,
   "metadata": {},
   "outputs": [],
   "source": [
    "import pandas as pd\n",
    "base_dir = 'data/McGill-Billboard'\n",
    "data_index = 'billboard-2.0-unique.csv'"
   ]
  },
  {
   "cell_type": "code",
   "execution_count": 2,
   "metadata": {
    "scrolled": true
   },
   "outputs": [
    {
     "data": {
      "text/html": [
       "<div>\n",
       "<style scoped>\n",
       "    .dataframe tbody tr th:only-of-type {\n",
       "        vertical-align: middle;\n",
       "    }\n",
       "\n",
       "    .dataframe tbody tr th {\n",
       "        vertical-align: top;\n",
       "    }\n",
       "\n",
       "    .dataframe thead th {\n",
       "        text-align: right;\n",
       "    }\n",
       "</style>\n",
       "<table border=\"1\" class=\"dataframe\">\n",
       "  <thead>\n",
       "    <tr style=\"text-align: right;\">\n",
       "      <th></th>\n",
       "      <th>id</th>\n",
       "      <th>title</th>\n",
       "      <th>artist</th>\n",
       "    </tr>\n",
       "  </thead>\n",
       "  <tbody>\n",
       "    <tr>\n",
       "      <th>0</th>\n",
       "      <td>3</td>\n",
       "      <td>I Don't Mind</td>\n",
       "      <td>James Brown</td>\n",
       "    </tr>\n",
       "    <tr>\n",
       "      <th>1</th>\n",
       "      <td>4</td>\n",
       "      <td>You've Got A Friend</td>\n",
       "      <td>Roberta Flack,Donny Hathaway</td>\n",
       "    </tr>\n",
       "    <tr>\n",
       "      <th>2</th>\n",
       "      <td>6</td>\n",
       "      <td>The Rose</td>\n",
       "      <td>Bette Midler</td>\n",
       "    </tr>\n",
       "    <tr>\n",
       "      <th>3</th>\n",
       "      <td>10</td>\n",
       "      <td>An Innocent Man</td>\n",
       "      <td>Billy Joel</td>\n",
       "    </tr>\n",
       "    <tr>\n",
       "      <th>4</th>\n",
       "      <td>12</td>\n",
       "      <td>Lookin' For Love</td>\n",
       "      <td>Johnny Lee</td>\n",
       "    </tr>\n",
       "  </tbody>\n",
       "</table>\n",
       "</div>"
      ],
      "text/plain": [
       "   id                title                        artist\n",
       "0   3         I Don't Mind                   James Brown\n",
       "1   4  You've Got A Friend  Roberta Flack,Donny Hathaway\n",
       "2   6             The Rose                  Bette Midler\n",
       "3  10      An Innocent Man                    Billy Joel\n",
       "4  12     Lookin' For Love                    Johnny Lee"
      ]
     },
     "execution_count": 2,
     "metadata": {},
     "output_type": "execute_result"
    }
   ],
   "source": [
    "df_songs = pd.read_csv(f'{base_dir}/{data_index}')\n",
    "df_songs.head()"
   ]
  },
  {
   "cell_type": "code",
   "execution_count": 3,
   "metadata": {},
   "outputs": [
    {
     "data": {
      "text/plain": [
       "742"
      ]
     },
     "execution_count": 3,
     "metadata": {},
     "output_type": "execute_result"
    }
   ],
   "source": [
    "len(df_songs)"
   ]
  },
  {
   "cell_type": "code",
   "execution_count": 8,
   "metadata": {},
   "outputs": [
    {
     "name": "stdout",
     "output_type": "stream",
     "text": [
      "bothchroma.csv\tfull.lab\tmajmin7.lab    majmin.lab\r\n",
      "echonest.json\tmajmin7inv.lab\tmajmininv.lab  tuning.csv\r\n"
     ]
    }
   ],
   "source": [
    "!ls {base_dir}/1289"
   ]
  },
  {
   "cell_type": "code",
   "execution_count": 11,
   "metadata": {},
   "outputs": [
    {
     "name": "stdout",
     "output_type": "stream",
     "text": [
      ",161.982403628,0,0,0,0,0,0,0,0,0,0,0,0,0,0,0,0,0,0,0,0,0,0,0,0\r\n",
      ",162.028843537,0,0,0,0,0,0,0,0,0,0,0,0,0,0,0,0,0,0,0,0,0,0,0,0\r\n",
      ",162.075283446,0,0,0,0,0,0,0,0,0,0,0,0,0,0,0,0,0,0,0,0,0,0,0,0\r\n",
      ",162.121723356,0,0,0,0,0,0,0,0,0,0,0,0,0,0,0,0,0,0,0,0,0,0,0,0\r\n",
      ",162.168163265,0,0,0,0,0,0,0,0,0,0,0,0,0,0,0,0,0,0,0,0,0,0,0,0\r\n",
      ",162.214603174,0,0,0,0,0,0,0,0,0,0,0,0,0,0,0,0,0,0,0,0,0,0,0,0\r\n",
      ",162.261043083,0,0,0,0,0,0,0,0,0,0,0,0,0,0,0,0,0,0,0,0,0,0,0,0\r\n",
      ",162.307482993,0,0,0,0,0,0,0,0,0,0,0,0,0,0,0,0,0,0,0,0,0,0,0,0\r\n",
      ",162.353922902,0,0,0,0,0,0,0,0,0,0,0,0,0,0,0,0,0,0,0,0,0,0,0,0\r\n",
      ",162.400362811,0,0,0,0,0,0,0,0,0,0,0,0,0,0,0,0,0,0,0,0,0,0,0,0\r\n"
     ]
    }
   ],
   "source": [
    "!tail {base_dir}/1289/bothchroma.csv"
   ]
  },
  {
   "cell_type": "code",
   "execution_count": 3,
   "metadata": {},
   "outputs": [],
   "source": [
    "def get_chroma_matrix(_id, return_timestamps=False):\n",
    "    \"\"\" Load bothchroma(bass-treble) vectors from Billboard dataset \"\"\"\n",
    "    \n",
    "    fn = f'{base_dir}/{_id:04d}/bothchroma.csv'\n",
    "    contents = pd.read_csv(fn, header=None)\n",
    "    \n",
    "    # we only get 3rd column onwards\n",
    "    # (first column empty, 2nd column time tick)\n",
    "    bothchroma = contents[contents.columns[2:]].values\n",
    "    if not return_timestamps:\n",
    "        return bothchroma\n",
    "    \n",
    "    start_times = contents[contents.columns[1]].values\n",
    "    step_size = start_times[1]\n",
    "    end_times = np.append(start_times[1:], [start_times[-1]+step_size], axis=0)\n",
    "    timestamps = np.vstack((start_times, end_times)).T\n",
    "    return timestamps, bothchroma"
   ]
  },
  {
   "cell_type": "code",
   "execution_count": 33,
   "metadata": {},
   "outputs": [
    {
     "data": {
      "text/plain": [
       "(3498, 24)"
      ]
     },
     "execution_count": 33,
     "metadata": {},
     "output_type": "execute_result"
    }
   ],
   "source": [
    "get_chroma_matrix(1289).shape # num frames, chroma feature size"
   ]
  },
  {
   "cell_type": "code",
   "execution_count": 34,
   "metadata": {},
   "outputs": [
    {
     "name": "stdout",
     "output_type": "stream",
     "text": [
      "(3498, 2) (3498, 24)\n"
     ]
    }
   ],
   "source": [
    "ts, cmatrix = get_chroma_matrix(1289, return_timestamps=True)\n",
    "print(ts.shape, cmatrix.shape)"
   ]
  },
  {
   "cell_type": "markdown",
   "metadata": {},
   "source": [
    "#### Feature description"
   ]
  },
  {
   "cell_type": "markdown",
   "metadata": {},
   "source": [
    "From reading bothchroma and chroma feature comparison:\n",
    "\n",
    "- sample rate: **44100 Hz**\n",
    "- step size for **each** chroma vector: 0.046439909s or **~50ms**\n",
    "    - equivalent to 0.046439909 * 44100 = **~2048 samples**\n",
    "- 64 chroma vectors ~= 3s\n",
    "- 128 chroma vectors ~= 6s"
   ]
  },
  {
   "cell_type": "code",
   "execution_count": 11,
   "metadata": {},
   "outputs": [
    {
     "name": "stdout",
     "output_type": "stream",
     "text": [
      "0.0\t0.325079365\tN\r\n",
      "0.325079365\t1.3641723354999997\tG:maj\r\n",
      "1.3641723355000002\t2.4032653059999998\tD:maj\r\n",
      "2.4032653060000007\t4.481451247000001\tC:maj\r\n",
      "4.481451247000002\t5.520544217500001\tG:maj\r\n",
      "5.520544217500002\t6.559637188000002\tD:maj\r\n",
      "6.559637188000003\t8.118276643750002\tC:maj\r\n",
      "8.118276643750004\t8.637823129000003\tD:maj\r\n",
      "8.637823129\t9.634569160749999\tG:maj\r\n",
      "9.634569160749999\t10.631315192499999\tD:maj\r\n"
     ]
    }
   ],
   "source": [
    "lab_fn = f'{base_dir}/1289/majmin.lab'\n",
    "!head {lab_fn}"
   ]
  },
  {
   "cell_type": "code",
   "execution_count": 4,
   "metadata": {},
   "outputs": [],
   "source": [
    "import mir_eval\n",
    "\n",
    "def get_chord_labels(_id, label_type='majmin'):\n",
    "    \"\"\" Load chord labels from .LAB files\n",
    "    \n",
    "    label_type: majmin, majmin7, majmininv, majmin7inv, full\n",
    "    \"\"\"\n",
    "    lab_fn = f'{base_dir}/{_id:04d}/{label_type}.lab'\n",
    "    # any line starting w/ \\n is ignored e.g. blank lines\n",
    "    timestamps, chord_labels = mir_eval.io.load_labeled_intervals(lab_fn, comment='\\n')\n",
    "    return timestamps, chord_labels"
   ]
  },
  {
   "cell_type": "code",
   "execution_count": 5,
   "metadata": {},
   "outputs": [
    {
     "name": "stdout",
     "output_type": "stream",
     "text": [
      "[0.         0.32507937] N\n",
      "[0.32507937 1.36417234] G:maj\n",
      "[1.36417234 2.40326531] D:maj\n",
      "[2.40326531 4.48145125] C:maj\n",
      "[4.48145125 5.52054422] G:maj\n",
      "[5.52054422 6.55963719] D:maj\n"
     ]
    }
   ],
   "source": [
    "timestamps, chord_labels = get_chord_labels(1289)\n",
    "for ix, (ts, lab) in enumerate(zip(timestamps, chord_labels)):\n",
    "    print(ts, lab)\n",
    "    if ix == 5:\n",
    "        break"
   ]
  },
  {
   "cell_type": "markdown",
   "metadata": {},
   "source": [
    "Now we have to map EACH chroma vector to these labels.\n",
    "\n",
    "Considerations:\n",
    "* *Time steps of vectors does not match time steps in labels* - for first iteration, we can **ignore** chroma vectors spanning multiple labels / occuring at chord transitions\n",
    "* *Numerical representation of chords* - `mir_eval.chords.encode()` converts chord labels to (semitone, quality (maj,min,etc.); for first iteration, we **limit to majmin and \"squash\" both semitone and quality in a single label**. We also **add 1** to the representation to shift -1 encoding for N (no chord) to 0"
   ]
  },
  {
   "cell_type": "markdown",
   "metadata": {},
   "source": [
    "Before we perform actual encoding of labels, let's perform some checks first."
   ]
  },
  {
   "cell_type": "code",
   "execution_count": 83,
   "metadata": {},
   "outputs": [
    {
     "name": "stderr",
     "output_type": "stream",
     "text": [
      "100%|██████████| 742/742 [00:00<00:00, 809.76it/s]\n"
     ]
    }
   ],
   "source": [
    "from tqdm import tqdm\n",
    "\n",
    "majmin_chordset = set()\n",
    "majmin7_chordset = set()\n",
    "\n",
    "for _id in tqdm(df_songs.id):\n",
    "    _, chord_labels = get_chord_labels(_id, label_type='majmin')\n",
    "    majmin_chordset.update(chord_labels)\n",
    "    \n",
    "    _, chord_labels = get_chord_labels(_id, label_type='majmin7')\n",
    "    majmin7_chordset.update(chord_labels)"
   ]
  },
  {
   "cell_type": "code",
   "execution_count": 93,
   "metadata": {},
   "outputs": [
    {
     "name": "stdout",
     "output_type": "stream",
     "text": [
      "['A#:maj', 'A:maj', 'A:min', 'Ab:maj', 'Ab:min', 'B:maj', 'B:min', 'Bb:maj', 'Bb:min', 'C#:maj', 'C#:min', 'C:maj', 'C:min', 'Cb:maj', 'Cb:min', 'D#:maj', 'D#:min', 'D:maj', 'D:min', 'Db:maj', 'Db:min', 'E:maj', 'E:min', 'Eb:maj', 'Eb:min', 'F#:maj', 'F#:min', 'F:maj', 'F:min', 'Fb:maj', 'G#:maj', 'G#:min', 'G:maj', 'G:min', 'Gb:maj', 'Gb:min', 'N', 'X']\n"
     ]
    }
   ],
   "source": [
    "temp = list(majmin_chordset)\n",
    "temp.sort()\n",
    "print(temp)"
   ]
  },
  {
   "cell_type": "code",
   "execution_count": 94,
   "metadata": {},
   "outputs": [
    {
     "name": "stdout",
     "output_type": "stream",
     "text": [
      "['A#:maj', 'A:7', 'A:maj', 'A:maj7', 'A:min', 'A:min7', 'Ab:7', 'Ab:maj', 'Ab:maj7', 'Ab:min', 'Ab:min7', 'B:7', 'B:maj', 'B:maj7', 'B:min', 'B:min7', 'Bb:7', 'Bb:maj', 'Bb:maj7', 'Bb:min', 'Bb:min7', 'C#:7', 'C#:maj', 'C#:min', 'C#:min7', 'C:7', 'C:maj', 'C:maj7', 'C:min', 'C:min7', 'Cb:7', 'Cb:maj', 'Cb:maj7', 'Cb:min', 'D#:7', 'D#:maj', 'D#:min', 'D#:min7', 'D:7', 'D:maj', 'D:maj7', 'D:min', 'D:min7', 'Db:7', 'Db:maj', 'Db:maj7', 'Db:min', 'Db:min7', 'E:7', 'E:maj', 'E:maj7', 'E:min', 'E:min7', 'Eb:7', 'Eb:maj', 'Eb:maj7', 'Eb:min', 'Eb:min7', 'F#:7', 'F#:maj', 'F#:min', 'F#:min7', 'F:7', 'F:maj', 'F:maj7', 'F:min', 'F:min7', 'Fb:maj', 'Fb:maj7', 'G#:7', 'G#:maj', 'G#:min', 'G#:min7', 'G:7', 'G:maj', 'G:maj7', 'G:min', 'G:min7', 'Gb:7', 'Gb:maj', 'Gb:maj7', 'Gb:min', 'Gb:min7', 'N', 'X']\n"
     ]
    }
   ],
   "source": [
    "temp = list(majmin7_chordset)\n",
    "temp.sort()\n",
    "print(temp)"
   ]
  },
  {
   "cell_type": "markdown",
   "metadata": {},
   "source": [
    "Looks good. We can interpret X and N as same class."
   ]
  },
  {
   "cell_type": "code",
   "execution_count": 113,
   "metadata": {},
   "outputs": [
    {
     "name": "stderr",
     "output_type": "stream",
     "text": [
      "100%|██████████| 742/742 [00:00<00:00, 1556.25it/s]\n"
     ]
    }
   ],
   "source": [
    "for _id in tqdm(df_songs.id):\n",
    "    ts, _ = get_chord_labels(_id)\n",
    "    # check if intervals are contiguous\n",
    "    assert(sum(ts[:-1, 1] - ts[1:, 0]) < 1e-9)\n",
    "    # check if time values are all positive\n",
    "    assert((ts >= 0.0).all())"
   ]
  },
  {
   "cell_type": "markdown",
   "metadata": {},
   "source": [
    "Looks good. We now proceed to encoding the labels."
   ]
  },
  {
   "cell_type": "code",
   "execution_count": 5,
   "metadata": {},
   "outputs": [
    {
     "data": {
      "text/plain": [
       "array([0, 8, 3, 1, 8])"
      ]
     },
     "execution_count": 5,
     "metadata": {},
     "output_type": "execute_result"
    }
   ],
   "source": [
    "import numpy as np\n",
    "\n",
    "# bitmaps of chord qualities\n",
    "_MAJ_BITMAP = mir_eval.chord.quality_to_bitmap('maj')\n",
    "_MIN_BITMAP = mir_eval.chord.quality_to_bitmap('min')\n",
    "_MAJ7_BITMAP = mir_eval.chord.quality_to_bitmap('maj7')\n",
    "_MIN7_BITMAP = mir_eval.chord.quality_to_bitmap('min7')\n",
    "\n",
    "_NUM_SEMITONE = 12\n",
    "\n",
    "def encode_chords_single_label(chord_labels):\n",
    "    \"\"\" Encode chord labels to a single label (semitone/root, quality in one) \"\"\"\n",
    "    \n",
    "    # third array is bass number, which we ignore\n",
    "    root_classes, quality_classes, _ = mir_eval.chord.encode_many(chord_labels)\n",
    "    root_classes += 1 # add 1 to shift No Chord (-1) to 0\n",
    "\n",
    "    min_chords_filt = np.all(quality_classes == _MIN_BITMAP, axis=1)\n",
    "    maj7_chords_filt = np.all(quality_classes == _MAJ7_BITMAP, axis=1)\n",
    "    min7_chords_filt = np.all(quality_classes == _MIN7_BITMAP, axis=1)\n",
    "\n",
    "    root_classes[min_chords_filt] += _NUM_SEMITONE\n",
    "    root_classes[maj7_chords_filt] += _NUM_SEMITONE*2\n",
    "    root_classes[min7_chords_filt] += _NUM_SEMITONE*3\n",
    "\n",
    "    return root_classes\n",
    "\n",
    "chord_classes = encode_chords_single_label(get_chord_labels(1289)[1])\n",
    "chord_classes[:5]"
   ]
  },
  {
   "cell_type": "code",
   "execution_count": 140,
   "metadata": {},
   "outputs": [
    {
     "name": "stderr",
     "output_type": "stream",
     "text": [
      "100%|██████████| 742/742 [00:01<00:00, 547.63it/s]\n"
     ]
    }
   ],
   "source": [
    "# similar check from last time; this time the encodings are checked\n",
    "from tqdm import tqdm\n",
    "\n",
    "majmin_chordset = set()\n",
    "majmin7_chordset = set()\n",
    "\n",
    "for _id in tqdm(df_songs.id):\n",
    "    _, chord_labels = get_chord_labels(_id, label_type='majmin')\n",
    "    majmin_chordset.update(encode_chords_single_label(chord_labels))\n",
    "    \n",
    "    _, chord_labels = get_chord_labels(_id, label_type='majmin7')\n",
    "    majmin7_chordset.update(encode_chords_single_label(chord_labels))"
   ]
  },
  {
   "cell_type": "code",
   "execution_count": 141,
   "metadata": {},
   "outputs": [
    {
     "name": "stdout",
     "output_type": "stream",
     "text": [
      "[0, 1, 2, 3, 4, 5, 6, 7, 8, 9, 10, 11, 12, 13, 14, 15, 16, 17, 18, 19, 20, 21, 22, 23, 24]\n"
     ]
    }
   ],
   "source": [
    "temp = list(majmin_chordset)\n",
    "temp.sort()\n",
    "print(temp)"
   ]
  },
  {
   "cell_type": "code",
   "execution_count": 142,
   "metadata": {},
   "outputs": [
    {
     "name": "stdout",
     "output_type": "stream",
     "text": [
      "[0, 1, 2, 3, 4, 5, 6, 7, 8, 9, 10, 11, 12, 13, 14, 15, 16, 17, 18, 19, 20, 21, 22, 23, 24, 25, 26, 27, 28, 29, 30, 31, 32, 33, 34, 35, 36, 37, 38, 39, 40, 41, 42, 43, 44, 45, 46, 47, 48]\n"
     ]
    }
   ],
   "source": [
    "temp = list(majmin7_chordset)\n",
    "temp.sort()\n",
    "print(temp)"
   ]
  },
  {
   "cell_type": "markdown",
   "metadata": {},
   "source": [
    "Looks great! We can proceed to matching the chroma vectors and these labels for model training."
   ]
  },
  {
   "cell_type": "code",
   "execution_count": 6,
   "metadata": {},
   "outputs": [],
   "source": [
    "import numpy as np\n",
    "\n",
    "def get_chord_features_and_labels(_id):\n",
    "    \"\"\" Get chroma vectors and chord labels \"\"\"\n",
    "    chroma_timestamps, chroma_vectors = get_chroma_matrix(_id, return_timestamps=True)\n",
    "    chord_timestamps, chord_labels_str = get_chord_labels(_id)\n",
    "    chord_labels = encode_chords_single_label(chord_labels_str)\n",
    "\n",
    "    assert(len(chroma_timestamps) == len(chroma_vectors))\n",
    "    assert(len(chord_timestamps) == len(chord_labels))\n",
    "\n",
    "    # label for each chroma vector\n",
    "    chromavec_labels = np.zeros(len(chroma_vectors)).astype(np.int)-1 # all -1's\n",
    "    st_ix = 0 # lower bound for updating labels\n",
    "    for i, (ts, chord_label) in enumerate(zip(chord_timestamps, chord_labels)):\n",
    "        # get indices of chroma timestamps within duration of current chord\n",
    "        in_cur_chord = (chroma_timestamps[st_ix:, 0] >= ts[0]) \\\n",
    "                        & (chroma_timestamps[st_ix:, 1] <= ts[1])\n",
    "        chromavec_labels[st_ix:][in_cur_chord] = chord_label\n",
    "\n",
    "        # update lower bound\n",
    "        in_cur_chord = in_cur_chord.astype(int)\n",
    "        transitions = in_cur_chord[1:] - in_cur_chord[:-1]\n",
    "        # we get index of first occurence of True->False transition\n",
    "        # False-True = -1\n",
    "        TtoF_ixs = np.where(transitions==-1)[0]\n",
    "\n",
    "        if len(TtoF_ixs) > 0:\n",
    "            st_ix += (TtoF_ixs[0] + 1) # +1 due to offset by diffing to get transitions\n",
    "\n",
    "    remove_ambiguous_mask = (chromavec_labels != -1)\n",
    "    return chroma_vectors[remove_ambiguous_mask], chromavec_labels[remove_ambiguous_mask]"
   ]
  },
  {
   "cell_type": "code",
   "execution_count": 7,
   "metadata": {},
   "outputs": [],
   "source": [
    "chroma_vectors, chord_labels = get_chord_features_and_labels(1289)"
   ]
  },
  {
   "cell_type": "code",
   "execution_count": 9,
   "metadata": {},
   "outputs": [
    {
     "data": {
      "text/plain": [
       "((3358, 24), (3358,))"
      ]
     },
     "execution_count": 9,
     "metadata": {},
     "output_type": "execute_result"
    }
   ],
   "source": [
    "chroma_vectors.shape, chord_labels.shape"
   ]
  },
  {
   "cell_type": "code",
   "execution_count": 157,
   "metadata": {},
   "outputs": [
    {
     "data": {
      "text/plain": [
       "array([0, 0, 0, 0, 0, 0, 0, 8, 8, 8, 8, 8, 8, 8, 8, 8, 8, 8, 8, 8, 8, 8,\n",
       "       8, 8, 8, 8, 8, 8, 8, 3, 3, 3, 3, 3, 3, 3, 3, 3, 3, 3, 3, 3, 3, 3,\n",
       "       3, 3, 3, 3, 3, 3, 1, 1, 1, 1, 1, 1, 1, 1, 1, 1, 1, 1, 1, 1, 1, 1,\n",
       "       1, 1, 1, 1, 1, 1, 1, 1, 1, 1, 1, 1, 1, 1, 1, 1, 1, 1, 1, 1, 1, 1,\n",
       "       1, 1, 1, 1, 1, 1, 8, 8, 8, 8, 8, 8])"
      ]
     },
     "execution_count": 157,
     "metadata": {},
     "output_type": "execute_result"
    }
   ],
   "source": [
    "chord_labels[:100]"
   ]
  },
  {
   "cell_type": "markdown",
   "metadata": {},
   "source": [
    "Now we use the feature & label extraction function on all data. (Try if we can fit all of it into memory i.e. a single NumPy array)."
   ]
  },
  {
   "cell_type": "code",
   "execution_count": 26,
   "metadata": {},
   "outputs": [
    {
     "data": {
      "text/plain": [
       "(742, 644736, 26864)"
      ]
     },
     "execution_count": 26,
     "metadata": {},
     "output_type": "execute_result"
    }
   ],
   "source": [
    "len(df_songs), chroma_vectors.nbytes, chord_labels.nbytes"
   ]
  },
  {
   "cell_type": "code",
   "execution_count": 27,
   "metadata": {},
   "outputs": [
    {
     "name": "stdout",
     "output_type": "stream",
     "text": [
      "estimate memory size: 475.24 MB\n"
     ]
    }
   ],
   "source": [
    "print(f'estimate memory size: {(len(df_songs)*(chroma_vectors.nbytes+chord_labels.nbytes)/(1024*1024)):.2f} MB')"
   ]
  },
  {
   "cell_type": "code",
   "execution_count": 36,
   "metadata": {},
   "outputs": [
    {
     "name": "stderr",
     "output_type": "stream",
     "text": [
      " 77%|███████▋  | 569/742 [00:59<00:30,  5.63it/s]/home/cjbayron/virtualenvs/pytorch/lib/python3.6/site-packages/mir_eval/io.py:281: UserWarning: All interval durations must be strictly positive\n",
      "  warnings.warn(error.args[0])\n",
      "100%|██████████| 742/742 [01:33<00:00,  7.93it/s]\n"
     ]
    }
   ],
   "source": [
    "from tqdm import tqdm\n",
    "\n",
    "all_chroma_vectors = []\n",
    "all_chord_labels = []\n",
    "\n",
    "for _id in tqdm(df_songs.id):\n",
    "    chroma_vectors, chord_labels = get_chord_features_and_labels(_id)\n",
    "    \n",
    "    if len(all_chroma_vectors) == 0:\n",
    "        all_chroma_vectors = chroma_vectors\n",
    "        all_chord_labels = chord_labels\n",
    "    else:    \n",
    "        all_chroma_vectors = np.concatenate((all_chroma_vectors, chroma_vectors))\n",
    "        all_chord_labels = np.concatenate((all_chord_labels, chord_labels))"
   ]
  },
  {
   "cell_type": "code",
   "execution_count": null,
   "metadata": {},
   "outputs": [],
   "source": [
    "# check 569?"
   ]
  },
  {
   "cell_type": "code",
   "execution_count": 39,
   "metadata": {},
   "outputs": [
    {
     "name": "stdout",
     "output_type": "stream",
     "text": [
      "actual memory size: 640.97 MB\n"
     ]
    }
   ],
   "source": [
    "print(f'actual memory size: {((all_chroma_vectors.nbytes+all_chord_labels.nbytes)/(1024*1024)):.2f} MB')"
   ]
  },
  {
   "cell_type": "code",
   "execution_count": 40,
   "metadata": {},
   "outputs": [],
   "source": [
    "np.save('data/01_all_chroma_vectors.npy', all_chroma_vectors)\n",
    "np.save('data/01_all_chord_labels.npy', all_chord_labels)"
   ]
  },
  {
   "cell_type": "code",
   "execution_count": 41,
   "metadata": {},
   "outputs": [
    {
     "data": {
      "text/plain": [
       "((3360513, 24), (3360513,))"
      ]
     },
     "execution_count": 41,
     "metadata": {},
     "output_type": "execute_result"
    }
   ],
   "source": [
    "all_chroma_vectors.shape, all_chord_labels.shape"
   ]
  },
  {
   "cell_type": "markdown",
   "metadata": {},
   "source": [
    "With this data, we can proceed to first training iteration."
   ]
  },
  {
   "cell_type": "code",
   "execution_count": null,
   "metadata": {},
   "outputs": [],
   "source": []
  },
  {
   "cell_type": "markdown",
   "metadata": {},
   "source": [
    "#### Feature check"
   ]
  },
  {
   "cell_type": "code",
   "execution_count": 1,
   "metadata": {},
   "outputs": [],
   "source": [
    "import numpy as np\n",
    "from scipy.signal import resample\n",
    "import librosa\n",
    "import vamp\n",
    "\n",
    "_SAMPLE_RATE = 44100\n",
    "def generate_chroma_from_wav(audio_fn, params={'rollon': 1.0}):\n",
    "    \"\"\" Generate chroma from raw audio \"\"\"\n",
    "    \n",
    "    X, fs = librosa.load(audio_fn, sr=None, mono=True)\n",
    "    if fs != _SAMPLE_RATE:\n",
    "        X = resample(X, num=int(len(X)*_SAMPLE_RATE/fs))\n",
    "        \n",
    "    out = vamp.collect(X, _SAMPLE_RATE, 'nnls-chroma:nnls-chroma',\n",
    "                       output='bothchroma', parameters=params)\n",
    "    \n",
    "    chroma = out['matrix'][1]\n",
    "    return chroma"
   ]
  },
  {
   "cell_type": "code",
   "execution_count": 2,
   "metadata": {},
   "outputs": [
    {
     "name": "stdout",
     "output_type": "stream",
     "text": [
      "(151, 24)\n"
     ]
    },
    {
     "data": {
      "image/png": "[encoded data removed]",
      "text/plain": [
       "<Figure size 432x288 with 1 Axes>"
      ]
     },
     "metadata": {
      "needs_background": "light"
     },
     "output_type": "display_data"
    }
   ],
   "source": [
    "import matplotlib.pyplot as plt\n",
    "%matplotlib inline\n",
    "\n",
    "#notes = ['C','Db','D','Eb','E','F','Gb','G','Ab','A','Bb','B'] # this is WRONG!!!!\n",
    "notes = ['A','Bb','B', 'C','Db','D','Eb','E','F','Gb','G','Ab']\n",
    "cmx = generate_chroma_from_wav('data/freesound/c_major.wav')\n",
    "print(cmx.shape)\n",
    "plt.barh(range(24), np.sum(cmx,axis=0))\n",
    "plt.yticks(range(24), notes+notes)\n",
    "plt.tight_layout()"
   ]
  },
  {
   "cell_type": "code",
   "execution_count": 27,
   "metadata": {},
   "outputs": [
    {
     "data": {
      "image/png": "[encoded data removed]",
      "text/plain": [
       "<Figure size 432x288 with 1 Axes>"
      ]
     },
     "metadata": {
      "needs_background": "light"
     },
     "output_type": "display_data"
    }
   ],
   "source": [
    "cmx = generate_chroma_from_wav('data/freesound/a_major.wav')\n",
    "plt.barh(range(24), np.sum(cmx,axis=0))\n",
    "plt.yticks(range(24), notes+notes)\n",
    "plt.tight_layout()"
   ]
  },
  {
   "cell_type": "code",
   "execution_count": 28,
   "metadata": {},
   "outputs": [
    {
     "data": {
      "image/png": "[encoded data removed]",
      "text/plain": [
       "<Figure size 432x288 with 1 Axes>"
      ]
     },
     "metadata": {
      "needs_background": "light"
     },
     "output_type": "display_data"
    }
   ],
   "source": [
    "cmx = generate_chroma_from_wav('data/freesound/e4.wav')\n",
    "plt.barh(range(24), np.sum(cmx,axis=0))\n",
    "plt.yticks(range(24), notes+notes)\n",
    "plt.tight_layout()"
   ]
  },
  {
   "cell_type": "code",
   "execution_count": 29,
   "metadata": {},
   "outputs": [
    {
     "name": "stderr",
     "output_type": "stream",
     "text": [
      "/home/cjbayron/virtualenvs/pytorch/lib/python3.6/site-packages/librosa/core/audio.py:162: UserWarning: PySoundFile failed. Trying audioread instead.\n",
      "  warnings.warn(\"PySoundFile failed. Trying audioread instead.\")\n"
     ]
    },
    {
     "data": {
      "image/png": "[encoded data removed]",
      "text/plain": [
       "<Figure size 432x288 with 1 Axes>"
      ]
     },
     "metadata": {
      "needs_background": "light"
     },
     "output_type": "display_data"
    }
   ],
   "source": [
    "cmx = generate_chroma_from_wav('data/freesound/c.m4a')\n",
    "plt.barh(range(24), np.sum(cmx,axis=0))\n",
    "plt.yticks(range(24), notes+notes)\n",
    "plt.tight_layout()"
   ]
  },
  {
   "cell_type": "code",
   "execution_count": 30,
   "metadata": {},
   "outputs": [
    {
     "name": "stderr",
     "output_type": "stream",
     "text": [
      "/home/cjbayron/virtualenvs/pytorch/lib/python3.6/site-packages/librosa/core/audio.py:162: UserWarning: PySoundFile failed. Trying audioread instead.\n",
      "  warnings.warn(\"PySoundFile failed. Trying audioread instead.\")\n"
     ]
    },
    {
     "data": {
      "image/png": "[encoded data removed]",
      "text/plain": [
       "<Figure size 432x288 with 1 Axes>"
      ]
     },
     "metadata": {
      "needs_background": "light"
     },
     "output_type": "display_data"
    }
   ],
   "source": [
    "cmx = generate_chroma_from_wav('data/freesound/b.m4a')\n",
    "plt.barh(range(24), np.sum(cmx,axis=0))\n",
    "plt.yticks(range(24), notes+notes)\n",
    "plt.tight_layout()"
   ]
  },
  {
   "cell_type": "code",
   "execution_count": 31,
   "metadata": {},
   "outputs": [
    {
     "data": {
      "image/png": "[encoded data removed]",
      "text/plain": [
       "<Figure size 432x288 with 1 Axes>"
      ]
     },
     "metadata": {
      "needs_background": "light"
     },
     "output_type": "display_data"
    }
   ],
   "source": [
    "cmx = generate_chroma_from_wav('data/freesound/a_minor.wav')\n",
    "plt.barh(range(24), np.sum(cmx,axis=0))\n",
    "plt.yticks(range(24), notes+notes)\n",
    "plt.tight_layout()"
   ]
  },
  {
   "cell_type": "markdown",
   "metadata": {},
   "source": [
    "Realizations from here:\n",
    "- Chordino bothchroma is intepreted as: [0:12], [12:24] -> [A up to Ab], bass, treble\n",
    "- Chordino output can have \"incorrect\" chroma values (perhaps due to tuning issues...) e.g. C maj interpreted as Dbmaj\n",
    "    - BUT, the quality of the chord is retained\n",
    "    - Also try to visualize each individual vector (instead of only mean/sum) to confirm"
   ]
  },
  {
   "cell_type": "code",
   "execution_count": 3,
   "metadata": {},
   "outputs": [
    {
     "data": {
      "text/plain": [
       "((3360513, 24), (3360513,))"
      ]
     },
     "execution_count": 3,
     "metadata": {},
     "output_type": "execute_result"
    }
   ],
   "source": [
    "# try on a larger scale\n",
    "all_chroma_vectors = np.load('data/01_all_chroma_vectors.npy')\n",
    "all_chord_labels = np.load('data/01_all_chord_labels.npy')\n",
    "all_chroma_vectors.shape, all_chord_labels.shape"
   ]
  },
  {
   "cell_type": "code",
   "execution_count": 4,
   "metadata": {},
   "outputs": [
    {
     "name": "stderr",
     "output_type": "stream",
     "text": [
      "/home/cjbayron/virtualenvs/pytorch/lib/python3.6/site-packages/ipykernel_launcher.py:2: FutureWarning: Using a non-tuple sequence for multidimensional indexing is deprecated; use `arr[tuple(seq)]` instead of `arr[seq]`. In the future this will be interpreted as an array index, `arr[np.array(seq)]`, which will result either in an error or a different result.\n",
      "  \n"
     ]
    },
    {
     "data": {
      "image/png": "[encoded data removed]",
      "text/plain": [
       "<Figure size 432x288 with 1 Axes>"
      ]
     },
     "metadata": {
      "needs_background": "light"
     },
     "output_type": "display_data"
    }
   ],
   "source": [
    "filt = [all_chord_labels == 0] # no chord\n",
    "plt.barh(range(24), np.mean(all_chroma_vectors[filt], axis=0))\n",
    "plt.yticks(range(24), notes+notes)\n",
    "plt.tight_layout()"
   ]
  },
  {
   "cell_type": "code",
   "execution_count": 5,
   "metadata": {},
   "outputs": [
    {
     "name": "stderr",
     "output_type": "stream",
     "text": [
      "/home/cjbayron/virtualenvs/pytorch/lib/python3.6/site-packages/ipykernel_launcher.py:2: FutureWarning: Using a non-tuple sequence for multidimensional indexing is deprecated; use `arr[tuple(seq)]` instead of `arr[seq]`. In the future this will be interpreted as an array index, `arr[np.array(seq)]`, which will result either in an error or a different result.\n",
      "  \n"
     ]
    },
    {
     "data": {
      "image/png": "[encoded data removed]",
      "text/plain": [
       "<Figure size 432x288 with 1 Axes>"
      ]
     },
     "metadata": {
      "needs_background": "light"
     },
     "output_type": "display_data"
    }
   ],
   "source": [
    "filt = [all_chord_labels == 1] # c maj\n",
    "plt.barh(range(24), np.mean(all_chroma_vectors[filt], axis=0))\n",
    "plt.yticks(range(24), notes+notes)\n",
    "plt.tight_layout()"
   ]
  },
  {
   "cell_type": "code",
   "execution_count": 7,
   "metadata": {},
   "outputs": [
    {
     "name": "stderr",
     "output_type": "stream",
     "text": [
      "/home/cjbayron/virtualenvs/pytorch/lib/python3.6/site-packages/ipykernel_launcher.py:2: FutureWarning: Using a non-tuple sequence for multidimensional indexing is deprecated; use `arr[tuple(seq)]` instead of `arr[seq]`. In the future this will be interpreted as an array index, `arr[np.array(seq)]`, which will result either in an error or a different result.\n",
      "  \n"
     ]
    },
    {
     "data": {
      "image/png": "[encoded data removed]",
      "text/plain": [
       "<Figure size 432x288 with 1 Axes>"
      ]
     },
     "metadata": {
      "needs_background": "light"
     },
     "output_type": "display_data"
    }
   ],
   "source": [
    "filt = [all_chord_labels == 3] # d maj\n",
    "plt.barh(range(24), np.mean(all_chroma_vectors[filt], axis=0))\n",
    "plt.yticks(range(24), notes+notes)\n",
    "plt.tight_layout()"
   ]
  },
  {
   "cell_type": "code",
   "execution_count": null,
   "metadata": {},
   "outputs": [],
   "source": []
  },
  {
   "cell_type": "code",
   "execution_count": 39,
   "metadata": {},
   "outputs": [
    {
     "name": "stderr",
     "output_type": "stream",
     "text": [
      "/home/cjbayron/virtualenvs/pytorch/lib/python3.6/site-packages/ipykernel_launcher.py:2: FutureWarning: Using a non-tuple sequence for multidimensional indexing is deprecated; use `arr[tuple(seq)]` instead of `arr[seq]`. In the future this will be interpreted as an array index, `arr[np.array(seq)]`, which will result either in an error or a different result.\n",
      "  \n"
     ]
    },
    {
     "data": {
      "image/png": "[encoded data removed]",
      "text/plain": [
       "<Figure size 432x288 with 1 Axes>"
      ]
     },
     "metadata": {
      "needs_background": "light"
     },
     "output_type": "display_data"
    }
   ],
   "source": [
    "filt = [all_chord_labels == 13] # c min\n",
    "plt.barh(range(24), np.mean(all_chroma_vectors[filt], axis=0))\n",
    "plt.yticks(range(24), notes+notes)\n",
    "plt.tight_layout()"
   ]
  },
  {
   "cell_type": "markdown",
   "metadata": {},
   "source": [
    "Here we can see that the SUM of the vectors for each class \"activate\" appropriately at the chord class's pitch classes."
   ]
  },
  {
   "cell_type": "code",
   "execution_count": 6,
   "metadata": {},
   "outputs": [
    {
     "data": {
      "text/plain": [
       "(0, array([1, 0, 0, 0, 1, 0, 0, 1, 0, 0, 0, 0]))"
      ]
     },
     "execution_count": 6,
     "metadata": {},
     "output_type": "execute_result"
    }
   ],
   "source": [
    "# automated check\n",
    "\n",
    "import mir_eval\n",
    "\n",
    "def encode_to_chordino_chroma(label):\n",
    "    root, quality_map, _ = mir_eval.chord.encode(label)\n",
    "    root = (root+3)%12 # add 3 to map to chordino chroma\n",
    "    chord_bitmap = mir_eval.chord.rotate_bitmap_to_root(quality_map, root) \n",
    "    return root, chord_bitmap\n",
    "    \n",
    "encode_to_chordino_chroma('A:maj')"
   ]
  },
  {
   "cell_type": "code",
   "execution_count": 10,
   "metadata": {},
   "outputs": [],
   "source": [
    "# from importlib import reload\n",
    "# import dataloader\n",
    "# reload(dataloader)\n",
    "\n",
    "from dataloader import _CHROMA_FEAT_NAMES, _MAJMIN_CLASSES\n",
    "\n",
    "for class_index, chord_name in enumerate(_MAJMIN_CLASSES):\n",
    "    if class_index == 0:\n",
    "        continue\n",
    "    \n",
    "    root, chord_bitmap = encode_to_chordino_chroma(chord_name)\n",
    "    filt = (all_chord_labels == class_index)\n",
    "    vector_mean = np.mean(all_chroma_vectors[filt], axis=0)\n",
    "    \n",
    "    vector_topk = set(np.argpartition(vector_mean[12:], -3)[-3:])\n",
    "    bitmap_topk = set(np.argpartition(chord_bitmap, -3)[-3:])\n",
    "    \n",
    "    bass_match = (root == np.argmax(vector_mean[:12]))\n",
    "    chord_match = (vector_topk == bitmap_topk)\n",
    "    if (not bass_match) or (not chord_match):\n",
    "        print(f'{chord_name} - Bass match: {bass_match} - '\n",
    "              f'Chord match: {chord_match}')"
   ]
  },
  {
   "cell_type": "code",
   "execution_count": 9,
   "metadata": {},
   "outputs": [],
   "source": [
    "# now check individual vectors\n",
    "\n",
    "# N.B. add to lazycats\n",
    "import numpy as np\n",
    "def top_k_indices(arr, k, axis=1):\n",
    "    if axis != 1:\n",
    "        raise NotImplementedError\n",
    "    \n",
    "    temp = np.array(arr) # copy\n",
    "    top_k_ixs = []\n",
    "    for _ in range(k): # no checking if k > (array length along axis of argmax)\n",
    "        max_ixs = np.argmax(temp, axis=axis)\n",
    "        top_k_ixs.append(max_ixs)\n",
    "        temp[(range(len(temp)), max_ixs)] = -np.inf # remove from next comparison\n",
    "    \n",
    "    top_k_ixs = np.hstack([np.array([ixs]).T for ixs in top_k_ixs])\n",
    "    return top_k_ixs"
   ]
  },
  {
   "cell_type": "code",
   "execution_count": 11,
   "metadata": {},
   "outputs": [
    {
     "name": "stdout",
     "output_type": "stream",
     "text": [
      "C:maj - Bass match: 54.15 - Ext bass match: 59.47 - Chord match: 0.40 - Ext match: 0.57\n",
      "Db:maj - Bass match: 50.44 - Ext bass match: 57.59 - Chord match: 0.36 - Ext match: 0.54\n",
      "D:maj - Bass match: 52.68 - Ext bass match: 57.39 - Chord match: 0.39 - Ext match: 0.57\n",
      "Eb:maj - Bass match: 50.76 - Ext bass match: 57.84 - Chord match: 0.31 - Ext match: 0.48\n",
      "E:maj - Bass match: 55.61 - Ext bass match: 60.40 - Chord match: 0.40 - Ext match: 0.57\n",
      "F:maj - Bass match: 49.97 - Ext bass match: 56.32 - Chord match: 0.37 - Ext match: 0.54\n",
      "Gb:maj - Bass match: 54.10 - Ext bass match: 60.30 - Chord match: 0.34 - Ext match: 0.52\n",
      "G:maj - Bass match: 57.03 - Ext bass match: 62.27 - Chord match: 0.39 - Ext match: 0.56\n",
      "Ab:maj - Bass match: 56.58 - Ext bass match: 63.25 - Chord match: 0.34 - Ext match: 0.52\n",
      "A:maj - Bass match: 55.39 - Ext bass match: 60.37 - Chord match: 0.36 - Ext match: 0.53\n",
      "Bb:maj - Bass match: 54.18 - Ext bass match: 61.84 - Chord match: 0.39 - Ext match: 0.56\n",
      "B:maj - Bass match: 55.60 - Ext bass match: 60.36 - Chord match: 0.35 - Ext match: 0.53\n",
      "C:min - Bass match: 57.89 - Ext bass match: 62.88 - Chord match: 0.27 - Ext match: 0.46\n",
      "Db:min - Bass match: 50.69 - Ext bass match: 55.84 - Chord match: 0.27 - Ext match: 0.47\n",
      "D:min - Bass match: 47.58 - Ext bass match: 52.21 - Chord match: 0.24 - Ext match: 0.40\n",
      "Eb:min - Bass match: 50.02 - Ext bass match: 55.78 - Chord match: 0.20 - Ext match: 0.38\n",
      "E:min - Bass match: 50.96 - Ext bass match: 56.26 - Chord match: 0.29 - Ext match: 0.47\n",
      "F:min - Bass match: 54.60 - Ext bass match: 58.86 - Chord match: 0.25 - Ext match: 0.43\n",
      "Gb:min - Bass match: 59.57 - Ext bass match: 66.52 - Chord match: 0.30 - Ext match: 0.51\n",
      "G:min - Bass match: 55.04 - Ext bass match: 60.89 - Chord match: 0.23 - Ext match: 0.41\n",
      "Ab:min - Bass match: 57.25 - Ext bass match: 63.89 - Chord match: 0.22 - Ext match: 0.43\n",
      "A:min - Bass match: 55.27 - Ext bass match: 59.45 - Chord match: 0.25 - Ext match: 0.42\n",
      "Bb:min - Bass match: 54.19 - Ext bass match: 59.69 - Chord match: 0.23 - Ext match: 0.47\n",
      "B:min - Bass match: 56.83 - Ext bass match: 62.32 - Chord match: 0.29 - Ext match: 0.48\n"
     ]
    }
   ],
   "source": [
    "from collections import Counter\n",
    "for class_index, chord_name in enumerate(_MAJMIN_CLASSES):\n",
    "    if class_index == 0:\n",
    "        continue\n",
    "    \n",
    "    root, chord_bitmap = encode_to_chordino_chroma(chord_name)\n",
    "    filt = (all_chord_labels == class_index)\n",
    "    \n",
    "    vecs = all_chroma_vectors[filt]\n",
    "    bass_vecs = vecs[:, :12]\n",
    "    treble_vecs = vecs[:, 12:]\n",
    "    # remove all zeros for comparison\n",
    "    bass_vecs = bass_vecs[~np.all(bass_vecs <= 0.01, axis=1)]\n",
    "    treble_vecs = treble_vecs[~np.all(treble_vecs <= 0.01, axis=1)]\n",
    "    \n",
    "    basses = np.argmax(bass_vecs, axis=1)\n",
    "    bass_match = np.mean(basses == root)*100\n",
    "    ext_bass_match = bass_match + np.mean(basses == (root-1)%12)*100\n",
    "    ext_bass_match += np.mean(basses == (root+1)%12)*100\n",
    "    \n",
    "    \n",
    "    # get only on treble\n",
    "    vec_ixs = top_k_indices(treble_vecs, 4, axis=1)\n",
    "    label_ixs = np.where(chord_bitmap)[0]\n",
    "    chord_match = np.mean(np.all(np.isin(vec_ixs[:, :3], label_ixs), axis=1))\n",
    "    ext_match = np.mean((np.sum(np.isin(vec_ixs, label_ixs), axis=1))==3) # ext chord\n",
    "    \n",
    "    print(f'{chord_name} - Bass match: {bass_match:.2f} - Ext bass match: {ext_bass_match:.2f} - '\n",
    "          f'Chord match: {chord_match:.2f} - Ext match: {ext_match:.2f}')\n",
    "    #print(Counter(basses))"
   ]
  },
  {
   "cell_type": "markdown",
   "metadata": {},
   "source": [
    "Either there is a lot of mislabels or our features aren't very rich."
   ]
  },
  {
   "cell_type": "markdown",
   "metadata": {},
   "source": [
    "#### Exploring tuning"
   ]
  },
  {
   "cell_type": "code",
   "execution_count": 4,
   "metadata": {},
   "outputs": [],
   "source": [
    "import pandas as pd\n",
    "base_dir = 'data/McGill-Billboard'\n",
    "data_index = 'billboard-2.0-unique.csv'"
   ]
  },
  {
   "cell_type": "code",
   "execution_count": 5,
   "metadata": {
    "scrolled": true
   },
   "outputs": [
    {
     "data": {
      "text/html": [
       "<div>\n",
       "<style scoped>\n",
       "    .dataframe tbody tr th:only-of-type {\n",
       "        vertical-align: middle;\n",
       "    }\n",
       "\n",
       "    .dataframe tbody tr th {\n",
       "        vertical-align: top;\n",
       "    }\n",
       "\n",
       "    .dataframe thead th {\n",
       "        text-align: right;\n",
       "    }\n",
       "</style>\n",
       "<table border=\"1\" class=\"dataframe\">\n",
       "  <thead>\n",
       "    <tr style=\"text-align: right;\">\n",
       "      <th></th>\n",
       "      <th>id</th>\n",
       "      <th>title</th>\n",
       "      <th>artist</th>\n",
       "    </tr>\n",
       "  </thead>\n",
       "  <tbody>\n",
       "    <tr>\n",
       "      <th>0</th>\n",
       "      <td>3</td>\n",
       "      <td>I Don't Mind</td>\n",
       "      <td>James Brown</td>\n",
       "    </tr>\n",
       "    <tr>\n",
       "      <th>1</th>\n",
       "      <td>4</td>\n",
       "      <td>You've Got A Friend</td>\n",
       "      <td>Roberta Flack,Donny Hathaway</td>\n",
       "    </tr>\n",
       "    <tr>\n",
       "      <th>2</th>\n",
       "      <td>6</td>\n",
       "      <td>The Rose</td>\n",
       "      <td>Bette Midler</td>\n",
       "    </tr>\n",
       "    <tr>\n",
       "      <th>3</th>\n",
       "      <td>10</td>\n",
       "      <td>An Innocent Man</td>\n",
       "      <td>Billy Joel</td>\n",
       "    </tr>\n",
       "    <tr>\n",
       "      <th>4</th>\n",
       "      <td>12</td>\n",
       "      <td>Lookin' For Love</td>\n",
       "      <td>Johnny Lee</td>\n",
       "    </tr>\n",
       "  </tbody>\n",
       "</table>\n",
       "</div>"
      ],
      "text/plain": [
       "   id                title                        artist\n",
       "0   3         I Don't Mind                   James Brown\n",
       "1   4  You've Got A Friend  Roberta Flack,Donny Hathaway\n",
       "2   6             The Rose                  Bette Midler\n",
       "3  10      An Innocent Man                    Billy Joel\n",
       "4  12     Lookin' For Love                    Johnny Lee"
      ]
     },
     "execution_count": 5,
     "metadata": {},
     "output_type": "execute_result"
    }
   ],
   "source": [
    "df_songs = pd.read_csv(f'{base_dir}/{data_index}')\n",
    "df_songs.head()"
   ]
  },
  {
   "cell_type": "code",
   "execution_count": 7,
   "metadata": {},
   "outputs": [
    {
     "data": {
      "text/html": [
       "<div>\n",
       "<style scoped>\n",
       "    .dataframe tbody tr th:only-of-type {\n",
       "        vertical-align: middle;\n",
       "    }\n",
       "\n",
       "    .dataframe tbody tr th {\n",
       "        vertical-align: top;\n",
       "    }\n",
       "\n",
       "    .dataframe thead th {\n",
       "        text-align: right;\n",
       "    }\n",
       "</style>\n",
       "<table border=\"1\" class=\"dataframe\">\n",
       "  <thead>\n",
       "    <tr style=\"text-align: right;\">\n",
       "      <th></th>\n",
       "      <th>0</th>\n",
       "      <th>1</th>\n",
       "      <th>2</th>\n",
       "      <th>3</th>\n",
       "      <th>4</th>\n",
       "    </tr>\n",
       "  </thead>\n",
       "  <tbody>\n",
       "    <tr>\n",
       "      <th>0</th>\n",
       "      <td>/tmp/audio.wav</td>\n",
       "      <td>0.0</td>\n",
       "      <td>162.539683</td>\n",
       "      <td>440.082</td>\n",
       "      <td>440,1 Hz</td>\n",
       "    </tr>\n",
       "  </tbody>\n",
       "</table>\n",
       "</div>"
      ],
      "text/plain": [
       "                0    1           2        3         4\n",
       "0  /tmp/audio.wav  0.0  162.539683  440.082  440,1 Hz"
      ]
     },
     "execution_count": 7,
     "metadata": {},
     "output_type": "execute_result"
    }
   ],
   "source": [
    "def get_tuning(_id):\n",
    "    \"\"\" Load tuning data from Billboard dataset \"\"\"\n",
    "    \n",
    "    fn = f'{base_dir}/{_id:04d}/tuning.csv'\n",
    "    contents = pd.read_csv(fn, header=None)\n",
    "    \n",
    "    return contents\n",
    "\n",
    "get_tuning(1289)"
   ]
  },
  {
   "cell_type": "code",
   "execution_count": 10,
   "metadata": {},
   "outputs": [
    {
     "name": "stderr",
     "output_type": "stream",
     "text": [
      "100%|██████████| 742/742 [00:01<00:00, 521.60it/s]\n"
     ]
    }
   ],
   "source": [
    "from tqdm import tqdm\n",
    "\n",
    "tunings_len = []\n",
    "for _id in tqdm(df_songs.id):\n",
    "    tuning_data = get_tuning(_id)\n",
    "    tunings_len.append(len(tuning_data.loc[0]))\n",
    "    tuning_vals"
   ]
  },
  {
   "cell_type": "code",
   "execution_count": 11,
   "metadata": {},
   "outputs": [
    {
     "data": {
      "text/plain": [
       "Counter({5: 742})"
      ]
     },
     "execution_count": 11,
     "metadata": {},
     "output_type": "execute_result"
    }
   ],
   "source": [
    "from collections import Counter\n",
    "Counter(tunings_len)\n",
    "# ALL tunings file are 1 line, with 5 values"
   ]
  },
  {
   "cell_type": "code",
   "execution_count": 22,
   "metadata": {},
   "outputs": [
    {
     "data": {
      "text/html": [
       "<div>\n",
       "<style scoped>\n",
       "    .dataframe tbody tr th:only-of-type {\n",
       "        vertical-align: middle;\n",
       "    }\n",
       "\n",
       "    .dataframe tbody tr th {\n",
       "        vertical-align: top;\n",
       "    }\n",
       "\n",
       "    .dataframe thead th {\n",
       "        text-align: right;\n",
       "    }\n",
       "</style>\n",
       "<table border=\"1\" class=\"dataframe\">\n",
       "  <thead>\n",
       "    <tr style=\"text-align: right;\">\n",
       "      <th></th>\n",
       "      <th>0</th>\n",
       "      <th>1</th>\n",
       "      <th>2</th>\n",
       "      <th>3</th>\n",
       "      <th>4</th>\n",
       "    </tr>\n",
       "  </thead>\n",
       "  <tbody>\n",
       "    <tr>\n",
       "      <th>0</th>\n",
       "      <td>/tmp/audio.wav</td>\n",
       "      <td>0.0</td>\n",
       "      <td>115.728254</td>\n",
       "      <td>438.049</td>\n",
       "      <td>438,0 Hz</td>\n",
       "    </tr>\n",
       "  </tbody>\n",
       "</table>\n",
       "</div>"
      ],
      "text/plain": [
       "                0    1           2        3         4\n",
       "0  /tmp/audio.wav  0.0  115.728254  438.049  438,0 Hz"
      ]
     },
     "execution_count": 22,
     "metadata": {},
     "output_type": "execute_result"
    }
   ],
   "source": [
    "tuning_data"
   ]
  },
  {
   "cell_type": "code",
   "execution_count": 23,
   "metadata": {},
   "outputs": [
    {
     "data": {
      "text/plain": [
       "{'list': [{'timestamp':  0.000000000,\n",
       "   'duration':  162.353922902,\n",
       "   'label': '440.1 Hz',\n",
       "   'values': array([440.1019], dtype=float32)}]}"
      ]
     },
     "execution_count": 23,
     "metadata": {},
     "output_type": "execute_result"
    }
   ],
   "source": [
    "from scipy.signal import resample\n",
    "import librosa\n",
    "import vamp\n",
    "\n",
    "_SAMPLE_RATE = 44100\n",
    "def generate_tuning(_id, params={}):\n",
    "    \"\"\" Generate chroma from raw audio \"\"\"\n",
    "    \n",
    "    audio_fn = f'data/audio/{_id:04d}/audio.wav'\n",
    "    X, fs = librosa.load(audio_fn, sr=None, mono=True)\n",
    "    if fs != _SAMPLE_RATE:\n",
    "        X = resample(X, num=int(len(X)*_SAMPLE_RATE/fs))\n",
    "    \n",
    "    out = vamp.collect(X, _SAMPLE_RATE, 'nnls-chroma:tuning',\n",
    "                       output='tuning', parameters=params)\n",
    "    return out\n",
    "\n",
    "generate_tuning(1289, {'rollon':1.0})"
   ]
  },
  {
   "cell_type": "code",
   "execution_count": 6,
   "metadata": {},
   "outputs": [],
   "source": [
    "# https://github.com/librosa/librosa/blob/main/examples/adjust_tuning.py\n",
    "def adjust_tuning(y, sr):\n",
    "    '''Load audio, estimate tuning, apply pitch correction, and save.'''\n",
    "    y_harm = librosa.effects.harmonic(y)\n",
    "\n",
    "    print('Estimating tuning ... ')\n",
    "    # Just track the pitches associated with high magnitude\n",
    "    tuning = librosa.estimate_tuning(y=y_harm, sr=sr)\n",
    "\n",
    "    print('{:+0.2f} cents'.format(100 * tuning))\n",
    "    print('Applying pitch-correction of {:+0.2f} cents'.format(-100 * tuning))\n",
    "    y_tuned = librosa.effects.pitch_shift(y, sr, -tuning)\n",
    "\n",
    "    return y_tuned"
   ]
  },
  {
   "cell_type": "code",
   "execution_count": 7,
   "metadata": {},
   "outputs": [],
   "source": [
    "def generate_tuning_from_wav(audio_fn, params={}, correct_tuning=False):\n",
    "    \"\"\" Generate chroma from raw audio \"\"\"\n",
    "    X, fs = librosa.load(audio_fn, sr=None, mono=True)\n",
    "    if fs != _SAMPLE_RATE:\n",
    "        X = resample(X, num=int(len(X)*_SAMPLE_RATE/fs))\n",
    "    if correct_tuning:\n",
    "        X = adjust_tuning(X, _SAMPLE_RATE)\n",
    "    \n",
    "    out = vamp.collect(X, _SAMPLE_RATE, 'nnls-chroma:tuning',\n",
    "                       output='tuning', parameters=params)\n",
    "    return out"
   ]
  },
  {
   "cell_type": "code",
   "execution_count": 8,
   "metadata": {},
   "outputs": [
    {
     "name": "stdout",
     "output_type": "stream",
     "text": [
      "Estimating tuning ... \n",
      "-44.00 cents\n",
      "Applying pitch-correction of +44.00 cents\n"
     ]
    },
    {
     "data": {
      "text/plain": [
       "{'list': [{'timestamp':  0.000000000,\n",
       "   'duration':  7.058866213,\n",
       "   'label': '439.3 Hz',\n",
       "   'values': array([439.32288], dtype=float32)}]}"
      ]
     },
     "execution_count": 8,
     "metadata": {},
     "output_type": "execute_result"
    }
   ],
   "source": [
    "generate_tuning_from_wav('data/freesound/c_major.wav', params={'rollon':1.0}, correct_tuning=True)"
   ]
  },
  {
   "cell_type": "code",
   "execution_count": 9,
   "metadata": {},
   "outputs": [],
   "source": [
    "def generate_chroma_from_wav(audio_fn, params={'rollon': 1.0}, correct_tuning=False):\n",
    "    \"\"\" Generate chroma from raw audio \"\"\"\n",
    "    \n",
    "    X, fs = librosa.load(audio_fn, sr=None, mono=True)\n",
    "    if fs != _SAMPLE_RATE:\n",
    "        X = resample(X, num=int(len(X)*_SAMPLE_RATE/fs))\n",
    "    if correct_tuning:\n",
    "        X = adjust_tuning(X, _SAMPLE_RATE)        \n",
    "    out = vamp.collect(X, _SAMPLE_RATE, 'nnls-chroma:nnls-chroma',\n",
    "                       output='bothchroma', parameters=params)\n",
    "    \n",
    "    chroma = out['matrix'][1]\n",
    "    return chroma"
   ]
  },
  {
   "cell_type": "code",
   "execution_count": 32,
   "metadata": {},
   "outputs": [
    {
     "name": "stdout",
     "output_type": "stream",
     "text": [
      "(151, 24)\n"
     ]
    },
    {
     "data": {
      "image/png": "[encoded data removed]",
      "text/plain": [
       "<Figure size 432x288 with 1 Axes>"
      ]
     },
     "metadata": {
      "needs_background": "light"
     },
     "output_type": "display_data"
    }
   ],
   "source": [
    "import matplotlib.pyplot as plt\n",
    "%matplotlib inline\n",
    "\n",
    "notes = ['A','Bb','B', 'C','Db','D','Eb','E','F','Gb','G','Ab']\n",
    "cmx = generate_chroma_from_wav('data/freesound/c_major.wav', correct_tuning=False)\n",
    "print(cmx.shape)\n",
    "plt.barh(range(24), np.sum(cmx,axis=0))\n",
    "plt.yticks(range(24), notes+notes)\n",
    "plt.tight_layout()"
   ]
  },
  {
   "cell_type": "code",
   "execution_count": 34,
   "metadata": {},
   "outputs": [
    {
     "name": "stdout",
     "output_type": "stream",
     "text": [
      "Estimating tuning ... \n",
      "-44.00 cents\n",
      "Applying pitch-correction of +44.00 cents\n",
      "(151, 24)\n"
     ]
    },
    {
     "data": {
      "image/png": "[encoded data removed]",
      "text/plain": [
       "<Figure size 432x288 with 1 Axes>"
      ]
     },
     "metadata": {
      "needs_background": "light"
     },
     "output_type": "display_data"
    }
   ],
   "source": [
    "cmx = generate_chroma_from_wav('data/freesound/c_major.wav', correct_tuning=True)\n",
    "print(cmx.shape)\n",
    "plt.barh(range(24), np.sum(cmx,axis=0))\n",
    "plt.yticks(range(24), notes+notes)\n",
    "plt.tight_layout()"
   ]
  },
  {
   "cell_type": "code",
   "execution_count": null,
   "metadata": {},
   "outputs": [],
   "source": [
    "# tuning doesn't seem to do much"
   ]
  },
  {
   "cell_type": "markdown",
   "metadata": {},
   "source": [
    "#### Exploring temporal-based features"
   ]
  },
  {
   "cell_type": "code",
   "execution_count": 3,
   "metadata": {},
   "outputs": [
    {
     "data": {
      "text/plain": [
       "((3358, 24), (3358,))"
      ]
     },
     "execution_count": 3,
     "metadata": {},
     "output_type": "execute_result"
    }
   ],
   "source": [
    "import dataloader\n",
    "#from importlib import reload\n",
    "#reload(dataloader)\n",
    "\n",
    "chroma_vectors, chord_labels = dataloader.get_chord_features_and_labels(1289, label_type='majmin')\n",
    "chroma_vectors.shape, chord_labels.shape"
   ]
  },
  {
   "cell_type": "code",
   "execution_count": 4,
   "metadata": {},
   "outputs": [
    {
     "data": {
      "text/plain": [
       "array([0, 0, 0, 0, 0, 0, 0, 8, 8, 8, 8, 8, 8, 8, 8, 8, 8, 8, 8, 8, 8, 8,\n",
       "       8, 8, 8, 8, 8, 8, 8, 3, 3, 3, 3, 3, 3, 3, 3, 3, 3, 3, 3, 3, 3, 3,\n",
       "       3, 3, 3, 3, 3, 3, 1, 1, 1, 1, 1, 1, 1, 1, 1, 1, 1, 1, 1, 1, 1, 1,\n",
       "       1, 1, 1, 1, 1, 1, 1, 1, 1, 1, 1, 1, 1, 1, 1, 1, 1, 1, 1, 1, 1, 1,\n",
       "       1, 1, 1, 1, 1, 1, 8, 8, 8, 8, 8, 8])"
      ]
     },
     "execution_count": 4,
     "metadata": {},
     "output_type": "execute_result"
    }
   ],
   "source": [
    "# how often do chords change?\n",
    "arr = chord_labels[:100]\n",
    "arr"
   ]
  },
  {
   "cell_type": "code",
   "execution_count": 5,
   "metadata": {},
   "outputs": [
    {
     "data": {
      "text/plain": [
       "array([ 7, 22, 21, 44,  6])"
      ]
     },
     "execution_count": 5,
     "metadata": {},
     "output_type": "execute_result"
    }
   ],
   "source": [
    "import numpy as np\n",
    "\n",
    "# N.B. lazycats entry # 2\n",
    "def contiguous_lengths(arr):\n",
    "    assert(len(arr.shape) == 1)\n",
    "    change_points = np.where(arr[1:]-arr[:-1])[0] + 1 # find where values change\n",
    "    if len(arr) not in change_points:\n",
    "        change_points = np.append(change_points, len(arr))\n",
    "\n",
    "    # compute change point relative to previous change point; this essentially computes\n",
    "    # the length before the value changes\n",
    "    return np.concatenate(([change_points[0]], change_points[1:]-change_points[:-1]))\n",
    "\n",
    "contiguous_lengths(arr)"
   ]
  },
  {
   "cell_type": "code",
   "execution_count": 61,
   "metadata": {
    "scrolled": true
   },
   "outputs": [
    {
     "data": {
      "text/html": [
       "<div>\n",
       "<style scoped>\n",
       "    .dataframe tbody tr th:only-of-type {\n",
       "        vertical-align: middle;\n",
       "    }\n",
       "\n",
       "    .dataframe tbody tr th {\n",
       "        vertical-align: top;\n",
       "    }\n",
       "\n",
       "    .dataframe thead th {\n",
       "        text-align: right;\n",
       "    }\n",
       "</style>\n",
       "<table border=\"1\" class=\"dataframe\">\n",
       "  <thead>\n",
       "    <tr style=\"text-align: right;\">\n",
       "      <th></th>\n",
       "      <th>id</th>\n",
       "      <th>title</th>\n",
       "      <th>artist</th>\n",
       "    </tr>\n",
       "  </thead>\n",
       "  <tbody>\n",
       "    <tr>\n",
       "      <th>0</th>\n",
       "      <td>3</td>\n",
       "      <td>I Don't Mind</td>\n",
       "      <td>James Brown</td>\n",
       "    </tr>\n",
       "    <tr>\n",
       "      <th>1</th>\n",
       "      <td>4</td>\n",
       "      <td>You've Got A Friend</td>\n",
       "      <td>Roberta Flack,Donny Hathaway</td>\n",
       "    </tr>\n",
       "    <tr>\n",
       "      <th>2</th>\n",
       "      <td>6</td>\n",
       "      <td>The Rose</td>\n",
       "      <td>Bette Midler</td>\n",
       "    </tr>\n",
       "    <tr>\n",
       "      <th>3</th>\n",
       "      <td>10</td>\n",
       "      <td>An Innocent Man</td>\n",
       "      <td>Billy Joel</td>\n",
       "    </tr>\n",
       "    <tr>\n",
       "      <th>4</th>\n",
       "      <td>12</td>\n",
       "      <td>Lookin' For Love</td>\n",
       "      <td>Johnny Lee</td>\n",
       "    </tr>\n",
       "  </tbody>\n",
       "</table>\n",
       "</div>"
      ],
      "text/plain": [
       "   id                title                        artist\n",
       "0   3         I Don't Mind                   James Brown\n",
       "1   4  You've Got A Friend  Roberta Flack,Donny Hathaway\n",
       "2   6             The Rose                  Bette Midler\n",
       "3  10      An Innocent Man                    Billy Joel\n",
       "4  12     Lookin' For Love                    Johnny Lee"
      ]
     },
     "execution_count": 61,
     "metadata": {},
     "output_type": "execute_result"
    }
   ],
   "source": [
    "# compute for all songs\n",
    "import pandas as pd\n",
    "base_dir = 'data/McGill-Billboard'\n",
    "data_index = 'billboard-2.0-unique.csv'\n",
    "\n",
    "df_songs = pd.read_csv(f'{base_dir}/{data_index}')\n",
    "df_songs.head()"
   ]
  },
  {
   "cell_type": "code",
   "execution_count": 62,
   "metadata": {},
   "outputs": [
    {
     "name": "stderr",
     "output_type": "stream",
     "text": [
      "100%|██████████| 742/742 [00:19<00:00, 39.04it/s]\n"
     ]
    }
   ],
   "source": [
    "# before we proceed, let's check first if there are songs that are predominantly no-chords / X-chords\n",
    "\n",
    "df_songs['no_chord_percent'] = 0\n",
    "for ix in tqdm(df_songs.index):\n",
    "    _id = df_songs.loc[ix].id\n",
    "    chroma_vectors, chord_labels = dataloader.get_chord_features_and_labels(_id, label_type='majmin')\n",
    "    df_songs.loc[ix, 'no_chord_percent'] = np.mean(chord_labels == 0)"
   ]
  },
  {
   "cell_type": "code",
   "execution_count": 63,
   "metadata": {},
   "outputs": [
    {
     "name": "stdout",
     "output_type": "stream",
     "text": [
      "23\n"
     ]
    },
    {
     "data": {
      "text/html": [
       "<div>\n",
       "<style scoped>\n",
       "    .dataframe tbody tr th:only-of-type {\n",
       "        vertical-align: middle;\n",
       "    }\n",
       "\n",
       "    .dataframe tbody tr th {\n",
       "        vertical-align: top;\n",
       "    }\n",
       "\n",
       "    .dataframe thead th {\n",
       "        text-align: right;\n",
       "    }\n",
       "</style>\n",
       "<table border=\"1\" class=\"dataframe\">\n",
       "  <thead>\n",
       "    <tr style=\"text-align: right;\">\n",
       "      <th></th>\n",
       "      <th>id</th>\n",
       "      <th>title</th>\n",
       "      <th>artist</th>\n",
       "      <th>no_chord_percent</th>\n",
       "    </tr>\n",
       "  </thead>\n",
       "  <tbody>\n",
       "    <tr>\n",
       "      <th>29</th>\n",
       "      <td>51</td>\n",
       "      <td>Carrie</td>\n",
       "      <td>Cliff Richard</td>\n",
       "      <td>0.556433</td>\n",
       "    </tr>\n",
       "    <tr>\n",
       "      <th>64</th>\n",
       "      <td>105</td>\n",
       "      <td>The Spirit Of Radio</td>\n",
       "      <td>Rush</td>\n",
       "      <td>0.522856</td>\n",
       "    </tr>\n",
       "    <tr>\n",
       "      <th>136</th>\n",
       "      <td>215</td>\n",
       "      <td>Magic Man</td>\n",
       "      <td>Heart</td>\n",
       "      <td>0.695621</td>\n",
       "    </tr>\n",
       "    <tr>\n",
       "      <th>138</th>\n",
       "      <td>217</td>\n",
       "      <td>Jessie's Girl</td>\n",
       "      <td>Rick Springfield</td>\n",
       "      <td>0.526966</td>\n",
       "    </tr>\n",
       "    <tr>\n",
       "      <th>227</th>\n",
       "      <td>353</td>\n",
       "      <td>I Can't Drive 55</td>\n",
       "      <td>Sammy Hagar</td>\n",
       "      <td>1.000000</td>\n",
       "    </tr>\n",
       "  </tbody>\n",
       "</table>\n",
       "</div>"
      ],
      "text/plain": [
       "      id                title            artist  no_chord_percent\n",
       "29    51               Carrie     Cliff Richard          0.556433\n",
       "64   105  The Spirit Of Radio              Rush          0.522856\n",
       "136  215            Magic Man             Heart          0.695621\n",
       "138  217        Jessie's Girl  Rick Springfield          0.526966\n",
       "227  353     I Can't Drive 55       Sammy Hagar          1.000000"
      ]
     },
     "execution_count": 63,
     "metadata": {},
     "output_type": "execute_result"
    }
   ],
   "source": [
    "threshold = 0.5\n",
    "print(sum(df_songs.no_chord_percent >= threshold))\n",
    "df_songs[df_songs.no_chord_percent >= threshold][['id','title','artist','no_chord_percent']].head()"
   ]
  },
  {
   "cell_type": "markdown",
   "metadata": {},
   "source": [
    "For now, let's ignore songs with 50% or more no-chord/X labels."
   ]
  },
  {
   "cell_type": "code",
   "execution_count": 64,
   "metadata": {},
   "outputs": [],
   "source": [
    "df_songs = df_songs[~(df_songs.no_chord_percent >= threshold)]\n",
    "df_songs.to_csv(f'{base_dir}/billboard-2.0-manychords.csv', index=False)"
   ]
  },
  {
   "cell_type": "code",
   "execution_count": 65,
   "metadata": {},
   "outputs": [
    {
     "data": {
      "text/plain": [
       "719"
      ]
     },
     "execution_count": 65,
     "metadata": {},
     "output_type": "execute_result"
    }
   ],
   "source": [
    "len(df_songs)"
   ]
  },
  {
   "cell_type": "code",
   "execution_count": 6,
   "metadata": {},
   "outputs": [
    {
     "data": {
      "text/plain": [
       "array([ 0,  8,  3,  1,  8,  3,  1,  3,  8,  3,  1,  3,  8,  3,  1,  3,  8,\n",
       "        3,  1,  3,  8,  3,  1,  3,  8,  3,  1, 22,  8,  1,  3,  8,  3,  1,\n",
       "        3,  8,  3,  1,  3,  8,  3,  1, 22,  8,  1, 22,  8,  1,  3,  8,  3,\n",
       "        1,  3,  8,  3,  1,  3,  8,  3,  1, 22,  8,  1, 22,  8,  1,  3,  8,\n",
       "        3,  1,  3,  8,  3,  1,  3,  8,  3,  1, 22,  8,  1, 22,  8,  1,  3,\n",
       "       17,  1, 17,  1,  3,  8,  3,  1,  3,  8,  3,  1,  3, 22, 17,  1,  3,\n",
       "        8,  3,  1,  3,  8,  3,  1,  3,  8,  3,  1, 22,  8,  1, 22,  8,  1,\n",
       "        3,  8,  3,  1,  3,  8,  3,  1,  3,  8,  3,  1,  8,  0])"
      ]
     },
     "execution_count": 6,
     "metadata": {},
     "output_type": "execute_result"
    }
   ],
   "source": [
    "# lazycats #3\n",
    "def squash_consecutive_duplicates(arr):\n",
    "    assert(len(arr.shape) == 1)\n",
    "    # find where values change\n",
    "    # this is the first index of any consecutive sequence of same values (except element 0)\n",
    "    change_points = np.where(arr[1:]-arr[:-1])[0] + 1\n",
    "    return np.concatenate((arr[0:1], arr[change_points]))\n",
    "\n",
    "assert(len(squash_consecutive_duplicates(chord_labels))==len(contiguous_lengths(chord_labels)))\n",
    "squash_consecutive_duplicates(chord_labels)"
   ]
  },
  {
   "cell_type": "code",
   "execution_count": 93,
   "metadata": {},
   "outputs": [
    {
     "name": "stderr",
     "output_type": "stream",
     "text": [
      " 76%|███████▋  | 549/719 [00:14<00:04, 38.61it/s]/home/cjbayron/virtualenvs/pytorch/lib/python3.6/site-packages/mir_eval/io.py:281: UserWarning: All interval durations must be strictly positive\n",
      "  warnings.warn(error.args[0])\n",
      "100%|██████████| 719/719 [00:18<00:00, 39.03it/s]\n"
     ]
    }
   ],
   "source": [
    "from tqdm import tqdm\n",
    "classes = dataloader._MAJMIN_CLASSES\n",
    "\n",
    "df_songs['first_chord'] = ''\n",
    "df_songs['min_chord'] = ''\n",
    "df_songs['min_chord_length'] = 0\n",
    "df_songs['min_chord_length_index'] = -1\n",
    "for ix in tqdm(df_songs.index):\n",
    "    _id = df_songs.loc[ix].id\n",
    "    chroma_vectors, chord_labels = dataloader.get_chord_features_and_labels(_id, label_type='majmin')\n",
    "    # get contiguous chord lengths; ignore start & end chords as they might be truncated\n",
    "    chord_lengths = contiguous_lengths(chord_labels)[1:-1]\n",
    "    chord_sequence = squash_consecutive_duplicates(chord_labels)\n",
    "    if len(chord_lengths) == 0:\n",
    "        print(f'{_id}: empty chord length')\n",
    "        continue\n",
    "    \n",
    "    df_songs.loc[ix, 'first_chord'] = classes[chord_labels[0]]\n",
    "    min_index = np.argmin(chord_lengths)\n",
    "    df_songs.loc[ix, 'min_chord_length_index'] = 1+min_index # offset from ignoring start chord\n",
    "    df_songs.loc[ix, 'min_chord'] = classes[chord_sequence[1+min_index]]\n",
    "    df_songs.loc[ix, 'min_chord_length'] = chord_lengths[min_index]"
   ]
  },
  {
   "cell_type": "code",
   "execution_count": 94,
   "metadata": {},
   "outputs": [
    {
     "data": {
      "text/plain": [
       "N        712\n",
       "E:maj      2\n",
       "F:min      1\n",
       "C:maj      1\n",
       "B:maj      1\n",
       "B:min      1\n",
       "D:maj      1\n",
       "Name: first_chord, dtype: int64"
      ]
     },
     "execution_count": 94,
     "metadata": {},
     "output_type": "execute_result"
    }
   ],
   "source": [
    "df_songs.first_chord.value_counts()"
   ]
  },
  {
   "cell_type": "markdown",
   "metadata": {},
   "source": [
    "Here we know most songs start with \"No chord\"."
   ]
  },
  {
   "cell_type": "code",
   "execution_count": 95,
   "metadata": {},
   "outputs": [
    {
     "data": {
      "text/plain": [
       "(20.0, 100.0]     335\n",
       "(5.0, 20.0]       183\n",
       "(1.0, 5.0]         97\n",
       "(100.0, 500.0]     86\n",
       "(-0.001, 1.0]      18\n",
       "Name: min_chord_length_index, dtype: int64"
      ]
     },
     "execution_count": 95,
     "metadata": {},
     "output_type": "execute_result"
    }
   ],
   "source": [
    "df_songs.min_chord_length_index.value_counts(bins=[0, 1, 5, 20, 100, 500])"
   ]
  },
  {
   "cell_type": "code",
   "execution_count": 96,
   "metadata": {},
   "outputs": [
    {
     "data": {
      "text/plain": [
       "(5.0, 20.0]       452\n",
       "(20.0, 100.0]     239\n",
       "(1.0, 5.0]         19\n",
       "(100.0, 500.0]      6\n",
       "(-0.001, 1.0]       1\n",
       "Name: min_chord_length, dtype: int64"
      ]
     },
     "execution_count": 96,
     "metadata": {},
     "output_type": "execute_result"
    }
   ],
   "source": [
    "df_songs.min_chord_length.value_counts(bins=[0, 1, 5, 20, 100, 500])"
   ]
  },
  {
   "cell_type": "code",
   "execution_count": 97,
   "metadata": {},
   "outputs": [
    {
     "data": {
      "text/html": [
       "<div>\n",
       "<style scoped>\n",
       "    .dataframe tbody tr th:only-of-type {\n",
       "        vertical-align: middle;\n",
       "    }\n",
       "\n",
       "    .dataframe tbody tr th {\n",
       "        vertical-align: top;\n",
       "    }\n",
       "\n",
       "    .dataframe thead th {\n",
       "        text-align: right;\n",
       "    }\n",
       "</style>\n",
       "<table border=\"1\" class=\"dataframe\">\n",
       "  <thead>\n",
       "    <tr style=\"text-align: right;\">\n",
       "      <th></th>\n",
       "      <th>id</th>\n",
       "      <th>title</th>\n",
       "      <th>artist</th>\n",
       "      <th>no_chord_percent</th>\n",
       "      <th>first_chord</th>\n",
       "      <th>min_chord_length</th>\n",
       "      <th>min_chord_length_index</th>\n",
       "      <th>min_chord</th>\n",
       "    </tr>\n",
       "  </thead>\n",
       "  <tbody>\n",
       "    <tr>\n",
       "      <th>40</th>\n",
       "      <td>68</td>\n",
       "      <td>Black Cars</td>\n",
       "      <td>Gino Vannelli</td>\n",
       "      <td>0.133725</td>\n",
       "      <td>N</td>\n",
       "      <td>5</td>\n",
       "      <td>139</td>\n",
       "      <td>A:maj</td>\n",
       "    </tr>\n",
       "    <tr>\n",
       "      <th>174</th>\n",
       "      <td>267</td>\n",
       "      <td>Worried Guy</td>\n",
       "      <td>Johnny Tillotson</td>\n",
       "      <td>0.109968</td>\n",
       "      <td>N</td>\n",
       "      <td>2</td>\n",
       "      <td>89</td>\n",
       "      <td>Eb:maj</td>\n",
       "    </tr>\n",
       "    <tr>\n",
       "      <th>222</th>\n",
       "      <td>347</td>\n",
       "      <td>Sunflower</td>\n",
       "      <td>Glen Campbell</td>\n",
       "      <td>0.021199</td>\n",
       "      <td>N</td>\n",
       "      <td>2</td>\n",
       "      <td>76</td>\n",
       "      <td>C:maj</td>\n",
       "    </tr>\n",
       "    <tr>\n",
       "      <th>243</th>\n",
       "      <td>381</td>\n",
       "      <td>Hocus Pocus</td>\n",
       "      <td>Focus</td>\n",
       "      <td>0.415706</td>\n",
       "      <td>N</td>\n",
       "      <td>5</td>\n",
       "      <td>117</td>\n",
       "      <td>Bb:maj</td>\n",
       "    </tr>\n",
       "    <tr>\n",
       "      <th>260</th>\n",
       "      <td>403</td>\n",
       "      <td>I Never Loved A Man (The Way I Love You)</td>\n",
       "      <td>Aretha Franklin</td>\n",
       "      <td>0.079459</td>\n",
       "      <td>N</td>\n",
       "      <td>5</td>\n",
       "      <td>108</td>\n",
       "      <td>Bb:maj</td>\n",
       "    </tr>\n",
       "    <tr>\n",
       "      <th>275</th>\n",
       "      <td>429</td>\n",
       "      <td>Put Your Hand In The Hand</td>\n",
       "      <td>Ocean</td>\n",
       "      <td>0.111533</td>\n",
       "      <td>N</td>\n",
       "      <td>3</td>\n",
       "      <td>87</td>\n",
       "      <td>E:maj</td>\n",
       "    </tr>\n",
       "    <tr>\n",
       "      <th>277</th>\n",
       "      <td>432</td>\n",
       "      <td>One Bad Apple</td>\n",
       "      <td>The Osmonds</td>\n",
       "      <td>0.095846</td>\n",
       "      <td>N</td>\n",
       "      <td>5</td>\n",
       "      <td>22</td>\n",
       "      <td>G:maj</td>\n",
       "    </tr>\n",
       "    <tr>\n",
       "      <th>289</th>\n",
       "      <td>457</td>\n",
       "      <td>Not Fade Away</td>\n",
       "      <td>The Rolling Stones</td>\n",
       "      <td>0.352213</td>\n",
       "      <td>N</td>\n",
       "      <td>5</td>\n",
       "      <td>23</td>\n",
       "      <td>D:maj</td>\n",
       "    </tr>\n",
       "    <tr>\n",
       "      <th>335</th>\n",
       "      <td>542</td>\n",
       "      <td>Wake Me Up Before You Go-Go</td>\n",
       "      <td>Wham!</td>\n",
       "      <td>0.046144</td>\n",
       "      <td>N</td>\n",
       "      <td>2</td>\n",
       "      <td>1</td>\n",
       "      <td>G:maj</td>\n",
       "    </tr>\n",
       "    <tr>\n",
       "      <th>374</th>\n",
       "      <td>607</td>\n",
       "      <td>Everlasting Love</td>\n",
       "      <td>Carl Carlton</td>\n",
       "      <td>0.134734</td>\n",
       "      <td>N</td>\n",
       "      <td>2</td>\n",
       "      <td>81</td>\n",
       "      <td>A:maj</td>\n",
       "    </tr>\n",
       "    <tr>\n",
       "      <th>431</th>\n",
       "      <td>706</td>\n",
       "      <td>Living In The Past</td>\n",
       "      <td>Jethro Tull</td>\n",
       "      <td>0.169916</td>\n",
       "      <td>N</td>\n",
       "      <td>1</td>\n",
       "      <td>200</td>\n",
       "      <td>Bb:maj</td>\n",
       "    </tr>\n",
       "    <tr>\n",
       "      <th>477</th>\n",
       "      <td>798</td>\n",
       "      <td>Straight From The Heart</td>\n",
       "      <td>The Allman Brothers Band</td>\n",
       "      <td>0.038249</td>\n",
       "      <td>N</td>\n",
       "      <td>4</td>\n",
       "      <td>170</td>\n",
       "      <td>E:maj</td>\n",
       "    </tr>\n",
       "    <tr>\n",
       "      <th>495</th>\n",
       "      <td>827</td>\n",
       "      <td>Just A Friend</td>\n",
       "      <td>Biz Markie</td>\n",
       "      <td>0.011614</td>\n",
       "      <td>N</td>\n",
       "      <td>3</td>\n",
       "      <td>88</td>\n",
       "      <td>G:maj</td>\n",
       "    </tr>\n",
       "    <tr>\n",
       "      <th>516</th>\n",
       "      <td>865</td>\n",
       "      <td>Don't Talk To Strangers</td>\n",
       "      <td>Rick Springfield</td>\n",
       "      <td>0.378916</td>\n",
       "      <td>N</td>\n",
       "      <td>5</td>\n",
       "      <td>173</td>\n",
       "      <td>B:maj</td>\n",
       "    </tr>\n",
       "    <tr>\n",
       "      <th>607</th>\n",
       "      <td>1044</td>\n",
       "      <td>I've Passed This Way Before</td>\n",
       "      <td>Jimmy Ruffin</td>\n",
       "      <td>0.021161</td>\n",
       "      <td>N</td>\n",
       "      <td>4</td>\n",
       "      <td>100</td>\n",
       "      <td>Ab:maj</td>\n",
       "    </tr>\n",
       "    <tr>\n",
       "      <th>629</th>\n",
       "      <td>1076</td>\n",
       "      <td>Can We Still Be Friends</td>\n",
       "      <td>Todd Rundgren</td>\n",
       "      <td>0.104739</td>\n",
       "      <td>N</td>\n",
       "      <td>3</td>\n",
       "      <td>84</td>\n",
       "      <td>B:maj</td>\n",
       "    </tr>\n",
       "    <tr>\n",
       "      <th>685</th>\n",
       "      <td>1178</td>\n",
       "      <td>I Want You Back</td>\n",
       "      <td>The Jacksons</td>\n",
       "      <td>0.019278</td>\n",
       "      <td>N</td>\n",
       "      <td>5</td>\n",
       "      <td>208</td>\n",
       "      <td>Eb:maj</td>\n",
       "    </tr>\n",
       "    <tr>\n",
       "      <th>701</th>\n",
       "      <td>1212</td>\n",
       "      <td>Baby Don't Go</td>\n",
       "      <td>Sonny &amp; Cher</td>\n",
       "      <td>0.008062</td>\n",
       "      <td>N</td>\n",
       "      <td>3</td>\n",
       "      <td>135</td>\n",
       "      <td>C:maj</td>\n",
       "    </tr>\n",
       "    <tr>\n",
       "      <th>704</th>\n",
       "      <td>1220</td>\n",
       "      <td>Get Ready</td>\n",
       "      <td>Rare Earth</td>\n",
       "      <td>0.018119</td>\n",
       "      <td>N</td>\n",
       "      <td>4</td>\n",
       "      <td>129</td>\n",
       "      <td>F:maj</td>\n",
       "    </tr>\n",
       "    <tr>\n",
       "      <th>707</th>\n",
       "      <td>1225</td>\n",
       "      <td>I've Got A Tiger By The Tail</td>\n",
       "      <td>Buck Owens</td>\n",
       "      <td>0.120400</td>\n",
       "      <td>N</td>\n",
       "      <td>5</td>\n",
       "      <td>61</td>\n",
       "      <td>E:maj</td>\n",
       "    </tr>\n",
       "  </tbody>\n",
       "</table>\n",
       "</div>"
      ],
      "text/plain": [
       "       id                                     title                    artist  \\\n",
       "40     68                                Black Cars             Gino Vannelli   \n",
       "174   267                               Worried Guy          Johnny Tillotson   \n",
       "222   347                                 Sunflower             Glen Campbell   \n",
       "243   381                               Hocus Pocus                     Focus   \n",
       "260   403  I Never Loved A Man (The Way I Love You)           Aretha Franklin   \n",
       "275   429                 Put Your Hand In The Hand                     Ocean   \n",
       "277   432                             One Bad Apple               The Osmonds   \n",
       "289   457                             Not Fade Away        The Rolling Stones   \n",
       "335   542               Wake Me Up Before You Go-Go                     Wham!   \n",
       "374   607                          Everlasting Love              Carl Carlton   \n",
       "431   706                        Living In The Past               Jethro Tull   \n",
       "477   798                   Straight From The Heart  The Allman Brothers Band   \n",
       "495   827                             Just A Friend                Biz Markie   \n",
       "516   865                   Don't Talk To Strangers          Rick Springfield   \n",
       "607  1044               I've Passed This Way Before              Jimmy Ruffin   \n",
       "629  1076                   Can We Still Be Friends             Todd Rundgren   \n",
       "685  1178                           I Want You Back              The Jacksons   \n",
       "701  1212                             Baby Don't Go              Sonny & Cher   \n",
       "704  1220                                 Get Ready                Rare Earth   \n",
       "707  1225              I've Got A Tiger By The Tail                Buck Owens   \n",
       "\n",
       "     no_chord_percent first_chord  min_chord_length  min_chord_length_index  \\\n",
       "40           0.133725           N                 5                     139   \n",
       "174          0.109968           N                 2                      89   \n",
       "222          0.021199           N                 2                      76   \n",
       "243          0.415706           N                 5                     117   \n",
       "260          0.079459           N                 5                     108   \n",
       "275          0.111533           N                 3                      87   \n",
       "277          0.095846           N                 5                      22   \n",
       "289          0.352213           N                 5                      23   \n",
       "335          0.046144           N                 2                       1   \n",
       "374          0.134734           N                 2                      81   \n",
       "431          0.169916           N                 1                     200   \n",
       "477          0.038249           N                 4                     170   \n",
       "495          0.011614           N                 3                      88   \n",
       "516          0.378916           N                 5                     173   \n",
       "607          0.021161           N                 4                     100   \n",
       "629          0.104739           N                 3                      84   \n",
       "685          0.019278           N                 5                     208   \n",
       "701          0.008062           N                 3                     135   \n",
       "704          0.018119           N                 4                     129   \n",
       "707          0.120400           N                 5                      61   \n",
       "\n",
       "    min_chord  \n",
       "40      A:maj  \n",
       "174    Eb:maj  \n",
       "222     C:maj  \n",
       "243    Bb:maj  \n",
       "260    Bb:maj  \n",
       "275     E:maj  \n",
       "277     G:maj  \n",
       "289     D:maj  \n",
       "335     G:maj  \n",
       "374     A:maj  \n",
       "431    Bb:maj  \n",
       "477     E:maj  \n",
       "495     G:maj  \n",
       "516     B:maj  \n",
       "607    Ab:maj  \n",
       "629     B:maj  \n",
       "685    Eb:maj  \n",
       "701     C:maj  \n",
       "704     F:maj  \n",
       "707     E:maj  "
      ]
     },
     "execution_count": 97,
     "metadata": {},
     "output_type": "execute_result"
    }
   ],
   "source": [
    "df_songs[df_songs.min_chord_length <= 5]"
   ]
  },
  {
   "cell_type": "code",
   "execution_count": null,
   "metadata": {},
   "outputs": [],
   "source": []
  },
  {
   "cell_type": "markdown",
   "metadata": {},
   "source": [
    "Here we observe, most chords will last 5-20 chroma vectors (~250ms-1s). We'll probably use 4 chroma vectors as the base unit for identifying a chord.\n",
    "\n",
    "#### Temporal features\n",
    "\n",
    "Next, let's observe how good our chroma features are with time component. It will be good to start with those with most ambiguity."
   ]
  },
  {
   "cell_type": "code",
   "execution_count": 1,
   "metadata": {},
   "outputs": [],
   "source": [
    "import pandas as pd\n",
    "base_dir = 'data/McGill-Billboard'\n",
    "data_index = 'billboard-2.0-manychords.csv'\n",
    "\n",
    "df_songs = pd.read_csv(f'{base_dir}/{data_index}')"
   ]
  },
  {
   "cell_type": "code",
   "execution_count": 2,
   "metadata": {},
   "outputs": [
    {
     "name": "stdout",
     "output_type": "stream",
     "text": [
      "C:maj (B:1183, T: 1266) - Bass match: 78.28 - Ext bass match: 81.49 - Chord match: 0.23 - Ext match: 0.53\n",
      "D:maj (B:877, T: 926) - Bass match: 59.18 - Ext bass match: 60.09 - Chord match: 0.42 - Ext match: 0.67\n",
      "G:maj (B:676, T: 706) - Bass match: 80.77 - Ext bass match: 81.95 - Chord match: 0.45 - Ext match: 0.66\n",
      "E:min (B:123, T: 123) - Bass match: 95.93 - Ext bass match: 96.75 - Chord match: 0.05 - Ext match: 0.41\n",
      "A:min (B:222, T: 222) - Bass match: 95.05 - Ext bass match: 95.95 - Chord match: 0.19 - Ext match: 0.34\n"
     ]
    }
   ],
   "source": [
    "import dataloader\n",
    "import numpy as np\n",
    "import lazycats.np as catnp\n",
    "\n",
    "# per song feature analysis\n",
    "chroma_vectors, chord_labels = dataloader.get_chord_features_and_labels(1289, label_type='majmin')\n",
    "for chord_label in set(chord_labels):\n",
    "    if chord_label == 0:\n",
    "        continue\n",
    "    \n",
    "    chord_name = dataloader._MAJMIN_CLASSES[chord_label]\n",
    "    root, chord_bitmap = dataloader.encode_to_chordino_chroma(chord_name)\n",
    "    filt = (chord_labels == chord_label)\n",
    "    vecs = chroma_vectors[filt]\n",
    "    bass_vecs = vecs[:, :12]\n",
    "    treble_vecs = vecs[:, 12:]\n",
    "    # remove all zeros for comparison\n",
    "    bass_vecs = bass_vecs[~np.all(bass_vecs <= 0.01, axis=1)]\n",
    "    treble_vecs = treble_vecs[~np.all(treble_vecs <= 0.01, axis=1)]\n",
    "    \n",
    "    basses = np.argmax(bass_vecs, axis=1)\n",
    "    bass_match = np.mean(basses == root)*100\n",
    "    ext_bass_match = bass_match + np.mean(basses == (root-1)%12)*100\n",
    "    ext_bass_match += np.mean(basses == (root+1)%12)*100\n",
    "    \n",
    "    # get only on treble\n",
    "    vec_ixs = catnp.top_k_indices(treble_vecs, 4, axis=1)\n",
    "    label_ixs = np.where(chord_bitmap)[0]\n",
    "    chord_match = np.mean(np.all(np.isin(vec_ixs[:, :3], label_ixs), axis=1))\n",
    "    ext_match = np.mean((np.sum(np.isin(vec_ixs, label_ixs), axis=1))==3) # ext chord\n",
    "    \n",
    "    print(f'{chord_name} (B:{len(bass_vecs)}, T: {len(treble_vecs)}) - '\n",
    "          f'Bass match: {bass_match:.2f} - Ext bass match: {ext_bass_match:.2f} - '\n",
    "          f'Chord match: {chord_match:.2f} - Ext match: {ext_match:.2f}')"
   ]
  },
  {
   "cell_type": "code",
   "execution_count": 19,
   "metadata": {},
   "outputs": [],
   "source": [
    "# bit of visualization\n",
    "\n",
    "from librosa.display import specshow\n",
    "from dataloader import _CHROMA_NOTES_CHORDINO\n",
    "import matplotlib.pyplot as plt"
   ]
  },
  {
   "cell_type": "code",
   "execution_count": 5,
   "metadata": {},
   "outputs": [
    {
     "data": {
      "image/png": "[encoded data removed]",
      "text/plain": [
       "<Figure size 1080x360 with 1 Axes>"
      ]
     },
     "metadata": {
      "needs_background": "light"
     },
     "output_type": "display_data"
    }
   ],
   "source": [
    "%matplotlib inline\n",
    "chromagram = chroma_vectors[chord_labels==dataloader._MAJMIN_CLASS_INDEX_MAP['D:maj']][:500, :12].T\n",
    "\n",
    "fig, ax = plt.subplots(figsize=(15, 5))\n",
    "specshow(chromagram, x_axis='time', sr=44100)\n",
    "_ = ax.set_yticks(range(len(chromagram)))\n",
    "notes = _CHROMA_NOTES_CHORDINO\n",
    "if len(chromagram) == 24:\n",
    "    notes += _CHROMA_NOTES_CHORDINO\n",
    "_ = ax.set_yticklabels(notes)"
   ]
  },
  {
   "cell_type": "code",
   "execution_count": 6,
   "metadata": {},
   "outputs": [
    {
     "name": "stdout",
     "output_type": "stream",
     "text": [
      "[2038   41   41   41  235   41  921]\n",
      "[0 1 0 1 0 1 0]\n"
     ]
    }
   ],
   "source": [
    "filt = (chord_labels==dataloader._MAJMIN_CLASS_INDEX_MAP['E:min'])\n",
    "print(catnp.contiguous_lengths(filt.astype(int)))\n",
    "print(catnp.squash_consecutive_duplicates(filt.astype(int)))"
   ]
  },
  {
   "cell_type": "code",
   "execution_count": 14,
   "metadata": {},
   "outputs": [
    {
     "data": {
      "image/png": "[encoded data removed]",
      "text/plain": [
       "<Figure size 1080x360 with 1 Axes>"
      ]
     },
     "metadata": {
      "needs_background": "light"
     },
     "output_type": "display_data"
    }
   ],
   "source": [
    "chromagram = chroma_vectors[chord_labels==dataloader._MAJMIN_CLASS_INDEX_MAP['E:min']].T\n",
    "\n",
    "fig, ax = plt.subplots(figsize=(15, 5))\n",
    "specshow(chromagram, x_axis='time', sr=44100)\n",
    "_ = ax.set_yticks(range(len(chromagram)))\n",
    "notes = _CHROMA_NOTES_CHORDINO\n",
    "if len(chromagram) == 24:\n",
    "    notes += _CHROMA_NOTES_CHORDINO\n",
    "_ = ax.set_yticklabels(notes)"
   ]
  },
  {
   "cell_type": "code",
   "execution_count": 51,
   "metadata": {},
   "outputs": [],
   "source": [
    "step_size, chroma_timestamps, chroma_vectors = dataloader.get_chroma_matrix(308,\n",
    "        return_timestamps=True,return_step_size=True)"
   ]
  },
  {
   "cell_type": "code",
   "execution_count": 53,
   "metadata": {},
   "outputs": [
    {
     "data": {
      "text/plain": [
       "array([[112.24526077, 112.29170068],\n",
       "       [112.29170068, 112.33814059],\n",
       "       [112.33814059, 112.3845805 ]])"
      ]
     },
     "execution_count": 53,
     "metadata": {},
     "output_type": "execute_result"
    }
   ],
   "source": [
    "chroma_timestamps[2417:2420]"
   ]
  },
  {
   "cell_type": "code",
   "execution_count": 54,
   "metadata": {},
   "outputs": [],
   "source": [
    "chord_timestamps, chord_labels_str = dataloader.get_chord_labels(_id, label_type='majmin')\n",
    "chord_labels = dataloader.encode_chords_single_label(chord_labels_str)"
   ]
  },
  {
   "cell_type": "code",
   "execution_count": 55,
   "metadata": {},
   "outputs": [
    {
     "data": {
      "text/plain": [
       "array([[103.2774093 , 104.62465986],\n",
       "       [104.62465986, 105.97191043],\n",
       "       [105.97191043, 107.15075468],\n",
       "       [107.15075468, 107.319161  ],\n",
       "       [107.319161  , 112.27981859]])"
      ]
     },
     "execution_count": 55,
     "metadata": {},
     "output_type": "execute_result"
    }
   ],
   "source": [
    "chord_timestamps[-5:]"
   ]
  },
  {
   "cell_type": "code",
   "execution_count": 27,
   "metadata": {},
   "outputs": [
    {
     "data": {
      "text/plain": [
       "(2498, 2498)"
      ]
     },
     "execution_count": 27,
     "metadata": {},
     "output_type": "execute_result"
    }
   ],
   "source": [
    "from importlib import reload\n",
    "reload(dataloader)\n",
    "import lazycats.np as catnp\n",
    "\n",
    "chroma_vectors, chord_labels = dataloader.get_chord_features_and_labels(308, label_type='majmin',\n",
    "                                                                        remove_ambiguous=False)\n",
    "\n",
    "len(chroma_vectors), len(chord_labels)\n",
    "\n",
    "# now check ff.\n",
    "# histogram of chroma count before chord changes (i.e. chord duration)\n",
    "# min & max\n",
    "# where min and max occurs\n",
    "# what transition occurs at min/max"
   ]
  },
  {
   "cell_type": "code",
   "execution_count": 14,
   "metadata": {},
   "outputs": [
    {
     "data": {
      "text/html": [
       "<div>\n",
       "<style scoped>\n",
       "    .dataframe tbody tr th:only-of-type {\n",
       "        vertical-align: middle;\n",
       "    }\n",
       "\n",
       "    .dataframe tbody tr th {\n",
       "        vertical-align: top;\n",
       "    }\n",
       "\n",
       "    .dataframe thead th {\n",
       "        text-align: right;\n",
       "    }\n",
       "</style>\n",
       "<table border=\"1\" class=\"dataframe\">\n",
       "  <thead>\n",
       "    <tr style=\"text-align: right;\">\n",
       "      <th></th>\n",
       "      <th>id</th>\n",
       "      <th>title</th>\n",
       "      <th>artist</th>\n",
       "      <th>no_chord_percent</th>\n",
       "    </tr>\n",
       "  </thead>\n",
       "  <tbody>\n",
       "    <tr>\n",
       "      <th>0</th>\n",
       "      <td>3</td>\n",
       "      <td>I Don't Mind</td>\n",
       "      <td>James Brown</td>\n",
       "      <td>0.049747</td>\n",
       "    </tr>\n",
       "    <tr>\n",
       "      <th>1</th>\n",
       "      <td>4</td>\n",
       "      <td>You've Got A Friend</td>\n",
       "      <td>Roberta Flack,Donny Hathaway</td>\n",
       "      <td>0.050770</td>\n",
       "    </tr>\n",
       "    <tr>\n",
       "      <th>2</th>\n",
       "      <td>6</td>\n",
       "      <td>The Rose</td>\n",
       "      <td>Bette Midler</td>\n",
       "      <td>0.117244</td>\n",
       "    </tr>\n",
       "    <tr>\n",
       "      <th>3</th>\n",
       "      <td>10</td>\n",
       "      <td>An Innocent Man</td>\n",
       "      <td>Billy Joel</td>\n",
       "      <td>0.029239</td>\n",
       "    </tr>\n",
       "    <tr>\n",
       "      <th>4</th>\n",
       "      <td>12</td>\n",
       "      <td>Lookin' For Love</td>\n",
       "      <td>Johnny Lee</td>\n",
       "      <td>0.018727</td>\n",
       "    </tr>\n",
       "    <tr>\n",
       "      <th>...</th>\n",
       "      <td>...</td>\n",
       "      <td>...</td>\n",
       "      <td>...</td>\n",
       "      <td>...</td>\n",
       "    </tr>\n",
       "    <tr>\n",
       "      <th>714</th>\n",
       "      <td>1286</td>\n",
       "      <td>Sukiyaki</td>\n",
       "      <td>A Taste Of Honey</td>\n",
       "      <td>0.102465</td>\n",
       "    </tr>\n",
       "    <tr>\n",
       "      <th>715</th>\n",
       "      <td>1287</td>\n",
       "      <td>Johnny Reb</td>\n",
       "      <td>Johnny Horton</td>\n",
       "      <td>0.010825</td>\n",
       "    </tr>\n",
       "    <tr>\n",
       "      <th>716</th>\n",
       "      <td>1289</td>\n",
       "      <td>There She Goes</td>\n",
       "      <td>The La's</td>\n",
       "      <td>0.034247</td>\n",
       "    </tr>\n",
       "    <tr>\n",
       "      <th>717</th>\n",
       "      <td>1290</td>\n",
       "      <td>Happy Together</td>\n",
       "      <td>The Turtles</td>\n",
       "      <td>0.026688</td>\n",
       "    </tr>\n",
       "    <tr>\n",
       "      <th>718</th>\n",
       "      <td>1292</td>\n",
       "      <td>He's So Fine</td>\n",
       "      <td>The Chiffons</td>\n",
       "      <td>0.047501</td>\n",
       "    </tr>\n",
       "  </tbody>\n",
       "</table>\n",
       "<p>719 rows × 4 columns</p>\n",
       "</div>"
      ],
      "text/plain": [
       "       id                title                        artist  no_chord_percent\n",
       "0       3         I Don't Mind                   James Brown          0.049747\n",
       "1       4  You've Got A Friend  Roberta Flack,Donny Hathaway          0.050770\n",
       "2       6             The Rose                  Bette Midler          0.117244\n",
       "3      10      An Innocent Man                    Billy Joel          0.029239\n",
       "4      12     Lookin' For Love                    Johnny Lee          0.018727\n",
       "..    ...                  ...                           ...               ...\n",
       "714  1286             Sukiyaki              A Taste Of Honey          0.102465\n",
       "715  1287           Johnny Reb                 Johnny Horton          0.010825\n",
       "716  1289       There She Goes                      The La's          0.034247\n",
       "717  1290       Happy Together                   The Turtles          0.026688\n",
       "718  1292         He's So Fine                  The Chiffons          0.047501\n",
       "\n",
       "[719 rows x 4 columns]"
      ]
     },
     "execution_count": 14,
     "metadata": {},
     "output_type": "execute_result"
    }
   ],
   "source": [
    "df_songs"
   ]
  },
  {
   "cell_type": "code",
   "execution_count": 28,
   "metadata": {},
   "outputs": [
    {
     "name": "stderr",
     "output_type": "stream",
     "text": [
      " 76%|███████▋  | 550/719 [00:28<00:09, 17.15it/s]/home/cjbayron/virtualenvs/pytorch/lib/python3.6/site-packages/mir_eval/io.py:281: UserWarning: All interval durations must be strictly positive\n",
      "  warnings.warn(error.args[0])\n",
      "100%|██████████| 719/719 [00:37<00:00, 18.98it/s]\n"
     ]
    }
   ],
   "source": [
    "from tqdm import tqdm\n",
    "\n",
    "per_song_chord_dur = []\n",
    "all_chord_durs = []\n",
    "for ix in tqdm(df_songs.index):\n",
    "    _id = df_songs.loc[ix].id\n",
    "    try:\n",
    "        chroma_vectors, chord_labels = dataloader.get_chord_features_and_labels(_id, label_type='majmin',\n",
    "                                                                                remove_ambiguous=False)\n",
    "    except Exception as e:\n",
    "        print(f'Error {e} at {_id}')\n",
    "        break\n",
    "        \n",
    "    chord_durs = catnp.contiguous_lengths(chord_labels)\n",
    "    squashed_labels = catnp.squash_consecutive_duplicates(chord_labels)\n",
    "    n_chords = len(chord_durs)\n",
    "    assert(n_chords==len(squashed_labels))\n",
    "    per_song_chord_dur.append(chord_durs)\n",
    "    all_chord_durs.extend(chord_durs)\n",
    "    \n",
    "    min_ix = np.argmin(chord_durs)\n",
    "    min_dur = chord_durs[min_ix]\n",
    "    max_ix = np.argmax(chord_durs)\n",
    "    max_dur = chord_durs[max_ix]\n",
    "    \n",
    "    min_trans = (squashed_labels[min_ix], squashed_labels[min_ix+1] if min_ix < (n_chords-1) else -1)\n",
    "    max_trans = (squashed_labels[max_ix], squashed_labels[max_ix+1] if max_ix < (n_chords-1) else -1)\n",
    "    \n",
    "    df_songs.loc[ix, 'n_chords'] = n_chords\n",
    "    df_songs.loc[ix, 'min_ix'] = min_ix\n",
    "    df_songs.loc[ix, 'min_dur'] = min_dur\n",
    "    df_songs.loc[ix, 'max_ix'] = max_ix\n",
    "    df_songs.loc[ix, 'max_dur'] = max_dur\n",
    "    df_songs.loc[ix, 'min_trans'] = str(min_trans)\n",
    "    df_songs.loc[ix, 'max_trans'] = str(max_trans)\n",
    "    \n",
    "    #break"
   ]
  },
  {
   "cell_type": "code",
   "execution_count": 62,
   "metadata": {},
   "outputs": [],
   "source": [
    "df_songs.to_csv(f'{base_dir}/billboard-2.0-manychords-chorddurations.csv', index=False)"
   ]
  },
  {
   "cell_type": "code",
   "execution_count": 29,
   "metadata": {},
   "outputs": [],
   "source": [
    "all_chord_durs = np.array(all_chord_durs)"
   ]
  },
  {
   "cell_type": "code",
   "execution_count": 30,
   "metadata": {},
   "outputs": [
    {
     "data": {
      "text/plain": [
       "[(20, 2503),\n",
       " (21, 2455),\n",
       " (23, 1998),\n",
       " (22, 1922),\n",
       " (39, 1852),\n",
       " (41, 1791),\n",
       " (40, 1645),\n",
       " (42, 1564),\n",
       " (24, 1474),\n",
       " (17, 1369),\n",
       " (38, 1286),\n",
       " (19, 1237),\n",
       " (25, 1208),\n",
       " (10, 1208),\n",
       " (43, 1146),\n",
       " (11, 1122),\n",
       " (32, 1117),\n",
       " (26, 1098),\n",
       " (44, 1062),\n",
       " (46, 1049),\n",
       " (18, 1033),\n",
       " (31, 1010),\n",
       " (37, 1004),\n",
       " (28, 972),\n",
       " (45, 949),\n",
       " (30, 892),\n",
       " (33, 886),\n",
       " (29, 872),\n",
       " (27, 872),\n",
       " (47, 853),\n",
       " (35, 847),\n",
       " (16, 827),\n",
       " (34, 819),\n",
       " (36, 735),\n",
       " (12, 723),\n",
       " (14, 721),\n",
       " (15, 710),\n",
       " (48, 664),\n",
       " (13, 630),\n",
       " (53, 605),\n",
       " (9, 564),\n",
       " (50, 554),\n",
       " (56, 517),\n",
       " (52, 508),\n",
       " (51, 498),\n",
       " (57, 488),\n",
       " (49, 474),\n",
       " (55, 455),\n",
       " (61, 447),\n",
       " (54, 446),\n",
       " (76, 377),\n",
       " (58, 373),\n",
       " (69, 368),\n",
       " (68, 367),\n",
       " (66, 330),\n",
       " (70, 329),\n",
       " (60, 326),\n",
       " (82, 321),\n",
       " (62, 321),\n",
       " (67, 317),\n",
       " (80, 314),\n",
       " (81, 313),\n",
       " (65, 313),\n",
       " (8, 308),\n",
       " (78, 306),\n",
       " (79, 300),\n",
       " (83, 297),\n",
       " (84, 287),\n",
       " (75, 286),\n",
       " (77, 286),\n",
       " (64, 283),\n",
       " (74, 265),\n",
       " (63, 249),\n",
       " (85, 244),\n",
       " (87, 243),\n",
       " (59, 241),\n",
       " (73, 225),\n",
       " (93, 222),\n",
       " (92, 202),\n",
       " (72, 194),\n",
       " (95, 193),\n",
       " (88, 192),\n",
       " (86, 191),\n",
       " (94, 179),\n",
       " (7, 177),\n",
       " (71, 175),\n",
       " (96, 156),\n",
       " (89, 150),\n",
       " (90, 144),\n",
       " (91, 140),\n",
       " (99, 126),\n",
       " (105, 122),\n",
       " (100, 118),\n",
       " (98, 118),\n",
       " (102, 101),\n",
       " (97, 100),\n",
       " (106, 100),\n",
       " (6, 100),\n",
       " (101, 97),\n",
       " (103, 86),\n",
       " (104, 85),\n",
       " (111, 82),\n",
       " (115, 77),\n",
       " (110, 74),\n",
       " (113, 71),\n",
       " (124, 66),\n",
       " (123, 65),\n",
       " (109, 65),\n",
       " (125, 63),\n",
       " (114, 63),\n",
       " (107, 61),\n",
       " (108, 61),\n",
       " (116, 49),\n",
       " (112, 49),\n",
       " (121, 47),\n",
       " (138, 46),\n",
       " (142, 46),\n",
       " (140, 45),\n",
       " (128, 45),\n",
       " (129, 44),\n",
       " (5, 44),\n",
       " (122, 43),\n",
       " (132, 43),\n",
       " (135, 43),\n",
       " (136, 43),\n",
       " (131, 42),\n",
       " (148, 41),\n",
       " (137, 40),\n",
       " (150, 37),\n",
       " (120, 35),\n",
       " (143, 35),\n",
       " (130, 35),\n",
       " (117, 34),\n",
       " (118, 34),\n",
       " (133, 34),\n",
       " (168, 33),\n",
       " (134, 33),\n",
       " (141, 33),\n",
       " (126, 32),\n",
       " (152, 30),\n",
       " (139, 30),\n",
       " (127, 29),\n",
       " (119, 29),\n",
       " (153, 29),\n",
       " (145, 28),\n",
       " (4, 28),\n",
       " (146, 26),\n",
       " (147, 24),\n",
       " (178, 24),\n",
       " (164, 24),\n",
       " (151, 23),\n",
       " (177, 23),\n",
       " (158, 23),\n",
       " (154, 23),\n",
       " (155, 23),\n",
       " (167, 23),\n",
       " (165, 22),\n",
       " (156, 22),\n",
       " (159, 22),\n",
       " (149, 21),\n",
       " (169, 21),\n",
       " (170, 21),\n",
       " (144, 20),\n",
       " (160, 20),\n",
       " (157, 19),\n",
       " (161, 19),\n",
       " (171, 19),\n",
       " (3, 17),\n",
       " (185, 17),\n",
       " (190, 16),\n",
       " (181, 16),\n",
       " (166, 16),\n",
       " (197, 15),\n",
       " (187, 15),\n",
       " (162, 15),\n",
       " (163, 15),\n",
       " (189, 14),\n",
       " (174, 14),\n",
       " (199, 13),\n",
       " (211, 13),\n",
       " (186, 13),\n",
       " (207, 12),\n",
       " (194, 12),\n",
       " (173, 12),\n",
       " (172, 12),\n",
       " (264, 12),\n",
       " (244, 12),\n",
       " (245, 11),\n",
       " (198, 11),\n",
       " (250, 11),\n",
       " (179, 11),\n",
       " (176, 11),\n",
       " (195, 11),\n",
       " (175, 11),\n",
       " (188, 10),\n",
       " (192, 10),\n",
       " (247, 10),\n",
       " (249, 10),\n",
       " (213, 10),\n",
       " (210, 10),\n",
       " (182, 9),\n",
       " (259, 9),\n",
       " (218, 9),\n",
       " (184, 9),\n",
       " (243, 9),\n",
       " (202, 9),\n",
       " (212, 9),\n",
       " (220, 9),\n",
       " (183, 9),\n",
       " (248, 9),\n",
       " (217, 9),\n",
       " (196, 9),\n",
       " (221, 9),\n",
       " (222, 9),\n",
       " (266, 9),\n",
       " (242, 8),\n",
       " (252, 8),\n",
       " (1, 8),\n",
       " (205, 8),\n",
       " (229, 8),\n",
       " (216, 8),\n",
       " (209, 8),\n",
       " (226, 8),\n",
       " (191, 8),\n",
       " (208, 8),\n",
       " (343, 7),\n",
       " (193, 7),\n",
       " (275, 7),\n",
       " (206, 7),\n",
       " (180, 7),\n",
       " (215, 7),\n",
       " (214, 7),\n",
       " (268, 7),\n",
       " (344, 7),\n",
       " (254, 7),\n",
       " (354, 7),\n",
       " (241, 7),\n",
       " (269, 7),\n",
       " (233, 6),\n",
       " (246, 6),\n",
       " (320, 6),\n",
       " (400, 6),\n",
       " (270, 6),\n",
       " (219, 6),\n",
       " (261, 6),\n",
       " (251, 6),\n",
       " (257, 6),\n",
       " (240, 6),\n",
       " (333, 5),\n",
       " (228, 5),\n",
       " (325, 5),\n",
       " (260, 5),\n",
       " (327, 5),\n",
       " (2, 5),\n",
       " (282, 5),\n",
       " (284, 5),\n",
       " (273, 5),\n",
       " (262, 5),\n",
       " (236, 5),\n",
       " (286, 5),\n",
       " (292, 5),\n",
       " (314, 5),\n",
       " (227, 5),\n",
       " (453, 4),\n",
       " (311, 4),\n",
       " (296, 4),\n",
       " (267, 4),\n",
       " (204, 4),\n",
       " (322, 4),\n",
       " (224, 4),\n",
       " (358, 4),\n",
       " (357, 4),\n",
       " (326, 4),\n",
       " (265, 4),\n",
       " (308, 4),\n",
       " (239, 4),\n",
       " (256, 4),\n",
       " (281, 4),\n",
       " (316, 4),\n",
       " (263, 4),\n",
       " (293, 4),\n",
       " (349, 4),\n",
       " (289, 4),\n",
       " (411, 4),\n",
       " (223, 4),\n",
       " (200, 4),\n",
       " (237, 4),\n",
       " (424, 4),\n",
       " (339, 4),\n",
       " (303, 4),\n",
       " (201, 4),\n",
       " (230, 4),\n",
       " (280, 4),\n",
       " (331, 3),\n",
       " (368, 3),\n",
       " (290, 3),\n",
       " (494, 3),\n",
       " (341, 3),\n",
       " (298, 3),\n",
       " (346, 3),\n",
       " (412, 3),\n",
       " (319, 3),\n",
       " (389, 3),\n",
       " (272, 3),\n",
       " (340, 3),\n",
       " (347, 3),\n",
       " (348, 3),\n",
       " (278, 3),\n",
       " (376, 3),\n",
       " (407, 3),\n",
       " (305, 3),\n",
       " (279, 3),\n",
       " (837, 3),\n",
       " (398, 3),\n",
       " (366, 3),\n",
       " (317, 3),\n",
       " (402, 3),\n",
       " (274, 3),\n",
       " (736, 3),\n",
       " (466, 3),\n",
       " (439, 3),\n",
       " (516, 3),\n",
       " (406, 3),\n",
       " (397, 3),\n",
       " (464, 3),\n",
       " (310, 3),\n",
       " (422, 3),\n",
       " (425, 3),\n",
       " (203, 3),\n",
       " (379, 3),\n",
       " (375, 3),\n",
       " (335, 3),\n",
       " (531, 3),\n",
       " (361, 3),\n",
       " (232, 3),\n",
       " (474, 3),\n",
       " (235, 3),\n",
       " (386, 3),\n",
       " (329, 3),\n",
       " (471, 3),\n",
       " (301, 2),\n",
       " (294, 2),\n",
       " (454, 2),\n",
       " (515, 2),\n",
       " (363, 2),\n",
       " (725, 2),\n",
       " (271, 2),\n",
       " (575, 2),\n",
       " (492, 2),\n",
       " (697, 2),\n",
       " (356, 2),\n",
       " (404, 2),\n",
       " (419, 2),\n",
       " (789, 2),\n",
       " (449, 2),\n",
       " (360, 2),\n",
       " (321, 2),\n",
       " (306, 2),\n",
       " (304, 2),\n",
       " (544, 2),\n",
       " (295, 2),\n",
       " (365, 2),\n",
       " (377, 2),\n",
       " (255, 2),\n",
       " (622, 2),\n",
       " (285, 2),\n",
       " (396, 2),\n",
       " (337, 2),\n",
       " (501, 2),\n",
       " (429, 2),\n",
       " (352, 2),\n",
       " (1803, 2),\n",
       " (488, 2),\n",
       " (587, 2),\n",
       " (475, 2),\n",
       " (541, 2),\n",
       " (542, 2),\n",
       " (469, 2),\n",
       " (462, 2),\n",
       " (503, 2),\n",
       " (537, 2),\n",
       " (440, 2),\n",
       " (307, 2),\n",
       " (410, 2),\n",
       " (485, 2),\n",
       " (465, 2),\n",
       " (283, 2),\n",
       " (761, 2),\n",
       " (443, 2),\n",
       " (463, 2),\n",
       " (380, 2),\n",
       " (381, 2),\n",
       " (370, 2),\n",
       " (359, 2),\n",
       " (403, 2),\n",
       " (374, 2),\n",
       " (373, 2),\n",
       " (371, 2),\n",
       " (372, 2),\n",
       " (641, 2),\n",
       " (312, 2),\n",
       " (450, 2),\n",
       " (689, 2),\n",
       " (525, 2),\n",
       " (557, 2),\n",
       " (477, 2),\n",
       " (258, 2),\n",
       " (631, 2),\n",
       " (297, 2),\n",
       " (291, 2),\n",
       " (481, 2),\n",
       " (413, 2),\n",
       " (350, 2),\n",
       " (318, 2),\n",
       " (405, 2),\n",
       " (578, 2),\n",
       " (894, 1),\n",
       " (618, 1),\n",
       " (490, 1),\n",
       " (733, 1),\n",
       " (605, 1),\n",
       " (547, 1),\n",
       " (555, 1),\n",
       " (1090, 1),\n",
       " (902, 1),\n",
       " (378, 1),\n",
       " (852, 1),\n",
       " (1042, 1),\n",
       " (687, 1),\n",
       " (661, 1),\n",
       " (660, 1),\n",
       " (990, 1),\n",
       " (1125, 1),\n",
       " (666, 1),\n",
       " (493, 1),\n",
       " (1028, 1),\n",
       " (390, 1),\n",
       " (1228, 1),\n",
       " (418, 1),\n",
       " (927, 1),\n",
       " (740, 1),\n",
       " (532, 1),\n",
       " (734, 1),\n",
       " (869, 1),\n",
       " (836, 1),\n",
       " (871, 1),\n",
       " (489, 1),\n",
       " (643, 1),\n",
       " (1049, 1),\n",
       " (719, 1),\n",
       " (539, 1),\n",
       " (382, 1),\n",
       " (1534, 1),\n",
       " (1017, 1),\n",
       " (2111, 1),\n",
       " (594, 1),\n",
       " (384, 1),\n",
       " (385, 1),\n",
       " (550, 1),\n",
       " (299, 1),\n",
       " (918, 1),\n",
       " (608, 1),\n",
       " (650, 1),\n",
       " (1300, 1),\n",
       " (1111, 1),\n",
       " (1085, 1),\n",
       " (814, 1),\n",
       " (772, 1),\n",
       " (1588, 1),\n",
       " (1161, 1),\n",
       " (519, 1),\n",
       " (2236, 1),\n",
       " (8896, 1),\n",
       " (757, 1),\n",
       " (552, 1),\n",
       " (735, 1),\n",
       " (875, 1),\n",
       " (964, 1),\n",
       " (401, 1),\n",
       " (1219, 1),\n",
       " (1093, 1),\n",
       " (1690, 1),\n",
       " (674, 1),\n",
       " (342, 1),\n",
       " (683, 1),\n",
       " (673, 1),\n",
       " (470, 1),\n",
       " (629, 1),\n",
       " (1492, 1),\n",
       " (811, 1),\n",
       " (747, 1),\n",
       " (614, 1),\n",
       " (427, 1),\n",
       " (865, 1),\n",
       " (1189, 1),\n",
       " (480, 1),\n",
       " (693, 1),\n",
       " (856, 1),\n",
       " (682, 1),\n",
       " (680, 1),\n",
       " (658, 1),\n",
       " (543, 1),\n",
       " (715, 1),\n",
       " (300, 1),\n",
       " (573, 1),\n",
       " (659, 1),\n",
       " (3790, 1),\n",
       " (4246, 1),\n",
       " (943, 1),\n",
       " (3918, 1),\n",
       " (727, 1),\n",
       " (729, 1),\n",
       " (728, 1),\n",
       " (435, 1),\n",
       " (387, 1),\n",
       " (679, 1),\n",
       " (426, 1),\n",
       " (399, 1),\n",
       " (369, 1),\n",
       " (394, 1),\n",
       " (1268, 1),\n",
       " (476, 1),\n",
       " (482, 1),\n",
       " (483, 1),\n",
       " (253, 1),\n",
       " (388, 1),\n",
       " (3505, 1),\n",
       " (621, 1),\n",
       " (763, 1),\n",
       " (930, 1),\n",
       " (416, 1),\n",
       " (593, 1),\n",
       " (767, 1),\n",
       " (638, 1),\n",
       " (521, 1),\n",
       " (498, 1),\n",
       " (495, 1),\n",
       " (1599, 1),\n",
       " (647, 1),\n",
       " (441, 1),\n",
       " (1759, 1),\n",
       " (548, 1),\n",
       " (1344, 1),\n",
       " (730, 1),\n",
       " (1020, 1),\n",
       " (1733, 1),\n",
       " (484, 1),\n",
       " (1047, 1),\n",
       " (637, 1),\n",
       " (636, 1),\n",
       " (313, 1),\n",
       " (451, 1),\n",
       " (699, 1),\n",
       " (1034, 1),\n",
       " (1205, 1),\n",
       " (1552, 1),\n",
       " (657, 1),\n",
       " (345, 1),\n",
       " (840, 1),\n",
       " (842, 1),\n",
       " (795, 1),\n",
       " (3834, 1),\n",
       " (633, 1),\n",
       " (351, 1),\n",
       " (589, 1),\n",
       " (581, 1),\n",
       " (873, 1),\n",
       " (613, 1),\n",
       " (611, 1),\n",
       " (540, 1),\n",
       " (491, 1),\n",
       " (234, 1),\n",
       " (225, 1),\n",
       " (554, 1),\n",
       " (551, 1),\n",
       " (775, 1),\n",
       " (2762, 1),\n",
       " (457, 1),\n",
       " (909, 1),\n",
       " (328, 1),\n",
       " (583, 1),\n",
       " (705, 1),\n",
       " (546, 1),\n",
       " (2534, 1),\n",
       " (806, 1),\n",
       " (3075, 1),\n",
       " (332, 1),\n",
       " (445, 1),\n",
       " (854, 1),\n",
       " (414, 1),\n",
       " (584, 1),\n",
       " (231, 1),\n",
       " (625, 1),\n",
       " (742, 1),\n",
       " (468, 1),\n",
       " (513, 1),\n",
       " (309, 1),\n",
       " (941, 1),\n",
       " (355, 1),\n",
       " (479, 1),\n",
       " (2358, 1),\n",
       " (1628, 1),\n",
       " (558, 1),\n",
       " (437, 1),\n",
       " (324, 1),\n",
       " (530, 1),\n",
       " (535, 1),\n",
       " (473, 1),\n",
       " (478, 1),\n",
       " (277, 1),\n",
       " (654, 1),\n",
       " (916, 1),\n",
       " (1140, 1),\n",
       " (1512, 1),\n",
       " (860, 1),\n",
       " (520, 1),\n",
       " (1168, 1),\n",
       " (591, 1),\n",
       " (383, 1),\n",
       " (1024, 1),\n",
       " (415, 1),\n",
       " (694, 1),\n",
       " (597, 1),\n",
       " (500, 1),\n",
       " (936, 1),\n",
       " (276, 1),\n",
       " (599, 1),\n",
       " (509, 1),\n",
       " (588, 1),\n",
       " (714, 1),\n",
       " (3111, 1),\n",
       " (570, 1),\n",
       " (634, 1),\n",
       " (408, 1),\n",
       " (848, 1),\n",
       " (675, 1),\n",
       " (1704, 1),\n",
       " (393, 1),\n",
       " (367, 1),\n",
       " (3159, 1),\n",
       " (446, 1)]"
      ]
     },
     "execution_count": 30,
     "metadata": {},
     "output_type": "execute_result"
    }
   ],
   "source": [
    "from collections import Counter\n",
    "dur_counts = Counter(all_chord_durs)\n",
    "dur_counts.most_common()"
   ]
  },
  {
   "cell_type": "code",
   "execution_count": 31,
   "metadata": {},
   "outputs": [
    {
     "data": {
      "text/plain": [
       "49.50175990970252"
      ]
     },
     "execution_count": 31,
     "metadata": {},
     "output_type": "execute_result"
    }
   ],
   "source": [
    "np.mean(all_chord_durs)"
   ]
  },
  {
   "cell_type": "markdown",
   "metadata": {},
   "source": [
    "Maybe a sequence length of 64/128 makes sense"
   ]
  },
  {
   "cell_type": "code",
   "execution_count": 105,
   "metadata": {},
   "outputs": [
    {
     "data": {
      "text/html": [
       "<div>\n",
       "<style scoped>\n",
       "    .dataframe tbody tr th:only-of-type {\n",
       "        vertical-align: middle;\n",
       "    }\n",
       "\n",
       "    .dataframe tbody tr th {\n",
       "        vertical-align: top;\n",
       "    }\n",
       "\n",
       "    .dataframe thead th {\n",
       "        text-align: right;\n",
       "    }\n",
       "</style>\n",
       "<table border=\"1\" class=\"dataframe\">\n",
       "  <thead>\n",
       "    <tr style=\"text-align: right;\">\n",
       "      <th></th>\n",
       "      <th>id</th>\n",
       "      <th>title</th>\n",
       "      <th>artist</th>\n",
       "      <th>no_chord_percent</th>\n",
       "      <th>min_ix</th>\n",
       "      <th>min_dur</th>\n",
       "      <th>max_ix</th>\n",
       "      <th>max_dur</th>\n",
       "      <th>min_trans</th>\n",
       "      <th>max_trans</th>\n",
       "      <th>n_chords</th>\n",
       "    </tr>\n",
       "  </thead>\n",
       "  <tbody>\n",
       "    <tr>\n",
       "      <th>0</th>\n",
       "      <td>3</td>\n",
       "      <td>I Don't Mind</td>\n",
       "      <td>James Brown</td>\n",
       "      <td>0.049747</td>\n",
       "      <td>43.0</td>\n",
       "      <td>36.0</td>\n",
       "      <td>44.0</td>\n",
       "      <td>124.0</td>\n",
       "      <td>(22, 0)</td>\n",
       "      <td>(0, -1)</td>\n",
       "      <td>45.0</td>\n",
       "    </tr>\n",
       "    <tr>\n",
       "      <th>1</th>\n",
       "      <td>4</td>\n",
       "      <td>You've Got A Friend</td>\n",
       "      <td>Roberta Flack,Donny Hathaway</td>\n",
       "      <td>0.050770</td>\n",
       "      <td>32.0</td>\n",
       "      <td>15.0</td>\n",
       "      <td>25.0</td>\n",
       "      <td>127.0</td>\n",
       "      <td>(7, 2)</td>\n",
       "      <td>(4, 9)</td>\n",
       "      <td>68.0</td>\n",
       "    </tr>\n",
       "    <tr>\n",
       "      <th>2</th>\n",
       "      <td>6</td>\n",
       "      <td>The Rose</td>\n",
       "      <td>Bette Midler</td>\n",
       "      <td>0.117244</td>\n",
       "      <td>38.0</td>\n",
       "      <td>19.0</td>\n",
       "      <td>52.0</td>\n",
       "      <td>333.0</td>\n",
       "      <td>(8, 1)</td>\n",
       "      <td>(1, 0)</td>\n",
       "      <td>54.0</td>\n",
       "    </tr>\n",
       "  </tbody>\n",
       "</table>\n",
       "</div>"
      ],
      "text/plain": [
       "   id                title                        artist  no_chord_percent  \\\n",
       "0   3         I Don't Mind                   James Brown          0.049747   \n",
       "1   4  You've Got A Friend  Roberta Flack,Donny Hathaway          0.050770   \n",
       "2   6             The Rose                  Bette Midler          0.117244   \n",
       "\n",
       "   min_ix  min_dur  max_ix  max_dur min_trans max_trans  n_chords  \n",
       "0    43.0     36.0    44.0    124.0   (22, 0)   (0, -1)      45.0  \n",
       "1    32.0     15.0    25.0    127.0    (7, 2)    (4, 9)      68.0  \n",
       "2    38.0     19.0    52.0    333.0    (8, 1)    (1, 0)      54.0  "
      ]
     },
     "execution_count": 105,
     "metadata": {},
     "output_type": "execute_result"
    }
   ],
   "source": [
    "df_songs.head(n=3)"
   ]
  },
  {
   "cell_type": "code",
   "execution_count": 32,
   "metadata": {},
   "outputs": [
    {
     "data": {
      "text/plain": [
       "(13.9221140472879, 360.3449235048679)"
      ]
     },
     "execution_count": 32,
     "metadata": {},
     "output_type": "execute_result"
    }
   ],
   "source": [
    "df_songs.min_dur.mean(), df_songs.max_dur.mean()"
   ]
  },
  {
   "cell_type": "code",
   "execution_count": 33,
   "metadata": {},
   "outputs": [
    {
     "data": {
      "text/plain": [
       "(0, 3)     47\n",
       "(0, 8)     40\n",
       "(0, 1)     37\n",
       "(0, 10)    35\n",
       "(0, 5)     32\n",
       "(0, 6)     28\n",
       "(0, 11)    22\n",
       "(0, 9)     18\n",
       "(0, 12)    17\n",
       "(0, 22)    14\n",
       "Name: min_trans, dtype: int64"
      ]
     },
     "execution_count": 33,
     "metadata": {},
     "output_type": "execute_result"
    }
   ],
   "source": [
    "df_songs.min_trans.value_counts()[:10] # most minimum duration start from no-chord"
   ]
  },
  {
   "cell_type": "code",
   "execution_count": 34,
   "metadata": {},
   "outputs": [
    {
     "data": {
      "text/plain": [
       "(0, -1)    135\n",
       "(3, 8)      18\n",
       "(1, 6)      16\n",
       "(0, 8)      14\n",
       "(10, 3)     14\n",
       "(5, 10)     14\n",
       "(0, 6)      13\n",
       "(4, 9)      13\n",
       "(0, 3)      13\n",
       "(8, 1)      13\n",
       "Name: max_trans, dtype: int64"
      ]
     },
     "execution_count": 34,
     "metadata": {},
     "output_type": "execute_result"
    }
   ],
   "source": [
    "df_songs.max_trans.value_counts()[:10] # most maximum duration is from no-chord to ending"
   ]
  },
  {
   "cell_type": "markdown",
   "metadata": {},
   "source": [
    "Now, proceed to training a bi-LSTM-CRF w/ sequence length of 64. To do that, we need to prep the data in sequences."
   ]
  },
  {
   "cell_type": "code",
   "execution_count": null,
   "metadata": {},
   "outputs": [],
   "source": [
    "# prepend zeros in chord labels; need to shift labels by 1; support pre-pad/post-pad\n",
    "# need to add zeros??? or mean??? in features\n",
    "# possible lazycats #4"
   ]
  },
  {
   "cell_type": "code",
   "execution_count": 1,
   "metadata": {},
   "outputs": [],
   "source": [
    "import dataloader\n",
    "import numpy as np\n",
    "import lazycats.np as catnp\n",
    "\n",
    "# per song feature analysis\n",
    "chroma_vectors, chord_labels = dataloader.get_chord_features_and_labels(1289, label_type='majmin')"
   ]
  },
  {
   "cell_type": "code",
   "execution_count": 3,
   "metadata": {},
   "outputs": [
    {
     "data": {
      "text/plain": [
       "((3360513, 24), (3360513,))"
      ]
     },
     "execution_count": 3,
     "metadata": {},
     "output_type": "execute_result"
    }
   ],
   "source": [
    "# to know what value to pad, it might be worth looking at the feats/labels\n",
    "all_chroma_vectors = np.load('data/01_all_chroma_vectors.npy')\n",
    "all_chord_labels = np.load('data/01_all_chord_labels.npy')\n",
    "all_chroma_vectors.shape, all_chord_labels.shape"
   ]
  },
  {
   "cell_type": "code",
   "execution_count": 14,
   "metadata": {},
   "outputs": [
    {
     "data": {
      "text/plain": [
       "(array([0.32049295, 0.24610202, 0.28693406, 0.25687285, 0.20151652,\n",
       "        0.29747371, 0.20591433, 0.27151966, 0.22509008, 0.21612551,\n",
       "        0.26522816, 0.21338926, 0.7405679 , 0.48997662, 0.60600057,\n",
       "        0.60080249, 0.48543003, 0.73010563, 0.44549839, 0.73231232,\n",
       "        0.53258909, 0.54258336, 0.6778894 , 0.48055285]), 0.41962365765782206)"
      ]
     },
     "execution_count": 14,
     "metadata": {},
     "output_type": "execute_result"
    }
   ],
   "source": [
    "mean_no_chord_vec = np.mean(all_chroma_vectors[all_chord_labels == 0], axis=0)\n",
    "mean_no_chord_vec, np.mean(mean_no_chord_vec)"
   ]
  },
  {
   "cell_type": "code",
   "execution_count": 23,
   "metadata": {},
   "outputs": [
    {
     "name": "stdout",
     "output_type": "stream",
     "text": [
      "55118\n"
     ]
    },
    {
     "data": {
      "text/plain": [
       "Counter({0: 49874,\n",
       "         2: 203,\n",
       "         8: 537,\n",
       "         22: 150,\n",
       "         13: 51,\n",
       "         6: 464,\n",
       "         7: 249,\n",
       "         12: 330,\n",
       "         9: 192,\n",
       "         4: 141,\n",
       "         24: 34,\n",
       "         1: 399,\n",
       "         17: 97,\n",
       "         15: 244,\n",
       "         10: 434,\n",
       "         5: 547,\n",
       "         14: 77,\n",
       "         3: 414,\n",
       "         11: 269,\n",
       "         20: 80,\n",
       "         18: 140,\n",
       "         23: 21,\n",
       "         16: 141,\n",
       "         19: 29,\n",
       "         21: 1})"
      ]
     },
     "execution_count": 23,
     "metadata": {},
     "output_type": "execute_result"
    }
   ],
   "source": [
    "from collections import Counter\n",
    "\n",
    "weak_feat_labels = all_chord_labels[np.all(all_chroma_vectors <= 0.0, axis=1)]\n",
    "print(len(weak_feat_labels))\n",
    "Counter(weak_feat_labels)"
   ]
  },
  {
   "cell_type": "markdown",
   "metadata": {},
   "source": [
    "Based on info above, we pad zero vectors for feature subsequences, and zeros for label subsequences (no need to shift the label)."
   ]
  },
  {
   "cell_type": "code",
   "execution_count": 9,
   "metadata": {},
   "outputs": [
    {
     "data": {
      "text/plain": [
       "(1, 2)"
      ]
     },
     "execution_count": 9,
     "metadata": {},
     "output_type": "execute_result"
    }
   ],
   "source": [
    "(1,2,*np.array([1]).shape[1:])"
   ]
  },
  {
   "cell_type": "code",
   "execution_count": 11,
   "metadata": {},
   "outputs": [
    {
     "name": "stdout",
     "output_type": "stream",
     "text": [
      "(53, 64)\n",
      "(53, 64, 24)\n"
     ]
    }
   ],
   "source": [
    "def divide_to_subsequences(seq, sub_len, pad=0, pre_pad=True):\n",
    "    \"\"\"\n",
    "    Divide a sequence array into subsequences across outermost axis,\n",
    "    padding the last subsequence as needed\n",
    "    \"\"\"\n",
    "    seq = np.array(seq)\n",
    "    pad = np.array(pad)\n",
    "    assert(pad.shape == seq.shape[1:])\n",
    "    \n",
    "    pad_len = 0\n",
    "    rem = len(seq)%sub_len\n",
    "    if rem > 0:\n",
    "        pad_len = sub_len - rem\n",
    "        \n",
    "    n_subseq_nopads = int(len(seq)/sub_len) # num. of subseq. that need no pads\n",
    "    n_nopads = sub_len*n_subseq_nopads\n",
    "    subseq = seq[:n_nopads].reshape((n_subseq_nopads, sub_len, *seq.shape[1:]))\n",
    "    \n",
    "    if pad_len > 0:\n",
    "        if pre_pad:\n",
    "            padded_subseq = np.append(np.array([pad]*pad_len), seq[n_nopads:], axis=0)\n",
    "        else:\n",
    "            padded_subseq = np.append(seq[n_nopads:], np.array([pad]*pad_len), axis=0)\n",
    "            \n",
    "        subseq = np.append(subseq, padded_subseq[np.newaxis, :], axis=0)\n",
    "        \n",
    "    return subseq\n",
    "    \n",
    "\n",
    "print(divide_to_subsequences(chord_labels, sub_len=64, pad=0).shape)\n",
    "print(divide_to_subsequences(chroma_vectors, sub_len=64, pad=[0]*24).shape)"
   ]
  },
  {
   "cell_type": "code",
   "execution_count": 12,
   "metadata": {},
   "outputs": [
    {
     "name": "stdout",
     "output_type": "stream",
     "text": [
      "[[1 1 1 1 2 2 2 2]\n",
      " [0 0 0 0 0 3 3 3]]\n",
      "[[1 1 1 1 2 2 2 2]\n",
      " [3 3 3 0 0 0 0 0]]\n"
     ]
    }
   ],
   "source": [
    "print(divide_to_subsequences(np.array([1,1,1,1,2,2,2,2,3,3,3]), sub_len=8, pad=0))\n",
    "print(divide_to_subsequences(np.array([1,1,1,1,2,2,2,2,3,3,3]), sub_len=8, pad=0, pre_pad=False))"
   ]
  },
  {
   "cell_type": "code",
   "execution_count": 1,
   "metadata": {},
   "outputs": [
    {
     "data": {
      "text/plain": [
       "719"
      ]
     },
     "execution_count": 1,
     "metadata": {},
     "output_type": "execute_result"
    }
   ],
   "source": [
    "# create dataset\n",
    "import pandas as pd\n",
    "base_dir = 'data/McGill-Billboard'\n",
    "data_index = 'billboard-2.0-manychords.csv'\n",
    "\n",
    "df_songs = pd.read_csv(f'{base_dir}/{data_index}')\n",
    "df_songs.set_index('id', inplace=True)\n",
    "len(df_songs)"
   ]
  },
  {
   "cell_type": "code",
   "execution_count": 2,
   "metadata": {},
   "outputs": [
    {
     "data": {
      "text/html": [
       "<div>\n",
       "<style scoped>\n",
       "    .dataframe tbody tr th:only-of-type {\n",
       "        vertical-align: middle;\n",
       "    }\n",
       "\n",
       "    .dataframe tbody tr th {\n",
       "        vertical-align: top;\n",
       "    }\n",
       "\n",
       "    .dataframe thead th {\n",
       "        text-align: right;\n",
       "    }\n",
       "</style>\n",
       "<table border=\"1\" class=\"dataframe\">\n",
       "  <thead>\n",
       "    <tr style=\"text-align: right;\">\n",
       "      <th></th>\n",
       "      <th>title</th>\n",
       "      <th>artist</th>\n",
       "      <th>no_chord_percent</th>\n",
       "    </tr>\n",
       "    <tr>\n",
       "      <th>id</th>\n",
       "      <th></th>\n",
       "      <th></th>\n",
       "      <th></th>\n",
       "    </tr>\n",
       "  </thead>\n",
       "  <tbody>\n",
       "    <tr>\n",
       "      <th>3</th>\n",
       "      <td>I Don't Mind</td>\n",
       "      <td>James Brown</td>\n",
       "      <td>0.049747</td>\n",
       "    </tr>\n",
       "    <tr>\n",
       "      <th>4</th>\n",
       "      <td>You've Got A Friend</td>\n",
       "      <td>Roberta Flack,Donny Hathaway</td>\n",
       "      <td>0.050770</td>\n",
       "    </tr>\n",
       "    <tr>\n",
       "      <th>6</th>\n",
       "      <td>The Rose</td>\n",
       "      <td>Bette Midler</td>\n",
       "      <td>0.117244</td>\n",
       "    </tr>\n",
       "  </tbody>\n",
       "</table>\n",
       "</div>"
      ],
      "text/plain": [
       "                  title                        artist  no_chord_percent\n",
       "id                                                                     \n",
       "3          I Don't Mind                   James Brown          0.049747\n",
       "4   You've Got A Friend  Roberta Flack,Donny Hathaway          0.050770\n",
       "6              The Rose                  Bette Midler          0.117244"
      ]
     },
     "execution_count": 2,
     "metadata": {},
     "output_type": "execute_result"
    }
   ],
   "source": [
    "df_songs.head(n=3)"
   ]
  },
  {
   "cell_type": "code",
   "execution_count": 3,
   "metadata": {},
   "outputs": [
    {
     "name": "stderr",
     "output_type": "stream",
     "text": [
      " 77%|███████▋  | 551/719 [00:26<00:07, 21.11it/s]/home/cjbayron/virtualenvs/pytorch/lib/python3.6/site-packages/mir_eval/io.py:281: UserWarning: All interval durations must be strictly positive\n",
      "  warnings.warn(error.args[0])\n",
      "100%|██████████| 719/719 [00:34<00:00, 20.74it/s]\n"
     ]
    }
   ],
   "source": [
    "# pre-generate sequences\n",
    "import os\n",
    "import pickle\n",
    "import joblib\n",
    "from tqdm import tqdm\n",
    "\n",
    "import lazycats.np as catnp\n",
    "import dataloader\n",
    "\n",
    "_DUMP_DIR = 'data/chordseq'\n",
    "_LABEL_TYPE = 'majmin'\n",
    "_SEQ_LEN = 128 #64 #32\n",
    "_CHROMA_NUM_FEATS = 24\n",
    "\n",
    "os.makedirs(_DUMP_DIR, exist_ok=True)\n",
    "\n",
    "chordseq_dict = {}\n",
    "\n",
    "for _id in tqdm(df_songs.index):\n",
    "    chroma_vectors, chord_labels = dataloader.get_chord_features_and_labels(_id, label_type=_LABEL_TYPE)\n",
    "    assert(chroma_vectors.shape[-1] == _CHROMA_NUM_FEATS)\n",
    "    \n",
    "    chordseq_vectors = catnp.divide_to_subsequences(chroma_vectors, sub_len=_SEQ_LEN)\n",
    "    chordseq_labels = catnp.divide_to_subsequences(chord_labels, sub_len=_SEQ_LEN)\n",
    "    \n",
    "    chordseq_dict[_id] = {'feats': chordseq_vectors, 'labels': chordseq_labels}\n",
    "    \n",
    "    #break\n",
    "    \n",
    "#joblib.dump(chordseq_dict, f'{_DUMP_DIR}/{_LABEL_TYPE}_{_SEQ_LEN}.pkl')\n",
    "with open(f'{_DUMP_DIR}/{_LABEL_TYPE}_{_SEQ_LEN}.pkl', 'wb') as f:\n",
    "    pickle.dump(chordseq_dict, f)"
   ]
  },
  {
   "cell_type": "code",
   "execution_count": 28,
   "metadata": {},
   "outputs": [
    {
     "data": {
      "text/plain": [
       "719"
      ]
     },
     "execution_count": 28,
     "metadata": {},
     "output_type": "execute_result"
    }
   ],
   "source": [
    "len(chordseq_dict)"
   ]
  },
  {
   "cell_type": "markdown",
   "metadata": {},
   "source": [
    "#### Slicing (not used)"
   ]
  },
  {
   "cell_type": "code",
   "execution_count": 27,
   "metadata": {},
   "outputs": [
    {
     "data": {
      "text/plain": [
       "{5: 6}"
      ]
     },
     "execution_count": 27,
     "metadata": {},
     "output_type": "execute_result"
    }
   ],
   "source": [
    "from itertools import islice\n",
    "dict(islice(b.items(), 1, 3))"
   ]
  },
  {
   "cell_type": "code",
   "execution_count": 30,
   "metadata": {},
   "outputs": [],
   "source": [
    "import joblib # lazycats.py\n",
    "from itertools import islice\n",
    "\n",
    "dump_dict = {}\n",
    "dump_ix = 0\n",
    "_DUMP_SIZE = 100\n",
    "\n",
    "st = 0\n",
    "ed = _DUMP_SIZE\n",
    "while st < len(chordseq_dict):    \n",
    "    dump_dict = dict(islice(chordseq_dict.items(), st, ed))\n",
    "    joblib.dump(dump_dict, f'{_DUMP_DIR}/{_LABEL_TYPE}_{_SEQ_LEN}_{dump_ix}.pkl')\n",
    "    \n",
    "    dump_ix += 1\n",
    "    st = dump_ix*_DUMP_SIZE\n",
    "    ed = st+_DUMP_SIZE"
   ]
  },
  {
   "cell_type": "code",
   "execution_count": 32,
   "metadata": {},
   "outputs": [],
   "source": [
    "# read\n",
    "load_ix = 0\n",
    "loaded_dict = {}\n",
    "while True:\n",
    "    fn = f'{_DUMP_DIR}/{_LABEL_TYPE}_{_SEQ_LEN}_{load_ix}.pkl'\n",
    "    if not os.path.exists(fn):\n",
    "        break\n",
    "\n",
    "    loaded_dict.update(joblib.load(fn))\n",
    "    load_ix += 1"
   ]
  },
  {
   "cell_type": "code",
   "execution_count": 44,
   "metadata": {},
   "outputs": [],
   "source": [
    "for k1, k2 in zip(chordseq_dict, loaded_dict):\n",
    "    assert(k1==k2)\n",
    "    assert(chordseq_dict[k1]==chordseq_dict[k2])\n",
    "    break"
   ]
  },
  {
   "cell_type": "code",
   "execution_count": null,
   "metadata": {},
   "outputs": [],
   "source": []
  },
  {
   "cell_type": "code",
   "execution_count": 54,
   "metadata": {},
   "outputs": [],
   "source": [
    "# with open(f'{_DUMP_DIR}/{_LABEL_TYPE}_{_SEQ_LEN}.pkl', 'rb') as f:\n",
    "#     c = pickle.load(f)"
   ]
  },
  {
   "cell_type": "code",
   "execution_count": null,
   "metadata": {},
   "outputs": [],
   "source": []
  },
  {
   "cell_type": "code",
   "execution_count": null,
   "metadata": {},
   "outputs": [],
   "source": []
  },
  {
   "cell_type": "markdown",
   "metadata": {},
   "source": [
    "#### Onset/Tempo exploration"
   ]
  },
  {
   "cell_type": "code",
   "execution_count": 7,
   "metadata": {},
   "outputs": [
    {
     "data": {
      "image/png": "[encoded data removed]",
      "text/plain": [
       "<Figure size 1080x360 with 1 Axes>"
      ]
     },
     "metadata": {
      "needs_background": "light"
     },
     "output_type": "display_data"
    }
   ],
   "source": [
    "# visualize song first\n",
    "chromagram = chroma_vectors[:200].T\n",
    "#print(chord_labels[:200])\n",
    "\n",
    "fig, ax = plt.subplots(figsize=(15, 5))\n",
    "# xcoords = [0.22058956, 0.33088437, 2.20589566]\n",
    "# for xc in xcoords:\n",
    "#     plt.axvline(x=xc, color='black')\n",
    "\n",
    "specshow(chromagram, x_axis='time', sr=21, hop_length=1, cmap='coolwarm') # wrong SR\n",
    "_ = ax.set_yticks(range(len(chromagram)))\n",
    "notes = _CHROMA_NOTES_CHORDINO\n",
    "if len(chromagram) == 24:\n",
    "    notes += _CHROMA_NOTES_CHORDINO\n",
    "_ = ax.set_yticklabels(notes)"
   ]
  },
  {
   "cell_type": "code",
   "execution_count": 75,
   "metadata": {},
   "outputs": [
    {
     "name": "stdout",
     "output_type": "stream",
     "text": [
      "Help on function specshow in module librosa.display:\n",
      "\n",
      "specshow(data, x_coords=None, y_coords=None, x_axis=None, y_axis=None, sr=22050, hop_length=512, fmin=None, fmax=None, tuning=0.0, bins_per_octave=12, key='C:maj', Sa=None, mela=None, thaat=None, ax=None, **kwargs)\n",
      "    Display a spectrogram/chromagram/cqt/etc.\n",
      "    \n",
      "    For a detailed overview of this function, see :ref:`sphx_glr_auto_examples_plot_display.py`\n",
      "    \n",
      "    Parameters\n",
      "    ----------\n",
      "    data : np.ndarray [shape=(d, n)]\n",
      "        Matrix to display (e.g., spectrogram)\n",
      "    \n",
      "    sr : number > 0 [scalar]\n",
      "        Sample rate used to determine time scale in x-axis.\n",
      "    \n",
      "    hop_length : int > 0 [scalar]\n",
      "        Hop length, also used to determine time scale in x-axis\n",
      "    \n",
      "    x_axis, y_axis : None or str\n",
      "        Range for the x- and y-axes.\n",
      "    \n",
      "        Valid types are:\n",
      "    \n",
      "        - None, 'none', or 'off' : no axis decoration is displayed.\n",
      "    \n",
      "        Frequency types:\n",
      "    \n",
      "        - 'linear', 'fft', 'hz' : frequency range is determined by\n",
      "          the FFT window and sampling rate.\n",
      "        - 'log' : the spectrum is displayed on a log scale.\n",
      "        - 'mel' : frequencies are determined by the mel scale.\n",
      "        - 'cqt_hz' : frequencies are determined by the CQT scale.\n",
      "        - 'cqt_note' : pitches are determined by the CQT scale.\n",
      "        - `cqt_svara` : like `cqt_note` but using Hindustani or Carnatic svara\n",
      "    \n",
      "        All frequency types are plotted in units of Hz.\n",
      "    \n",
      "        Any spectrogram parameters (hop_length, sr, bins_per_octave, etc.)\n",
      "        used to generate the input data should also be provided when\n",
      "        calling `specshow`.\n",
      "    \n",
      "        Categorical types:\n",
      "    \n",
      "        - 'chroma' : pitches are determined by the chroma filters.\n",
      "          Pitch classes are arranged at integer locations (0-11) according to\n",
      "          a given key.\n",
      "    \n",
      "        - `chroma_h`, `chroma_c`: pitches are determined by chroma filters,\n",
      "          and labeled as svara in the Hindustani (`chroma_h`) or Carnatic (`chroma_c`)\n",
      "          according to a given thaat (Hindustani) or melakarta raga (Carnatic).\n",
      "    \n",
      "        - 'tonnetz' : axes are labeled by Tonnetz dimensions (0-5)\n",
      "        - 'frames' : markers are shown as frame counts.\n",
      "    \n",
      "        Time types:\n",
      "    \n",
      "        - 'time' : markers are shown as milliseconds, seconds, minutes, or hours.  \n",
      "                Values are plotted in units of seconds.\n",
      "        - 's' : markers are shown as seconds.\n",
      "        - 'ms' : markers are shown as milliseconds.\n",
      "        - 'lag' : like time, but past the halfway point counts as negative values.\n",
      "        - 'lag_s' : same as lag, but in seconds.\n",
      "        - 'lag_ms' : same as lag, but in milliseconds.\n",
      "    \n",
      "        Rhythm:\n",
      "    \n",
      "        - 'tempo' : markers are shown as beats-per-minute (BPM)\n",
      "            using a logarithmic scale.  This is useful for\n",
      "            visualizing the outputs of `feature.tempogram`.\n",
      "    \n",
      "        - 'fourier_tempo' : same as `'tempo'`, but used when\n",
      "            tempograms are calculated in the Frequency domain\n",
      "            using `feature.fourier_tempogram`.\n",
      "    \n",
      "    x_coords, y_coords : np.ndarray [shape=data.shape[0 or 1]+1]\n",
      "    \n",
      "        Optional positioning coordinates of the input data.\n",
      "        These can be use to explicitly set the location of each\n",
      "        element ``data[i, j]``, e.g., for displaying beat-synchronous\n",
      "        features in natural time coordinates.\n",
      "    \n",
      "        If not provided, they are inferred from ``x_axis`` and ``y_axis``.\n",
      "    \n",
      "    fmin : float > 0 [scalar] or None\n",
      "        Frequency of the lowest spectrogram bin.  Used for Mel and CQT\n",
      "        scales.\n",
      "    \n",
      "        If ``y_axis`` is `cqt_hz` or `cqt_note` and ``fmin`` is not given,\n",
      "        it is set by default to ``note_to_hz('C1')``.\n",
      "    \n",
      "    fmax : float > 0 [scalar] or None\n",
      "        Used for setting the Mel frequency scales\n",
      "    \n",
      "    tuning : float\n",
      "        Tuning deviation from A440, in fractions of a bin.\n",
      "    \n",
      "        This is used for CQT frequency scales, so that ``fmin`` is adjusted\n",
      "        to ``fmin * 2**(tuning / bins_per_octave)``.\n",
      "    \n",
      "    bins_per_octave : int > 0 [scalar]\n",
      "        Number of bins per octave.  Used for CQT frequency scale.\n",
      "    \n",
      "    key : str\n",
      "        The reference key to use when using note axes (`cqt_note`, `chroma`).\n",
      "    \n",
      "    Sa : float or int\n",
      "        If using Hindustani or Carnatic svara axis decorations, specify Sa.\n",
      "    \n",
      "        For `cqt_svara`, ``Sa`` should be specified as a frequency in Hz.\n",
      "    \n",
      "        For `chroma_c` or `chroma_h`, ``Sa`` should correspond to the position\n",
      "        of Sa within the chromagram.\n",
      "        If not provided, Sa will default to 0 (equivalent to `C`)\n",
      "    \n",
      "    mela : str or int, optional\n",
      "        If using `chroma_c` or `cqt_svara` display mode, specify the melakarta raga.\n",
      "    \n",
      "    thaat : str, optional\n",
      "        If using `chroma_h` display mode, specify the parent thaat.\n",
      "    \n",
      "    ax : matplotlib.axes.Axes or None\n",
      "        Axes to plot on instead of the default `plt.gca()`.\n",
      "    \n",
      "    kwargs : additional keyword arguments\n",
      "        Arguments passed through to `matplotlib.pyplot.pcolormesh`.\n",
      "    \n",
      "        By default, the following options are set:\n",
      "    \n",
      "            - ``rasterized=True``\n",
      "            - ``shading='flat'``\n",
      "            - ``edgecolors='None'``\n",
      "    \n",
      "    Returns\n",
      "    -------\n",
      "    colormesh : `matplotlib.collections.QuadMesh`\n",
      "        The color mesh object produced by `matplotlib.pyplot.pcolormesh`\n",
      "    \n",
      "    \n",
      "    See Also\n",
      "    --------\n",
      "    cmap : Automatic colormap detection\n",
      "    \n",
      "    matplotlib.pyplot.pcolormesh\n",
      "    \n",
      "    \n",
      "    Examples\n",
      "    --------\n",
      "    Visualize an STFT power spectrum using default parameters\n",
      "    \n",
      "    >>> import matplotlib.pyplot as plt\n",
      "    >>> y, sr = librosa.load(librosa.ex('choice'), duration=15)\n",
      "    >>> fig, ax = plt.subplots(nrows=2, ncols=1, sharex=True)\n",
      "    >>> D = librosa.amplitude_to_db(np.abs(librosa.stft(y)), ref=np.max)\n",
      "    >>> img = librosa.display.specshow(D, y_axis='linear', x_axis='time',\n",
      "    ...                                sr=sr, ax=ax[0])\n",
      "    >>> ax[0].set(title='Linear-frequency power spectrogram')\n",
      "    >>> ax[0].label_outer()\n",
      "    \n",
      "    \n",
      "    Or on a logarithmic scale, and using a larger hop\n",
      "    \n",
      "    >>> hop_length = 1024\n",
      "    >>> D = librosa.amplitude_to_db(np.abs(librosa.stft(y, hop_length=hop_length)),\n",
      "    ...                             ref=np.max)\n",
      "    >>> librosa.display.specshow(D, y_axis='log', sr=sr, hop_length=hop_length,\n",
      "    ...                          x_axis='time', ax=ax[1])\n",
      "    >>> ax[1].set(title='Log-frequency power spectrogram')\n",
      "    >>> ax[1].label_outer()\n",
      "    >>> fig.colorbar(img, ax=ax, format=\"%+2.f dB\")\n",
      "\n"
     ]
    }
   ],
   "source": [
    "help(specshow)"
   ]
  },
  {
   "cell_type": "code",
   "execution_count": 16,
   "metadata": {},
   "outputs": [],
   "source": [
    "# check if echonest might help\n",
    "import json\n",
    "def get_echonest_features(_id):\n",
    "    \"\"\" Load chord labels from .LAB files\n",
    "    \n",
    "    label_type: majmin, majmin7, majmininv, majmin7inv, full\n",
    "    \"\"\"\n",
    "    feat_fn = f'{base_dir}/{_id:04d}/echonest.json'\n",
    "    feats = {}\n",
    "    with open(feat_fn, 'r') as f:\n",
    "        feats = json.loads(f.read())\n",
    "        \n",
    "    return feats"
   ]
  },
  {
   "cell_type": "code",
   "execution_count": null,
   "metadata": {},
   "outputs": [],
   "source": []
  },
  {
   "cell_type": "code",
   "execution_count": 16,
   "metadata": {},
   "outputs": [],
   "source": [
    "feats = get_echonest_features(1289)"
   ]
  },
  {
   "cell_type": "code",
   "execution_count": 25,
   "metadata": {},
   "outputs": [
    {
     "data": {
      "text/plain": [
       "dict_keys(['meta', 'track', 'bars', 'beats', 'tatums', 'sections', 'segments'])"
      ]
     },
     "execution_count": 25,
     "metadata": {},
     "output_type": "execute_result"
    }
   ],
   "source": [
    "feats.keys()"
   ]
  },
  {
   "cell_type": "code",
   "execution_count": 29,
   "metadata": {},
   "outputs": [
    {
     "name": "stdout",
     "output_type": "stream",
     "text": [
      "13 <class 'dict'>\n",
      "25 <class 'dict'>\n",
      "80 <class 'list'>\n",
      "324 <class 'list'>\n",
      "648 <class 'list'>\n",
      "10 <class 'list'>\n",
      "532 <class 'list'>\n"
     ]
    }
   ],
   "source": [
    "for k in feats:\n",
    "    print(len(feats[k]), type(feats[k]))"
   ]
  },
  {
   "cell_type": "code",
   "execution_count": 37,
   "metadata": {},
   "outputs": [
    {
     "name": "stdout",
     "output_type": "stream",
     "text": [
      "{'start': 0.63328, 'duration': 2.01045, 'confidence': 0.021}\n",
      "{'start': 0.63328, 'duration': 0.50757, 'confidence': 0.948}\n",
      "{'start': 0.63328, 'duration': 0.25378, 'confidence': 0.948}\n",
      "{'start': 0.0, 'duration': 16.6403, 'confidence': 1.0}\n",
      "{'start': 0.0, 'duration': 0.59778, 'confidence': 1.0, 'loudness_start': -60.0, 'loudness_max_time': 0.41521, 'loudness_max': -12.94, 'pitches': [0.167, 0.176, 1.0, 0.246, 0.19, 0.058, 0.163, 0.089, 0.095, 0.225, 0.077, 0.066], 'timbre': [9.347, 167.408, 132.918, -269.875, 43.911, -112.505, 50.196, -81.25, -28.616, 24.392, 169.291, -37.882]}\n"
     ]
    }
   ],
   "source": [
    "print(feats['bars'][0])\n",
    "print(feats['beats'][0])\n",
    "print(feats['tatums'][0])\n",
    "print(feats['sections'][0])\n",
    "print(feats['segments'][0])"
   ]
  },
  {
   "cell_type": "code",
   "execution_count": 42,
   "metadata": {},
   "outputs": [
    {
     "name": "stdout",
     "output_type": "stream",
     "text": [
      "{'analyzer_version': '3.1.4', 'detailed_status': 'OK', 'filename': '/tmp/tmpJ4Ag6a/06fc6d1c5eda667cdb05a5db7f539fce.mp4', 'artist': \"The La's\", 'album': 'THE BRIT BOX [Disc1]', 'title': 'There She Goes', 'genre': 'Alternative', 'bitrate': 320, 'sample_rate': 44100, 'seconds': 162, 'status_code': 0, 'timestamp': 1375659217, 'analysis_time': 2.15302}\n",
      "{'num_samples': 3585014, 'duration': 162.58567, 'sample_md5': 'feca967a8f65bcb81f51eb8d8a325b23', 'decoder': 'ffmpeg', 'offset_seconds': 0, 'window_seconds': 0, 'analysis_sample_rate': 22050, 'analysis_channels': 1, 'end_of_fade_in': 0.0, 'start_of_fade_out': 153.7161, 'loudness': -5.367, 'tempo': 122.613, 'tempo_confidence': 0.912, 'time_signature': 4, 'time_signature_confidence': 1.0, 'key': 7, 'key_confidence': 0.936, 'mode': 1, 'mode_confidence': 0.821, 'code_version': 3.15, 'echoprint_version': 4.12, 'synch_version': 1.0}\n"
     ]
    }
   ],
   "source": [
    "print(feats['meta'])\n",
    "print({k:feats['track'][k] for k in feats['track'] if 'string' not in k})"
   ]
  },
  {
   "cell_type": "markdown",
   "metadata": {},
   "source": [
    "We can use tempo and time signature here. However it seems the Echonest is not open-source anymore; hence we use these values simply as reference for the tempo estimation method we'll find/implement."
   ]
  },
  {
   "cell_type": "code",
   "execution_count": 17,
   "metadata": {},
   "outputs": [
    {
     "data": {
      "text/plain": [
       "array([123.046875])"
      ]
     },
     "execution_count": 17,
     "metadata": {},
     "output_type": "execute_result"
    }
   ],
   "source": [
    "import librosa\n",
    "\n",
    "def estimate_tempo(_id):\n",
    "    audio_fn = f'data/audio/{_id:04d}/audio.wav'\n",
    "    X, fs = librosa.load(audio_fn, sr=None, mono=True)\n",
    "    onset_env = librosa.onset.onset_strength(X, sr=fs)\n",
    "    tempo = librosa.beat.tempo(onset_envelope=onset_env, sr=fs)\n",
    "    return tempo\n",
    "\n",
    "estimate_tempo(1289)"
   ]
  },
  {
   "cell_type": "code",
   "execution_count": 20,
   "metadata": {},
   "outputs": [
    {
     "name": "stdout",
     "output_type": "stream",
     "text": [
      "Echonest: 122.61 (0.91), Librosa: 123.05\n",
      "Echonest: 113.30 (1.00), Librosa: 112.35\n",
      "Echonest: 93.18 (0.80), Librosa: 93.96\n",
      "Echonest: 104.24 (0.85), Librosa: 105.47\n",
      "Echonest: 121.67 (0.98), Librosa: 123.05\n"
     ]
    }
   ],
   "source": [
    "picked_ids = [1289, 736, 637, 270, 18] # those w/ audio\n",
    "for _id in picked_ids:\n",
    "    feats = get_echonest_features(_id)\n",
    "    print(f\"Echonest: {feats['track']['tempo']:.2f} ({feats['track']['tempo_confidence']:.2f})\"\n",
    "          f\", Librosa: {estimate_tempo(_id)[0]:.2f}\")"
   ]
  },
  {
   "cell_type": "code",
   "execution_count": 23,
   "metadata": {},
   "outputs": [],
   "source": [
    "audio_fn = f'data/audio/1289/audio.wav'\n",
    "X, fs = librosa.load(audio_fn, sr=None, mono=True)\n",
    "onset_env = librosa.onset.onset_strength(X, sr=fs)"
   ]
  },
  {
   "cell_type": "code",
   "execution_count": 50,
   "metadata": {},
   "outputs": [
    {
     "data": {
      "text/plain": [
       "array([120.])"
      ]
     },
     "execution_count": 50,
     "metadata": {},
     "output_type": "execute_result"
    }
   ],
   "source": [
    "chroma_vectors, chord_labels = dataloader.get_chord_features_and_labels(637, label_type='majmin')\n",
    "onset_env = librosa.onset.onset_strength(np.mean(chroma_vectors, axis=1), sr=2048)\n",
    "librosa.beat.tempo(onset_envelope=onset_env, sr=2048)"
   ]
  },
  {
   "cell_type": "code",
   "execution_count": 34,
   "metadata": {},
   "outputs": [
    {
     "data": {
      "text/plain": [
       "(3358,)"
      ]
     },
     "execution_count": 34,
     "metadata": {},
     "output_type": "execute_result"
    }
   ],
   "source": [
    "np.mean(chroma_vectors, axis=1).shape"
   ]
  },
  {
   "cell_type": "code",
   "execution_count": null,
   "metadata": {},
   "outputs": [],
   "source": []
  },
  {
   "cell_type": "markdown",
   "metadata": {},
   "source": [
    "#### Scratch"
   ]
  },
  {
   "cell_type": "code",
   "execution_count": 8,
   "metadata": {},
   "outputs": [
    {
     "name": "stdout",
     "output_type": "stream",
     "text": [
      "\"/tmp/audio.wav\",0.000000000,0,0,0,0,0,0,0,0,0,0,0,0,0,0,0,0,0,0,0,0,0,0,0,0\r\n",
      ",0.046439909,0,0,0,0,0,0,0,0,0,0,0,0,0,0,0,0,0,0,0,0,0,0,0,0\r\n",
      ",0.092879818,0,0,0,0,0,0,0,0,0,0,0,0,0,0,0,0,0,0,0,0,0,0,0,0\r\n",
      ",0.139319727,0,0,0,0,0,0,0,0,0,0,0,0,0,0,0,0,0,0,0,0,0,0,0,0\r\n",
      ",0.185759637,0,0,0,0,0,0,0,0,0,0,0,0,1.18229,0.415419,0.0468095,0.0618448,0.11878,1.71171,1.36705,0,0,0.272477,0.413524,0.179756\r\n",
      ",0.232199546,0,0,0,0,0,0,0,0,0,0,0,0,0.975941,0.281009,0,0.0580218,0.0350331,3.12712,0.0937747,0,0,0.253713,0.529589,0.344651\r\n",
      ",0.278639455,0,0,0,0,0,0,0,0,0,0,0,0,0.974944,0.165675,0,0.0555288,0,3.45902,0,0.00108475,0,0.299161,0.61126,0.333003\r\n",
      ",0.325079365,0,0,0,0,0,0,0,0,0,0,0,0,0.984482,0.0991922,0,0.0518706,0,3.51712,0,0.00408833,0,0.332985,0.669024,0.297315\r\n",
      ",0.371519274,0,0,0,0,0,0,0,0,0,0,0,0,1.01016,0.0540823,0,0.0449413,0,3.45042,0,0.00715798,0,0.386501,0.861106,0.214237\r\n",
      ",0.417959183,0,0,0,0,0,0,0,0,0,0,0,0,0.980642,0.0275225,0,0.0331996,0,3.5245,0,0.0118653,0,0.415727,1.31184,0.134995\r\n"
     ]
    }
   ],
   "source": [
    "!head {dirname}/bothchroma.csv"
   ]
  },
  {
   "cell_type": "code",
   "execution_count": 20,
   "metadata": {},
   "outputs": [
    {
     "data": {
      "text/plain": [
       "'data/McGill-Billboard/1289'"
      ]
     },
     "execution_count": 20,
     "metadata": {},
     "output_type": "execute_result"
    }
   ],
   "source": [
    "dirname"
   ]
  },
  {
   "cell_type": "code",
   "execution_count": null,
   "metadata": {},
   "outputs": [],
   "source": []
  }
 ],
 "metadata": {
  "kernelspec": {
   "display_name": "Python 3",
   "language": "python",
   "name": "python3"
  },
  "language_info": {
   "codemirror_mode": {
    "name": "ipython",
    "version": 3
   },
   "file_extension": ".py",
   "mimetype": "text/x-python",
   "name": "python",
   "nbconvert_exporter": "python",
   "pygments_lexer": "ipython3",
   "version": "3.6.6"
  }
 },
 "nbformat": 4,
 "nbformat_minor": 2
}
